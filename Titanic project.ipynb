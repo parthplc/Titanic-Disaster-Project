{
  "cells": [
    {
      "metadata": {
        "_uuid": "eeadfdc4a37f900304cf0891c4eec5e50c3d3b0b"
      },
      "cell_type": "markdown",
      "source": "<h1>Hello! This is my first kernel in Data Science using python.I have followed a tutorial with link below \nto make this Whole Kernel.I hope thet you like this kernel"
    },
    {
      "metadata": {
        "_uuid": "92e7cb09cca50b9d6a8bd650b5e383833972c547"
      },
      "cell_type": "markdown",
      "source": "**So we would start analysing by importing all important libraries .**"
    },
    {
      "metadata": {
        "_uuid": "8f2839f25d086af736a60e9eeb907d3b93b6e0e5",
        "_cell_guid": "b1076dfc-b9ad-4769-8c92-a6c4dae69d19",
        "trusted": true
      },
      "cell_type": "code",
      "source": "# This Python 3 environment comes with many helpful analytics libraries installed\n# It is defined by the kaggle/python docker image: https://github.com/kaggle/docker-python\n# For example, here's several helpful packages to load in \n\nimport numpy as np # linear algebra\nimport pandas as pd # data processing, CSV file I/O (e.g. pd.read_csv)\n\n# Input data files are available in the \"../input/\" directory.\n# For example, running this (by clicking run or pressing Shift+Enter) will list the files in the input directory\n\nimport os\nprint(os.listdir(\"../input\"))\n\n# Any results you write to the current directory are saved as output.",
      "execution_count": 1,
      "outputs": [
        {
          "output_type": "stream",
          "text": "['train.csv', 'gender_submission.csv', 'test.csv']\n",
          "name": "stdout"
        }
      ]
    },
    {
      "metadata": {
        "trusted": true,
        "_uuid": "c43fb20935a46a5c6e85c3ac07f21ddeefec1824"
      },
      "cell_type": "code",
      "source": "#Importing python libraries\nfrom sklearn.metrics import make_scorer, accuracy_score\nfrom sklearn.model_selection import train_test_split\nfrom sklearn.ensemble import RandomForestClassifier\nfrom sklearn.linear_model import LogisticRegression\nfrom sklearn.metrics import classification_report\nfrom sklearn.model_selection import GridSearchCV\nfrom sklearn.metrics import confusion_matrix\nfrom sklearn.metrics import accuracy_score\nfrom sklearn import preprocessing\nimport matplotlib.pylab as pylab\nimport matplotlib.pyplot as plt\nfrom pandas import get_dummies\nimport matplotlib as mpl\nimport xgboost as xgb\nimport seaborn as sns\nimport pandas as pd\nimport numpy as np\nimport matplotlib\nimport warnings\nimport sklearn\nimport scipy\nimport numpy\nimport json\nimport sys\nimport csv\nfrom sklearn.linear_model import SGDClassifier\nfrom sklearn.linear_model import Perceptron\nimport os\nfrom sklearn.naive_bayes import GaussianNB\nfrom sklearn.svm import SVC, LinearSVC\nfrom sklearn import linear_model",
      "execution_count": 2,
      "outputs": []
    },
    {
      "metadata": {
        "trusted": true,
        "_uuid": "d1e24246a2cabda8c7a353477b84600361e43097"
      },
      "cell_type": "code",
      "source": "pd.set_option('display.max_rows',2000)#So that we can see the whole dataset at one go",
      "execution_count": 3,
      "outputs": []
    },
    {
      "metadata": {
        "_uuid": "ee4b06bd9c15f29f55e13440035e5e6e450fd256"
      },
      "cell_type": "markdown",
      "source": "We are making dataframe test and train to analyse the given dataset."
    },
    {
      "metadata": {
        "_cell_guid": "79c7e3d0-c299-4dcb-8224-4455121ee9b0",
        "_uuid": "d629ff2d2480ee46fbb7e2d37f6b5fab8052498a",
        "trusted": true
      },
      "cell_type": "code",
      "source": "# import train and test to play with it\ntrain_df = pd.read_csv('../input/train.csv')\ntest_df = pd.read_csv('../input/test.csv')",
      "execution_count": 4,
      "outputs": []
    },
    {
      "metadata": {
        "trusted": true,
        "_uuid": "9ed64289d72df675c67c3d5c9e546cb3a7fbe85a",
        "scrolled": true
      },
      "cell_type": "code",
      "source": "#get the type\ntype(train_df)",
      "execution_count": 5,
      "outputs": [
        {
          "output_type": "execute_result",
          "execution_count": 5,
          "data": {
            "text/plain": "pandas.core.frame.DataFrame"
          },
          "metadata": {}
        }
      ]
    },
    {
      "metadata": {
        "_uuid": "c0c22599ddd6ecf94f85d7a270f17358f1dcd01a"
      },
      "cell_type": "markdown",
      "source": "**Basic Structure**"
    },
    {
      "metadata": {
        "_uuid": "3e3e12279ad455a990392df311bacf445bf6bcf8"
      },
      "cell_type": "markdown",
      "source": "Going through the complete dataset to get the jist of it."
    },
    {
      "metadata": {
        "trusted": true,
        "_uuid": "f3b66859261cd5833c6ea68ecb8aadb7a8a2aa84"
      },
      "cell_type": "code",
      "source": "\ntest_df.info()",
      "execution_count": 6,
      "outputs": [
        {
          "output_type": "stream",
          "text": "<class 'pandas.core.frame.DataFrame'>\nRangeIndex: 418 entries, 0 to 417\nData columns (total 11 columns):\nPassengerId    418 non-null int64\nPclass         418 non-null int64\nName           418 non-null object\nSex            418 non-null object\nAge            332 non-null float64\nSibSp          418 non-null int64\nParch          418 non-null int64\nTicket         418 non-null object\nFare           417 non-null float64\nCabin          91 non-null object\nEmbarked       418 non-null object\ndtypes: float64(2), int64(4), object(5)\nmemory usage: 36.0+ KB\n",
          "name": "stdout"
        }
      ]
    },
    {
      "metadata": {
        "trusted": true,
        "_uuid": "5a4da2cbba27d886c9c5d47c0ace2253daafb871"
      },
      "cell_type": "code",
      "source": "train_df.info()",
      "execution_count": 7,
      "outputs": [
        {
          "output_type": "stream",
          "text": "<class 'pandas.core.frame.DataFrame'>\nRangeIndex: 891 entries, 0 to 890\nData columns (total 12 columns):\nPassengerId    891 non-null int64\nSurvived       891 non-null int64\nPclass         891 non-null int64\nName           891 non-null object\nSex            891 non-null object\nAge            714 non-null float64\nSibSp          891 non-null int64\nParch          891 non-null int64\nTicket         891 non-null object\nFare           891 non-null float64\nCabin          204 non-null object\nEmbarked       889 non-null object\ndtypes: float64(2), int64(5), object(5)\nmemory usage: 83.6+ KB\n",
          "name": "stdout"
        }
      ]
    },
    {
      "metadata": {
        "trusted": true,
        "_uuid": "4fac305da5818e51d786bb57a98deed1d5d29745"
      },
      "cell_type": "code",
      "source": "test_df['Survived'] = -888 #Adding Survived with a default value",
      "execution_count": 8,
      "outputs": []
    },
    {
      "metadata": {
        "trusted": true,
        "_uuid": "142dc10c899e3f03b07892dd08ebc91d563b7fea"
      },
      "cell_type": "code",
      "source": "test_df.info()",
      "execution_count": 9,
      "outputs": [
        {
          "output_type": "stream",
          "text": "<class 'pandas.core.frame.DataFrame'>\nRangeIndex: 418 entries, 0 to 417\nData columns (total 12 columns):\nPassengerId    418 non-null int64\nPclass         418 non-null int64\nName           418 non-null object\nSex            418 non-null object\nAge            332 non-null float64\nSibSp          418 non-null int64\nParch          418 non-null int64\nTicket         418 non-null object\nFare           417 non-null float64\nCabin          91 non-null object\nEmbarked       418 non-null object\nSurvived       418 non-null int64\ndtypes: float64(2), int64(5), object(5)\nmemory usage: 39.3+ KB\n",
          "name": "stdout"
        }
      ]
    },
    {
      "metadata": {
        "trusted": true,
        "_uuid": "bb93cc2b43ccd518d71bebaf5ed119ee8481a42d"
      },
      "cell_type": "code",
      "source": "#test_df.head()\ntrain_df.head()",
      "execution_count": 10,
      "outputs": [
        {
          "output_type": "execute_result",
          "execution_count": 10,
          "data": {
            "text/plain": "   PassengerId  Survived  Pclass    ...        Fare Cabin  Embarked\n0            1         0       3    ...      7.2500   NaN         S\n1            2         1       1    ...     71.2833   C85         C\n2            3         1       3    ...      7.9250   NaN         S\n3            4         1       1    ...     53.1000  C123         S\n4            5         0       3    ...      8.0500   NaN         S\n\n[5 rows x 12 columns]",
            "text/html": "<div>\n<style scoped>\n    .dataframe tbody tr th:only-of-type {\n        vertical-align: middle;\n    }\n\n    .dataframe tbody tr th {\n        vertical-align: top;\n    }\n\n    .dataframe thead th {\n        text-align: right;\n    }\n</style>\n<table border=\"1\" class=\"dataframe\">\n  <thead>\n    <tr style=\"text-align: right;\">\n      <th></th>\n      <th>PassengerId</th>\n      <th>Survived</th>\n      <th>Pclass</th>\n      <th>Name</th>\n      <th>Sex</th>\n      <th>Age</th>\n      <th>SibSp</th>\n      <th>Parch</th>\n      <th>Ticket</th>\n      <th>Fare</th>\n      <th>Cabin</th>\n      <th>Embarked</th>\n    </tr>\n  </thead>\n  <tbody>\n    <tr>\n      <th>0</th>\n      <td>1</td>\n      <td>0</td>\n      <td>3</td>\n      <td>Braund, Mr. Owen Harris</td>\n      <td>male</td>\n      <td>22.0</td>\n      <td>1</td>\n      <td>0</td>\n      <td>A/5 21171</td>\n      <td>7.2500</td>\n      <td>NaN</td>\n      <td>S</td>\n    </tr>\n    <tr>\n      <th>1</th>\n      <td>2</td>\n      <td>1</td>\n      <td>1</td>\n      <td>Cumings, Mrs. John Bradley (Florence Briggs Th...</td>\n      <td>female</td>\n      <td>38.0</td>\n      <td>1</td>\n      <td>0</td>\n      <td>PC 17599</td>\n      <td>71.2833</td>\n      <td>C85</td>\n      <td>C</td>\n    </tr>\n    <tr>\n      <th>2</th>\n      <td>3</td>\n      <td>1</td>\n      <td>3</td>\n      <td>Heikkinen, Miss. Laina</td>\n      <td>female</td>\n      <td>26.0</td>\n      <td>0</td>\n      <td>0</td>\n      <td>STON/O2. 3101282</td>\n      <td>7.9250</td>\n      <td>NaN</td>\n      <td>S</td>\n    </tr>\n    <tr>\n      <th>3</th>\n      <td>4</td>\n      <td>1</td>\n      <td>1</td>\n      <td>Futrelle, Mrs. Jacques Heath (Lily May Peel)</td>\n      <td>female</td>\n      <td>35.0</td>\n      <td>1</td>\n      <td>0</td>\n      <td>113803</td>\n      <td>53.1000</td>\n      <td>C123</td>\n      <td>S</td>\n    </tr>\n    <tr>\n      <th>4</th>\n      <td>5</td>\n      <td>0</td>\n      <td>3</td>\n      <td>Allen, Mr. William Henry</td>\n      <td>male</td>\n      <td>35.0</td>\n      <td>0</td>\n      <td>0</td>\n      <td>373450</td>\n      <td>8.0500</td>\n      <td>NaN</td>\n      <td>S</td>\n    </tr>\n  </tbody>\n</table>\n</div>"
          },
          "metadata": {}
        }
      ]
    },
    {
      "metadata": {
        "trusted": true,
        "_uuid": "1417ce8793fcb993e2c67d3e74112f19ab0e9b6d"
      },
      "cell_type": "code",
      "source": "train_df = train_df[['PassengerId','Pclass','Name','Sex','Age','SibSp','Parch','Ticket','Fare','Cabin','Embarked','Survived']]",
      "execution_count": 11,
      "outputs": []
    },
    {
      "metadata": {
        "trusted": true,
        "_uuid": "78b526701c1d7cfedec80c3958c323758ebb6e27"
      },
      "cell_type": "code",
      "source": "\n#Concatinating two data frames(train and test)\ndf = pd.concat((train_df,test_df),axis = 0)\n\ndf = df.reset_index()\n",
      "execution_count": 12,
      "outputs": []
    },
    {
      "metadata": {
        "trusted": true,
        "_uuid": "11d880238e5280cfbf42a9d81709e120c55103b3"
      },
      "cell_type": "code",
      "source": "df.info()",
      "execution_count": 13,
      "outputs": [
        {
          "output_type": "stream",
          "text": "<class 'pandas.core.frame.DataFrame'>\nRangeIndex: 1309 entries, 0 to 1308\nData columns (total 13 columns):\nindex          1309 non-null int64\nPassengerId    1309 non-null int64\nPclass         1309 non-null int64\nName           1309 non-null object\nSex            1309 non-null object\nAge            1046 non-null float64\nSibSp          1309 non-null int64\nParch          1309 non-null int64\nTicket         1309 non-null object\nFare           1308 non-null float64\nCabin          295 non-null object\nEmbarked       1307 non-null object\nSurvived       1309 non-null int64\ndtypes: float64(2), int64(6), object(5)\nmemory usage: 133.0+ KB\n",
          "name": "stdout"
        }
      ]
    },
    {
      "metadata": {
        "trusted": true,
        "scrolled": false,
        "_uuid": "2de6a74eea18511b19758daf8c74155361882d9e"
      },
      "cell_type": "code",
      "source": "df = df.drop(['index'],axis=1)\n\ndf.head()\n",
      "execution_count": 14,
      "outputs": [
        {
          "output_type": "execute_result",
          "execution_count": 14,
          "data": {
            "text/plain": "   PassengerId  Pclass   ...    Embarked Survived\n0            1       3   ...           S        0\n1            2       1   ...           C        1\n2            3       3   ...           S        1\n3            4       1   ...           S        1\n4            5       3   ...           S        0\n\n[5 rows x 12 columns]",
            "text/html": "<div>\n<style scoped>\n    .dataframe tbody tr th:only-of-type {\n        vertical-align: middle;\n    }\n\n    .dataframe tbody tr th {\n        vertical-align: top;\n    }\n\n    .dataframe thead th {\n        text-align: right;\n    }\n</style>\n<table border=\"1\" class=\"dataframe\">\n  <thead>\n    <tr style=\"text-align: right;\">\n      <th></th>\n      <th>PassengerId</th>\n      <th>Pclass</th>\n      <th>Name</th>\n      <th>Sex</th>\n      <th>Age</th>\n      <th>SibSp</th>\n      <th>Parch</th>\n      <th>Ticket</th>\n      <th>Fare</th>\n      <th>Cabin</th>\n      <th>Embarked</th>\n      <th>Survived</th>\n    </tr>\n  </thead>\n  <tbody>\n    <tr>\n      <th>0</th>\n      <td>1</td>\n      <td>3</td>\n      <td>Braund, Mr. Owen Harris</td>\n      <td>male</td>\n      <td>22.0</td>\n      <td>1</td>\n      <td>0</td>\n      <td>A/5 21171</td>\n      <td>7.2500</td>\n      <td>NaN</td>\n      <td>S</td>\n      <td>0</td>\n    </tr>\n    <tr>\n      <th>1</th>\n      <td>2</td>\n      <td>1</td>\n      <td>Cumings, Mrs. John Bradley (Florence Briggs Th...</td>\n      <td>female</td>\n      <td>38.0</td>\n      <td>1</td>\n      <td>0</td>\n      <td>PC 17599</td>\n      <td>71.2833</td>\n      <td>C85</td>\n      <td>C</td>\n      <td>1</td>\n    </tr>\n    <tr>\n      <th>2</th>\n      <td>3</td>\n      <td>3</td>\n      <td>Heikkinen, Miss. Laina</td>\n      <td>female</td>\n      <td>26.0</td>\n      <td>0</td>\n      <td>0</td>\n      <td>STON/O2. 3101282</td>\n      <td>7.9250</td>\n      <td>NaN</td>\n      <td>S</td>\n      <td>1</td>\n    </tr>\n    <tr>\n      <th>3</th>\n      <td>4</td>\n      <td>1</td>\n      <td>Futrelle, Mrs. Jacques Heath (Lily May Peel)</td>\n      <td>female</td>\n      <td>35.0</td>\n      <td>1</td>\n      <td>0</td>\n      <td>113803</td>\n      <td>53.1000</td>\n      <td>C123</td>\n      <td>S</td>\n      <td>1</td>\n    </tr>\n    <tr>\n      <th>4</th>\n      <td>5</td>\n      <td>3</td>\n      <td>Allen, Mr. William Henry</td>\n      <td>male</td>\n      <td>35.0</td>\n      <td>0</td>\n      <td>0</td>\n      <td>373450</td>\n      <td>8.0500</td>\n      <td>NaN</td>\n      <td>S</td>\n      <td>0</td>\n    </tr>\n  </tbody>\n</table>\n</div>"
          },
          "metadata": {}
        }
      ]
    },
    {
      "metadata": {
        "trusted": true,
        "_uuid": "f8571d01e4d5fa67c59966fc1c5f3759d8af5e9c"
      },
      "cell_type": "code",
      "source": "df = df.set_index('PassengerId')\ndf.tail()",
      "execution_count": 15,
      "outputs": [
        {
          "output_type": "execute_result",
          "execution_count": 15,
          "data": {
            "text/plain": "             Pclass                          Name    ...    Embarked  Survived\nPassengerId                                          ...                      \n1305              3            Spector, Mr. Woolf    ...           S      -888\n1306              1  Oliva y Ocana, Dona. Fermina    ...           C      -888\n1307              3  Saether, Mr. Simon Sivertsen    ...           S      -888\n1308              3           Ware, Mr. Frederick    ...           S      -888\n1309              3      Peter, Master. Michael J    ...           C      -888\n\n[5 rows x 11 columns]",
            "text/html": "<div>\n<style scoped>\n    .dataframe tbody tr th:only-of-type {\n        vertical-align: middle;\n    }\n\n    .dataframe tbody tr th {\n        vertical-align: top;\n    }\n\n    .dataframe thead th {\n        text-align: right;\n    }\n</style>\n<table border=\"1\" class=\"dataframe\">\n  <thead>\n    <tr style=\"text-align: right;\">\n      <th></th>\n      <th>Pclass</th>\n      <th>Name</th>\n      <th>Sex</th>\n      <th>Age</th>\n      <th>SibSp</th>\n      <th>Parch</th>\n      <th>Ticket</th>\n      <th>Fare</th>\n      <th>Cabin</th>\n      <th>Embarked</th>\n      <th>Survived</th>\n    </tr>\n    <tr>\n      <th>PassengerId</th>\n      <th></th>\n      <th></th>\n      <th></th>\n      <th></th>\n      <th></th>\n      <th></th>\n      <th></th>\n      <th></th>\n      <th></th>\n      <th></th>\n      <th></th>\n    </tr>\n  </thead>\n  <tbody>\n    <tr>\n      <th>1305</th>\n      <td>3</td>\n      <td>Spector, Mr. Woolf</td>\n      <td>male</td>\n      <td>NaN</td>\n      <td>0</td>\n      <td>0</td>\n      <td>A.5. 3236</td>\n      <td>8.0500</td>\n      <td>NaN</td>\n      <td>S</td>\n      <td>-888</td>\n    </tr>\n    <tr>\n      <th>1306</th>\n      <td>1</td>\n      <td>Oliva y Ocana, Dona. Fermina</td>\n      <td>female</td>\n      <td>39.0</td>\n      <td>0</td>\n      <td>0</td>\n      <td>PC 17758</td>\n      <td>108.9000</td>\n      <td>C105</td>\n      <td>C</td>\n      <td>-888</td>\n    </tr>\n    <tr>\n      <th>1307</th>\n      <td>3</td>\n      <td>Saether, Mr. Simon Sivertsen</td>\n      <td>male</td>\n      <td>38.5</td>\n      <td>0</td>\n      <td>0</td>\n      <td>SOTON/O.Q. 3101262</td>\n      <td>7.2500</td>\n      <td>NaN</td>\n      <td>S</td>\n      <td>-888</td>\n    </tr>\n    <tr>\n      <th>1308</th>\n      <td>3</td>\n      <td>Ware, Mr. Frederick</td>\n      <td>male</td>\n      <td>NaN</td>\n      <td>0</td>\n      <td>0</td>\n      <td>359309</td>\n      <td>8.0500</td>\n      <td>NaN</td>\n      <td>S</td>\n      <td>-888</td>\n    </tr>\n    <tr>\n      <th>1309</th>\n      <td>3</td>\n      <td>Peter, Master. Michael J</td>\n      <td>male</td>\n      <td>NaN</td>\n      <td>1</td>\n      <td>1</td>\n      <td>2668</td>\n      <td>22.3583</td>\n      <td>NaN</td>\n      <td>C</td>\n      <td>-888</td>\n    </tr>\n  </tbody>\n</table>\n</div>"
          },
          "metadata": {}
        }
      ]
    },
    {
      "metadata": {
        "_uuid": "aa1f27e6d2cb6ec6712092803a58c54b5e3789d4"
      },
      "cell_type": "markdown",
      "source": "# <h1>Various pandas functions on data set<h1>"
    },
    {
      "metadata": {
        "trusted": true,
        "_uuid": "a38ecc72baa402c2ebde127fe68b1940ca3a26dc"
      },
      "cell_type": "code",
      "source": "df.Name.head()",
      "execution_count": 16,
      "outputs": [
        {
          "output_type": "execute_result",
          "execution_count": 16,
          "data": {
            "text/plain": "PassengerId\n1                              Braund, Mr. Owen Harris\n2    Cumings, Mrs. John Bradley (Florence Briggs Th...\n3                               Heikkinen, Miss. Laina\n4         Futrelle, Mrs. Jacques Heath (Lily May Peel)\n5                             Allen, Mr. William Henry\nName: Name, dtype: object"
          },
          "metadata": {}
        }
      ]
    },
    {
      "metadata": {
        "trusted": true,
        "_uuid": "ef7688954437d8a6dac4e95130e49eb297db2f8a"
      },
      "cell_type": "code",
      "source": "df.loc[5:10]",
      "execution_count": 17,
      "outputs": [
        {
          "output_type": "execute_result",
          "execution_count": 17,
          "data": {
            "text/plain": "             Pclass   ...    Survived\nPassengerId           ...            \n5                 3   ...           0\n6                 3   ...           0\n7                 1   ...           0\n8                 3   ...           0\n9                 3   ...           1\n10                2   ...           1\n\n[6 rows x 11 columns]",
            "text/html": "<div>\n<style scoped>\n    .dataframe tbody tr th:only-of-type {\n        vertical-align: middle;\n    }\n\n    .dataframe tbody tr th {\n        vertical-align: top;\n    }\n\n    .dataframe thead th {\n        text-align: right;\n    }\n</style>\n<table border=\"1\" class=\"dataframe\">\n  <thead>\n    <tr style=\"text-align: right;\">\n      <th></th>\n      <th>Pclass</th>\n      <th>Name</th>\n      <th>Sex</th>\n      <th>Age</th>\n      <th>SibSp</th>\n      <th>Parch</th>\n      <th>Ticket</th>\n      <th>Fare</th>\n      <th>Cabin</th>\n      <th>Embarked</th>\n      <th>Survived</th>\n    </tr>\n    <tr>\n      <th>PassengerId</th>\n      <th></th>\n      <th></th>\n      <th></th>\n      <th></th>\n      <th></th>\n      <th></th>\n      <th></th>\n      <th></th>\n      <th></th>\n      <th></th>\n      <th></th>\n    </tr>\n  </thead>\n  <tbody>\n    <tr>\n      <th>5</th>\n      <td>3</td>\n      <td>Allen, Mr. William Henry</td>\n      <td>male</td>\n      <td>35.0</td>\n      <td>0</td>\n      <td>0</td>\n      <td>373450</td>\n      <td>8.0500</td>\n      <td>NaN</td>\n      <td>S</td>\n      <td>0</td>\n    </tr>\n    <tr>\n      <th>6</th>\n      <td>3</td>\n      <td>Moran, Mr. James</td>\n      <td>male</td>\n      <td>NaN</td>\n      <td>0</td>\n      <td>0</td>\n      <td>330877</td>\n      <td>8.4583</td>\n      <td>NaN</td>\n      <td>Q</td>\n      <td>0</td>\n    </tr>\n    <tr>\n      <th>7</th>\n      <td>1</td>\n      <td>McCarthy, Mr. Timothy J</td>\n      <td>male</td>\n      <td>54.0</td>\n      <td>0</td>\n      <td>0</td>\n      <td>17463</td>\n      <td>51.8625</td>\n      <td>E46</td>\n      <td>S</td>\n      <td>0</td>\n    </tr>\n    <tr>\n      <th>8</th>\n      <td>3</td>\n      <td>Palsson, Master. Gosta Leonard</td>\n      <td>male</td>\n      <td>2.0</td>\n      <td>3</td>\n      <td>1</td>\n      <td>349909</td>\n      <td>21.0750</td>\n      <td>NaN</td>\n      <td>S</td>\n      <td>0</td>\n    </tr>\n    <tr>\n      <th>9</th>\n      <td>3</td>\n      <td>Johnson, Mrs. Oscar W (Elisabeth Vilhelmina Berg)</td>\n      <td>female</td>\n      <td>27.0</td>\n      <td>0</td>\n      <td>2</td>\n      <td>347742</td>\n      <td>11.1333</td>\n      <td>NaN</td>\n      <td>S</td>\n      <td>1</td>\n    </tr>\n    <tr>\n      <th>10</th>\n      <td>2</td>\n      <td>Nasser, Mrs. Nicholas (Adele Achem)</td>\n      <td>female</td>\n      <td>14.0</td>\n      <td>1</td>\n      <td>0</td>\n      <td>237736</td>\n      <td>30.0708</td>\n      <td>NaN</td>\n      <td>C</td>\n      <td>1</td>\n    </tr>\n  </tbody>\n</table>\n</div>"
          },
          "metadata": {}
        }
      ]
    },
    {
      "metadata": {
        "trusted": true,
        "_uuid": "60b2b809c4243121ddfbb1d519999dbe59ed8ded"
      },
      "cell_type": "code",
      "source": "#indexing : use iloc based indexing",
      "execution_count": 18,
      "outputs": []
    },
    {
      "metadata": {
        "trusted": true,
        "_uuid": "22654da719046df823c515fde8ca0dd50f8e2a78"
      },
      "cell_type": "code",
      "source": "df.iloc[5:10,3:8]",
      "execution_count": 19,
      "outputs": [
        {
          "output_type": "execute_result",
          "execution_count": 19,
          "data": {
            "text/plain": "              Age  SibSp  Parch  Ticket     Fare\nPassengerId                                     \n6             NaN      0      0  330877   8.4583\n7            54.0      0      0   17463  51.8625\n8             2.0      3      1  349909  21.0750\n9            27.0      0      2  347742  11.1333\n10           14.0      1      0  237736  30.0708",
            "text/html": "<div>\n<style scoped>\n    .dataframe tbody tr th:only-of-type {\n        vertical-align: middle;\n    }\n\n    .dataframe tbody tr th {\n        vertical-align: top;\n    }\n\n    .dataframe thead th {\n        text-align: right;\n    }\n</style>\n<table border=\"1\" class=\"dataframe\">\n  <thead>\n    <tr style=\"text-align: right;\">\n      <th></th>\n      <th>Age</th>\n      <th>SibSp</th>\n      <th>Parch</th>\n      <th>Ticket</th>\n      <th>Fare</th>\n    </tr>\n    <tr>\n      <th>PassengerId</th>\n      <th></th>\n      <th></th>\n      <th></th>\n      <th></th>\n      <th></th>\n    </tr>\n  </thead>\n  <tbody>\n    <tr>\n      <th>6</th>\n      <td>NaN</td>\n      <td>0</td>\n      <td>0</td>\n      <td>330877</td>\n      <td>8.4583</td>\n    </tr>\n    <tr>\n      <th>7</th>\n      <td>54.0</td>\n      <td>0</td>\n      <td>0</td>\n      <td>17463</td>\n      <td>51.8625</td>\n    </tr>\n    <tr>\n      <th>8</th>\n      <td>2.0</td>\n      <td>3</td>\n      <td>1</td>\n      <td>349909</td>\n      <td>21.0750</td>\n    </tr>\n    <tr>\n      <th>9</th>\n      <td>27.0</td>\n      <td>0</td>\n      <td>2</td>\n      <td>347742</td>\n      <td>11.1333</td>\n    </tr>\n    <tr>\n      <th>10</th>\n      <td>14.0</td>\n      <td>1</td>\n      <td>0</td>\n      <td>237736</td>\n      <td>30.0708</td>\n    </tr>\n  </tbody>\n</table>\n</div>"
          },
          "metadata": {}
        }
      ]
    },
    {
      "metadata": {
        "trusted": true,
        "_uuid": "1fbb3382857cce624d7d2359c3cc7052a12e33a5"
      },
      "cell_type": "code",
      "source": "#filter rows based on the condition\nmale_passengers = df.loc[df.Sex =='male',:]\nprint('Number of male passengers : {0}'.format(len(male_passengers)))\n",
      "execution_count": 20,
      "outputs": [
        {
          "output_type": "stream",
          "text": "Number of male passengers : 843\n",
          "name": "stdout"
        }
      ]
    },
    {
      "metadata": {
        "trusted": true,
        "_uuid": "0d5796a0c8ad635ce4ddaa4506798e55d6767876"
      },
      "cell_type": "code",
      "source": "#use & or | operators to build complex logic",
      "execution_count": 21,
      "outputs": []
    },
    {
      "metadata": {
        "trusted": true,
        "_uuid": "0e8d89e2d2711203d4bb1b0a622d37d710157290"
      },
      "cell_type": "code",
      "source": "male_passengers_first_class = df.loc[((df.Sex =='male') &(df.Pclass == 1)),:]",
      "execution_count": 22,
      "outputs": []
    },
    {
      "metadata": {
        "trusted": true,
        "_uuid": "fe9e722cdb22d2f0990aefce36affd301e7e8d6d"
      },
      "cell_type": "code",
      "source": "print('Number of passengers in first class:{0}'.format(len(male_passengers_first_class)))",
      "execution_count": 23,
      "outputs": [
        {
          "output_type": "stream",
          "text": "Number of passengers in first class:179\n",
          "name": "stdout"
        }
      ]
    },
    {
      "metadata": {
        "_uuid": "d177c6a09ec1e95d554f0015b1f8f9bfeed58c31"
      },
      "cell_type": "markdown",
      "source": "So far we have use numpy and pandas to analyse the whole data and going through it.\nNow we will Start exploring the whole Dataset."
    },
    {
      "metadata": {
        "_uuid": "071a1c0624d7ccfde5a18936fb5371e5d3f59abe"
      },
      "cell_type": "markdown",
      "source": "\n<h1>Summaty Statistics<h1>"
    },
    {
      "metadata": {
        "trusted": true,
        "_uuid": "a5d54b061c53954c8c6d8b3fbd17c56b274b666b"
      },
      "cell_type": "markdown",
      "source": "\n<h2>Centrality Measure<h2>"
    },
    {
      "metadata": {
        "_uuid": "671bbb714940cf0b3c93464be13c13dd0d159596"
      },
      "cell_type": "markdown",
      "source": "Various technique such as Mean and Median are used as Centrality measures\nMean may me good option often but it is quite affected by extreme value.In such cases we can use median for analysis."
    },
    {
      "metadata": {
        "_uuid": "429ad8287caf5175633180e73ed298fa118a12a4"
      },
      "cell_type": "markdown",
      "source": "<h2>Spread/Dispersion measure<h2>"
    },
    {
      "metadata": {
        "trusted": true,
        "_uuid": "054cdcd5db60e8869ca3514b5ea91ec1ee53c47a"
      },
      "cell_type": "markdown",
      "source": "we use range we can see how things are packed.But it is affected by extreme values.\nSo percentiles are used.These are specially used as quartiles\n"
    },
    {
      "metadata": {
        "trusted": true,
        "_uuid": "18735a061576ba60279ac848cd4670b141fe7284"
      },
      "cell_type": "code",
      "source": "# use .describe() to get statistics for all numeric columns\ndf.describe()",
      "execution_count": 24,
      "outputs": [
        {
          "output_type": "execute_result",
          "execution_count": 24,
          "data": {
            "text/plain": "            Pclass          Age     ...              Fare     Survived\ncount  1309.000000  1046.000000     ...       1308.000000  1309.000000\nmean      2.294882    29.881138     ...         33.295479  -283.301757\nstd       0.837836    14.413493     ...         51.758668   414.337413\nmin       1.000000     0.170000     ...          0.000000  -888.000000\n25%       2.000000    21.000000     ...          7.895800  -888.000000\n50%       3.000000    28.000000     ...         14.454200     0.000000\n75%       3.000000    39.000000     ...         31.275000     1.000000\nmax       3.000000    80.000000     ...        512.329200     1.000000\n\n[8 rows x 6 columns]",
            "text/html": "<div>\n<style scoped>\n    .dataframe tbody tr th:only-of-type {\n        vertical-align: middle;\n    }\n\n    .dataframe tbody tr th {\n        vertical-align: top;\n    }\n\n    .dataframe thead th {\n        text-align: right;\n    }\n</style>\n<table border=\"1\" class=\"dataframe\">\n  <thead>\n    <tr style=\"text-align: right;\">\n      <th></th>\n      <th>Pclass</th>\n      <th>Age</th>\n      <th>SibSp</th>\n      <th>Parch</th>\n      <th>Fare</th>\n      <th>Survived</th>\n    </tr>\n  </thead>\n  <tbody>\n    <tr>\n      <th>count</th>\n      <td>1309.000000</td>\n      <td>1046.000000</td>\n      <td>1309.000000</td>\n      <td>1309.000000</td>\n      <td>1308.000000</td>\n      <td>1309.000000</td>\n    </tr>\n    <tr>\n      <th>mean</th>\n      <td>2.294882</td>\n      <td>29.881138</td>\n      <td>0.498854</td>\n      <td>0.385027</td>\n      <td>33.295479</td>\n      <td>-283.301757</td>\n    </tr>\n    <tr>\n      <th>std</th>\n      <td>0.837836</td>\n      <td>14.413493</td>\n      <td>1.041658</td>\n      <td>0.865560</td>\n      <td>51.758668</td>\n      <td>414.337413</td>\n    </tr>\n    <tr>\n      <th>min</th>\n      <td>1.000000</td>\n      <td>0.170000</td>\n      <td>0.000000</td>\n      <td>0.000000</td>\n      <td>0.000000</td>\n      <td>-888.000000</td>\n    </tr>\n    <tr>\n      <th>25%</th>\n      <td>2.000000</td>\n      <td>21.000000</td>\n      <td>0.000000</td>\n      <td>0.000000</td>\n      <td>7.895800</td>\n      <td>-888.000000</td>\n    </tr>\n    <tr>\n      <th>50%</th>\n      <td>3.000000</td>\n      <td>28.000000</td>\n      <td>0.000000</td>\n      <td>0.000000</td>\n      <td>14.454200</td>\n      <td>0.000000</td>\n    </tr>\n    <tr>\n      <th>75%</th>\n      <td>3.000000</td>\n      <td>39.000000</td>\n      <td>1.000000</td>\n      <td>0.000000</td>\n      <td>31.275000</td>\n      <td>1.000000</td>\n    </tr>\n    <tr>\n      <th>max</th>\n      <td>3.000000</td>\n      <td>80.000000</td>\n      <td>8.000000</td>\n      <td>9.000000</td>\n      <td>512.329200</td>\n      <td>1.000000</td>\n    </tr>\n  </tbody>\n</table>\n</div>"
          },
          "metadata": {}
        }
      ]
    },
    {
      "metadata": {
        "trusted": true,
        "_uuid": "ca72d7bd2952015fc59af68fa0dbb4c6fe8df255"
      },
      "cell_type": "code",
      "source": "df.isnull().sum()",
      "execution_count": 25,
      "outputs": [
        {
          "output_type": "execute_result",
          "execution_count": 25,
          "data": {
            "text/plain": "Pclass         0\nName           0\nSex            0\nAge          263\nSibSp          0\nParch          0\nTicket         0\nFare           1\nCabin       1014\nEmbarked       2\nSurvived       0\ndtype: int64"
          },
          "metadata": {}
        }
      ]
    },
    {
      "metadata": {
        "trusted": true,
        "_uuid": "feb6c329989b03f0d9ed96b826d6840b5cf467ec"
      },
      "cell_type": "code",
      "source": "#Numerical feature\n#centrality measures",
      "execution_count": 26,
      "outputs": []
    },
    {
      "metadata": {
        "trusted": true,
        "_uuid": "fc48c462cd21e35dd7e150ae8967d8d56e11ece6"
      },
      "cell_type": "code",
      "source": "print('Mean Fare : {0}'.format(df.Fare.mean()))\nprint('Median Fare : {0}'.format(df.Fare.median()))\n",
      "execution_count": 27,
      "outputs": [
        {
          "output_type": "stream",
          "text": "Mean Fare : 33.2954792813456\nMedian Fare : 14.4542\n",
          "name": "stdout"
        }
      ]
    },
    {
      "metadata": {
        "trusted": true,
        "_uuid": "b0b2ee57416eeca7c0b0398e2450ad3c83a27886"
      },
      "cell_type": "code",
      "source": "#dispersion measure\nprint('Max fare  : {0}'.format(df.Fare.max()))#max\nprint('Min fare  : {0}'.format(df.Fare.min()))#max\nprint('Fare range  : {0}'.format(df.Fare.max() - df.Fare.min()))#range\nprint('25 percentile  : {0}'.format(df.Fare.quantile(.25)))#25 percentile\nprint('50 percentile  : {0}'.format(df.Fare.quantile(.50)))#50 percentile\nprint('75 percentile  : {0}'.format(df.Fare.quantile(.75)))#75 percentile\nprint('Variance fare: {0}'.format(df.Fare.var()))#variance\nprint('Standard deviation  : {0}'.format(df.Fare.std()))#standard deviation\n\n\n",
      "execution_count": 28,
      "outputs": [
        {
          "output_type": "stream",
          "text": "Max fare  : 512.3292\nMin fare  : 0.0\nFare range  : 512.3292\n25 percentile  : 7.8958\n50 percentile  : 14.4542\n75 percentile  : 31.275\nVariance fare: 2678.959737892894\nStandard deviation  : 51.75866823917414\n",
          "name": "stdout"
        }
      ]
    },
    {
      "metadata": {
        "trusted": true,
        "_uuid": "2d80b2a4332e7eff1a5e9a327d027936bd1f4a0e"
      },
      "cell_type": "code",
      "source": "# box-whiskers plot\ndf.Fare.plot(kind='box')",
      "execution_count": 29,
      "outputs": [
        {
          "output_type": "execute_result",
          "execution_count": 29,
          "data": {
            "text/plain": "<matplotlib.axes._subplots.AxesSubplot at 0x7f6f6da7fbe0>"
          },
          "metadata": {}
        },
        {
          "output_type": "display_data",
          "data": {
            "text/plain": "<Figure size 432x288 with 1 Axes>",
            "image/png": "[encoded data removed]"
          },
          "metadata": {}
        }
      ]
    },
    {
      "metadata": {
        "_uuid": "003a1c840c7f0215b33d6e88652863e8e62709f4"
      },
      "cell_type": "markdown",
      "source": "<h1>Categorical features<h1>\n<p>Also known as features with non integer values.(Boolean,Someone's Name or Gender)<p>"
    },
    {
      "metadata": {
        "trusted": true,
        "_uuid": "def1d9f1ecf6ec29a84016188154e010045df807"
      },
      "cell_type": "code",
      "source": "#use describe to get statistics for all columns including non-numeric ones\ndf.describe(include='all')",
      "execution_count": 30,
      "outputs": [
        {
          "output_type": "execute_result",
          "execution_count": 30,
          "data": {
            "text/plain": "             Pclass              Name     ...      Embarked     Survived\ncount   1309.000000              1309     ...          1307  1309.000000\nunique          NaN              1307     ...             3          NaN\ntop             NaN  Kelly, Mr. James     ...             S          NaN\nfreq            NaN                 2     ...           914          NaN\nmean       2.294882               NaN     ...           NaN  -283.301757\nstd        0.837836               NaN     ...           NaN   414.337413\nmin        1.000000               NaN     ...           NaN  -888.000000\n25%        2.000000               NaN     ...           NaN  -888.000000\n50%        3.000000               NaN     ...           NaN     0.000000\n75%        3.000000               NaN     ...           NaN     1.000000\nmax        3.000000               NaN     ...           NaN     1.000000\n\n[11 rows x 11 columns]",
            "text/html": "<div>\n<style scoped>\n    .dataframe tbody tr th:only-of-type {\n        vertical-align: middle;\n    }\n\n    .dataframe tbody tr th {\n        vertical-align: top;\n    }\n\n    .dataframe thead th {\n        text-align: right;\n    }\n</style>\n<table border=\"1\" class=\"dataframe\">\n  <thead>\n    <tr style=\"text-align: right;\">\n      <th></th>\n      <th>Pclass</th>\n      <th>Name</th>\n      <th>Sex</th>\n      <th>Age</th>\n      <th>SibSp</th>\n      <th>Parch</th>\n      <th>Ticket</th>\n      <th>Fare</th>\n      <th>Cabin</th>\n      <th>Embarked</th>\n      <th>Survived</th>\n    </tr>\n  </thead>\n  <tbody>\n    <tr>\n      <th>count</th>\n      <td>1309.000000</td>\n      <td>1309</td>\n      <td>1309</td>\n      <td>1046.000000</td>\n      <td>1309.000000</td>\n      <td>1309.000000</td>\n      <td>1309</td>\n      <td>1308.000000</td>\n      <td>295</td>\n      <td>1307</td>\n      <td>1309.000000</td>\n    </tr>\n    <tr>\n      <th>unique</th>\n      <td>NaN</td>\n      <td>1307</td>\n      <td>2</td>\n      <td>NaN</td>\n      <td>NaN</td>\n      <td>NaN</td>\n      <td>929</td>\n      <td>NaN</td>\n      <td>186</td>\n      <td>3</td>\n      <td>NaN</td>\n    </tr>\n    <tr>\n      <th>top</th>\n      <td>NaN</td>\n      <td>Kelly, Mr. James</td>\n      <td>male</td>\n      <td>NaN</td>\n      <td>NaN</td>\n      <td>NaN</td>\n      <td>CA. 2343</td>\n      <td>NaN</td>\n      <td>C23 C25 C27</td>\n      <td>S</td>\n      <td>NaN</td>\n    </tr>\n    <tr>\n      <th>freq</th>\n      <td>NaN</td>\n      <td>2</td>\n      <td>843</td>\n      <td>NaN</td>\n      <td>NaN</td>\n      <td>NaN</td>\n      <td>11</td>\n      <td>NaN</td>\n      <td>6</td>\n      <td>914</td>\n      <td>NaN</td>\n    </tr>\n    <tr>\n      <th>mean</th>\n      <td>2.294882</td>\n      <td>NaN</td>\n      <td>NaN</td>\n      <td>29.881138</td>\n      <td>0.498854</td>\n      <td>0.385027</td>\n      <td>NaN</td>\n      <td>33.295479</td>\n      <td>NaN</td>\n      <td>NaN</td>\n      <td>-283.301757</td>\n    </tr>\n    <tr>\n      <th>std</th>\n      <td>0.837836</td>\n      <td>NaN</td>\n      <td>NaN</td>\n      <td>14.413493</td>\n      <td>1.041658</td>\n      <td>0.865560</td>\n      <td>NaN</td>\n      <td>51.758668</td>\n      <td>NaN</td>\n      <td>NaN</td>\n      <td>414.337413</td>\n    </tr>\n    <tr>\n      <th>min</th>\n      <td>1.000000</td>\n      <td>NaN</td>\n      <td>NaN</td>\n      <td>0.170000</td>\n      <td>0.000000</td>\n      <td>0.000000</td>\n      <td>NaN</td>\n      <td>0.000000</td>\n      <td>NaN</td>\n      <td>NaN</td>\n      <td>-888.000000</td>\n    </tr>\n    <tr>\n      <th>25%</th>\n      <td>2.000000</td>\n      <td>NaN</td>\n      <td>NaN</td>\n      <td>21.000000</td>\n      <td>0.000000</td>\n      <td>0.000000</td>\n      <td>NaN</td>\n      <td>7.895800</td>\n      <td>NaN</td>\n      <td>NaN</td>\n      <td>-888.000000</td>\n    </tr>\n    <tr>\n      <th>50%</th>\n      <td>3.000000</td>\n      <td>NaN</td>\n      <td>NaN</td>\n      <td>28.000000</td>\n      <td>0.000000</td>\n      <td>0.000000</td>\n      <td>NaN</td>\n      <td>14.454200</td>\n      <td>NaN</td>\n      <td>NaN</td>\n      <td>0.000000</td>\n    </tr>\n    <tr>\n      <th>75%</th>\n      <td>3.000000</td>\n      <td>NaN</td>\n      <td>NaN</td>\n      <td>39.000000</td>\n      <td>1.000000</td>\n      <td>0.000000</td>\n      <td>NaN</td>\n      <td>31.275000</td>\n      <td>NaN</td>\n      <td>NaN</td>\n      <td>1.000000</td>\n    </tr>\n    <tr>\n      <th>max</th>\n      <td>3.000000</td>\n      <td>NaN</td>\n      <td>NaN</td>\n      <td>80.000000</td>\n      <td>8.000000</td>\n      <td>9.000000</td>\n      <td>NaN</td>\n      <td>512.329200</td>\n      <td>NaN</td>\n      <td>NaN</td>\n      <td>1.000000</td>\n    </tr>\n  </tbody>\n</table>\n</div>"
          },
          "metadata": {}
        }
      ]
    },
    {
      "metadata": {
        "trusted": true,
        "_uuid": "4d60c97fe1ce2495785ff8f998a2c69a2652e79d"
      },
      "cell_type": "code",
      "source": "\ndf.Sex.value_counts()",
      "execution_count": 31,
      "outputs": [
        {
          "output_type": "execute_result",
          "execution_count": 31,
          "data": {
            "text/plain": "male      843\nfemale    466\nName: Sex, dtype: int64"
          },
          "metadata": {}
        }
      ]
    },
    {
      "metadata": {
        "trusted": true,
        "_uuid": "f4b8eee5fb0d1626227f8ecc3c85d0b57849777a"
      },
      "cell_type": "code",
      "source": "df.Sex.value_counts(normalize = True)",
      "execution_count": 32,
      "outputs": [
        {
          "output_type": "execute_result",
          "execution_count": 32,
          "data": {
            "text/plain": "male      0.644003\nfemale    0.355997\nName: Sex, dtype: float64"
          },
          "metadata": {}
        }
      ]
    },
    {
      "metadata": {
        "trusted": true,
        "_uuid": "172a14bf5a296485ca417d675b55eaba496160ac"
      },
      "cell_type": "code",
      "source": "df[df.Survived != -888].Survived.value_counts()",
      "execution_count": 33,
      "outputs": [
        {
          "output_type": "execute_result",
          "execution_count": 33,
          "data": {
            "text/plain": "0    549\n1    342\nName: Survived, dtype: int64"
          },
          "metadata": {}
        }
      ]
    },
    {
      "metadata": {
        "trusted": true,
        "_uuid": "b1436e14cc476cd5c720c65757bf4517992d7995"
      },
      "cell_type": "code",
      "source": "df.Pclass.value_counts()",
      "execution_count": 34,
      "outputs": [
        {
          "output_type": "execute_result",
          "execution_count": 34,
          "data": {
            "text/plain": "3    709\n1    323\n2    277\nName: Pclass, dtype: int64"
          },
          "metadata": {}
        }
      ]
    },
    {
      "metadata": {
        "trusted": true,
        "_uuid": "4007027ee5e8e85126a271f0e8a12a70d4d37c58"
      },
      "cell_type": "code",
      "source": "#Visualize Sex count,Survived and Class wise survival\ndf.Sex.value_counts().plot(kind='bar');",
      "execution_count": 35,
      "outputs": [
        {
          "output_type": "display_data",
          "data": {
            "text/plain": "<Figure size 432x288 with 1 Axes>",
            "image/png": "[encoded data removed]"
          },
          "metadata": {}
        }
      ]
    },
    {
      "metadata": {
        "trusted": true,
        "_uuid": "f78244e7b5031a4c3b90ed4470f1a2e5781fb056"
      },
      "cell_type": "code",
      "source": "df[df.Survived != -888].Survived.value_counts().plot(kind='bar');",
      "execution_count": 36,
      "outputs": [
        {
          "output_type": "display_data",
          "data": {
            "text/plain": "<Figure size 432x288 with 1 Axes>",
            "image/png": "[encoded data removed]"
          },
          "metadata": {}
        }
      ]
    },
    {
      "metadata": {
        "trusted": true,
        "_uuid": "26d35002a780d35a5151ccecb6ccd5d1aacd501a"
      },
      "cell_type": "code",
      "source": "df.Pclass.value_counts().plot(kind='bar');",
      "execution_count": 37,
      "outputs": [
        {
          "output_type": "display_data",
          "data": {
            "text/plain": "<Figure size 432x288 with 1 Axes>",
            "image/png": "[encoded data removed]"
          },
          "metadata": {}
        }
      ]
    },
    {
      "metadata": {
        "trusted": true,
        "_uuid": "c13132e4ab43e864a53da2c51d540af94868061c"
      },
      "cell_type": "code",
      "source": "\n\ndf.Pclass.value_counts().plot(kind='bar',rot = 0,title = \"Pclass count on Titanic\");",
      "execution_count": 38,
      "outputs": [
        {
          "output_type": "display_data",
          "data": {
            "text/plain": "<Figure size 432x288 with 1 Axes>",
            "image/png": "[encoded data removed]"
          },
          "metadata": {}
        }
      ]
    },
    {
      "metadata": {
        "_uuid": "a68af0bbe46d9140b792d16e0071c4754cd91d87"
      },
      "cell_type": "markdown",
      "source": "<h2>Distributions of univariate feature at a time<h1>"
    },
    {
      "metadata": {
        "trusted": true,
        "_uuid": "c5bcd0bb5e511e0c126a658eb306dbd8e3a8f50a"
      },
      "cell_type": "code",
      "source": "#for univariate distributions we use Histogram and KDE\n#KDE stands for Kerenl Density Estimation",
      "execution_count": 39,
      "outputs": []
    },
    {
      "metadata": {
        "trusted": true,
        "_uuid": "ff57eeaf82a539802724eb10031318b6f30852ff"
      },
      "cell_type": "code",
      "source": "df.Age.plot(kind ='hist',title = 'histogram for Age' );",
      "execution_count": 40,
      "outputs": [
        {
          "output_type": "display_data",
          "data": {
            "text/plain": "<Figure size 432x288 with 1 Axes>",
            "image/png": "[encoded data removed]"
          },
          "metadata": {}
        }
      ]
    },
    {
      "metadata": {
        "trusted": true,
        "_uuid": "dd8fc7c51cb454a426c8c09027f391fd3b77e6bf"
      },
      "cell_type": "code",
      "source": "df.Age.plot(kind ='kde',title = 'histogram for Age' );",
      "execution_count": 41,
      "outputs": [
        {
          "output_type": "display_data",
          "data": {
            "text/plain": "<Figure size 432x288 with 1 Axes>",
            "image/png": "[encoded data removed]"
          },
          "metadata": {}
        }
      ]
    },
    {
      "metadata": {
        "trusted": true,
        "_uuid": "6062c0a9aef7aa66adc39db848397aab29006adb"
      },
      "cell_type": "code",
      "source": "df.Fare.plot(kind ='hist',title = 'histogram for Age' );",
      "execution_count": 42,
      "outputs": [
        {
          "output_type": "display_data",
          "data": {
            "text/plain": "<Figure size 432x288 with 1 Axes>",
            "image/png": "[encoded data removed]"
          },
          "metadata": {}
        }
      ]
    },
    {
      "metadata": {
        "_uuid": "6f7bd0284065ac20501d9b43d179947dda45c746"
      },
      "cell_type": "markdown",
      "source": "<h2>Bivariate Distribution<h2>"
    },
    {
      "metadata": {
        "trusted": true,
        "_uuid": "4d249af19aa148b1e0125051e128a5f2d8842d5d"
      },
      "cell_type": "code",
      "source": "#We use bivariate distribution for Scatter plot",
      "execution_count": 43,
      "outputs": []
    },
    {
      "metadata": {
        "trusted": true,
        "_uuid": "246b01ae06a62a057f47c3a43e0fdd805bb244ee"
      },
      "cell_type": "code",
      "source": "df.plot.scatter(x='Age',y='Fare',title='Scatter Plot:Age vs Fare');",
      "execution_count": 44,
      "outputs": [
        {
          "output_type": "display_data",
          "data": {
            "text/plain": "<Figure size 432x288 with 1 Axes>",
            "image/png": "[encoded data removed]"
          },
          "metadata": {}
        }
      ]
    },
    {
      "metadata": {
        "trusted": true,
        "_uuid": "8ac68676bde42fce3ca23caaa604b4ddadcd0603"
      },
      "cell_type": "code",
      "source": "df.plot.scatter(x='Age',y='Fare',title='Scatter Plot:Age vs Fare',alpha = 0.5);",
      "execution_count": 45,
      "outputs": [
        {
          "output_type": "display_data",
          "data": {
            "text/plain": "<Figure size 432x288 with 1 Axes>",
            "image/png": "[encoded data removed]"
          },
          "metadata": {}
        }
      ]
    },
    {
      "metadata": {
        "trusted": true,
        "scrolled": true,
        "_uuid": "deb001a353dbdc90dbd6121cfae880e6411a9c60"
      },
      "cell_type": "code",
      "source": "df.plot.scatter(x='Pclass',y='Fare',title='Scatter Plot:Pclass vs Fare');",
      "execution_count": 46,
      "outputs": [
        {
          "output_type": "display_data",
          "data": {
            "text/plain": "<Figure size 432x288 with 1 Axes>",
            "image/png": "[encoded data removed]"
          },
          "metadata": {}
        }
      ]
    },
    {
      "metadata": {
        "_uuid": "fe7e9dffe4ff376a1a1faa05039e53c88b372029"
      },
      "cell_type": "markdown",
      "source": "<h2>Grouping<h2>"
    },
    {
      "metadata": {
        "trusted": true,
        "_uuid": "cbc4b5862973aa2df573a7d19e60aaba2a113923"
      },
      "cell_type": "code",
      "source": "df.groupby('Sex').Age.median()",
      "execution_count": 47,
      "outputs": [
        {
          "output_type": "execute_result",
          "execution_count": 47,
          "data": {
            "text/plain": "Sex\nfemale    27.0\nmale      28.0\nName: Age, dtype: float64"
          },
          "metadata": {}
        }
      ]
    },
    {
      "metadata": {
        "trusted": true,
        "_uuid": "542bd03eb6cbb5017f6c764a64daf129db398ead"
      },
      "cell_type": "code",
      "source": "#group by\ndf.groupby('Pclass').Fare.median()",
      "execution_count": 48,
      "outputs": [
        {
          "output_type": "execute_result",
          "execution_count": 48,
          "data": {
            "text/plain": "Pclass\n1    60.0000\n2    15.0458\n3     8.0500\nName: Fare, dtype: float64"
          },
          "metadata": {}
        }
      ]
    },
    {
      "metadata": {
        "trusted": true,
        "_uuid": "68b9a16ae719cc18707b0f1618f2c1f347e28f5c"
      },
      "cell_type": "code",
      "source": "\n\n\ndf.groupby('Pclass').Age.median()",
      "execution_count": 49,
      "outputs": [
        {
          "output_type": "execute_result",
          "execution_count": 49,
          "data": {
            "text/plain": "Pclass\n1    39.0\n2    29.0\n3    24.0\nName: Age, dtype: float64"
          },
          "metadata": {}
        }
      ]
    },
    {
      "metadata": {
        "trusted": true,
        "_uuid": "1c6fe5554c3f3a5828104597406eb3ee98ed0125"
      },
      "cell_type": "code",
      "source": "df.groupby(['Pclass'])['Fare','Age'].median()",
      "execution_count": 50,
      "outputs": [
        {
          "output_type": "execute_result",
          "execution_count": 50,
          "data": {
            "text/plain": "           Fare   Age\nPclass               \n1       60.0000  39.0\n2       15.0458  29.0\n3        8.0500  24.0",
            "text/html": "<div>\n<style scoped>\n    .dataframe tbody tr th:only-of-type {\n        vertical-align: middle;\n    }\n\n    .dataframe tbody tr th {\n        vertical-align: top;\n    }\n\n    .dataframe thead th {\n        text-align: right;\n    }\n</style>\n<table border=\"1\" class=\"dataframe\">\n  <thead>\n    <tr style=\"text-align: right;\">\n      <th></th>\n      <th>Fare</th>\n      <th>Age</th>\n    </tr>\n    <tr>\n      <th>Pclass</th>\n      <th></th>\n      <th></th>\n    </tr>\n  </thead>\n  <tbody>\n    <tr>\n      <th>1</th>\n      <td>60.0000</td>\n      <td>39.0</td>\n    </tr>\n    <tr>\n      <th>2</th>\n      <td>15.0458</td>\n      <td>29.0</td>\n    </tr>\n    <tr>\n      <th>3</th>\n      <td>8.0500</td>\n      <td>24.0</td>\n    </tr>\n  </tbody>\n</table>\n</div>"
          },
          "metadata": {}
        }
      ]
    },
    {
      "metadata": {
        "trusted": true,
        "_uuid": "f9253da42087ad7c40337c50887d7f064c4991b1"
      },
      "cell_type": "code",
      "source": "\n\n\ndf.groupby(['Pclass']).agg({'Fare':'mean','Age':'median'})",
      "execution_count": 51,
      "outputs": [
        {
          "output_type": "execute_result",
          "execution_count": 51,
          "data": {
            "text/plain": "             Fare   Age\nPclass                 \n1       87.508992  39.0\n2       21.179196  29.0\n3       13.302889  24.0",
            "text/html": "<div>\n<style scoped>\n    .dataframe tbody tr th:only-of-type {\n        vertical-align: middle;\n    }\n\n    .dataframe tbody tr th {\n        vertical-align: top;\n    }\n\n    .dataframe thead th {\n        text-align: right;\n    }\n</style>\n<table border=\"1\" class=\"dataframe\">\n  <thead>\n    <tr style=\"text-align: right;\">\n      <th></th>\n      <th>Fare</th>\n      <th>Age</th>\n    </tr>\n    <tr>\n      <th>Pclass</th>\n      <th></th>\n      <th></th>\n    </tr>\n  </thead>\n  <tbody>\n    <tr>\n      <th>1</th>\n      <td>87.508992</td>\n      <td>39.0</td>\n    </tr>\n    <tr>\n      <th>2</th>\n      <td>21.179196</td>\n      <td>29.0</td>\n    </tr>\n    <tr>\n      <th>3</th>\n      <td>13.302889</td>\n      <td>24.0</td>\n    </tr>\n  </tbody>\n</table>\n</div>"
          },
          "metadata": {}
        }
      ]
    },
    {
      "metadata": {
        "trusted": true,
        "_uuid": "cf6a641a53feec2d5b0c979335920278c6f3fe3f"
      },
      "cell_type": "code",
      "source": "# more complicated aggregation\naggregations ={\n    'Fare': {#work on fare column\n        'mean_Fare':'mean',\n        'median_Fare':'median',\n        'Max_Fare':max,\n        'Min_Fare' :np.min\n    },\n    'Age': {\n        'mean_Age':'mean',\n        'median_Age':'median',\n        'Max_Age':max,\n        'Min_Age' :np.min\n    }\n}",
      "execution_count": 52,
      "outputs": []
    },
    {
      "metadata": {
        "trusted": true,
        "_uuid": "9834e2cc094ed550cfcf818d382246dd3e856358"
      },
      "cell_type": "code",
      "source": "df.groupby(['Pclass']).agg(aggregations)",
      "execution_count": 53,
      "outputs": [
        {
          "output_type": "stream",
          "text": "/opt/conda/lib/python3.6/site-packages/pandas/core/groupby/groupby.py:4656: FutureWarning: using a dict with renaming is deprecated and will be removed in a future version\n  return super(DataFrameGroupBy, self).aggregate(arg, *args, **kwargs)\n",
          "name": "stderr"
        },
        {
          "output_type": "execute_result",
          "execution_count": 53,
          "data": {
            "text/plain": "             Fare                         ...          Age                \n        mean_Fare median_Fare  Max_Fare   ...   median_Age Max_Age Min_Age\nPclass                                    ...                             \n1       87.508992     60.0000  512.3292   ...         39.0    80.0    0.92\n2       21.179196     15.0458   73.5000   ...         29.0    70.0    0.67\n3       13.302889      8.0500   69.5500   ...         24.0    74.0    0.17\n\n[3 rows x 8 columns]",
            "text/html": "<div>\n<style scoped>\n    .dataframe tbody tr th:only-of-type {\n        vertical-align: middle;\n    }\n\n    .dataframe tbody tr th {\n        vertical-align: top;\n    }\n\n    .dataframe thead tr th {\n        text-align: left;\n    }\n\n    .dataframe thead tr:last-of-type th {\n        text-align: right;\n    }\n</style>\n<table border=\"1\" class=\"dataframe\">\n  <thead>\n    <tr>\n      <th></th>\n      <th colspan=\"4\" halign=\"left\">Fare</th>\n      <th colspan=\"4\" halign=\"left\">Age</th>\n    </tr>\n    <tr>\n      <th></th>\n      <th>mean_Fare</th>\n      <th>median_Fare</th>\n      <th>Max_Fare</th>\n      <th>Min_Fare</th>\n      <th>mean_Age</th>\n      <th>median_Age</th>\n      <th>Max_Age</th>\n      <th>Min_Age</th>\n    </tr>\n    <tr>\n      <th>Pclass</th>\n      <th></th>\n      <th></th>\n      <th></th>\n      <th></th>\n      <th></th>\n      <th></th>\n      <th></th>\n      <th></th>\n    </tr>\n  </thead>\n  <tbody>\n    <tr>\n      <th>1</th>\n      <td>87.508992</td>\n      <td>60.0000</td>\n      <td>512.3292</td>\n      <td>0.0</td>\n      <td>39.159930</td>\n      <td>39.0</td>\n      <td>80.0</td>\n      <td>0.92</td>\n    </tr>\n    <tr>\n      <th>2</th>\n      <td>21.179196</td>\n      <td>15.0458</td>\n      <td>73.5000</td>\n      <td>0.0</td>\n      <td>29.506705</td>\n      <td>29.0</td>\n      <td>70.0</td>\n      <td>0.67</td>\n    </tr>\n    <tr>\n      <th>3</th>\n      <td>13.302889</td>\n      <td>8.0500</td>\n      <td>69.5500</td>\n      <td>0.0</td>\n      <td>24.816367</td>\n      <td>24.0</td>\n      <td>74.0</td>\n      <td>0.17</td>\n    </tr>\n  </tbody>\n</table>\n</div>"
          },
          "metadata": {}
        }
      ]
    },
    {
      "metadata": {
        "trusted": true,
        "_uuid": "3ec470b3ff2dfdac68ea1ae969948116ff1b0da7"
      },
      "cell_type": "code",
      "source": "df.groupby(['Pclass','Embarked']).Fare.median()",
      "execution_count": 54,
      "outputs": [
        {
          "output_type": "execute_result",
          "execution_count": 54,
          "data": {
            "text/plain": "Pclass  Embarked\n1       C           76.7292\n        Q           90.0000\n        S           52.0000\n2       C           15.3146\n        Q           12.3500\n        S           15.3750\n3       C            7.8958\n        Q            7.7500\n        S            8.0500\nName: Fare, dtype: float64"
          },
          "metadata": {}
        }
      ]
    },
    {
      "metadata": {
        "_uuid": "c6a376c38d4343604c21453d71844b664c96385d"
      },
      "cell_type": "markdown",
      "source": "<h2>Crosstab<h2>"
    },
    {
      "metadata": {
        "trusted": true,
        "_uuid": "987cffe8e68d73e3d62728f27335cfe3bb67a60b"
      },
      "cell_type": "code",
      "source": "pd.crosstab(df.Sex,df.Pclass)",
      "execution_count": 55,
      "outputs": [
        {
          "output_type": "execute_result",
          "execution_count": 55,
          "data": {
            "text/plain": "Pclass    1    2    3\nSex                  \nfemale  144  106  216\nmale    179  171  493",
            "text/html": "<div>\n<style scoped>\n    .dataframe tbody tr th:only-of-type {\n        vertical-align: middle;\n    }\n\n    .dataframe tbody tr th {\n        vertical-align: top;\n    }\n\n    .dataframe thead th {\n        text-align: right;\n    }\n</style>\n<table border=\"1\" class=\"dataframe\">\n  <thead>\n    <tr style=\"text-align: right;\">\n      <th>Pclass</th>\n      <th>1</th>\n      <th>2</th>\n      <th>3</th>\n    </tr>\n    <tr>\n      <th>Sex</th>\n      <th></th>\n      <th></th>\n      <th></th>\n    </tr>\n  </thead>\n  <tbody>\n    <tr>\n      <th>female</th>\n      <td>144</td>\n      <td>106</td>\n      <td>216</td>\n    </tr>\n    <tr>\n      <th>male</th>\n      <td>179</td>\n      <td>171</td>\n      <td>493</td>\n    </tr>\n  </tbody>\n</table>\n</div>"
          },
          "metadata": {}
        }
      ]
    },
    {
      "metadata": {
        "trusted": true,
        "_uuid": "6fa4d6b092bf506a1b0889e8eb364a503e4e8f5d"
      },
      "cell_type": "code",
      "source": "pd.crosstab(df.Sex,df.Pclass).plot(kind='bar');",
      "execution_count": 56,
      "outputs": [
        {
          "output_type": "display_data",
          "data": {
            "text/plain": "<Figure size 432x288 with 1 Axes>",
            "image/png": "[encoded data removed]"
          },
          "metadata": {}
        }
      ]
    },
    {
      "metadata": {
        "_uuid": "02caeabbbef744d542511826777d6523f85884ac"
      },
      "cell_type": "markdown",
      "source": "<h2>Pivot Table<h2>"
    },
    {
      "metadata": {
        "trusted": true,
        "_uuid": "48159dc67ed97f5d35e83845f8945e5aab6840de"
      },
      "cell_type": "code",
      "source": "#pivot table\ndf.pivot_table(index='Sex',columns = 'Pclass',values = 'Age',aggfunc='mean')",
      "execution_count": 57,
      "outputs": [
        {
          "output_type": "execute_result",
          "execution_count": 57,
          "data": {
            "text/plain": "Pclass          1          2          3\nSex                                    \nfemale  37.037594  27.499223  22.185329\nmale    41.029272  30.815380  25.962264",
            "text/html": "<div>\n<style scoped>\n    .dataframe tbody tr th:only-of-type {\n        vertical-align: middle;\n    }\n\n    .dataframe tbody tr th {\n        vertical-align: top;\n    }\n\n    .dataframe thead th {\n        text-align: right;\n    }\n</style>\n<table border=\"1\" class=\"dataframe\">\n  <thead>\n    <tr style=\"text-align: right;\">\n      <th>Pclass</th>\n      <th>1</th>\n      <th>2</th>\n      <th>3</th>\n    </tr>\n    <tr>\n      <th>Sex</th>\n      <th></th>\n      <th></th>\n      <th></th>\n    </tr>\n  </thead>\n  <tbody>\n    <tr>\n      <th>female</th>\n      <td>37.037594</td>\n      <td>27.499223</td>\n      <td>22.185329</td>\n    </tr>\n    <tr>\n      <th>male</th>\n      <td>41.029272</td>\n      <td>30.815380</td>\n      <td>25.962264</td>\n    </tr>\n  </tbody>\n</table>\n</div>"
          },
          "metadata": {}
        }
      ]
    },
    {
      "metadata": {
        "_uuid": "c3280e854315724c02468bbae5de535e33511c7d"
      },
      "cell_type": "markdown",
      "source": "\n\n\nSimilar results can be found by group by table"
    },
    {
      "metadata": {
        "trusted": true,
        "_uuid": "d9ea440d3686a92401caffb13dc1e630d742cae4"
      },
      "cell_type": "code",
      "source": "df.groupby(['Sex','Pclass']).Age.mean().unstack()",
      "execution_count": 58,
      "outputs": [
        {
          "output_type": "execute_result",
          "execution_count": 58,
          "data": {
            "text/plain": "Pclass          1          2          3\nSex                                    \nfemale  37.037594  27.499223  22.185329\nmale    41.029272  30.815380  25.962264",
            "text/html": "<div>\n<style scoped>\n    .dataframe tbody tr th:only-of-type {\n        vertical-align: middle;\n    }\n\n    .dataframe tbody tr th {\n        vertical-align: top;\n    }\n\n    .dataframe thead th {\n        text-align: right;\n    }\n</style>\n<table border=\"1\" class=\"dataframe\">\n  <thead>\n    <tr style=\"text-align: right;\">\n      <th>Pclass</th>\n      <th>1</th>\n      <th>2</th>\n      <th>3</th>\n    </tr>\n    <tr>\n      <th>Sex</th>\n      <th></th>\n      <th></th>\n      <th></th>\n    </tr>\n  </thead>\n  <tbody>\n    <tr>\n      <th>female</th>\n      <td>37.037594</td>\n      <td>27.499223</td>\n      <td>22.185329</td>\n    </tr>\n    <tr>\n      <th>male</th>\n      <td>41.029272</td>\n      <td>30.815380</td>\n      <td>25.962264</td>\n    </tr>\n  </tbody>\n</table>\n</div>"
          },
          "metadata": {}
        }
      ]
    },
    {
      "metadata": {
        "trusted": true,
        "_uuid": "13b84b557032de635e5b25502109463c02d19128"
      },
      "cell_type": "markdown",
      "source": "<h1>**Data Munging**<h1>"
    },
    {
      "metadata": {
        "_uuid": "5b48b4646b33a4359786a2a0f53f2cd7455c7a0d"
      },
      "cell_type": "markdown",
      "source": "**Step 1:Missing value addressing**"
    },
    {
      "metadata": {
        "_uuid": "ab37bece4d4851d1a1e1c86ba29c6cc1ee715577"
      },
      "cell_type": "markdown",
      "source": "Feature : Embarked"
    },
    {
      "metadata": {
        "trusted": true,
        "_uuid": "d74ea7cc45a78b0b17f5443cf407f557cf97db38"
      },
      "cell_type": "code",
      "source": "df.isnull().sum()",
      "execution_count": 59,
      "outputs": [
        {
          "output_type": "execute_result",
          "execution_count": 59,
          "data": {
            "text/plain": "Pclass         0\nName           0\nSex            0\nAge          263\nSibSp          0\nParch          0\nTicket         0\nFare           1\nCabin       1014\nEmbarked       2\nSurvived       0\ndtype: int64"
          },
          "metadata": {}
        }
      ]
    },
    {
      "metadata": {
        "trusted": true,
        "_uuid": "28abe60de389c1258bcaa628240859a418626153"
      },
      "cell_type": "code",
      "source": "train_df.isnull().sum()",
      "execution_count": 60,
      "outputs": [
        {
          "output_type": "execute_result",
          "execution_count": 60,
          "data": {
            "text/plain": "PassengerId      0\nPclass           0\nName             0\nSex              0\nAge            177\nSibSp            0\nParch            0\nTicket           0\nFare             0\nCabin          687\nEmbarked         2\nSurvived         0\ndtype: int64"
          },
          "metadata": {}
        }
      ]
    },
    {
      "metadata": {
        "trusted": true,
        "_uuid": "60601c758e8fe3f132667f04ced80611e2fc0979"
      },
      "cell_type": "code",
      "source": "df.info()",
      "execution_count": 61,
      "outputs": [
        {
          "output_type": "stream",
          "text": "<class 'pandas.core.frame.DataFrame'>\nInt64Index: 1309 entries, 1 to 1309\nData columns (total 11 columns):\nPclass      1309 non-null int64\nName        1309 non-null object\nSex         1309 non-null object\nAge         1046 non-null float64\nSibSp       1309 non-null int64\nParch       1309 non-null int64\nTicket      1309 non-null object\nFare        1308 non-null float64\nCabin       295 non-null object\nEmbarked    1307 non-null object\nSurvived    1309 non-null int64\ndtypes: float64(2), int64(4), object(5)\nmemory usage: 162.7+ KB\n",
          "name": "stdout"
        }
      ]
    },
    {
      "metadata": {
        "trusted": true,
        "_uuid": "363cf1db44c312eb4d7a9f85cc1633d45646fb85"
      },
      "cell_type": "code",
      "source": "df[df.Embarked.isnull()]",
      "execution_count": 62,
      "outputs": [
        {
          "output_type": "execute_result",
          "execution_count": 62,
          "data": {
            "text/plain": "             Pclass   ...    Survived\nPassengerId           ...            \n62                1   ...           1\n830               1   ...           1\n\n[2 rows x 11 columns]",
            "text/html": "<div>\n<style scoped>\n    .dataframe tbody tr th:only-of-type {\n        vertical-align: middle;\n    }\n\n    .dataframe tbody tr th {\n        vertical-align: top;\n    }\n\n    .dataframe thead th {\n        text-align: right;\n    }\n</style>\n<table border=\"1\" class=\"dataframe\">\n  <thead>\n    <tr style=\"text-align: right;\">\n      <th></th>\n      <th>Pclass</th>\n      <th>Name</th>\n      <th>Sex</th>\n      <th>Age</th>\n      <th>SibSp</th>\n      <th>Parch</th>\n      <th>Ticket</th>\n      <th>Fare</th>\n      <th>Cabin</th>\n      <th>Embarked</th>\n      <th>Survived</th>\n    </tr>\n    <tr>\n      <th>PassengerId</th>\n      <th></th>\n      <th></th>\n      <th></th>\n      <th></th>\n      <th></th>\n      <th></th>\n      <th></th>\n      <th></th>\n      <th></th>\n      <th></th>\n      <th></th>\n    </tr>\n  </thead>\n  <tbody>\n    <tr>\n      <th>62</th>\n      <td>1</td>\n      <td>Icard, Miss. Amelie</td>\n      <td>female</td>\n      <td>38.0</td>\n      <td>0</td>\n      <td>0</td>\n      <td>113572</td>\n      <td>80.0</td>\n      <td>B28</td>\n      <td>NaN</td>\n      <td>1</td>\n    </tr>\n    <tr>\n      <th>830</th>\n      <td>1</td>\n      <td>Stone, Mrs. George Nelson (Martha Evelyn)</td>\n      <td>female</td>\n      <td>62.0</td>\n      <td>0</td>\n      <td>0</td>\n      <td>113572</td>\n      <td>80.0</td>\n      <td>B28</td>\n      <td>NaN</td>\n      <td>1</td>\n    </tr>\n  </tbody>\n</table>\n</div>"
          },
          "metadata": {}
        }
      ]
    },
    {
      "metadata": {
        "trusted": true,
        "_uuid": "61e75d3a3c8cff026c265b0288a555568095dc07"
      },
      "cell_type": "code",
      "source": "#how many people embarked at a particular points\ndf.Embarked.value_counts()",
      "execution_count": 63,
      "outputs": [
        {
          "output_type": "execute_result",
          "execution_count": 63,
          "data": {
            "text/plain": "S    914\nC    270\nQ    123\nName: Embarked, dtype: int64"
          },
          "metadata": {}
        }
      ]
    },
    {
      "metadata": {
        "trusted": true,
        "_uuid": "5a3b25924c9a5cf0f31a1db416b41ba387fbbd7f"
      },
      "cell_type": "code",
      "source": "#which embarked point has highest survival count\npd.crosstab(df[df.Survived != -888].Survived,df[df.Survived != -888].Embarked)",
      "execution_count": 64,
      "outputs": [
        {
          "output_type": "execute_result",
          "execution_count": 64,
          "data": {
            "text/plain": "Embarked   C   Q    S\nSurvived             \n0         75  47  427\n1         93  30  217",
            "text/html": "<div>\n<style scoped>\n    .dataframe tbody tr th:only-of-type {\n        vertical-align: middle;\n    }\n\n    .dataframe tbody tr th {\n        vertical-align: top;\n    }\n\n    .dataframe thead th {\n        text-align: right;\n    }\n</style>\n<table border=\"1\" class=\"dataframe\">\n  <thead>\n    <tr style=\"text-align: right;\">\n      <th>Embarked</th>\n      <th>C</th>\n      <th>Q</th>\n      <th>S</th>\n    </tr>\n    <tr>\n      <th>Survived</th>\n      <th></th>\n      <th></th>\n      <th></th>\n    </tr>\n  </thead>\n  <tbody>\n    <tr>\n      <th>0</th>\n      <td>75</td>\n      <td>47</td>\n      <td>427</td>\n    </tr>\n    <tr>\n      <th>1</th>\n      <td>93</td>\n      <td>30</td>\n      <td>217</td>\n    </tr>\n  </tbody>\n</table>\n</div>"
          },
          "metadata": {}
        }
      ]
    },
    {
      "metadata": {
        "trusted": true,
        "_uuid": "5077744a3847e13e046889031bca4da156e9bded"
      },
      "cell_type": "code",
      "source": "# impute missing value with 'S'\n#df.loc[df.Embarked.isnull(),'Embarked'] = S\n#df.Embarked.fillna('S',inplace = True)",
      "execution_count": 65,
      "outputs": []
    },
    {
      "metadata": {
        "trusted": true,
        "_uuid": "fe789c303d0bf8689d58ffa3d50f611882e390b8"
      },
      "cell_type": "code",
      "source": "df.groupby(['Pclass','Embarked']).Fare.median() ",
      "execution_count": 66,
      "outputs": [
        {
          "output_type": "execute_result",
          "execution_count": 66,
          "data": {
            "text/plain": "Pclass  Embarked\n1       C           76.7292\n        Q           90.0000\n        S           52.0000\n2       C           15.3146\n        Q           12.3500\n        S           15.3750\n3       C            7.8958\n        Q            7.7500\n        S            8.0500\nName: Fare, dtype: float64"
          },
          "metadata": {}
        }
      ]
    },
    {
      "metadata": {
        "_uuid": "5c9cfdf1d7380717265b30317f2bc761e8355d03"
      },
      "cell_type": "markdown",
      "source": "From above we get to know that the passenger who are in class 1 and paid fare of 80 has  more chances to be Embarked from C."
    },
    {
      "metadata": {
        "trusted": true,
        "_uuid": "49e8a09da335a740791817b26b53ce303a4d8d2e"
      },
      "cell_type": "code",
      "source": "\ndf.Embarked.fillna('C',inplace = True)",
      "execution_count": 67,
      "outputs": []
    },
    {
      "metadata": {
        "trusted": true,
        "_uuid": "7ad22a8ad21e77a8469f73374447bd93e69a6646"
      },
      "cell_type": "code",
      "source": "df.Embarked.isnull().sum()",
      "execution_count": 68,
      "outputs": [
        {
          "output_type": "execute_result",
          "execution_count": 68,
          "data": {
            "text/plain": "0"
          },
          "metadata": {}
        }
      ]
    },
    {
      "metadata": {
        "trusted": true,
        "_uuid": "e9b89da77777a22abff9f8b3ded9e6862f68e118"
      },
      "cell_type": "code",
      "source": "df.info()",
      "execution_count": 69,
      "outputs": [
        {
          "output_type": "stream",
          "text": "<class 'pandas.core.frame.DataFrame'>\nInt64Index: 1309 entries, 1 to 1309\nData columns (total 11 columns):\nPclass      1309 non-null int64\nName        1309 non-null object\nSex         1309 non-null object\nAge         1046 non-null float64\nSibSp       1309 non-null int64\nParch       1309 non-null int64\nTicket      1309 non-null object\nFare        1308 non-null float64\nCabin       295 non-null object\nEmbarked    1309 non-null object\nSurvived    1309 non-null int64\ndtypes: float64(2), int64(4), object(5)\nmemory usage: 162.7+ KB\n",
          "name": "stdout"
        }
      ]
    },
    {
      "metadata": {
        "_uuid": "c5a10bdfd0b38dee08aba7e0ec39116242d72803"
      },
      "cell_type": "markdown",
      "source": "Feature : Fare"
    },
    {
      "metadata": {
        "trusted": true,
        "_uuid": "337eddb89926ebf7612ae2f67d9a23bfea00193d"
      },
      "cell_type": "code",
      "source": "df[df.Fare.isnull()]",
      "execution_count": 70,
      "outputs": [
        {
          "output_type": "execute_result",
          "execution_count": 70,
          "data": {
            "text/plain": "             Pclass                Name   Sex    ...     Cabin  Embarked  Survived\nPassengerId                                      ...                              \n1044              3  Storey, Mr. Thomas  male    ...       NaN         S      -888\n\n[1 rows x 11 columns]",
            "text/html": "<div>\n<style scoped>\n    .dataframe tbody tr th:only-of-type {\n        vertical-align: middle;\n    }\n\n    .dataframe tbody tr th {\n        vertical-align: top;\n    }\n\n    .dataframe thead th {\n        text-align: right;\n    }\n</style>\n<table border=\"1\" class=\"dataframe\">\n  <thead>\n    <tr style=\"text-align: right;\">\n      <th></th>\n      <th>Pclass</th>\n      <th>Name</th>\n      <th>Sex</th>\n      <th>Age</th>\n      <th>SibSp</th>\n      <th>Parch</th>\n      <th>Ticket</th>\n      <th>Fare</th>\n      <th>Cabin</th>\n      <th>Embarked</th>\n      <th>Survived</th>\n    </tr>\n    <tr>\n      <th>PassengerId</th>\n      <th></th>\n      <th></th>\n      <th></th>\n      <th></th>\n      <th></th>\n      <th></th>\n      <th></th>\n      <th></th>\n      <th></th>\n      <th></th>\n      <th></th>\n    </tr>\n  </thead>\n  <tbody>\n    <tr>\n      <th>1044</th>\n      <td>3</td>\n      <td>Storey, Mr. Thomas</td>\n      <td>male</td>\n      <td>60.5</td>\n      <td>0</td>\n      <td>0</td>\n      <td>3701</td>\n      <td>NaN</td>\n      <td>NaN</td>\n      <td>S</td>\n      <td>-888</td>\n    </tr>\n  </tbody>\n</table>\n</div>"
          },
          "metadata": {}
        }
      ]
    },
    {
      "metadata": {
        "trusted": true,
        "_uuid": "d10660b92ac5b57fa760b44ad94d4572fa113b82"
      },
      "cell_type": "code",
      "source": "median_fare = df.loc[(df.Pclass == 3) & (df.Embarked=='S'),'Fare'].median()\nprint (median_fare)",
      "execution_count": 71,
      "outputs": [
        {
          "output_type": "stream",
          "text": "8.05\n",
          "name": "stdout"
        }
      ]
    },
    {
      "metadata": {
        "trusted": true,
        "_uuid": "1b079c8ecce17a4eb48c6987d2d91ab2e7261e20"
      },
      "cell_type": "code",
      "source": "df.Fare.fillna(median_fare,inplace=True)",
      "execution_count": 72,
      "outputs": []
    },
    {
      "metadata": {
        "trusted": true,
        "_uuid": "77d89be68a7e0dabf250ec5a1b57365d8c82561e"
      },
      "cell_type": "code",
      "source": "df.info()",
      "execution_count": 73,
      "outputs": [
        {
          "output_type": "stream",
          "text": "<class 'pandas.core.frame.DataFrame'>\nInt64Index: 1309 entries, 1 to 1309\nData columns (total 11 columns):\nPclass      1309 non-null int64\nName        1309 non-null object\nSex         1309 non-null object\nAge         1046 non-null float64\nSibSp       1309 non-null int64\nParch       1309 non-null int64\nTicket      1309 non-null object\nFare        1309 non-null float64\nCabin       295 non-null object\nEmbarked    1309 non-null object\nSurvived    1309 non-null int64\ndtypes: float64(2), int64(4), object(5)\nmemory usage: 162.7+ KB\n",
          "name": "stdout"
        }
      ]
    },
    {
      "metadata": {
        "_uuid": "5808360210df0e8d3ea61adceefbfe6c01606d4d"
      },
      "cell_type": "markdown",
      "source": "Feature : Age"
    },
    {
      "metadata": {
        "trusted": true,
        "_uuid": "25aeb5dacb3220a6ab0bf664639f654b4166ea25"
      },
      "cell_type": "code",
      "source": "df.Age.isnull().sum()",
      "execution_count": 74,
      "outputs": [
        {
          "output_type": "execute_result",
          "execution_count": 74,
          "data": {
            "text/plain": "263"
          },
          "metadata": {}
        }
      ]
    },
    {
      "metadata": {
        "_uuid": "74bc2fc797bb055a871a2ca42cf994cfd5209a04"
      },
      "cell_type": "markdown",
      "source": "<h1>We have three options to fill missing age value<h1>\n<h2> option 1 : replace all missing value with the mean value<h2>"
    },
    {
      "metadata": {
        "trusted": true,
        "_uuid": "e06c605b6dc7e43b197a3c7319c5ad031553cc64"
      },
      "cell_type": "code",
      "source": "df.Age.plot(kind='hist',bins=20);",
      "execution_count": 75,
      "outputs": [
        {
          "output_type": "display_data",
          "data": {
            "text/plain": "<Figure size 432x288 with 1 Axes>",
            "image/png": "[encoded data removed]"
          },
          "metadata": {}
        }
      ]
    },
    {
      "metadata": {
        "trusted": true,
        "_uuid": "ff3d186cc12a113289f056ff5bf35397b5ee52cd"
      },
      "cell_type": "code",
      "source": "df.Age.mean()",
      "execution_count": 76,
      "outputs": [
        {
          "output_type": "execute_result",
          "execution_count": 76,
          "data": {
            "text/plain": "29.881137667304014"
          },
          "metadata": {}
        }
      ]
    },
    {
      "metadata": {
        "_uuid": "57fff0613ea4895ac2d8231833ad5cdeacaa6f16"
      },
      "cell_type": "markdown",
      "source": "Due to several 70's and 80's the mean is quite affected"
    },
    {
      "metadata": {
        "_uuid": "3f33632435d0c8e763b33f7e92a5c7892e420570"
      },
      "cell_type": "markdown",
      "source": "<h2>option 2: Replace by median<h2>"
    },
    {
      "metadata": {
        "trusted": true,
        "_uuid": "72a0f9c21e0355bdde8f40103e2b8c2b2c99e720"
      },
      "cell_type": "code",
      "source": "df.groupby('Sex').Age.median()",
      "execution_count": 77,
      "outputs": [
        {
          "output_type": "execute_result",
          "execution_count": 77,
          "data": {
            "text/plain": "Sex\nfemale    27.0\nmale      28.0\nName: Age, dtype: float64"
          },
          "metadata": {}
        }
      ]
    },
    {
      "metadata": {
        "trusted": true,
        "_uuid": "f364096f4fd1921b95a067282d62c8d1afc7e142"
      },
      "cell_type": "code",
      "source": "df[df.Age.notnull()].boxplot('Age','Sex');",
      "execution_count": 78,
      "outputs": [
        {
          "output_type": "display_data",
          "data": {
            "text/plain": "<Figure size 432x288 with 1 Axes>",
            "image/png": "[encoded data removed]"
          },
          "metadata": {}
        }
      ]
    },
    {
      "metadata": {
        "_uuid": "6c3256e8c48c8f4a254688cac08c4769b2b411a2"
      },
      "cell_type": "markdown",
      "source": "<h2>option 3 : replace with median age of Pclass<h2>"
    },
    {
      "metadata": {
        "trusted": true,
        "_uuid": "6351ec3d6e4c22ab5136b6cc60733f33b39cfc82"
      },
      "cell_type": "code",
      "source": "df[df.Age.notnull()].boxplot('Age','Pclass');",
      "execution_count": 79,
      "outputs": [
        {
          "output_type": "display_data",
          "data": {
            "text/plain": "<Figure size 432x288 with 1 Axes>",
            "image/png": "[encoded data removed]"
          },
          "metadata": {}
        }
      ]
    },
    {
      "metadata": {
        "_uuid": "51bc14f146166d91fef5644b37cca1fa32882f5e"
      },
      "cell_type": "markdown",
      "source": "<h2>option 4 : replace with median age of title<h2>"
    },
    {
      "metadata": {
        "_uuid": "806613b4f9ec49b409ac962617661bc71b14df1a"
      },
      "cell_type": "markdown",
      "source": "We all know that the' Mr' is used for old veteran and 'master' is used for young man.Similar goes with females.So we will extract titles to predict the values of the age of the passenger of titanic. "
    },
    {
      "metadata": {
        "trusted": true,
        "_uuid": "a8b92f31fca8f4716a752e9291bfc5ecc821e4e7"
      },
      "cell_type": "code",
      "source": "df.Name.head()",
      "execution_count": 80,
      "outputs": [
        {
          "output_type": "execute_result",
          "execution_count": 80,
          "data": {
            "text/plain": "PassengerId\n1                              Braund, Mr. Owen Harris\n2    Cumings, Mrs. John Bradley (Florence Briggs Th...\n3                               Heikkinen, Miss. Laina\n4         Futrelle, Mrs. Jacques Heath (Lily May Peel)\n5                             Allen, Mr. William Henry\nName: Name, dtype: object"
          },
          "metadata": {}
        }
      ]
    },
    {
      "metadata": {
        "trusted": true,
        "_uuid": "6e95b4dafa6c659dae9a965e0c5009e40af6ca97"
      },
      "cell_type": "code",
      "source": "def GetTitle(name):\n    first_name_with_title = name.split(',')[1]\n    title = first_name_with_title.split('.')[0]\n    title = title.strip().lower()\n    return title",
      "execution_count": 81,
      "outputs": []
    },
    {
      "metadata": {
        "trusted": true,
        "_uuid": "adaecccd4f257a942f2d53eb59f5d3264bfb257c"
      },
      "cell_type": "code",
      "source": "#use map function to apply the function on each Name value row i\ndf.Name.map(lambda x : GetTitle(x))",
      "execution_count": 82,
      "outputs": [
        {
          "output_type": "execute_result",
          "execution_count": 82,
          "data": {
            "text/plain": "PassengerId\n1                 mr\n2                mrs\n3               miss\n4                mrs\n5                 mr\n6                 mr\n7                 mr\n8             master\n9                mrs\n10               mrs\n11              miss\n12              miss\n13                mr\n14                mr\n15              miss\n16               mrs\n17            master\n18                mr\n19               mrs\n20               mrs\n21                mr\n22                mr\n23              miss\n24                mr\n25              miss\n26               mrs\n27                mr\n28                mr\n29              miss\n30                mr\n31               don\n32               mrs\n33              miss\n34                mr\n35                mr\n36                mr\n37                mr\n38                mr\n39              miss\n40              miss\n41               mrs\n42               mrs\n43                mr\n44              miss\n45              miss\n46                mr\n47                mr\n48              miss\n49                mr\n50               mrs\n51            master\n52                mr\n53               mrs\n54               mrs\n55                mr\n56                mr\n57              miss\n58                mr\n59              miss\n60            master\n61                mr\n62              miss\n63                mr\n64            master\n65                mr\n66            master\n67               mrs\n68                mr\n69              miss\n70                mr\n71                mr\n72              miss\n73                mr\n74                mr\n75                mr\n76                mr\n77                mr\n78                mr\n79            master\n80              miss\n81                mr\n82                mr\n83              miss\n84                mr\n85              miss\n86               mrs\n87                mr\n88                mr\n89              miss\n90                mr\n91                mr\n92                mr\n93                mr\n94                mr\n95                mr\n96                mr\n97                mr\n98                mr\n99               mrs\n100               mr\n101             miss\n102               mr\n103               mr\n104               mr\n105               mr\n106               mr\n107             miss\n108               mr\n109               mr\n110             miss\n111               mr\n112             miss\n113               mr\n114             miss\n115             miss\n116               mr\n117               mr\n118               mr\n119               mr\n120             miss\n121               mr\n122               mr\n123               mr\n124             miss\n125               mr\n126           master\n127               mr\n128               mr\n129             miss\n130               mr\n131               mr\n132               mr\n133              mrs\n134              mrs\n135               mr\n136               mr\n137             miss\n138               mr\n139               mr\n140               mr\n141              mrs\n142             miss\n143              mrs\n144               mr\n145               mr\n146               mr\n147               mr\n148             miss\n149               mr\n150              rev\n151              rev\n152              mrs\n153               mr\n154               mr\n155               mr\n156               mr\n157             miss\n158               mr\n159               mr\n160           master\n161               mr\n162              mrs\n163               mr\n164               mr\n165           master\n166           master\n167              mrs\n168              mrs\n169               mr\n170               mr\n171               mr\n172           master\n173             miss\n174               mr\n175               mr\n176               mr\n177           master\n178             miss\n179               mr\n180               mr\n181             miss\n182               mr\n183           master\n184           master\n185             miss\n186               mr\n187              mrs\n188               mr\n189               mr\n190               mr\n191              mrs\n192               mr\n193             miss\n194           master\n195              mrs\n196             miss\n197               mr\n198               mr\n199             miss\n200             miss\n201               mr\n202               mr\n203               mr\n204               mr\n205               mr\n206             miss\n207               mr\n208               mr\n209             miss\n210               mr\n211               mr\n212             miss\n213               mr\n214               mr\n215               mr\n216             miss\n217             miss\n218               mr\n219             miss\n220               mr\n221               mr\n222               mr\n223               mr\n224               mr\n225               mr\n226               mr\n227               mr\n228               mr\n229               mr\n230             miss\n231              mrs\n232               mr\n233               mr\n234             miss\n235               mr\n236             miss\n237               mr\n238             miss\n239               mr\n240               mr\n241             miss\n242             miss\n243               mr\n244               mr\n245               mr\n246               dr\n247             miss\n248              mrs\n249               mr\n250              rev\n251               mr\n252              mrs\n253               mr\n254               mr\n255              mrs\n256              mrs\n257              mrs\n258             miss\n259             miss\n260              mrs\n261               mr\n262           master\n263               mr\n264               mr\n265             miss\n266               mr\n267               mr\n268               mr\n269              mrs\n270             miss\n271               mr\n272               mr\n273              mrs\n274               mr\n275             miss\n276             miss\n277             miss\n278               mr\n279           master\n280              mrs\n281               mr\n282               mr\n283               mr\n284               mr\n285               mr\n286               mr\n287               mr\n288               mr\n289               mr\n290             miss\n291             miss\n292              mrs\n293               mr\n294             miss\n295               mr\n296               mr\n297               mr\n298             miss\n299               mr\n300              mrs\n301             miss\n302               mr\n303               mr\n304             miss\n305               mr\n306           master\n307             miss\n308              mrs\n309               mr\n310             miss\n311             miss\n312             miss\n313              mrs\n314               mr\n315               mr\n316             miss\n317              mrs\n318               dr\n319             miss\n320              mrs\n321               mr\n322               mr\n323             miss\n324              mrs\n325               mr\n326             miss\n327               mr\n328              mrs\n329              mrs\n330             miss\n331             miss\n332               mr\n333               mr\n334               mr\n335              mrs\n336               mr\n337               mr\n338             miss\n339               mr\n340               mr\n341           master\n342             miss\n343               mr\n344               mr\n345               mr\n346             miss\n347             miss\n348              mrs\n349           master\n350               mr\n351               mr\n352               mr\n353               mr\n354               mr\n355               mr\n356               mr\n357             miss\n358             miss\n359             miss\n360             miss\n361               mr\n362               mr\n363              mrs\n364               mr\n365               mr\n366               mr\n367              mrs\n368              mrs\n369             miss\n370              mme\n371               mr\n372               mr\n373               mr\n374               mr\n375             miss\n376              mrs\n377             miss\n378               mr\n379               mr\n380               mr\n381             miss\n382             miss\n383               mr\n384              mrs\n385               mr\n386               mr\n387           master\n388             miss\n389               mr\n390             miss\n391               mr\n392               mr\n393               mr\n394             miss\n395              mrs\n396               mr\n397             miss\n398               mr\n399               dr\n400              mrs\n401               mr\n402               mr\n403             miss\n404               mr\n405             miss\n406               mr\n407               mr\n408           master\n409               mr\n410             miss\n411               mr\n412               mr\n413             miss\n414               mr\n415               mr\n416              mrs\n417              mrs\n418             miss\n419               mr\n420             miss\n421               mr\n422               mr\n423               mr\n424              mrs\n425               mr\n426               mr\n427              mrs\n428             miss\n429               mr\n430               mr\n431               mr\n432              mrs\n433              mrs\n434               mr\n435               mr\n436             miss\n437             miss\n438              mrs\n439               mr\n440               mr\n441              mrs\n442               mr\n443               mr\n444               ms\n445               mr\n446           master\n447             miss\n448               mr\n449             miss\n450            major\n451               mr\n452               mr\n453               mr\n454               mr\n455               mr\n456               mr\n457               mr\n458              mrs\n459             miss\n460               mr\n461               mr\n462               mr\n463               mr\n464               mr\n465               mr\n466               mr\n467               mr\n468               mr\n469               mr\n470             miss\n471               mr\n472               mr\n473              mrs\n474              mrs\n475             miss\n476               mr\n477               mr\n478               mr\n479               mr\n480             miss\n481           master\n482               mr\n483               mr\n484              mrs\n485               mr\n486             miss\n487              mrs\n488               mr\n489               mr\n490           master\n491               mr\n492               mr\n493               mr\n494               mr\n495               mr\n496               mr\n497             miss\n498               mr\n499              mrs\n500               mr\n501               mr\n502             miss\n503             miss\n504             miss\n505             miss\n506               mr\n507              mrs\n508               mr\n509               mr\n510               mr\n511               mr\n512               mr\n513               mr\n514              mrs\n515               mr\n516               mr\n517              mrs\n518               mr\n519              mrs\n520               mr\n521             miss\n522               mr\n523               mr\n524              mrs\n525               mr\n526               mr\n527             miss\n528               mr\n529               mr\n530               mr\n531             miss\n532               mr\n533               mr\n534              mrs\n535             miss\n536             miss\n537            major\n538             miss\n539               mr\n540             miss\n541             miss\n542             miss\n543             miss\n544               mr\n545               mr\n546               mr\n547              mrs\n548               mr\n549               mr\n550           master\n551               mr\n552               mr\n553               mr\n554               mr\n555             miss\n556               mr\n557             lady\n558               mr\n559              mrs\n560              mrs\n561               mr\n562               mr\n563               mr\n564               mr\n565             miss\n566               mr\n567               mr\n568              mrs\n569               mr\n570               mr\n571               mr\n572              mrs\n573               mr\n574             miss\n575               mr\n576               mr\n577             miss\n578              mrs\n579              mrs\n580               mr\n581             miss\n582              mrs\n583               mr\n584               mr\n585               mr\n586             miss\n587               mr\n588               mr\n589               mr\n590               mr\n591               mr\n592              mrs\n593               mr\n594             miss\n595               mr\n596               mr\n597             miss\n598               mr\n599               mr\n600              sir\n601              mrs\n602               mr\n603               mr\n604               mr\n605               mr\n606               mr\n607               mr\n608               mr\n609              mrs\n610             miss\n611              mrs\n612               mr\n613             miss\n614               mr\n615               mr\n616             miss\n617               mr\n618              mrs\n619             miss\n620               mr\n621               mr\n622               mr\n623               mr\n624               mr\n625               mr\n626               mr\n627              rev\n628             miss\n629               mr\n630               mr\n631               mr\n632               mr\n633               dr\n634               mr\n635             miss\n636             miss\n637               mr\n638               mr\n639              mrs\n640               mr\n641               mr\n642             mlle\n643             miss\n644               mr\n645             miss\n646               mr\n647               mr\n648              col\n649               mr\n650             miss\n651               mr\n652             miss\n653               mr\n654             miss\n655             miss\n656               mr\n657               mr\n658              mrs\n659               mr\n660               mr\n661               dr\n662               mr\n663               mr\n664               mr\n665               mr\n666               mr\n667               mr\n668               mr\n669               mr\n670              mrs\n671              mrs\n672               mr\n673               mr\n674               mr\n675               mr\n676               mr\n677               mr\n678             miss\n679              mrs\n680               mr\n681             miss\n682               mr\n683               mr\n684               mr\n685               mr\n686               mr\n687               mr\n688               mr\n689               mr\n690             miss\n691               mr\n692             miss\n693               mr\n694               mr\n695              col\n696               mr\n697               mr\n698             miss\n699               mr\n700               mr\n701              mrs\n702               mr\n703             miss\n704               mr\n705               mr\n706               mr\n707              mrs\n708               mr\n709             miss\n710           master\n711             mlle\n712               mr\n713               mr\n714               mr\n715               mr\n716               mr\n717             miss\n718             miss\n719               mr\n720               mr\n721             miss\n722               mr\n723               mr\n724               mr\n725               mr\n726               mr\n727              mrs\n728             miss\n729               mr\n730             miss\n731             miss\n732               mr\n733               mr\n734               mr\n735               mr\n736               mr\n737              mrs\n738               mr\n739               mr\n740               mr\n741               mr\n742               mr\n743             miss\n744               mr\n745               mr\n746             capt\n747               mr\n748             miss\n749               mr\n750               mr\n751             miss\n752           master\n753               mr\n754               mr\n755              mrs\n756           master\n757               mr\n758               mr\n759               mr\n760     the countess\n761               mr\n762               mr\n763               mr\n764              mrs\n765               mr\n766              mrs\n767               dr\n768             miss\n769               mr\n770               mr\n771               mr\n772               mr\n773              mrs\n774               mr\n775              mrs\n776               mr\n777               mr\n778             miss\n779               mr\n780              mrs\n781             miss\n782              mrs\n783               mr\n784               mr\n785               mr\n786               mr\n787             miss\n788           master\n789           master\n790               mr\n791               mr\n792               mr\n793             miss\n794               mr\n795               mr\n796               mr\n797               dr\n798              mrs\n799               mr\n800              mrs\n801               mr\n802              mrs\n803           master\n804           master\n805               mr\n806               mr\n807               mr\n808             miss\n809               mr\n810              mrs\n811               mr\n812               mr\n813               mr\n814             miss\n815               mr\n816               mr\n817             miss\n818               mr\n819               mr\n820           master\n821              mrs\n822               mr\n823         jonkheer\n824              mrs\n825           master\n826               mr\n827               mr\n828           master\n829               mr\n830              mrs\n831              mrs\n832           master\n833               mr\n834               mr\n835               mr\n836             miss\n837               mr\n838               mr\n839               mr\n840               mr\n841               mr\n842               mr\n843             miss\n844               mr\n845               mr\n846               mr\n847               mr\n848               mr\n849              rev\n850              mrs\n851           master\n852               mr\n853             miss\n854             miss\n855              mrs\n856              mrs\n857              mrs\n858               mr\n859              mrs\n860               mr\n861               mr\n862               mr\n863              mrs\n864             miss\n865               mr\n866              mrs\n867             miss\n868               mr\n869               mr\n870           master\n871               mr\n872              mrs\n873               mr\n874               mr\n875              mrs\n876             miss\n877               mr\n878               mr\n879               mr\n880              mrs\n881              mrs\n882               mr\n883             miss\n884               mr\n885               mr\n886              mrs\n887              rev\n888             miss\n889             miss\n890               mr\n891               mr\n892               mr\n893              mrs\n894               mr\n895               mr\n896              mrs\n897               mr\n898             miss\n899               mr\n900              mrs\n901               mr\n902               mr\n903               mr\n904              mrs\n905               mr\n906              mrs\n907              mrs\n908               mr\n909               mr\n910             miss\n911              mrs\n912               mr\n913           master\n914              mrs\n915               mr\n916              mrs\n917               mr\n918             miss\n919               mr\n920               mr\n921               mr\n922               mr\n923               mr\n924              mrs\n925              mrs\n926               mr\n927               mr\n928             miss\n929             miss\n930               mr\n931               mr\n932               mr\n933               mr\n934               mr\n935              mrs\n936              mrs\n937               mr\n938               mr\n939               mr\n940              mrs\n941              mrs\n942               mr\n943               mr\n944             miss\n945             miss\n946               mr\n947           master\n948               mr\n949               mr\n950               mr\n951             miss\n952               mr\n953               mr\n954               mr\n955             miss\n956           master\n957              mrs\n958             miss\n959               mr\n960               mr\n961              mrs\n962             miss\n963               mr\n964             miss\n965               mr\n966             miss\n967               mr\n968               mr\n969              mrs\n970               mr\n971             miss\n972           master\n973               mr\n974               mr\n975               mr\n976               mr\n977               mr\n978             miss\n979             miss\n980               ms\n981           master\n982              mrs\n983               mr\n984              mrs\n985               mr\n986               mr\n987               mr\n988              mrs\n989               mr\n990             miss\n991               mr\n992              mrs\n993               mr\n994               mr\n995               mr\n996              mrs\n997               mr\n998               mr\n999               mr\n1000              mr\n1001              mr\n1002              mr\n1003            miss\n1004            miss\n1005            miss\n1006             mrs\n1007              mr\n1008              mr\n1009            miss\n1010              mr\n1011             mrs\n1012            miss\n1013              mr\n1014             mrs\n1015              mr\n1016              mr\n1017            miss\n1018              mr\n1019            miss\n1020              mr\n1021              mr\n1022              mr\n1023             col\n1024             mrs\n1025              mr\n1026              mr\n1027              mr\n1028              mr\n1029              mr\n1030            miss\n1031              mr\n1032            miss\n1033            miss\n1034              mr\n1035              mr\n1036              mr\n1037              mr\n1038              mr\n1039              mr\n1040              mr\n1041             rev\n1042             mrs\n1043              mr\n1044              mr\n1045             mrs\n1046          master\n1047              mr\n1048            miss\n1049            miss\n1050              mr\n1051             mrs\n1052            miss\n1053          master\n1054            miss\n1055              mr\n1056             rev\n1057             mrs\n1058              mr\n1059              mr\n1060             mrs\n1061            miss\n1062              mr\n1063              mr\n1064              mr\n1065              mr\n1066              mr\n1067            miss\n1068            miss\n1069              mr\n1070             mrs\n1071             mrs\n1072              mr\n1073              mr\n1074             mrs\n1075              mr\n1076             mrs\n1077              mr\n1078            miss\n1079              mr\n1080            miss\n1081              mr\n1082              mr\n1083              mr\n1084          master\n1085              mr\n1086          master\n1087              mr\n1088          master\n1089            miss\n1090              mr\n1091             mrs\n1092            miss\n1093          master\n1094             col\n1095            miss\n1096              mr\n1097              mr\n1098            miss\n1099              mr\n1100            miss\n1101              mr\n1102              mr\n1103              mr\n1104              mr\n1105             mrs\n1106            miss\n1107              mr\n1108            miss\n1109              mr\n1110             mrs\n1111              mr\n1112            miss\n1113              mr\n1114             mrs\n1115              mr\n1116             mrs\n1117             mrs\n1118              mr\n1119            miss\n1120              mr\n1121              mr\n1122              mr\n1123            miss\n1124              mr\n1125              mr\n1126              mr\n1127              mr\n1128              mr\n1129              mr\n1130            miss\n1131             mrs\n1132             mrs\n1133             mrs\n1134              mr\n1135              mr\n1136          master\n1137              mr\n1138             mrs\n1139              mr\n1140             mrs\n1141             mrs\n1142            miss\n1143              mr\n1144              mr\n1145              mr\n1146              mr\n1147              mr\n1148              mr\n1149              mr\n1150            miss\n1151              mr\n1152              mr\n1153              mr\n1154             mrs\n1155            miss\n1156              mr\n1157              mr\n1158              mr\n1159              mr\n1160            miss\n1161              mr\n1162              mr\n1163              mr\n1164             mrs\n1165            miss\n1166              mr\n1167            miss\n1168              mr\n1169              mr\n1170              mr\n1171              mr\n1172            miss\n1173          master\n1174            miss\n1175            miss\n1176            miss\n1177              mr\n1178              mr\n1179              mr\n1180              mr\n1181              mr\n1182              mr\n1183            miss\n1184              mr\n1185              dr\n1186              mr\n1187              mr\n1188            miss\n1189              mr\n1190              mr\n1191              mr\n1192              mr\n1193              mr\n1194              mr\n1195              mr\n1196            miss\n1197             mrs\n1198              mr\n1199          master\n1200              mr\n1201             mrs\n1202              mr\n1203              mr\n1204              mr\n1205            miss\n1206             mrs\n1207            miss\n1208              mr\n1209              mr\n1210              mr\n1211              mr\n1212              mr\n1213              mr\n1214              mr\n1215              mr\n1216            miss\n1217              mr\n1218            miss\n1219              mr\n1220              mr\n1221              mr\n1222             mrs\n1223              mr\n1224              mr\n1225             mrs\n1226              mr\n1227              mr\n1228              mr\n1229              mr\n1230              mr\n1231          master\n1232              mr\n1233              mr\n1234              mr\n1235             mrs\n1236          master\n1237            miss\n1238              mr\n1239             mrs\n1240              mr\n1241            miss\n1242             mrs\n1243              mr\n1244              mr\n1245              mr\n1246            miss\n1247              mr\n1248             mrs\n1249              mr\n1250              mr\n1251             mrs\n1252          master\n1253             mrs\n1254             mrs\n1255              mr\n1256             mrs\n1257             mrs\n1258              mr\n1259            miss\n1260             mrs\n1261              mr\n1262              mr\n1263            miss\n1264              mr\n1265              mr\n1266             mrs\n1267            miss\n1268            miss\n1269              mr\n1270              mr\n1271          master\n1272              mr\n1273              mr\n1274             mrs\n1275             mrs\n1276              mr\n1277            miss\n1278              mr\n1279              mr\n1280              mr\n1281          master\n1282              mr\n1283             mrs\n1284          master\n1285              mr\n1286              mr\n1287             mrs\n1288              mr\n1289             mrs\n1290              mr\n1291              mr\n1292            miss\n1293              mr\n1294            miss\n1295              mr\n1296              mr\n1297              mr\n1298              mr\n1299              mr\n1300            miss\n1301            miss\n1302            miss\n1303             mrs\n1304            miss\n1305              mr\n1306            dona\n1307              mr\n1308              mr\n1309          master\nName: Name, dtype: object"
          },
          "metadata": {}
        }
      ]
    },
    {
      "metadata": {
        "trusted": true,
        "_uuid": "1da834a0838a192c19961b670402d0ee6201c899"
      },
      "cell_type": "code",
      "source": "df.Name.map(lambda x : GetTitle(x)).unique()",
      "execution_count": 83,
      "outputs": [
        {
          "output_type": "execute_result",
          "execution_count": 83,
          "data": {
            "text/plain": "array(['mr', 'mrs', 'miss', 'master', 'don', 'rev', 'dr', 'mme', 'ms',\n       'major', 'lady', 'sir', 'mlle', 'col', 'capt', 'the countess',\n       'jonkheer', 'dona'], dtype=object)"
          },
          "metadata": {}
        }
      ]
    },
    {
      "metadata": {
        "trusted": true,
        "_uuid": "65d69b443d51eb17cc5dfa2411432d7e9a439bdf"
      },
      "cell_type": "code",
      "source": "def GetTitle(name):\n    title_group = {'mr' : 'Mr', \n               'mrs' : 'Mrs', \n               'miss' : 'Miss', \n               'master' : 'Master',\n               'don' : 'Sir',\n               'rev' : 'Sir',\n               'dr' : 'Officer',\n               'mme' : 'Mrs',\n               'ms' : 'Mrs',\n               'major' : 'Officer',\n               'lady' : 'Lady',\n               'sir' : 'Sir',\n               'mlle' : 'Miss',\n               'col' : 'Officer',\n               'capt' : 'Officer',\n               'the countess' : 'Lady',\n               'jonkheer' : 'Sir',\n               'dona' : 'Lady'\n                 }\n    first_name_with_title = name.split(',')[1]\n    title = first_name_with_title.split('.')[0]\n    title = title.strip().lower()\n    return title_group[title]",
      "execution_count": 84,
      "outputs": []
    },
    {
      "metadata": {
        "trusted": true,
        "_uuid": "f7d25be998545580e5e44fc3307db09a3637967d"
      },
      "cell_type": "code",
      "source": "df['Title'] = df.Name.map(lambda x : GetTitle(x))",
      "execution_count": 85,
      "outputs": []
    },
    {
      "metadata": {
        "trusted": true,
        "_uuid": "35a5180ea7b4bb8b7aaa44bd52d9b5a8fc9b2e62"
      },
      "cell_type": "code",
      "source": "df.head()",
      "execution_count": 86,
      "outputs": [
        {
          "output_type": "execute_result",
          "execution_count": 86,
          "data": {
            "text/plain": "             Pclass  ...  Title\nPassengerId          ...       \n1                 3  ...     Mr\n2                 1  ...    Mrs\n3                 3  ...   Miss\n4                 1  ...    Mrs\n5                 3  ...     Mr\n\n[5 rows x 12 columns]",
            "text/html": "<div>\n<style scoped>\n    .dataframe tbody tr th:only-of-type {\n        vertical-align: middle;\n    }\n\n    .dataframe tbody tr th {\n        vertical-align: top;\n    }\n\n    .dataframe thead th {\n        text-align: right;\n    }\n</style>\n<table border=\"1\" class=\"dataframe\">\n  <thead>\n    <tr style=\"text-align: right;\">\n      <th></th>\n      <th>Pclass</th>\n      <th>Name</th>\n      <th>Sex</th>\n      <th>Age</th>\n      <th>SibSp</th>\n      <th>Parch</th>\n      <th>Ticket</th>\n      <th>Fare</th>\n      <th>Cabin</th>\n      <th>Embarked</th>\n      <th>Survived</th>\n      <th>Title</th>\n    </tr>\n    <tr>\n      <th>PassengerId</th>\n      <th></th>\n      <th></th>\n      <th></th>\n      <th></th>\n      <th></th>\n      <th></th>\n      <th></th>\n      <th></th>\n      <th></th>\n      <th></th>\n      <th></th>\n      <th></th>\n    </tr>\n  </thead>\n  <tbody>\n    <tr>\n      <th>1</th>\n      <td>3</td>\n      <td>Braund, Mr. Owen Harris</td>\n      <td>male</td>\n      <td>22.0</td>\n      <td>1</td>\n      <td>0</td>\n      <td>A/5 21171</td>\n      <td>7.2500</td>\n      <td>NaN</td>\n      <td>S</td>\n      <td>0</td>\n      <td>Mr</td>\n    </tr>\n    <tr>\n      <th>2</th>\n      <td>1</td>\n      <td>Cumings, Mrs. John Bradley (Florence Briggs Th...</td>\n      <td>female</td>\n      <td>38.0</td>\n      <td>1</td>\n      <td>0</td>\n      <td>PC 17599</td>\n      <td>71.2833</td>\n      <td>C85</td>\n      <td>C</td>\n      <td>1</td>\n      <td>Mrs</td>\n    </tr>\n    <tr>\n      <th>3</th>\n      <td>3</td>\n      <td>Heikkinen, Miss. Laina</td>\n      <td>female</td>\n      <td>26.0</td>\n      <td>0</td>\n      <td>0</td>\n      <td>STON/O2. 3101282</td>\n      <td>7.9250</td>\n      <td>NaN</td>\n      <td>S</td>\n      <td>1</td>\n      <td>Miss</td>\n    </tr>\n    <tr>\n      <th>4</th>\n      <td>1</td>\n      <td>Futrelle, Mrs. Jacques Heath (Lily May Peel)</td>\n      <td>female</td>\n      <td>35.0</td>\n      <td>1</td>\n      <td>0</td>\n      <td>113803</td>\n      <td>53.1000</td>\n      <td>C123</td>\n      <td>S</td>\n      <td>1</td>\n      <td>Mrs</td>\n    </tr>\n    <tr>\n      <th>5</th>\n      <td>3</td>\n      <td>Allen, Mr. William Henry</td>\n      <td>male</td>\n      <td>35.0</td>\n      <td>0</td>\n      <td>0</td>\n      <td>373450</td>\n      <td>8.0500</td>\n      <td>NaN</td>\n      <td>S</td>\n      <td>0</td>\n      <td>Mr</td>\n    </tr>\n  </tbody>\n</table>\n</div>"
          },
          "metadata": {}
        }
      ]
    },
    {
      "metadata": {
        "trusted": true,
        "_uuid": "cf4edc7d0be1aeef36d47c022fb7dd0dd8850d2e"
      },
      "cell_type": "code",
      "source": "df[df.Age.notnull()].boxplot('Age','Title');",
      "execution_count": 87,
      "outputs": [
        {
          "output_type": "display_data",
          "data": {
            "text/plain": "<Figure size 432x288 with 1 Axes>",
            "image/png": "[encoded data removed]"
          },
          "metadata": {}
        }
      ]
    },
    {
      "metadata": {
        "trusted": true,
        "_uuid": "d3aac6fad12bef1a0ad537eceb7b2f84cbfea11f"
      },
      "cell_type": "code",
      "source": "#replace missing values\ntitle_age_median = df.groupby('Title').Age.transform('median')",
      "execution_count": 88,
      "outputs": []
    },
    {
      "metadata": {
        "trusted": true,
        "_uuid": "b5545b0f9f5700d2bd5747c70a555221beca1055"
      },
      "cell_type": "code",
      "source": "df.Age.fillna(title_age_median,inplace = True)",
      "execution_count": 89,
      "outputs": []
    },
    {
      "metadata": {
        "trusted": true,
        "_uuid": "64b1e7b4c6195d23a17f6e26d1bf49008fa4a6ab"
      },
      "cell_type": "code",
      "source": "df.info()",
      "execution_count": 90,
      "outputs": [
        {
          "output_type": "stream",
          "text": "<class 'pandas.core.frame.DataFrame'>\nInt64Index: 1309 entries, 1 to 1309\nData columns (total 12 columns):\nPclass      1309 non-null int64\nName        1309 non-null object\nSex         1309 non-null object\nAge         1309 non-null float64\nSibSp       1309 non-null int64\nParch       1309 non-null int64\nTicket      1309 non-null object\nFare        1309 non-null float64\nCabin       295 non-null object\nEmbarked    1309 non-null object\nSurvived    1309 non-null int64\nTitle       1309 non-null object\ndtypes: float64(2), int64(4), object(6)\nmemory usage: 172.9+ KB\n",
          "name": "stdout"
        }
      ]
    },
    {
      "metadata": {
        "_uuid": "7ff7298872656ef74e0af8423dbbfd57d6745c2b"
      },
      "cell_type": "markdown",
      "source": "<h1>Outliers<h1>"
    },
    {
      "metadata": {
        "_uuid": "48a16df853a2ba4137675357441dfb1c7396f4bd"
      },
      "cell_type": "markdown",
      "source": "Techniques to compensate for outliers\n1. 1.Removal\n1. 2.Transformation\n1. 3.Binning\n1. 4.Imputation"
    },
    {
      "metadata": {
        "trusted": true,
        "_uuid": "3ba49f5fe48882564f8ca6ab0b49ea57596221d5"
      },
      "cell_type": "code",
      "source": "# use histograms to get to understand the distribution\ndf.Age.plot(kind = 'hist' , bins = 20);",
      "execution_count": 91,
      "outputs": [
        {
          "output_type": "display_data",
          "data": {
            "text/plain": "<Figure size 432x288 with 1 Axes>",
            "image/png": "[encoded data removed]"
          },
          "metadata": {}
        }
      ]
    },
    {
      "metadata": {
        "trusted": true,
        "_uuid": "c7ac0741475addaf9a752cb295f2f4be43dd329e"
      },
      "cell_type": "code",
      "source": "df.loc[df.Age > 70]",
      "execution_count": 92,
      "outputs": [
        {
          "output_type": "execute_result",
          "execution_count": 92,
          "data": {
            "text/plain": "             Pclass  ...  Title\nPassengerId          ...       \n97                1  ...     Mr\n117               3  ...     Mr\n494               1  ...     Mr\n631               1  ...     Mr\n852               3  ...     Mr\n988               1  ...    Mrs\n\n[6 rows x 12 columns]",
            "text/html": "<div>\n<style scoped>\n    .dataframe tbody tr th:only-of-type {\n        vertical-align: middle;\n    }\n\n    .dataframe tbody tr th {\n        vertical-align: top;\n    }\n\n    .dataframe thead th {\n        text-align: right;\n    }\n</style>\n<table border=\"1\" class=\"dataframe\">\n  <thead>\n    <tr style=\"text-align: right;\">\n      <th></th>\n      <th>Pclass</th>\n      <th>Name</th>\n      <th>Sex</th>\n      <th>Age</th>\n      <th>SibSp</th>\n      <th>Parch</th>\n      <th>Ticket</th>\n      <th>Fare</th>\n      <th>Cabin</th>\n      <th>Embarked</th>\n      <th>Survived</th>\n      <th>Title</th>\n    </tr>\n    <tr>\n      <th>PassengerId</th>\n      <th></th>\n      <th></th>\n      <th></th>\n      <th></th>\n      <th></th>\n      <th></th>\n      <th></th>\n      <th></th>\n      <th></th>\n      <th></th>\n      <th></th>\n      <th></th>\n    </tr>\n  </thead>\n  <tbody>\n    <tr>\n      <th>97</th>\n      <td>1</td>\n      <td>Goldschmidt, Mr. George B</td>\n      <td>male</td>\n      <td>71.0</td>\n      <td>0</td>\n      <td>0</td>\n      <td>PC 17754</td>\n      <td>34.6542</td>\n      <td>A5</td>\n      <td>C</td>\n      <td>0</td>\n      <td>Mr</td>\n    </tr>\n    <tr>\n      <th>117</th>\n      <td>3</td>\n      <td>Connors, Mr. Patrick</td>\n      <td>male</td>\n      <td>70.5</td>\n      <td>0</td>\n      <td>0</td>\n      <td>370369</td>\n      <td>7.7500</td>\n      <td>NaN</td>\n      <td>Q</td>\n      <td>0</td>\n      <td>Mr</td>\n    </tr>\n    <tr>\n      <th>494</th>\n      <td>1</td>\n      <td>Artagaveytia, Mr. Ramon</td>\n      <td>male</td>\n      <td>71.0</td>\n      <td>0</td>\n      <td>0</td>\n      <td>PC 17609</td>\n      <td>49.5042</td>\n      <td>NaN</td>\n      <td>C</td>\n      <td>0</td>\n      <td>Mr</td>\n    </tr>\n    <tr>\n      <th>631</th>\n      <td>1</td>\n      <td>Barkworth, Mr. Algernon Henry Wilson</td>\n      <td>male</td>\n      <td>80.0</td>\n      <td>0</td>\n      <td>0</td>\n      <td>27042</td>\n      <td>30.0000</td>\n      <td>A23</td>\n      <td>S</td>\n      <td>1</td>\n      <td>Mr</td>\n    </tr>\n    <tr>\n      <th>852</th>\n      <td>3</td>\n      <td>Svensson, Mr. Johan</td>\n      <td>male</td>\n      <td>74.0</td>\n      <td>0</td>\n      <td>0</td>\n      <td>347060</td>\n      <td>7.7750</td>\n      <td>NaN</td>\n      <td>S</td>\n      <td>0</td>\n      <td>Mr</td>\n    </tr>\n    <tr>\n      <th>988</th>\n      <td>1</td>\n      <td>Cavendish, Mrs. Tyrell William (Julia Florence...</td>\n      <td>female</td>\n      <td>76.0</td>\n      <td>1</td>\n      <td>0</td>\n      <td>19877</td>\n      <td>78.8500</td>\n      <td>C46</td>\n      <td>S</td>\n      <td>-888</td>\n      <td>Mrs</td>\n    </tr>\n  </tbody>\n</table>\n</div>"
          },
          "metadata": {}
        }
      ]
    },
    {
      "metadata": {
        "trusted": true,
        "_uuid": "20543892868da86b01f11ec942189d2b86bf1ae4"
      },
      "cell_type": "code",
      "source": "# hsitograms for fare\ndf.Fare.plot(kind='hist',bins = 20, title = 'Histograms for Fare')",
      "execution_count": 93,
      "outputs": [
        {
          "output_type": "execute_result",
          "execution_count": 93,
          "data": {
            "text/plain": "<matplotlib.axes._subplots.AxesSubplot at 0x7f6f5dd504e0>"
          },
          "metadata": {}
        },
        {
          "output_type": "display_data",
          "data": {
            "text/plain": "<Figure size 432x288 with 1 Axes>",
            "image/png": "[encoded data removed]"
          },
          "metadata": {}
        }
      ]
    },
    {
      "metadata": {
        "trusted": true,
        "_uuid": "94292f75853f817324b52005f0137a69c40e28e7"
      },
      "cell_type": "code",
      "source": "df.Fare.plot(kind='box');",
      "execution_count": 94,
      "outputs": [
        {
          "output_type": "display_data",
          "data": {
            "text/plain": "<Figure size 432x288 with 1 Axes>",
            "image/png": "[encoded data removed]"
          },
          "metadata": {}
        }
      ]
    },
    {
      "metadata": {
        "trusted": true,
        "_uuid": "63fee0b2e0070cb470e3f16a6d415a72f1479183"
      },
      "cell_type": "code",
      "source": "# look for the outliers\ndf.loc[df.Fare == df.Fare.max()]",
      "execution_count": 95,
      "outputs": [
        {
          "output_type": "execute_result",
          "execution_count": 95,
          "data": {
            "text/plain": "             Pclass  ...  Title\nPassengerId          ...       \n259               1  ...   Miss\n680               1  ...     Mr\n738               1  ...     Mr\n1235              1  ...    Mrs\n\n[4 rows x 12 columns]",
            "text/html": "<div>\n<style scoped>\n    .dataframe tbody tr th:only-of-type {\n        vertical-align: middle;\n    }\n\n    .dataframe tbody tr th {\n        vertical-align: top;\n    }\n\n    .dataframe thead th {\n        text-align: right;\n    }\n</style>\n<table border=\"1\" class=\"dataframe\">\n  <thead>\n    <tr style=\"text-align: right;\">\n      <th></th>\n      <th>Pclass</th>\n      <th>Name</th>\n      <th>Sex</th>\n      <th>Age</th>\n      <th>SibSp</th>\n      <th>Parch</th>\n      <th>Ticket</th>\n      <th>Fare</th>\n      <th>Cabin</th>\n      <th>Embarked</th>\n      <th>Survived</th>\n      <th>Title</th>\n    </tr>\n    <tr>\n      <th>PassengerId</th>\n      <th></th>\n      <th></th>\n      <th></th>\n      <th></th>\n      <th></th>\n      <th></th>\n      <th></th>\n      <th></th>\n      <th></th>\n      <th></th>\n      <th></th>\n      <th></th>\n    </tr>\n  </thead>\n  <tbody>\n    <tr>\n      <th>259</th>\n      <td>1</td>\n      <td>Ward, Miss. Anna</td>\n      <td>female</td>\n      <td>35.0</td>\n      <td>0</td>\n      <td>0</td>\n      <td>PC 17755</td>\n      <td>512.3292</td>\n      <td>NaN</td>\n      <td>C</td>\n      <td>1</td>\n      <td>Miss</td>\n    </tr>\n    <tr>\n      <th>680</th>\n      <td>1</td>\n      <td>Cardeza, Mr. Thomas Drake Martinez</td>\n      <td>male</td>\n      <td>36.0</td>\n      <td>0</td>\n      <td>1</td>\n      <td>PC 17755</td>\n      <td>512.3292</td>\n      <td>B51 B53 B55</td>\n      <td>C</td>\n      <td>1</td>\n      <td>Mr</td>\n    </tr>\n    <tr>\n      <th>738</th>\n      <td>1</td>\n      <td>Lesurer, Mr. Gustave J</td>\n      <td>male</td>\n      <td>35.0</td>\n      <td>0</td>\n      <td>0</td>\n      <td>PC 17755</td>\n      <td>512.3292</td>\n      <td>B101</td>\n      <td>C</td>\n      <td>1</td>\n      <td>Mr</td>\n    </tr>\n    <tr>\n      <th>1235</th>\n      <td>1</td>\n      <td>Cardeza, Mrs. James Warburton Martinez (Charlo...</td>\n      <td>female</td>\n      <td>58.0</td>\n      <td>0</td>\n      <td>1</td>\n      <td>PC 17755</td>\n      <td>512.3292</td>\n      <td>B51 B53 B55</td>\n      <td>C</td>\n      <td>-888</td>\n      <td>Mrs</td>\n    </tr>\n  </tbody>\n</table>\n</div>"
          },
          "metadata": {}
        }
      ]
    },
    {
      "metadata": {
        "trusted": true,
        "_uuid": "bd061b134a8dd43f29bfcbdd8e7a846fca080225"
      },
      "cell_type": "code",
      "source": "#try to use transformation to reduce the skewness",
      "execution_count": 96,
      "outputs": []
    },
    {
      "metadata": {
        "trusted": true,
        "_uuid": "061d273c2dce68941de2b1c492d359d175f06cad"
      },
      "cell_type": "code",
      "source": "LogFare = np.log(df.Fare +1)#adding 1 to accomalate ",
      "execution_count": 97,
      "outputs": []
    },
    {
      "metadata": {
        "trusted": true,
        "_uuid": "0341704ec0f9493d6017452516048ce6ea7c5977"
      },
      "cell_type": "code",
      "source": "LogFare.plot(kind='hist',bins = 20);",
      "execution_count": 98,
      "outputs": [
        {
          "output_type": "display_data",
          "data": {
            "text/plain": "<Figure size 432x288 with 1 Axes>",
            "image/png": "[encoded data removed]"
          },
          "metadata": {}
        }
      ]
    },
    {
      "metadata": {
        "trusted": true,
        "_uuid": "da91fd339574150ca6b371f44d0f1634e067e586"
      },
      "cell_type": "code",
      "source": "#binning",
      "execution_count": 99,
      "outputs": []
    },
    {
      "metadata": {
        "trusted": true,
        "_uuid": "e2b8087afaa4a0808c649428c264c541723ea4f8"
      },
      "cell_type": "code",
      "source": "pd.qcut(df.Fare,4)",
      "execution_count": 100,
      "outputs": [
        {
          "output_type": "execute_result",
          "execution_count": 100,
          "data": {
            "text/plain": "PassengerId\n1         (-0.001, 7.896]\n2       (31.275, 512.329]\n3         (7.896, 14.454]\n4       (31.275, 512.329]\n5         (7.896, 14.454]\n6         (7.896, 14.454]\n7       (31.275, 512.329]\n8        (14.454, 31.275]\n9         (7.896, 14.454]\n10       (14.454, 31.275]\n11       (14.454, 31.275]\n12       (14.454, 31.275]\n13        (7.896, 14.454]\n14       (14.454, 31.275]\n15        (-0.001, 7.896]\n16       (14.454, 31.275]\n17       (14.454, 31.275]\n18        (7.896, 14.454]\n19       (14.454, 31.275]\n20        (-0.001, 7.896]\n21       (14.454, 31.275]\n22        (7.896, 14.454]\n23        (7.896, 14.454]\n24      (31.275, 512.329]\n25       (14.454, 31.275]\n26      (31.275, 512.329]\n27        (-0.001, 7.896]\n28      (31.275, 512.329]\n29        (-0.001, 7.896]\n30        (-0.001, 7.896]\n31       (14.454, 31.275]\n32      (31.275, 512.329]\n33        (-0.001, 7.896]\n34        (7.896, 14.454]\n35      (31.275, 512.329]\n36      (31.275, 512.329]\n37        (-0.001, 7.896]\n38        (7.896, 14.454]\n39       (14.454, 31.275]\n40        (7.896, 14.454]\n41        (7.896, 14.454]\n42       (14.454, 31.275]\n43        (-0.001, 7.896]\n44      (31.275, 512.329]\n45        (-0.001, 7.896]\n46        (7.896, 14.454]\n47       (14.454, 31.275]\n48        (-0.001, 7.896]\n49       (14.454, 31.275]\n50       (14.454, 31.275]\n51      (31.275, 512.329]\n52        (-0.001, 7.896]\n53      (31.275, 512.329]\n54       (14.454, 31.275]\n55      (31.275, 512.329]\n56      (31.275, 512.329]\n57        (7.896, 14.454]\n58        (-0.001, 7.896]\n59       (14.454, 31.275]\n60      (31.275, 512.329]\n61        (-0.001, 7.896]\n62      (31.275, 512.329]\n63      (31.275, 512.329]\n64       (14.454, 31.275]\n65       (14.454, 31.275]\n66       (14.454, 31.275]\n67        (7.896, 14.454]\n68        (7.896, 14.454]\n69        (7.896, 14.454]\n70        (7.896, 14.454]\n71        (7.896, 14.454]\n72      (31.275, 512.329]\n73      (31.275, 512.329]\n74        (7.896, 14.454]\n75      (31.275, 512.329]\n76        (-0.001, 7.896]\n77        (-0.001, 7.896]\n78        (7.896, 14.454]\n79       (14.454, 31.275]\n80        (7.896, 14.454]\n81        (7.896, 14.454]\n82        (7.896, 14.454]\n83        (-0.001, 7.896]\n84      (31.275, 512.329]\n85        (7.896, 14.454]\n86       (14.454, 31.275]\n87      (31.275, 512.329]\n88        (7.896, 14.454]\n89      (31.275, 512.329]\n90        (7.896, 14.454]\n91        (7.896, 14.454]\n92        (-0.001, 7.896]\n93      (31.275, 512.329]\n94       (14.454, 31.275]\n95        (-0.001, 7.896]\n96        (7.896, 14.454]\n97      (31.275, 512.329]\n98      (31.275, 512.329]\n99       (14.454, 31.275]\n100      (14.454, 31.275]\n101       (-0.001, 7.896]\n102       (-0.001, 7.896]\n103     (31.275, 512.329]\n104       (7.896, 14.454]\n105       (7.896, 14.454]\n106       (-0.001, 7.896]\n107       (-0.001, 7.896]\n108       (-0.001, 7.896]\n109       (-0.001, 7.896]\n110      (14.454, 31.275]\n111     (31.275, 512.329]\n112       (7.896, 14.454]\n113       (7.896, 14.454]\n114       (7.896, 14.454]\n115      (14.454, 31.275]\n116       (7.896, 14.454]\n117       (-0.001, 7.896]\n118      (14.454, 31.275]\n119     (31.275, 512.329]\n120      (14.454, 31.275]\n121     (31.275, 512.329]\n122       (7.896, 14.454]\n123      (14.454, 31.275]\n124       (7.896, 14.454]\n125     (31.275, 512.329]\n126       (7.896, 14.454]\n127       (-0.001, 7.896]\n128       (-0.001, 7.896]\n129      (14.454, 31.275]\n130       (-0.001, 7.896]\n131       (-0.001, 7.896]\n132       (-0.001, 7.896]\n133      (14.454, 31.275]\n134      (14.454, 31.275]\n135       (7.896, 14.454]\n136      (14.454, 31.275]\n137      (14.454, 31.275]\n138     (31.275, 512.329]\n139       (7.896, 14.454]\n140     (31.275, 512.329]\n141      (14.454, 31.275]\n142       (-0.001, 7.896]\n143      (14.454, 31.275]\n144       (-0.001, 7.896]\n145       (7.896, 14.454]\n146     (31.275, 512.329]\n147       (-0.001, 7.896]\n148     (31.275, 512.329]\n149      (14.454, 31.275]\n150       (7.896, 14.454]\n151       (7.896, 14.454]\n152     (31.275, 512.329]\n153       (7.896, 14.454]\n154      (14.454, 31.275]\n155       (-0.001, 7.896]\n156     (31.275, 512.329]\n157       (-0.001, 7.896]\n158       (7.896, 14.454]\n159       (7.896, 14.454]\n160     (31.275, 512.329]\n161      (14.454, 31.275]\n162      (14.454, 31.275]\n163       (-0.001, 7.896]\n164       (7.896, 14.454]\n165     (31.275, 512.329]\n166      (14.454, 31.275]\n167     (31.275, 512.329]\n168      (14.454, 31.275]\n169      (14.454, 31.275]\n170     (31.275, 512.329]\n171     (31.275, 512.329]\n172      (14.454, 31.275]\n173       (7.896, 14.454]\n174       (7.896, 14.454]\n175      (14.454, 31.275]\n176       (-0.001, 7.896]\n177      (14.454, 31.275]\n178      (14.454, 31.275]\n179       (7.896, 14.454]\n180       (-0.001, 7.896]\n181     (31.275, 512.329]\n182      (14.454, 31.275]\n183     (31.275, 512.329]\n184     (31.275, 512.329]\n185      (14.454, 31.275]\n186     (31.275, 512.329]\n187      (14.454, 31.275]\n188      (14.454, 31.275]\n189      (14.454, 31.275]\n190       (-0.001, 7.896]\n191       (7.896, 14.454]\n192       (7.896, 14.454]\n193       (-0.001, 7.896]\n194      (14.454, 31.275]\n195      (14.454, 31.275]\n196     (31.275, 512.329]\n197       (-0.001, 7.896]\n198       (7.896, 14.454]\n199       (-0.001, 7.896]\n200       (7.896, 14.454]\n201       (7.896, 14.454]\n202     (31.275, 512.329]\n203       (-0.001, 7.896]\n204       (-0.001, 7.896]\n205       (7.896, 14.454]\n206       (7.896, 14.454]\n207      (14.454, 31.275]\n208      (14.454, 31.275]\n209       (-0.001, 7.896]\n210      (14.454, 31.275]\n211       (-0.001, 7.896]\n212      (14.454, 31.275]\n213       (-0.001, 7.896]\n214       (7.896, 14.454]\n215       (-0.001, 7.896]\n216     (31.275, 512.329]\n217       (7.896, 14.454]\n218      (14.454, 31.275]\n219     (31.275, 512.329]\n220       (7.896, 14.454]\n221       (7.896, 14.454]\n222       (7.896, 14.454]\n223       (7.896, 14.454]\n224       (-0.001, 7.896]\n225     (31.275, 512.329]\n226       (7.896, 14.454]\n227       (7.896, 14.454]\n228       (-0.001, 7.896]\n229       (7.896, 14.454]\n230      (14.454, 31.275]\n231     (31.275, 512.329]\n232       (-0.001, 7.896]\n233       (7.896, 14.454]\n234     (31.275, 512.329]\n235       (7.896, 14.454]\n236       (-0.001, 7.896]\n237      (14.454, 31.275]\n238      (14.454, 31.275]\n239       (7.896, 14.454]\n240       (7.896, 14.454]\n241       (7.896, 14.454]\n242      (14.454, 31.275]\n243       (7.896, 14.454]\n244       (-0.001, 7.896]\n245       (-0.001, 7.896]\n246     (31.275, 512.329]\n247       (-0.001, 7.896]\n248      (14.454, 31.275]\n249     (31.275, 512.329]\n250      (14.454, 31.275]\n251       (-0.001, 7.896]\n252       (7.896, 14.454]\n253      (14.454, 31.275]\n254      (14.454, 31.275]\n255      (14.454, 31.275]\n256      (14.454, 31.275]\n257     (31.275, 512.329]\n258     (31.275, 512.329]\n259     (31.275, 512.329]\n260      (14.454, 31.275]\n261       (-0.001, 7.896]\n262     (31.275, 512.329]\n263     (31.275, 512.329]\n264       (-0.001, 7.896]\n265       (-0.001, 7.896]\n266       (7.896, 14.454]\n267     (31.275, 512.329]\n268       (-0.001, 7.896]\n269     (31.275, 512.329]\n270     (31.275, 512.329]\n271      (14.454, 31.275]\n272       (-0.001, 7.896]\n273      (14.454, 31.275]\n274      (14.454, 31.275]\n275       (-0.001, 7.896]\n276     (31.275, 512.329]\n277       (-0.001, 7.896]\n278       (-0.001, 7.896]\n279      (14.454, 31.275]\n280      (14.454, 31.275]\n281       (-0.001, 7.896]\n282       (-0.001, 7.896]\n283       (7.896, 14.454]\n284       (7.896, 14.454]\n285      (14.454, 31.275]\n286       (7.896, 14.454]\n287       (7.896, 14.454]\n288       (-0.001, 7.896]\n289       (7.896, 14.454]\n290       (-0.001, 7.896]\n291     (31.275, 512.329]\n292     (31.275, 512.329]\n293       (7.896, 14.454]\n294       (7.896, 14.454]\n295       (-0.001, 7.896]\n296      (14.454, 31.275]\n297       (-0.001, 7.896]\n298     (31.275, 512.329]\n299      (14.454, 31.275]\n300     (31.275, 512.329]\n301       (-0.001, 7.896]\n302      (14.454, 31.275]\n303       (-0.001, 7.896]\n304       (7.896, 14.454]\n305       (7.896, 14.454]\n306     (31.275, 512.329]\n307     (31.275, 512.329]\n308     (31.275, 512.329]\n309      (14.454, 31.275]\n310     (31.275, 512.329]\n311     (31.275, 512.329]\n312     (31.275, 512.329]\n313      (14.454, 31.275]\n314       (-0.001, 7.896]\n315      (14.454, 31.275]\n316       (-0.001, 7.896]\n317      (14.454, 31.275]\n318       (7.896, 14.454]\n319     (31.275, 512.329]\n320     (31.275, 512.329]\n321       (-0.001, 7.896]\n322       (-0.001, 7.896]\n323       (7.896, 14.454]\n324      (14.454, 31.275]\n325     (31.275, 512.329]\n326     (31.275, 512.329]\n327       (-0.001, 7.896]\n328       (7.896, 14.454]\n329      (14.454, 31.275]\n330     (31.275, 512.329]\n331      (14.454, 31.275]\n332      (14.454, 31.275]\n333     (31.275, 512.329]\n334      (14.454, 31.275]\n335     (31.275, 512.329]\n336       (-0.001, 7.896]\n337     (31.275, 512.329]\n338     (31.275, 512.329]\n339       (7.896, 14.454]\n340     (31.275, 512.329]\n341      (14.454, 31.275]\n342     (31.275, 512.329]\n343       (7.896, 14.454]\n344       (7.896, 14.454]\n345       (7.896, 14.454]\n346       (7.896, 14.454]\n347       (7.896, 14.454]\n348      (14.454, 31.275]\n349      (14.454, 31.275]\n350       (7.896, 14.454]\n351       (7.896, 14.454]\n352     (31.275, 512.329]\n353       (-0.001, 7.896]\n354      (14.454, 31.275]\n355       (-0.001, 7.896]\n356       (7.896, 14.454]\n357     (31.275, 512.329]\n358       (7.896, 14.454]\n359       (-0.001, 7.896]\n360       (-0.001, 7.896]\n361      (14.454, 31.275]\n362      (14.454, 31.275]\n363       (7.896, 14.454]\n364       (-0.001, 7.896]\n365      (14.454, 31.275]\n366       (-0.001, 7.896]\n367     (31.275, 512.329]\n368       (-0.001, 7.896]\n369       (-0.001, 7.896]\n370     (31.275, 512.329]\n371     (31.275, 512.329]\n372       (-0.001, 7.896]\n373       (7.896, 14.454]\n374     (31.275, 512.329]\n375      (14.454, 31.275]\n376     (31.275, 512.329]\n377       (-0.001, 7.896]\n378     (31.275, 512.329]\n379       (-0.001, 7.896]\n380       (-0.001, 7.896]\n381     (31.275, 512.329]\n382      (14.454, 31.275]\n383       (7.896, 14.454]\n384     (31.275, 512.329]\n385       (-0.001, 7.896]\n386     (31.275, 512.329]\n387     (31.275, 512.329]\n388       (7.896, 14.454]\n389       (-0.001, 7.896]\n390       (7.896, 14.454]\n391     (31.275, 512.329]\n392       (-0.001, 7.896]\n393       (7.896, 14.454]\n394     (31.275, 512.329]\n395      (14.454, 31.275]\n396       (-0.001, 7.896]\n397       (-0.001, 7.896]\n398      (14.454, 31.275]\n399       (7.896, 14.454]\n400       (7.896, 14.454]\n401       (7.896, 14.454]\n402       (7.896, 14.454]\n403       (7.896, 14.454]\n404      (14.454, 31.275]\n405       (7.896, 14.454]\n406      (14.454, 31.275]\n407       (-0.001, 7.896]\n408      (14.454, 31.275]\n409       (-0.001, 7.896]\n410      (14.454, 31.275]\n411       (-0.001, 7.896]\n412       (-0.001, 7.896]\n413     (31.275, 512.329]\n414       (-0.001, 7.896]\n415       (7.896, 14.454]\n416       (7.896, 14.454]\n417     (31.275, 512.329]\n418       (7.896, 14.454]\n419       (7.896, 14.454]\n420      (14.454, 31.275]\n421       (-0.001, 7.896]\n422       (-0.001, 7.896]\n423       (-0.001, 7.896]\n424       (7.896, 14.454]\n425      (14.454, 31.275]\n426       (-0.001, 7.896]\n427      (14.454, 31.275]\n428      (14.454, 31.275]\n429       (-0.001, 7.896]\n430       (7.896, 14.454]\n431      (14.454, 31.275]\n432      (14.454, 31.275]\n433      (14.454, 31.275]\n434       (-0.001, 7.896]\n435     (31.275, 512.329]\n436     (31.275, 512.329]\n437     (31.275, 512.329]\n438      (14.454, 31.275]\n439     (31.275, 512.329]\n440       (7.896, 14.454]\n441      (14.454, 31.275]\n442       (7.896, 14.454]\n443       (-0.001, 7.896]\n444       (7.896, 14.454]\n445       (7.896, 14.454]\n446     (31.275, 512.329]\n447      (14.454, 31.275]\n448      (14.454, 31.275]\n449      (14.454, 31.275]\n450      (14.454, 31.275]\n451      (14.454, 31.275]\n452      (14.454, 31.275]\n453      (14.454, 31.275]\n454     (31.275, 512.329]\n455       (7.896, 14.454]\n456       (-0.001, 7.896]\n457      (14.454, 31.275]\n458     (31.275, 512.329]\n459       (7.896, 14.454]\n460       (-0.001, 7.896]\n461      (14.454, 31.275]\n462       (7.896, 14.454]\n463     (31.275, 512.329]\n464       (7.896, 14.454]\n465       (7.896, 14.454]\n466       (-0.001, 7.896]\n467       (-0.001, 7.896]\n468      (14.454, 31.275]\n469       (-0.001, 7.896]\n470      (14.454, 31.275]\n471       (-0.001, 7.896]\n472       (7.896, 14.454]\n473      (14.454, 31.275]\n474       (7.896, 14.454]\n475       (7.896, 14.454]\n476     (31.275, 512.329]\n477      (14.454, 31.275]\n478       (-0.001, 7.896]\n479       (-0.001, 7.896]\n480       (7.896, 14.454]\n481     (31.275, 512.329]\n482       (-0.001, 7.896]\n483       (7.896, 14.454]\n484       (7.896, 14.454]\n485     (31.275, 512.329]\n486      (14.454, 31.275]\n487     (31.275, 512.329]\n488      (14.454, 31.275]\n489       (7.896, 14.454]\n490      (14.454, 31.275]\n491      (14.454, 31.275]\n492       (-0.001, 7.896]\n493      (14.454, 31.275]\n494     (31.275, 512.329]\n495       (7.896, 14.454]\n496      (14.454, 31.275]\n497     (31.275, 512.329]\n498      (14.454, 31.275]\n499     (31.275, 512.329]\n500       (-0.001, 7.896]\n501       (7.896, 14.454]\n502       (-0.001, 7.896]\n503       (-0.001, 7.896]\n504       (7.896, 14.454]\n505     (31.275, 512.329]\n506     (31.275, 512.329]\n507      (14.454, 31.275]\n508      (14.454, 31.275]\n509      (14.454, 31.275]\n510     (31.275, 512.329]\n511       (-0.001, 7.896]\n512       (7.896, 14.454]\n513      (14.454, 31.275]\n514     (31.275, 512.329]\n515       (-0.001, 7.896]\n516     (31.275, 512.329]\n517       (7.896, 14.454]\n518      (14.454, 31.275]\n519      (14.454, 31.275]\n520       (-0.001, 7.896]\n521     (31.275, 512.329]\n522       (-0.001, 7.896]\n523       (-0.001, 7.896]\n524     (31.275, 512.329]\n525       (-0.001, 7.896]\n526       (-0.001, 7.896]\n527       (7.896, 14.454]\n528     (31.275, 512.329]\n529       (7.896, 14.454]\n530       (7.896, 14.454]\n531      (14.454, 31.275]\n532       (-0.001, 7.896]\n533       (-0.001, 7.896]\n534      (14.454, 31.275]\n535       (7.896, 14.454]\n536      (14.454, 31.275]\n537      (14.454, 31.275]\n538     (31.275, 512.329]\n539      (14.454, 31.275]\n540     (31.275, 512.329]\n541     (31.275, 512.329]\n542      (14.454, 31.275]\n543      (14.454, 31.275]\n544      (14.454, 31.275]\n545     (31.275, 512.329]\n546      (14.454, 31.275]\n547      (14.454, 31.275]\n548       (7.896, 14.454]\n549      (14.454, 31.275]\n550     (31.275, 512.329]\n551     (31.275, 512.329]\n552      (14.454, 31.275]\n553       (-0.001, 7.896]\n554       (-0.001, 7.896]\n555       (-0.001, 7.896]\n556      (14.454, 31.275]\n557     (31.275, 512.329]\n558     (31.275, 512.329]\n559     (31.275, 512.329]\n560      (14.454, 31.275]\n561       (-0.001, 7.896]\n562       (-0.001, 7.896]\n563       (7.896, 14.454]\n564       (7.896, 14.454]\n565       (7.896, 14.454]\n566      (14.454, 31.275]\n567       (-0.001, 7.896]\n568      (14.454, 31.275]\n569       (-0.001, 7.896]\n570       (-0.001, 7.896]\n571       (7.896, 14.454]\n572     (31.275, 512.329]\n573      (14.454, 31.275]\n574       (-0.001, 7.896]\n575       (7.896, 14.454]\n576      (14.454, 31.275]\n577       (7.896, 14.454]\n578     (31.275, 512.329]\n579      (14.454, 31.275]\n580       (7.896, 14.454]\n581      (14.454, 31.275]\n582     (31.275, 512.329]\n583      (14.454, 31.275]\n584     (31.275, 512.329]\n585       (7.896, 14.454]\n586     (31.275, 512.329]\n587      (14.454, 31.275]\n588     (31.275, 512.329]\n589       (7.896, 14.454]\n590       (7.896, 14.454]\n591       (-0.001, 7.896]\n592     (31.275, 512.329]\n593       (-0.001, 7.896]\n594       (-0.001, 7.896]\n595      (14.454, 31.275]\n596      (14.454, 31.275]\n597     (31.275, 512.329]\n598       (-0.001, 7.896]\n599       (-0.001, 7.896]\n600     (31.275, 512.329]\n601      (14.454, 31.275]\n602       (-0.001, 7.896]\n603     (31.275, 512.329]\n604       (7.896, 14.454]\n605      (14.454, 31.275]\n606      (14.454, 31.275]\n607       (-0.001, 7.896]\n608      (14.454, 31.275]\n609     (31.275, 512.329]\n610     (31.275, 512.329]\n611      (14.454, 31.275]\n612       (-0.001, 7.896]\n613      (14.454, 31.275]\n614       (-0.001, 7.896]\n615       (7.896, 14.454]\n616     (31.275, 512.329]\n617       (7.896, 14.454]\n618      (14.454, 31.275]\n619     (31.275, 512.329]\n620       (7.896, 14.454]\n621       (7.896, 14.454]\n622     (31.275, 512.329]\n623      (14.454, 31.275]\n624       (-0.001, 7.896]\n625      (14.454, 31.275]\n626     (31.275, 512.329]\n627       (7.896, 14.454]\n628     (31.275, 512.329]\n629       (-0.001, 7.896]\n630       (-0.001, 7.896]\n631      (14.454, 31.275]\n632       (-0.001, 7.896]\n633      (14.454, 31.275]\n634       (-0.001, 7.896]\n635      (14.454, 31.275]\n636       (7.896, 14.454]\n637       (7.896, 14.454]\n638      (14.454, 31.275]\n639     (31.275, 512.329]\n640      (14.454, 31.275]\n641       (-0.001, 7.896]\n642     (31.275, 512.329]\n643      (14.454, 31.275]\n644     (31.275, 512.329]\n645      (14.454, 31.275]\n646     (31.275, 512.329]\n647       (-0.001, 7.896]\n648     (31.275, 512.329]\n649       (-0.001, 7.896]\n650       (-0.001, 7.896]\n651       (-0.001, 7.896]\n652      (14.454, 31.275]\n653       (7.896, 14.454]\n654       (-0.001, 7.896]\n655       (-0.001, 7.896]\n656     (31.275, 512.329]\n657       (-0.001, 7.896]\n658      (14.454, 31.275]\n659       (7.896, 14.454]\n660     (31.275, 512.329]\n661     (31.275, 512.329]\n662       (-0.001, 7.896]\n663      (14.454, 31.275]\n664       (-0.001, 7.896]\n665       (7.896, 14.454]\n666     (31.275, 512.329]\n667       (7.896, 14.454]\n668       (-0.001, 7.896]\n669       (7.896, 14.454]\n670     (31.275, 512.329]\n671     (31.275, 512.329]\n672     (31.275, 512.329]\n673       (7.896, 14.454]\n674       (7.896, 14.454]\n675       (-0.001, 7.896]\n676       (-0.001, 7.896]\n677       (7.896, 14.454]\n678       (7.896, 14.454]\n679     (31.275, 512.329]\n680     (31.275, 512.329]\n681       (7.896, 14.454]\n682     (31.275, 512.329]\n683       (7.896, 14.454]\n684     (31.275, 512.329]\n685     (31.275, 512.329]\n686     (31.275, 512.329]\n687     (31.275, 512.329]\n688       (7.896, 14.454]\n689       (-0.001, 7.896]\n690     (31.275, 512.329]\n691     (31.275, 512.329]\n692       (7.896, 14.454]\n693     (31.275, 512.329]\n694       (-0.001, 7.896]\n695      (14.454, 31.275]\n696       (7.896, 14.454]\n697       (7.896, 14.454]\n698       (-0.001, 7.896]\n699     (31.275, 512.329]\n700       (-0.001, 7.896]\n701     (31.275, 512.329]\n702      (14.454, 31.275]\n703       (7.896, 14.454]\n704       (-0.001, 7.896]\n705       (-0.001, 7.896]\n706      (14.454, 31.275]\n707       (7.896, 14.454]\n708      (14.454, 31.275]\n709     (31.275, 512.329]\n710      (14.454, 31.275]\n711     (31.275, 512.329]\n712      (14.454, 31.275]\n713     (31.275, 512.329]\n714       (7.896, 14.454]\n715       (7.896, 14.454]\n716       (-0.001, 7.896]\n717     (31.275, 512.329]\n718       (7.896, 14.454]\n719      (14.454, 31.275]\n720       (-0.001, 7.896]\n721     (31.275, 512.329]\n722       (-0.001, 7.896]\n723       (7.896, 14.454]\n724       (7.896, 14.454]\n725     (31.275, 512.329]\n726       (7.896, 14.454]\n727      (14.454, 31.275]\n728       (-0.001, 7.896]\n729      (14.454, 31.275]\n730       (7.896, 14.454]\n731     (31.275, 512.329]\n732      (14.454, 31.275]\n733       (-0.001, 7.896]\n734       (7.896, 14.454]\n735       (7.896, 14.454]\n736      (14.454, 31.275]\n737     (31.275, 512.329]\n738     (31.275, 512.329]\n739       (-0.001, 7.896]\n740       (-0.001, 7.896]\n741      (14.454, 31.275]\n742     (31.275, 512.329]\n743     (31.275, 512.329]\n744      (14.454, 31.275]\n745       (7.896, 14.454]\n746     (31.275, 512.329]\n747      (14.454, 31.275]\n748       (7.896, 14.454]\n749     (31.275, 512.329]\n750       (-0.001, 7.896]\n751      (14.454, 31.275]\n752       (7.896, 14.454]\n753       (7.896, 14.454]\n754       (-0.001, 7.896]\n755     (31.275, 512.329]\n756      (14.454, 31.275]\n757       (-0.001, 7.896]\n758       (7.896, 14.454]\n759       (7.896, 14.454]\n760     (31.275, 512.329]\n761      (14.454, 31.275]\n762       (-0.001, 7.896]\n763       (-0.001, 7.896]\n764     (31.275, 512.329]\n765       (-0.001, 7.896]\n766     (31.275, 512.329]\n767     (31.275, 512.329]\n768       (-0.001, 7.896]\n769      (14.454, 31.275]\n770       (7.896, 14.454]\n771       (7.896, 14.454]\n772       (-0.001, 7.896]\n773       (7.896, 14.454]\n774       (-0.001, 7.896]\n775      (14.454, 31.275]\n776       (-0.001, 7.896]\n777       (-0.001, 7.896]\n778       (7.896, 14.454]\n779       (-0.001, 7.896]\n780     (31.275, 512.329]\n781       (-0.001, 7.896]\n782     (31.275, 512.329]\n783      (14.454, 31.275]\n784      (14.454, 31.275]\n785       (-0.001, 7.896]\n786       (-0.001, 7.896]\n787       (-0.001, 7.896]\n788      (14.454, 31.275]\n789      (14.454, 31.275]\n790     (31.275, 512.329]\n791       (-0.001, 7.896]\n792      (14.454, 31.275]\n793     (31.275, 512.329]\n794      (14.454, 31.275]\n795       (-0.001, 7.896]\n796       (7.896, 14.454]\n797      (14.454, 31.275]\n798       (7.896, 14.454]\n799       (-0.001, 7.896]\n800      (14.454, 31.275]\n801       (7.896, 14.454]\n802      (14.454, 31.275]\n803     (31.275, 512.329]\n804       (7.896, 14.454]\n805       (-0.001, 7.896]\n806       (-0.001, 7.896]\n807       (-0.001, 7.896]\n808       (-0.001, 7.896]\n809       (7.896, 14.454]\n810     (31.275, 512.329]\n811       (-0.001, 7.896]\n812      (14.454, 31.275]\n813       (7.896, 14.454]\n814      (14.454, 31.275]\n815       (7.896, 14.454]\n816       (-0.001, 7.896]\n817       (7.896, 14.454]\n818     (31.275, 512.329]\n819       (-0.001, 7.896]\n820      (14.454, 31.275]\n821     (31.275, 512.329]\n822       (7.896, 14.454]\n823       (-0.001, 7.896]\n824       (7.896, 14.454]\n825     (31.275, 512.329]\n826       (-0.001, 7.896]\n827     (31.275, 512.329]\n828     (31.275, 512.329]\n829       (-0.001, 7.896]\n830     (31.275, 512.329]\n831       (7.896, 14.454]\n832      (14.454, 31.275]\n833       (-0.001, 7.896]\n834       (-0.001, 7.896]\n835       (7.896, 14.454]\n836     (31.275, 512.329]\n837       (7.896, 14.454]\n838       (7.896, 14.454]\n839     (31.275, 512.329]\n840      (14.454, 31.275]\n841       (7.896, 14.454]\n842       (7.896, 14.454]\n843      (14.454, 31.275]\n844       (-0.001, 7.896]\n845       (7.896, 14.454]\n846       (-0.001, 7.896]\n847     (31.275, 512.329]\n848       (-0.001, 7.896]\n849     (31.275, 512.329]\n850     (31.275, 512.329]\n851      (14.454, 31.275]\n852       (-0.001, 7.896]\n853      (14.454, 31.275]\n854     (31.275, 512.329]\n855      (14.454, 31.275]\n856       (7.896, 14.454]\n857     (31.275, 512.329]\n858      (14.454, 31.275]\n859      (14.454, 31.275]\n860       (-0.001, 7.896]\n861       (7.896, 14.454]\n862       (7.896, 14.454]\n863      (14.454, 31.275]\n864     (31.275, 512.329]\n865       (7.896, 14.454]\n866       (7.896, 14.454]\n867       (7.896, 14.454]\n868     (31.275, 512.329]\n869       (7.896, 14.454]\n870       (7.896, 14.454]\n871       (-0.001, 7.896]\n872     (31.275, 512.329]\n873       (-0.001, 7.896]\n874       (7.896, 14.454]\n875      (14.454, 31.275]\n876       (-0.001, 7.896]\n877       (7.896, 14.454]\n878       (-0.001, 7.896]\n879       (-0.001, 7.896]\n880     (31.275, 512.329]\n881      (14.454, 31.275]\n882       (-0.001, 7.896]\n883       (7.896, 14.454]\n884       (7.896, 14.454]\n885       (-0.001, 7.896]\n886      (14.454, 31.275]\n887       (7.896, 14.454]\n888      (14.454, 31.275]\n889      (14.454, 31.275]\n890      (14.454, 31.275]\n891       (-0.001, 7.896]\n892       (-0.001, 7.896]\n893       (-0.001, 7.896]\n894       (7.896, 14.454]\n895       (7.896, 14.454]\n896       (7.896, 14.454]\n897       (7.896, 14.454]\n898       (-0.001, 7.896]\n899      (14.454, 31.275]\n900       (-0.001, 7.896]\n901      (14.454, 31.275]\n902       (-0.001, 7.896]\n903      (14.454, 31.275]\n904     (31.275, 512.329]\n905      (14.454, 31.275]\n906     (31.275, 512.329]\n907      (14.454, 31.275]\n908       (7.896, 14.454]\n909       (-0.001, 7.896]\n910       (7.896, 14.454]\n911       (-0.001, 7.896]\n912     (31.275, 512.329]\n913       (-0.001, 7.896]\n914     (31.275, 512.329]\n915     (31.275, 512.329]\n916     (31.275, 512.329]\n917      (14.454, 31.275]\n918     (31.275, 512.329]\n919       (-0.001, 7.896]\n920      (14.454, 31.275]\n921      (14.454, 31.275]\n922      (14.454, 31.275]\n923     (31.275, 512.329]\n924      (14.454, 31.275]\n925      (14.454, 31.275]\n926     (31.275, 512.329]\n927       (-0.001, 7.896]\n928       (7.896, 14.454]\n929       (7.896, 14.454]\n930       (7.896, 14.454]\n931     (31.275, 512.329]\n932       (7.896, 14.454]\n933      (14.454, 31.275]\n934       (-0.001, 7.896]\n935       (7.896, 14.454]\n936     (31.275, 512.329]\n937       (7.896, 14.454]\n938      (14.454, 31.275]\n939       (-0.001, 7.896]\n940     (31.275, 512.329]\n941      (14.454, 31.275]\n942     (31.275, 512.329]\n943      (14.454, 31.275]\n944      (14.454, 31.275]\n945     (31.275, 512.329]\n946      (14.454, 31.275]\n947      (14.454, 31.275]\n948       (-0.001, 7.896]\n949       (-0.001, 7.896]\n950      (14.454, 31.275]\n951     (31.275, 512.329]\n952       (-0.001, 7.896]\n953       (7.896, 14.454]\n954       (-0.001, 7.896]\n955       (-0.001, 7.896]\n956     (31.275, 512.329]\n957      (14.454, 31.275]\n958       (-0.001, 7.896]\n959     (31.275, 512.329]\n960      (14.454, 31.275]\n961     (31.275, 512.329]\n962       (-0.001, 7.896]\n963       (-0.001, 7.896]\n964       (7.896, 14.454]\n965      (14.454, 31.275]\n966     (31.275, 512.329]\n967     (31.275, 512.329]\n968       (7.896, 14.454]\n969      (14.454, 31.275]\n970       (7.896, 14.454]\n971       (-0.001, 7.896]\n972      (14.454, 31.275]\n973     (31.275, 512.329]\n974      (14.454, 31.275]\n975       (-0.001, 7.896]\n976       (7.896, 14.454]\n977       (7.896, 14.454]\n978       (-0.001, 7.896]\n979       (7.896, 14.454]\n980       (-0.001, 7.896]\n981      (14.454, 31.275]\n982       (7.896, 14.454]\n983       (-0.001, 7.896]\n984     (31.275, 512.329]\n985       (7.896, 14.454]\n986      (14.454, 31.275]\n987       (-0.001, 7.896]\n988     (31.275, 512.329]\n989       (7.896, 14.454]\n990       (-0.001, 7.896]\n991       (7.896, 14.454]\n992     (31.275, 512.329]\n993      (14.454, 31.275]\n994       (-0.001, 7.896]\n995       (-0.001, 7.896]\n996       (7.896, 14.454]\n997      (14.454, 31.275]\n998       (-0.001, 7.896]\n999       (-0.001, 7.896]\n1000      (7.896, 14.454]\n1001      (7.896, 14.454]\n1002     (14.454, 31.275]\n1003      (-0.001, 7.896]\n1004    (31.275, 512.329]\n1005      (-0.001, 7.896]\n1006    (31.275, 512.329]\n1007      (7.896, 14.454]\n1008      (-0.001, 7.896]\n1009     (14.454, 31.275]\n1010    (31.275, 512.329]\n1011     (14.454, 31.275]\n1012     (14.454, 31.275]\n1013      (-0.001, 7.896]\n1014    (31.275, 512.329]\n1015      (-0.001, 7.896]\n1016      (-0.001, 7.896]\n1017     (14.454, 31.275]\n1018      (-0.001, 7.896]\n1019     (14.454, 31.275]\n1020      (7.896, 14.454]\n1021      (7.896, 14.454]\n1022      (7.896, 14.454]\n1023     (14.454, 31.275]\n1024     (14.454, 31.275]\n1025      (-0.001, 7.896]\n1026      (-0.001, 7.896]\n1027      (-0.001, 7.896]\n1028      (-0.001, 7.896]\n1029      (7.896, 14.454]\n1030      (7.896, 14.454]\n1031    (31.275, 512.329]\n1032    (31.275, 512.329]\n1033    (31.275, 512.329]\n1034    (31.275, 512.329]\n1035     (14.454, 31.275]\n1036     (14.454, 31.275]\n1037     (14.454, 31.275]\n1038    (31.275, 512.329]\n1039      (7.896, 14.454]\n1040     (14.454, 31.275]\n1041     (14.454, 31.275]\n1042    (31.275, 512.329]\n1043      (-0.001, 7.896]\n1044      (7.896, 14.454]\n1045      (7.896, 14.454]\n1046    (31.275, 512.329]\n1047      (-0.001, 7.896]\n1048    (31.275, 512.329]\n1049      (-0.001, 7.896]\n1050     (14.454, 31.275]\n1051      (7.896, 14.454]\n1052      (-0.001, 7.896]\n1053     (14.454, 31.275]\n1054      (7.896, 14.454]\n1055      (-0.001, 7.896]\n1056      (7.896, 14.454]\n1057     (14.454, 31.275]\n1058    (31.275, 512.329]\n1059    (31.275, 512.329]\n1060     (14.454, 31.275]\n1061      (7.896, 14.454]\n1062      (-0.001, 7.896]\n1063      (-0.001, 7.896]\n1064      (7.896, 14.454]\n1065      (-0.001, 7.896]\n1066    (31.275, 512.329]\n1067    (31.275, 512.329]\n1068    (31.275, 512.329]\n1069    (31.275, 512.329]\n1070    (31.275, 512.329]\n1071    (31.275, 512.329]\n1072      (7.896, 14.454]\n1073    (31.275, 512.329]\n1074    (31.275, 512.329]\n1075      (-0.001, 7.896]\n1076    (31.275, 512.329]\n1077     (14.454, 31.275]\n1078     (14.454, 31.275]\n1079      (7.896, 14.454]\n1080    (31.275, 512.329]\n1081      (7.896, 14.454]\n1082     (14.454, 31.275]\n1083     (14.454, 31.275]\n1084     (14.454, 31.275]\n1085      (7.896, 14.454]\n1086    (31.275, 512.329]\n1087      (-0.001, 7.896]\n1088    (31.275, 512.329]\n1089      (-0.001, 7.896]\n1090      (7.896, 14.454]\n1091      (7.896, 14.454]\n1092     (14.454, 31.275]\n1093      (7.896, 14.454]\n1094    (31.275, 512.329]\n1095     (14.454, 31.275]\n1096      (7.896, 14.454]\n1097     (14.454, 31.275]\n1098      (-0.001, 7.896]\n1099      (7.896, 14.454]\n1100     (14.454, 31.275]\n1101      (-0.001, 7.896]\n1102     (14.454, 31.275]\n1103      (-0.001, 7.896]\n1104    (31.275, 512.329]\n1105     (14.454, 31.275]\n1106      (-0.001, 7.896]\n1107    (31.275, 512.329]\n1108      (-0.001, 7.896]\n1109    (31.275, 512.329]\n1110    (31.275, 512.329]\n1111      (7.896, 14.454]\n1112      (7.896, 14.454]\n1113      (7.896, 14.454]\n1114      (7.896, 14.454]\n1115      (-0.001, 7.896]\n1116     (14.454, 31.275]\n1117     (14.454, 31.275]\n1118      (-0.001, 7.896]\n1119      (-0.001, 7.896]\n1120     (14.454, 31.275]\n1121      (7.896, 14.454]\n1122    (31.275, 512.329]\n1123     (14.454, 31.275]\n1124      (-0.001, 7.896]\n1125      (-0.001, 7.896]\n1126    (31.275, 512.329]\n1127      (-0.001, 7.896]\n1128    (31.275, 512.329]\n1129      (-0.001, 7.896]\n1130      (7.896, 14.454]\n1131    (31.275, 512.329]\n1132     (14.454, 31.275]\n1133     (14.454, 31.275]\n1134    (31.275, 512.329]\n1135      (-0.001, 7.896]\n1136     (14.454, 31.275]\n1137    (31.275, 512.329]\n1138     (14.454, 31.275]\n1139    (31.275, 512.329]\n1140     (14.454, 31.275]\n1141      (7.896, 14.454]\n1142     (14.454, 31.275]\n1143      (7.896, 14.454]\n1144    (31.275, 512.329]\n1145      (7.896, 14.454]\n1146      (7.896, 14.454]\n1147      (-0.001, 7.896]\n1148      (-0.001, 7.896]\n1149      (7.896, 14.454]\n1150      (7.896, 14.454]\n1151      (-0.001, 7.896]\n1152     (14.454, 31.275]\n1153      (-0.001, 7.896]\n1154     (14.454, 31.275]\n1155      (7.896, 14.454]\n1156      (7.896, 14.454]\n1157      (-0.001, 7.896]\n1158      (-0.001, 7.896]\n1159      (-0.001, 7.896]\n1160      (7.896, 14.454]\n1161      (7.896, 14.454]\n1162    (31.275, 512.329]\n1163      (-0.001, 7.896]\n1164    (31.275, 512.329]\n1165     (14.454, 31.275]\n1166      (-0.001, 7.896]\n1167     (14.454, 31.275]\n1168      (7.896, 14.454]\n1169     (14.454, 31.275]\n1170     (14.454, 31.275]\n1171      (7.896, 14.454]\n1172      (7.896, 14.454]\n1173      (7.896, 14.454]\n1174      (-0.001, 7.896]\n1175     (14.454, 31.275]\n1176     (14.454, 31.275]\n1177      (-0.001, 7.896]\n1178      (-0.001, 7.896]\n1179    (31.275, 512.329]\n1180      (-0.001, 7.896]\n1181      (7.896, 14.454]\n1182    (31.275, 512.329]\n1183      (-0.001, 7.896]\n1184      (-0.001, 7.896]\n1185    (31.275, 512.329]\n1186      (7.896, 14.454]\n1187      (-0.001, 7.896]\n1188    (31.275, 512.329]\n1189     (14.454, 31.275]\n1190    (31.275, 512.329]\n1191      (-0.001, 7.896]\n1192      (-0.001, 7.896]\n1193     (14.454, 31.275]\n1194     (14.454, 31.275]\n1195      (7.896, 14.454]\n1196      (-0.001, 7.896]\n1197     (14.454, 31.275]\n1198    (31.275, 512.329]\n1199      (7.896, 14.454]\n1200    (31.275, 512.329]\n1201      (7.896, 14.454]\n1202      (7.896, 14.454]\n1203      (-0.001, 7.896]\n1204      (-0.001, 7.896]\n1205      (-0.001, 7.896]\n1206    (31.275, 512.329]\n1207      (-0.001, 7.896]\n1208    (31.275, 512.329]\n1209      (7.896, 14.454]\n1210      (-0.001, 7.896]\n1211    (31.275, 512.329]\n1212      (-0.001, 7.896]\n1213      (-0.001, 7.896]\n1214      (7.896, 14.454]\n1215     (14.454, 31.275]\n1216    (31.275, 512.329]\n1217      (-0.001, 7.896]\n1218    (31.275, 512.329]\n1219    (31.275, 512.329]\n1220     (14.454, 31.275]\n1221      (7.896, 14.454]\n1222    (31.275, 512.329]\n1223     (14.454, 31.275]\n1224      (-0.001, 7.896]\n1225     (14.454, 31.275]\n1226      (-0.001, 7.896]\n1227     (14.454, 31.275]\n1228      (7.896, 14.454]\n1229      (-0.001, 7.896]\n1230    (31.275, 512.329]\n1231      (-0.001, 7.896]\n1232      (7.896, 14.454]\n1233      (-0.001, 7.896]\n1234    (31.275, 512.329]\n1235    (31.275, 512.329]\n1236     (14.454, 31.275]\n1237      (-0.001, 7.896]\n1238      (7.896, 14.454]\n1239      (-0.001, 7.896]\n1240      (7.896, 14.454]\n1241     (14.454, 31.275]\n1242    (31.275, 512.329]\n1243      (7.896, 14.454]\n1244    (31.275, 512.329]\n1245    (31.275, 512.329]\n1246     (14.454, 31.275]\n1247     (14.454, 31.275]\n1248    (31.275, 512.329]\n1249      (-0.001, 7.896]\n1250      (-0.001, 7.896]\n1251     (14.454, 31.275]\n1252    (31.275, 512.329]\n1253    (31.275, 512.329]\n1254     (14.454, 31.275]\n1255      (7.896, 14.454]\n1256    (31.275, 512.329]\n1257    (31.275, 512.329]\n1258     (14.454, 31.275]\n1259    (31.275, 512.329]\n1260    (31.275, 512.329]\n1261      (7.896, 14.454]\n1262      (7.896, 14.454]\n1263    (31.275, 512.329]\n1264      (-0.001, 7.896]\n1265      (7.896, 14.454]\n1266    (31.275, 512.329]\n1267    (31.275, 512.329]\n1268      (7.896, 14.454]\n1269      (7.896, 14.454]\n1270    (31.275, 512.329]\n1271    (31.275, 512.329]\n1272      (-0.001, 7.896]\n1273      (-0.001, 7.896]\n1274     (14.454, 31.275]\n1275     (14.454, 31.275]\n1276      (7.896, 14.454]\n1277    (31.275, 512.329]\n1278      (-0.001, 7.896]\n1279      (7.896, 14.454]\n1280      (-0.001, 7.896]\n1281     (14.454, 31.275]\n1282    (31.275, 512.329]\n1283    (31.275, 512.329]\n1284     (14.454, 31.275]\n1285      (7.896, 14.454]\n1286     (14.454, 31.275]\n1287    (31.275, 512.329]\n1288      (-0.001, 7.896]\n1289    (31.275, 512.329]\n1290      (-0.001, 7.896]\n1291      (-0.001, 7.896]\n1292    (31.275, 512.329]\n1293     (14.454, 31.275]\n1294    (31.275, 512.329]\n1295    (31.275, 512.329]\n1296     (14.454, 31.275]\n1297      (7.896, 14.454]\n1298      (7.896, 14.454]\n1299    (31.275, 512.329]\n1300      (-0.001, 7.896]\n1301      (7.896, 14.454]\n1302      (-0.001, 7.896]\n1303    (31.275, 512.329]\n1304      (-0.001, 7.896]\n1305      (7.896, 14.454]\n1306    (31.275, 512.329]\n1307      (-0.001, 7.896]\n1308      (7.896, 14.454]\n1309     (14.454, 31.275]\nName: Fare, dtype: category\nCategories (4, interval[float64]): [(-0.001, 7.896] < (7.896, 14.454] < (14.454, 31.275] < (31.275, 512.329]]"
          },
          "metadata": {}
        }
      ]
    },
    {
      "metadata": {
        "trusted": true,
        "_uuid": "8c18e8cdc9696ca514f1a4ef08e98cd4192642f4"
      },
      "cell_type": "code",
      "source": "pd.qcut(df.Fare,4,labels=['very_low','low','high','very_high'])",
      "execution_count": 101,
      "outputs": [
        {
          "output_type": "execute_result",
          "execution_count": 101,
          "data": {
            "text/plain": "PassengerId\n1        very_low\n2       very_high\n3             low\n4       very_high\n5             low\n6             low\n7       very_high\n8            high\n9             low\n10           high\n11           high\n12           high\n13            low\n14           high\n15       very_low\n16           high\n17           high\n18            low\n19           high\n20       very_low\n21           high\n22            low\n23            low\n24      very_high\n25           high\n26      very_high\n27       very_low\n28      very_high\n29       very_low\n30       very_low\n31           high\n32      very_high\n33       very_low\n34            low\n35      very_high\n36      very_high\n37       very_low\n38            low\n39           high\n40            low\n41            low\n42           high\n43       very_low\n44      very_high\n45       very_low\n46            low\n47           high\n48       very_low\n49           high\n50           high\n51      very_high\n52       very_low\n53      very_high\n54           high\n55      very_high\n56      very_high\n57            low\n58       very_low\n59           high\n60      very_high\n61       very_low\n62      very_high\n63      very_high\n64           high\n65           high\n66           high\n67            low\n68            low\n69            low\n70            low\n71            low\n72      very_high\n73      very_high\n74            low\n75      very_high\n76       very_low\n77       very_low\n78            low\n79           high\n80            low\n81            low\n82            low\n83       very_low\n84      very_high\n85            low\n86           high\n87      very_high\n88            low\n89      very_high\n90            low\n91            low\n92       very_low\n93      very_high\n94           high\n95       very_low\n96            low\n97      very_high\n98      very_high\n99           high\n100          high\n101      very_low\n102      very_low\n103     very_high\n104           low\n105           low\n106      very_low\n107      very_low\n108      very_low\n109      very_low\n110          high\n111     very_high\n112           low\n113           low\n114           low\n115          high\n116           low\n117      very_low\n118          high\n119     very_high\n120          high\n121     very_high\n122           low\n123          high\n124           low\n125     very_high\n126           low\n127      very_low\n128      very_low\n129          high\n130      very_low\n131      very_low\n132      very_low\n133          high\n134          high\n135           low\n136          high\n137          high\n138     very_high\n139           low\n140     very_high\n141          high\n142      very_low\n143          high\n144      very_low\n145           low\n146     very_high\n147      very_low\n148     very_high\n149          high\n150           low\n151           low\n152     very_high\n153           low\n154          high\n155      very_low\n156     very_high\n157      very_low\n158           low\n159           low\n160     very_high\n161          high\n162          high\n163      very_low\n164           low\n165     very_high\n166          high\n167     very_high\n168          high\n169          high\n170     very_high\n171     very_high\n172          high\n173           low\n174           low\n175          high\n176      very_low\n177          high\n178          high\n179           low\n180      very_low\n181     very_high\n182          high\n183     very_high\n184     very_high\n185          high\n186     very_high\n187          high\n188          high\n189          high\n190      very_low\n191           low\n192           low\n193      very_low\n194          high\n195          high\n196     very_high\n197      very_low\n198           low\n199      very_low\n200           low\n201           low\n202     very_high\n203      very_low\n204      very_low\n205           low\n206           low\n207          high\n208          high\n209      very_low\n210          high\n211      very_low\n212          high\n213      very_low\n214           low\n215      very_low\n216     very_high\n217           low\n218          high\n219     very_high\n220           low\n221           low\n222           low\n223           low\n224      very_low\n225     very_high\n226           low\n227           low\n228      very_low\n229           low\n230          high\n231     very_high\n232      very_low\n233           low\n234     very_high\n235           low\n236      very_low\n237          high\n238          high\n239           low\n240           low\n241           low\n242          high\n243           low\n244      very_low\n245      very_low\n246     very_high\n247      very_low\n248          high\n249     very_high\n250          high\n251      very_low\n252           low\n253          high\n254          high\n255          high\n256          high\n257     very_high\n258     very_high\n259     very_high\n260          high\n261      very_low\n262     very_high\n263     very_high\n264      very_low\n265      very_low\n266           low\n267     very_high\n268      very_low\n269     very_high\n270     very_high\n271          high\n272      very_low\n273          high\n274          high\n275      very_low\n276     very_high\n277      very_low\n278      very_low\n279          high\n280          high\n281      very_low\n282      very_low\n283           low\n284           low\n285          high\n286           low\n287           low\n288      very_low\n289           low\n290      very_low\n291     very_high\n292     very_high\n293           low\n294           low\n295      very_low\n296          high\n297      very_low\n298     very_high\n299          high\n300     very_high\n301      very_low\n302          high\n303      very_low\n304           low\n305           low\n306     very_high\n307     very_high\n308     very_high\n309          high\n310     very_high\n311     very_high\n312     very_high\n313          high\n314      very_low\n315          high\n316      very_low\n317          high\n318           low\n319     very_high\n320     very_high\n321      very_low\n322      very_low\n323           low\n324          high\n325     very_high\n326     very_high\n327      very_low\n328           low\n329          high\n330     very_high\n331          high\n332          high\n333     very_high\n334          high\n335     very_high\n336      very_low\n337     very_high\n338     very_high\n339           low\n340     very_high\n341          high\n342     very_high\n343           low\n344           low\n345           low\n346           low\n347           low\n348          high\n349          high\n350           low\n351           low\n352     very_high\n353      very_low\n354          high\n355      very_low\n356           low\n357     very_high\n358           low\n359      very_low\n360      very_low\n361          high\n362          high\n363           low\n364      very_low\n365          high\n366      very_low\n367     very_high\n368      very_low\n369      very_low\n370     very_high\n371     very_high\n372      very_low\n373           low\n374     very_high\n375          high\n376     very_high\n377      very_low\n378     very_high\n379      very_low\n380      very_low\n381     very_high\n382          high\n383           low\n384     very_high\n385      very_low\n386     very_high\n387     very_high\n388           low\n389      very_low\n390           low\n391     very_high\n392      very_low\n393           low\n394     very_high\n395          high\n396      very_low\n397      very_low\n398          high\n399           low\n400           low\n401           low\n402           low\n403           low\n404          high\n405           low\n406          high\n407      very_low\n408          high\n409      very_low\n410          high\n411      very_low\n412      very_low\n413     very_high\n414      very_low\n415           low\n416           low\n417     very_high\n418           low\n419           low\n420          high\n421      very_low\n422      very_low\n423      very_low\n424           low\n425          high\n426      very_low\n427          high\n428          high\n429      very_low\n430           low\n431          high\n432          high\n433          high\n434      very_low\n435     very_high\n436     very_high\n437     very_high\n438          high\n439     very_high\n440           low\n441          high\n442           low\n443      very_low\n444           low\n445           low\n446     very_high\n447          high\n448          high\n449          high\n450          high\n451          high\n452          high\n453          high\n454     very_high\n455           low\n456      very_low\n457          high\n458     very_high\n459           low\n460      very_low\n461          high\n462           low\n463     very_high\n464           low\n465           low\n466      very_low\n467      very_low\n468          high\n469      very_low\n470          high\n471      very_low\n472           low\n473          high\n474           low\n475           low\n476     very_high\n477          high\n478      very_low\n479      very_low\n480           low\n481     very_high\n482      very_low\n483           low\n484           low\n485     very_high\n486          high\n487     very_high\n488          high\n489           low\n490          high\n491          high\n492      very_low\n493          high\n494     very_high\n495           low\n496          high\n497     very_high\n498          high\n499     very_high\n500      very_low\n501           low\n502      very_low\n503      very_low\n504           low\n505     very_high\n506     very_high\n507          high\n508          high\n509          high\n510     very_high\n511      very_low\n512           low\n513          high\n514     very_high\n515      very_low\n516     very_high\n517           low\n518          high\n519          high\n520      very_low\n521     very_high\n522      very_low\n523      very_low\n524     very_high\n525      very_low\n526      very_low\n527           low\n528     very_high\n529           low\n530           low\n531          high\n532      very_low\n533      very_low\n534          high\n535           low\n536          high\n537          high\n538     very_high\n539          high\n540     very_high\n541     very_high\n542          high\n543          high\n544          high\n545     very_high\n546          high\n547          high\n548           low\n549          high\n550     very_high\n551     very_high\n552          high\n553      very_low\n554      very_low\n555      very_low\n556          high\n557     very_high\n558     very_high\n559     very_high\n560          high\n561      very_low\n562      very_low\n563           low\n564           low\n565           low\n566          high\n567      very_low\n568          high\n569      very_low\n570      very_low\n571           low\n572     very_high\n573          high\n574      very_low\n575           low\n576          high\n577           low\n578     very_high\n579          high\n580           low\n581          high\n582     very_high\n583          high\n584     very_high\n585           low\n586     very_high\n587          high\n588     very_high\n589           low\n590           low\n591      very_low\n592     very_high\n593      very_low\n594      very_low\n595          high\n596          high\n597     very_high\n598      very_low\n599      very_low\n600     very_high\n601          high\n602      very_low\n603     very_high\n604           low\n605          high\n606          high\n607      very_low\n608          high\n609     very_high\n610     very_high\n611          high\n612      very_low\n613          high\n614      very_low\n615           low\n616     very_high\n617           low\n618          high\n619     very_high\n620           low\n621           low\n622     very_high\n623          high\n624      very_low\n625          high\n626     very_high\n627           low\n628     very_high\n629      very_low\n630      very_low\n631          high\n632      very_low\n633          high\n634      very_low\n635          high\n636           low\n637           low\n638          high\n639     very_high\n640          high\n641      very_low\n642     very_high\n643          high\n644     very_high\n645          high\n646     very_high\n647      very_low\n648     very_high\n649      very_low\n650      very_low\n651      very_low\n652          high\n653           low\n654      very_low\n655      very_low\n656     very_high\n657      very_low\n658          high\n659           low\n660     very_high\n661     very_high\n662      very_low\n663          high\n664      very_low\n665           low\n666     very_high\n667           low\n668      very_low\n669           low\n670     very_high\n671     very_high\n672     very_high\n673           low\n674           low\n675      very_low\n676      very_low\n677           low\n678           low\n679     very_high\n680     very_high\n681           low\n682     very_high\n683           low\n684     very_high\n685     very_high\n686     very_high\n687     very_high\n688           low\n689      very_low\n690     very_high\n691     very_high\n692           low\n693     very_high\n694      very_low\n695          high\n696           low\n697           low\n698      very_low\n699     very_high\n700      very_low\n701     very_high\n702          high\n703           low\n704      very_low\n705      very_low\n706          high\n707           low\n708          high\n709     very_high\n710          high\n711     very_high\n712          high\n713     very_high\n714           low\n715           low\n716      very_low\n717     very_high\n718           low\n719          high\n720      very_low\n721     very_high\n722      very_low\n723           low\n724           low\n725     very_high\n726           low\n727          high\n728      very_low\n729          high\n730           low\n731     very_high\n732          high\n733      very_low\n734           low\n735           low\n736          high\n737     very_high\n738     very_high\n739      very_low\n740      very_low\n741          high\n742     very_high\n743     very_high\n744          high\n745           low\n746     very_high\n747          high\n748           low\n749     very_high\n750      very_low\n751          high\n752           low\n753           low\n754      very_low\n755     very_high\n756          high\n757      very_low\n758           low\n759           low\n760     very_high\n761          high\n762      very_low\n763      very_low\n764     very_high\n765      very_low\n766     very_high\n767     very_high\n768      very_low\n769          high\n770           low\n771           low\n772      very_low\n773           low\n774      very_low\n775          high\n776      very_low\n777      very_low\n778           low\n779      very_low\n780     very_high\n781      very_low\n782     very_high\n783          high\n784          high\n785      very_low\n786      very_low\n787      very_low\n788          high\n789          high\n790     very_high\n791      very_low\n792          high\n793     very_high\n794          high\n795      very_low\n796           low\n797          high\n798           low\n799      very_low\n800          high\n801           low\n802          high\n803     very_high\n804           low\n805      very_low\n806      very_low\n807      very_low\n808      very_low\n809           low\n810     very_high\n811      very_low\n812          high\n813           low\n814          high\n815           low\n816      very_low\n817           low\n818     very_high\n819      very_low\n820          high\n821     very_high\n822           low\n823      very_low\n824           low\n825     very_high\n826      very_low\n827     very_high\n828     very_high\n829      very_low\n830     very_high\n831           low\n832          high\n833      very_low\n834      very_low\n835           low\n836     very_high\n837           low\n838           low\n839     very_high\n840          high\n841           low\n842           low\n843          high\n844      very_low\n845           low\n846      very_low\n847     very_high\n848      very_low\n849     very_high\n850     very_high\n851          high\n852      very_low\n853          high\n854     very_high\n855          high\n856           low\n857     very_high\n858          high\n859          high\n860      very_low\n861           low\n862           low\n863          high\n864     very_high\n865           low\n866           low\n867           low\n868     very_high\n869           low\n870           low\n871      very_low\n872     very_high\n873      very_low\n874           low\n875          high\n876      very_low\n877           low\n878      very_low\n879      very_low\n880     very_high\n881          high\n882      very_low\n883           low\n884           low\n885      very_low\n886          high\n887           low\n888          high\n889          high\n890          high\n891      very_low\n892      very_low\n893      very_low\n894           low\n895           low\n896           low\n897           low\n898      very_low\n899          high\n900      very_low\n901          high\n902      very_low\n903          high\n904     very_high\n905          high\n906     very_high\n907          high\n908           low\n909      very_low\n910           low\n911      very_low\n912     very_high\n913      very_low\n914     very_high\n915     very_high\n916     very_high\n917          high\n918     very_high\n919      very_low\n920          high\n921          high\n922          high\n923     very_high\n924          high\n925          high\n926     very_high\n927      very_low\n928           low\n929           low\n930           low\n931     very_high\n932           low\n933          high\n934      very_low\n935           low\n936     very_high\n937           low\n938          high\n939      very_low\n940     very_high\n941          high\n942     very_high\n943          high\n944          high\n945     very_high\n946          high\n947          high\n948      very_low\n949      very_low\n950          high\n951     very_high\n952      very_low\n953           low\n954      very_low\n955      very_low\n956     very_high\n957          high\n958      very_low\n959     very_high\n960          high\n961     very_high\n962      very_low\n963      very_low\n964           low\n965          high\n966     very_high\n967     very_high\n968           low\n969          high\n970           low\n971      very_low\n972          high\n973     very_high\n974          high\n975      very_low\n976           low\n977           low\n978      very_low\n979           low\n980      very_low\n981          high\n982           low\n983      very_low\n984     very_high\n985           low\n986          high\n987      very_low\n988     very_high\n989           low\n990      very_low\n991           low\n992     very_high\n993          high\n994      very_low\n995      very_low\n996           low\n997          high\n998      very_low\n999      very_low\n1000          low\n1001          low\n1002         high\n1003     very_low\n1004    very_high\n1005     very_low\n1006    very_high\n1007          low\n1008     very_low\n1009         high\n1010    very_high\n1011         high\n1012         high\n1013     very_low\n1014    very_high\n1015     very_low\n1016     very_low\n1017         high\n1018     very_low\n1019         high\n1020          low\n1021          low\n1022          low\n1023         high\n1024         high\n1025     very_low\n1026     very_low\n1027     very_low\n1028     very_low\n1029          low\n1030          low\n1031    very_high\n1032    very_high\n1033    very_high\n1034    very_high\n1035         high\n1036         high\n1037         high\n1038    very_high\n1039          low\n1040         high\n1041         high\n1042    very_high\n1043     very_low\n1044          low\n1045          low\n1046    very_high\n1047     very_low\n1048    very_high\n1049     very_low\n1050         high\n1051          low\n1052     very_low\n1053         high\n1054          low\n1055     very_low\n1056          low\n1057         high\n1058    very_high\n1059    very_high\n1060         high\n1061          low\n1062     very_low\n1063     very_low\n1064          low\n1065     very_low\n1066    very_high\n1067    very_high\n1068    very_high\n1069    very_high\n1070    very_high\n1071    very_high\n1072          low\n1073    very_high\n1074    very_high\n1075     very_low\n1076    very_high\n1077         high\n1078         high\n1079          low\n1080    very_high\n1081          low\n1082         high\n1083         high\n1084         high\n1085          low\n1086    very_high\n1087     very_low\n1088    very_high\n1089     very_low\n1090          low\n1091          low\n1092         high\n1093          low\n1094    very_high\n1095         high\n1096          low\n1097         high\n1098     very_low\n1099          low\n1100         high\n1101     very_low\n1102         high\n1103     very_low\n1104    very_high\n1105         high\n1106     very_low\n1107    very_high\n1108     very_low\n1109    very_high\n1110    very_high\n1111          low\n1112          low\n1113          low\n1114          low\n1115     very_low\n1116         high\n1117         high\n1118     very_low\n1119     very_low\n1120         high\n1121          low\n1122    very_high\n1123         high\n1124     very_low\n1125     very_low\n1126    very_high\n1127     very_low\n1128    very_high\n1129     very_low\n1130          low\n1131    very_high\n1132         high\n1133         high\n1134    very_high\n1135     very_low\n1136         high\n1137    very_high\n1138         high\n1139    very_high\n1140         high\n1141          low\n1142         high\n1143          low\n1144    very_high\n1145          low\n1146          low\n1147     very_low\n1148     very_low\n1149          low\n1150          low\n1151     very_low\n1152         high\n1153     very_low\n1154         high\n1155          low\n1156          low\n1157     very_low\n1158     very_low\n1159     very_low\n1160          low\n1161          low\n1162    very_high\n1163     very_low\n1164    very_high\n1165         high\n1166     very_low\n1167         high\n1168          low\n1169         high\n1170         high\n1171          low\n1172          low\n1173          low\n1174     very_low\n1175         high\n1176         high\n1177     very_low\n1178     very_low\n1179    very_high\n1180     very_low\n1181          low\n1182    very_high\n1183     very_low\n1184     very_low\n1185    very_high\n1186          low\n1187     very_low\n1188    very_high\n1189         high\n1190    very_high\n1191     very_low\n1192     very_low\n1193         high\n1194         high\n1195          low\n1196     very_low\n1197         high\n1198    very_high\n1199          low\n1200    very_high\n1201          low\n1202          low\n1203     very_low\n1204     very_low\n1205     very_low\n1206    very_high\n1207     very_low\n1208    very_high\n1209          low\n1210     very_low\n1211    very_high\n1212     very_low\n1213     very_low\n1214          low\n1215         high\n1216    very_high\n1217     very_low\n1218    very_high\n1219    very_high\n1220         high\n1221          low\n1222    very_high\n1223         high\n1224     very_low\n1225         high\n1226     very_low\n1227         high\n1228          low\n1229     very_low\n1230    very_high\n1231     very_low\n1232          low\n1233     very_low\n1234    very_high\n1235    very_high\n1236         high\n1237     very_low\n1238          low\n1239     very_low\n1240          low\n1241         high\n1242    very_high\n1243          low\n1244    very_high\n1245    very_high\n1246         high\n1247         high\n1248    very_high\n1249     very_low\n1250     very_low\n1251         high\n1252    very_high\n1253    very_high\n1254         high\n1255          low\n1256    very_high\n1257    very_high\n1258         high\n1259    very_high\n1260    very_high\n1261          low\n1262          low\n1263    very_high\n1264     very_low\n1265          low\n1266    very_high\n1267    very_high\n1268          low\n1269          low\n1270    very_high\n1271    very_high\n1272     very_low\n1273     very_low\n1274         high\n1275         high\n1276          low\n1277    very_high\n1278     very_low\n1279          low\n1280     very_low\n1281         high\n1282    very_high\n1283    very_high\n1284         high\n1285          low\n1286         high\n1287    very_high\n1288     very_low\n1289    very_high\n1290     very_low\n1291     very_low\n1292    very_high\n1293         high\n1294    very_high\n1295    very_high\n1296         high\n1297          low\n1298          low\n1299    very_high\n1300     very_low\n1301          low\n1302     very_low\n1303    very_high\n1304     very_low\n1305          low\n1306    very_high\n1307     very_low\n1308          low\n1309         high\nName: Fare, dtype: category\nCategories (4, object): [very_low < low < high < very_high]"
          },
          "metadata": {}
        }
      ]
    },
    {
      "metadata": {
        "trusted": true,
        "_uuid": "0739c62587f6722edc5e044c8c546c3140caf6f8"
      },
      "cell_type": "code",
      "source": "pd.qcut(df.Fare,4,labels = ['very_low','low','high','very_high']).value_counts().plot(kind='bar',rot = 0);",
      "execution_count": 102,
      "outputs": [
        {
          "output_type": "display_data",
          "data": {
            "text/plain": "<Figure size 432x288 with 1 Axes>",
            "image/png": "[encoded data removed]"
          },
          "metadata": {}
        }
      ]
    },
    {
      "metadata": {
        "trusted": true,
        "_uuid": "dc7108e5b6705d26c4e654514c7233db0aadb0cd"
      },
      "cell_type": "code",
      "source": "# create fare bin feature\ndf['Fare_Bin']=pd.qcut(df.Fare,4,labels=['very_low','low','high','very_high'])",
      "execution_count": 103,
      "outputs": []
    },
    {
      "metadata": {
        "_uuid": "3b76fe0e8140c68d2ca69ada138edbf52b2f2aa3"
      },
      "cell_type": "markdown",
      "source": "<h1>**Feature Engineering** <h1>"
    },
    {
      "metadata": {
        "_uuid": "f451cfbd662e265fc0e0f889b26eca91d7a8822a"
      },
      "cell_type": "markdown",
      "source": "**Feature : Age State(Adult or Child) **"
    },
    {
      "metadata": {
        "trusted": true,
        "_uuid": "b0e240391bccfcd10ac08c30e8edbec5629435ad"
      },
      "cell_type": "code",
      "source": "#Age State based on Age\ndf['AgeState'] = np.where(df['Age']>=18,'Adult','Child')",
      "execution_count": 104,
      "outputs": []
    },
    {
      "metadata": {
        "trusted": true,
        "_uuid": "aaad788eb26554135b95e28fc95a724905d25319"
      },
      "cell_type": "code",
      "source": "#AgeState Counts\ndf['AgeState'].value_counts()",
      "execution_count": 105,
      "outputs": [
        {
          "output_type": "execute_result",
          "execution_count": 105,
          "data": {
            "text/plain": "Adult    1147\nChild     162\nName: AgeState, dtype: int64"
          },
          "metadata": {}
        }
      ]
    },
    {
      "metadata": {
        "trusted": true,
        "_uuid": "2fad8d041a38cbbe9f7a09415180ae6c95def1ba"
      },
      "cell_type": "code",
      "source": "pd.crosstab(df[df.Survived != -888].Survived , df[df.Survived != -888].AgeState)",
      "execution_count": 106,
      "outputs": [
        {
          "output_type": "execute_result",
          "execution_count": 106,
          "data": {
            "text/plain": "AgeState  Adult  Child\nSurvived              \n0           495     54\n1           279     63",
            "text/html": "<div>\n<style scoped>\n    .dataframe tbody tr th:only-of-type {\n        vertical-align: middle;\n    }\n\n    .dataframe tbody tr th {\n        vertical-align: top;\n    }\n\n    .dataframe thead th {\n        text-align: right;\n    }\n</style>\n<table border=\"1\" class=\"dataframe\">\n  <thead>\n    <tr style=\"text-align: right;\">\n      <th>AgeState</th>\n      <th>Adult</th>\n      <th>Child</th>\n    </tr>\n    <tr>\n      <th>Survived</th>\n      <th></th>\n      <th></th>\n    </tr>\n  </thead>\n  <tbody>\n    <tr>\n      <th>0</th>\n      <td>495</td>\n      <td>54</td>\n    </tr>\n    <tr>\n      <th>1</th>\n      <td>279</td>\n      <td>63</td>\n    </tr>\n  </tbody>\n</table>\n</div>"
          },
          "metadata": {}
        }
      ]
    },
    {
      "metadata": {
        "_uuid": "c72f49111865510684b520626f25c92f37291fc7"
      },
      "cell_type": "markdown",
      "source": "**Feature : FamilySize**"
    },
    {
      "metadata": {
        "trusted": true,
        "_uuid": "286c509e24ccba5dafdf0881b79e3e92e934159e"
      },
      "cell_type": "code",
      "source": "df['FamilySize'] = df.Parch + df.SibSp + 1 # i for Self",
      "execution_count": 107,
      "outputs": []
    },
    {
      "metadata": {
        "trusted": true,
        "_uuid": "6323c6b91a678e2038408c71acd9570e48ab089b"
      },
      "cell_type": "code",
      "source": "#explore the family feature\ndf['FamilySize'].plot(kind = 'hist',color = 'c');",
      "execution_count": 108,
      "outputs": [
        {
          "output_type": "display_data",
          "data": {
            "text/plain": "<Figure size 432x288 with 1 Axes>",
            "image/png": "[encoded data removed]"
          },
          "metadata": {}
        }
      ]
    },
    {
      "metadata": {
        "trusted": true,
        "_uuid": "fe39cde781837ee033ea9d11df8e74ea9f31df4f"
      },
      "cell_type": "code",
      "source": "#further exploring familoy size with mjax family size\ndf.loc[df.FamilySize == df.FamilySize.max(),['Name','Survived','FamilySize','Ticket']]",
      "execution_count": 109,
      "outputs": [
        {
          "output_type": "execute_result",
          "execution_count": 109,
          "data": {
            "text/plain": "                                          Name    ...       Ticket\nPassengerId                                       ...             \n160                 Sage, Master. Thomas Henry    ...     CA. 2343\n181               Sage, Miss. Constance Gladys    ...     CA. 2343\n202                        Sage, Mr. Frederick    ...     CA. 2343\n325                   Sage, Mr. George John Jr    ...     CA. 2343\n793                    Sage, Miss. Stella Anna    ...     CA. 2343\n847                   Sage, Mr. Douglas Bullen    ...     CA. 2343\n864          Sage, Miss. Dorothy Edith \"Dolly\"    ...     CA. 2343\n1080                           Sage, Miss. Ada    ...     CA. 2343\n1234                     Sage, Mr. John George    ...     CA. 2343\n1252               Sage, Master. William Henry    ...     CA. 2343\n1257            Sage, Mrs. John (Annie Bullen)    ...     CA. 2343\n\n[11 rows x 4 columns]",
            "text/html": "<div>\n<style scoped>\n    .dataframe tbody tr th:only-of-type {\n        vertical-align: middle;\n    }\n\n    .dataframe tbody tr th {\n        vertical-align: top;\n    }\n\n    .dataframe thead th {\n        text-align: right;\n    }\n</style>\n<table border=\"1\" class=\"dataframe\">\n  <thead>\n    <tr style=\"text-align: right;\">\n      <th></th>\n      <th>Name</th>\n      <th>Survived</th>\n      <th>FamilySize</th>\n      <th>Ticket</th>\n    </tr>\n    <tr>\n      <th>PassengerId</th>\n      <th></th>\n      <th></th>\n      <th></th>\n      <th></th>\n    </tr>\n  </thead>\n  <tbody>\n    <tr>\n      <th>160</th>\n      <td>Sage, Master. Thomas Henry</td>\n      <td>0</td>\n      <td>11</td>\n      <td>CA. 2343</td>\n    </tr>\n    <tr>\n      <th>181</th>\n      <td>Sage, Miss. Constance Gladys</td>\n      <td>0</td>\n      <td>11</td>\n      <td>CA. 2343</td>\n    </tr>\n    <tr>\n      <th>202</th>\n      <td>Sage, Mr. Frederick</td>\n      <td>0</td>\n      <td>11</td>\n      <td>CA. 2343</td>\n    </tr>\n    <tr>\n      <th>325</th>\n      <td>Sage, Mr. George John Jr</td>\n      <td>0</td>\n      <td>11</td>\n      <td>CA. 2343</td>\n    </tr>\n    <tr>\n      <th>793</th>\n      <td>Sage, Miss. Stella Anna</td>\n      <td>0</td>\n      <td>11</td>\n      <td>CA. 2343</td>\n    </tr>\n    <tr>\n      <th>847</th>\n      <td>Sage, Mr. Douglas Bullen</td>\n      <td>0</td>\n      <td>11</td>\n      <td>CA. 2343</td>\n    </tr>\n    <tr>\n      <th>864</th>\n      <td>Sage, Miss. Dorothy Edith \"Dolly\"</td>\n      <td>0</td>\n      <td>11</td>\n      <td>CA. 2343</td>\n    </tr>\n    <tr>\n      <th>1080</th>\n      <td>Sage, Miss. Ada</td>\n      <td>-888</td>\n      <td>11</td>\n      <td>CA. 2343</td>\n    </tr>\n    <tr>\n      <th>1234</th>\n      <td>Sage, Mr. John George</td>\n      <td>-888</td>\n      <td>11</td>\n      <td>CA. 2343</td>\n    </tr>\n    <tr>\n      <th>1252</th>\n      <td>Sage, Master. William Henry</td>\n      <td>-888</td>\n      <td>11</td>\n      <td>CA. 2343</td>\n    </tr>\n    <tr>\n      <th>1257</th>\n      <td>Sage, Mrs. John (Annie Bullen)</td>\n      <td>-888</td>\n      <td>11</td>\n      <td>CA. 2343</td>\n    </tr>\n  </tbody>\n</table>\n</div>"
          },
          "metadata": {}
        }
      ]
    },
    {
      "metadata": {
        "trusted": true,
        "_uuid": "1072c867aa4216043b8187d87594e1b9ef52239c"
      },
      "cell_type": "code",
      "source": "pd.crosstab(df[df.Survived != -888].Survived , df[df.Survived != -888].FamilySize)",
      "execution_count": 110,
      "outputs": [
        {
          "output_type": "execute_result",
          "execution_count": 110,
          "data": {
            "text/plain": "FamilySize   1   2   3   4   5   6   7   8   11\nSurvived                                       \n0           374  72  43   8  12  19   8   6   7\n1           163  89  59  21   3   3   4   0   0",
            "text/html": "<div>\n<style scoped>\n    .dataframe tbody tr th:only-of-type {\n        vertical-align: middle;\n    }\n\n    .dataframe tbody tr th {\n        vertical-align: top;\n    }\n\n    .dataframe thead th {\n        text-align: right;\n    }\n</style>\n<table border=\"1\" class=\"dataframe\">\n  <thead>\n    <tr style=\"text-align: right;\">\n      <th>FamilySize</th>\n      <th>1</th>\n      <th>2</th>\n      <th>3</th>\n      <th>4</th>\n      <th>5</th>\n      <th>6</th>\n      <th>7</th>\n      <th>8</th>\n      <th>11</th>\n    </tr>\n    <tr>\n      <th>Survived</th>\n      <th></th>\n      <th></th>\n      <th></th>\n      <th></th>\n      <th></th>\n      <th></th>\n      <th></th>\n      <th></th>\n      <th></th>\n    </tr>\n  </thead>\n  <tbody>\n    <tr>\n      <th>0</th>\n      <td>374</td>\n      <td>72</td>\n      <td>43</td>\n      <td>8</td>\n      <td>12</td>\n      <td>19</td>\n      <td>8</td>\n      <td>6</td>\n      <td>7</td>\n    </tr>\n    <tr>\n      <th>1</th>\n      <td>163</td>\n      <td>89</td>\n      <td>59</td>\n      <td>21</td>\n      <td>3</td>\n      <td>3</td>\n      <td>4</td>\n      <td>0</td>\n      <td>0</td>\n    </tr>\n  </tbody>\n</table>\n</div>"
          },
          "metadata": {}
        }
      ]
    },
    {
      "metadata": {
        "_uuid": "e8cc8046ccf8d51c40c60e7f3140c64c3e841773"
      },
      "cell_type": "markdown",
      "source": "**Feature :isMother**"
    },
    {
      "metadata": {
        "trusted": true,
        "_uuid": "eac2a7f3707c71a49e58dc38c9de4244d1daacc6"
      },
      "cell_type": "code",
      "source": "# a lady aged 18 or more who has Parch >0 and is married \ndf['IsMother'] = np.where(((df.Sex == 'female') & (df.Parch > 0) & (df.Age>18) & (df.Title != 'Miss')),1,0)",
      "execution_count": 111,
      "outputs": []
    },
    {
      "metadata": {
        "trusted": true,
        "_uuid": "7df4774c9181b09d55f912741a64f01f5a33c938"
      },
      "cell_type": "code",
      "source": "#Crosstab with mother\npd.crosstab(df[df['Survived'] != -888].Survived,df[df['Survived'] != -888].IsMother )",
      "execution_count": 112,
      "outputs": [
        {
          "output_type": "execute_result",
          "execution_count": 112,
          "data": {
            "text/plain": "IsMother    0   1\nSurvived         \n0         533  16\n1         303  39",
            "text/html": "<div>\n<style scoped>\n    .dataframe tbody tr th:only-of-type {\n        vertical-align: middle;\n    }\n\n    .dataframe tbody tr th {\n        vertical-align: top;\n    }\n\n    .dataframe thead th {\n        text-align: right;\n    }\n</style>\n<table border=\"1\" class=\"dataframe\">\n  <thead>\n    <tr style=\"text-align: right;\">\n      <th>IsMother</th>\n      <th>0</th>\n      <th>1</th>\n    </tr>\n    <tr>\n      <th>Survived</th>\n      <th></th>\n      <th></th>\n    </tr>\n  </thead>\n  <tbody>\n    <tr>\n      <th>0</th>\n      <td>533</td>\n      <td>16</td>\n    </tr>\n    <tr>\n      <th>1</th>\n      <td>303</td>\n      <td>39</td>\n    </tr>\n  </tbody>\n</table>\n</div>"
          },
          "metadata": {}
        }
      ]
    },
    {
      "metadata": {
        "_uuid": "b9bdbe7cebde5cae87d42748c40d93db091fcaa5"
      },
      "cell_type": "markdown",
      "source": "**Feature:Deck**"
    },
    {
      "metadata": {
        "trusted": true,
        "_uuid": "490b64b11e5a7e85d3dda9776c4433e1ae7c11ed"
      },
      "cell_type": "code",
      "source": "#explore Cabin values\ndf.Cabin",
      "execution_count": 113,
      "outputs": [
        {
          "output_type": "execute_result",
          "execution_count": 113,
          "data": {
            "text/plain": "PassengerId\n1                   NaN\n2                   C85\n3                   NaN\n4                  C123\n5                   NaN\n6                   NaN\n7                   E46\n8                   NaN\n9                   NaN\n10                  NaN\n11                   G6\n12                 C103\n13                  NaN\n14                  NaN\n15                  NaN\n16                  NaN\n17                  NaN\n18                  NaN\n19                  NaN\n20                  NaN\n21                  NaN\n22                  D56\n23                  NaN\n24                   A6\n25                  NaN\n26                  NaN\n27                  NaN\n28          C23 C25 C27\n29                  NaN\n30                  NaN\n31                  NaN\n32                  B78\n33                  NaN\n34                  NaN\n35                  NaN\n36                  NaN\n37                  NaN\n38                  NaN\n39                  NaN\n40                  NaN\n41                  NaN\n42                  NaN\n43                  NaN\n44                  NaN\n45                  NaN\n46                  NaN\n47                  NaN\n48                  NaN\n49                  NaN\n50                  NaN\n51                  NaN\n52                  NaN\n53                  D33\n54                  NaN\n55                  B30\n56                  C52\n57                  NaN\n58                  NaN\n59                  NaN\n60                  NaN\n61                  NaN\n62                  B28\n63                  C83\n64                  NaN\n65                  NaN\n66                  NaN\n67                  F33\n68                  NaN\n69                  NaN\n70                  NaN\n71                  NaN\n72                  NaN\n73                  NaN\n74                  NaN\n75                  NaN\n76                F G73\n77                  NaN\n78                  NaN\n79                  NaN\n80                  NaN\n81                  NaN\n82                  NaN\n83                  NaN\n84                  NaN\n85                  NaN\n86                  NaN\n87                  NaN\n88                  NaN\n89          C23 C25 C27\n90                  NaN\n91                  NaN\n92                  NaN\n93                  E31\n94                  NaN\n95                  NaN\n96                  NaN\n97                   A5\n98              D10 D12\n99                  NaN\n100                 NaN\n101                 NaN\n102                 NaN\n103                 D26\n104                 NaN\n105                 NaN\n106                 NaN\n107                 NaN\n108                 NaN\n109                 NaN\n110                 NaN\n111                C110\n112                 NaN\n113                 NaN\n114                 NaN\n115                 NaN\n116                 NaN\n117                 NaN\n118                 NaN\n119             B58 B60\n120                 NaN\n121                 NaN\n122                 NaN\n123                 NaN\n124                E101\n125                 D26\n126                 NaN\n127                 NaN\n128                 NaN\n129               F E69\n130                 NaN\n131                 NaN\n132                 NaN\n133                 NaN\n134                 NaN\n135                 NaN\n136                 NaN\n137                 D47\n138                C123\n139                 NaN\n140                 B86\n141                 NaN\n142                 NaN\n143                 NaN\n144                 NaN\n145                 NaN\n146                 NaN\n147                 NaN\n148                 NaN\n149                  F2\n150                 NaN\n151                 NaN\n152                  C2\n153                 NaN\n154                 NaN\n155                 NaN\n156                 NaN\n157                 NaN\n158                 NaN\n159                 NaN\n160                 NaN\n161                 NaN\n162                 NaN\n163                 NaN\n164                 NaN\n165                 NaN\n166                 NaN\n167                 E33\n168                 NaN\n169                 NaN\n170                 NaN\n171                 B19\n172                 NaN\n173                 NaN\n174                 NaN\n175                  A7\n176                 NaN\n177                 NaN\n178                 C49\n179                 NaN\n180                 NaN\n181                 NaN\n182                 NaN\n183                 NaN\n184                  F4\n185                 NaN\n186                 A32\n187                 NaN\n188                 NaN\n189                 NaN\n190                 NaN\n191                 NaN\n192                 NaN\n193                 NaN\n194                  F2\n195                  B4\n196                 B80\n197                 NaN\n198                 NaN\n199                 NaN\n200                 NaN\n201                 NaN\n202                 NaN\n203                 NaN\n204                 NaN\n205                 NaN\n206                  G6\n207                 NaN\n208                 NaN\n209                 NaN\n210                 A31\n211                 NaN\n212                 NaN\n213                 NaN\n214                 NaN\n215                 NaN\n216                 D36\n217                 NaN\n218                 NaN\n219                 D15\n220                 NaN\n221                 NaN\n222                 NaN\n223                 NaN\n224                 NaN\n225                 C93\n226                 NaN\n227                 NaN\n228                 NaN\n229                 NaN\n230                 NaN\n231                 C83\n232                 NaN\n233                 NaN\n234                 NaN\n235                 NaN\n236                 NaN\n237                 NaN\n238                 NaN\n239                 NaN\n240                 NaN\n241                 NaN\n242                 NaN\n243                 NaN\n244                 NaN\n245                 NaN\n246                 C78\n247                 NaN\n248                 NaN\n249                 D35\n250                 NaN\n251                 NaN\n252                  G6\n253                 C87\n254                 NaN\n255                 NaN\n256                 NaN\n257                 NaN\n258                 B77\n259                 NaN\n260                 NaN\n261                 NaN\n262                 NaN\n263                 E67\n264                 B94\n265                 NaN\n266                 NaN\n267                 NaN\n268                 NaN\n269                C125\n270                 C99\n271                 NaN\n272                 NaN\n273                 NaN\n274                C118\n275                 NaN\n276                  D7\n277                 NaN\n278                 NaN\n279                 NaN\n280                 NaN\n281                 NaN\n282                 NaN\n283                 NaN\n284                 NaN\n285                 A19\n286                 NaN\n287                 NaN\n288                 NaN\n289                 NaN\n290                 NaN\n291                 NaN\n292                 B49\n293                   D\n294                 NaN\n295                 NaN\n296                 NaN\n297                 NaN\n298             C22 C26\n299                C106\n300             B58 B60\n301                 NaN\n302                 NaN\n303                 NaN\n304                E101\n305                 NaN\n306             C22 C26\n307                 NaN\n308                 C65\n309                 NaN\n310                 E36\n311                 C54\n312     B57 B59 B63 B66\n313                 NaN\n314                 NaN\n315                 NaN\n316                 NaN\n317                 NaN\n318                 NaN\n319                  C7\n320                 E34\n321                 NaN\n322                 NaN\n323                 NaN\n324                 NaN\n325                 NaN\n326                 C32\n327                 NaN\n328                   D\n329                 NaN\n330                 B18\n331                 NaN\n332                C124\n333                 C91\n334                 NaN\n335                 NaN\n336                 NaN\n337                  C2\n338                 E40\n339                 NaN\n340                   T\n341                  F2\n342         C23 C25 C27\n343                 NaN\n344                 NaN\n345                 NaN\n346                 F33\n347                 NaN\n348                 NaN\n349                 NaN\n350                 NaN\n351                 NaN\n352                C128\n353                 NaN\n354                 NaN\n355                 NaN\n356                 NaN\n357                 E33\n358                 NaN\n359                 NaN\n360                 NaN\n361                 NaN\n362                 NaN\n363                 NaN\n364                 NaN\n365                 NaN\n366                 NaN\n367                 D37\n368                 NaN\n369                 NaN\n370                 B35\n371                 E50\n372                 NaN\n373                 NaN\n374                 NaN\n375                 NaN\n376                 NaN\n377                 NaN\n378                 C82\n379                 NaN\n380                 NaN\n381                 NaN\n382                 NaN\n383                 NaN\n384                 NaN\n385                 NaN\n386                 NaN\n387                 NaN\n388                 NaN\n389                 NaN\n390                 NaN\n391             B96 B98\n392                 NaN\n393                 NaN\n394                 D36\n395                  G6\n396                 NaN\n397                 NaN\n398                 NaN\n399                 NaN\n400                 NaN\n401                 NaN\n402                 NaN\n403                 NaN\n404                 NaN\n405                 NaN\n406                 NaN\n407                 NaN\n408                 NaN\n409                 NaN\n410                 NaN\n411                 NaN\n412                 NaN\n413                 C78\n414                 NaN\n415                 NaN\n416                 NaN\n417                 NaN\n418                 NaN\n419                 NaN\n420                 NaN\n421                 NaN\n422                 NaN\n423                 NaN\n424                 NaN\n425                 NaN\n426                 NaN\n427                 NaN\n428                 NaN\n429                 NaN\n430                 E10\n431                 C52\n432                 NaN\n433                 NaN\n434                 NaN\n435                 E44\n436             B96 B98\n437                 NaN\n438                 NaN\n439         C23 C25 C27\n440                 NaN\n441                 NaN\n442                 NaN\n443                 NaN\n444                 NaN\n445                 NaN\n446                 A34\n447                 NaN\n448                 NaN\n449                 NaN\n450                C104\n451                 NaN\n452                 NaN\n453                C111\n454                 C92\n455                 NaN\n456                 NaN\n457                 E38\n458                 D21\n459                 NaN\n460                 NaN\n461                 E12\n462                 NaN\n463                 E63\n464                 NaN\n465                 NaN\n466                 NaN\n467                 NaN\n468                 NaN\n469                 NaN\n470                 NaN\n471                 NaN\n472                 NaN\n473                 NaN\n474                   D\n475                 NaN\n476                 A14\n477                 NaN\n478                 NaN\n479                 NaN\n480                 NaN\n481                 NaN\n482                 NaN\n483                 NaN\n484                 NaN\n485                 B49\n486                 NaN\n487                 C93\n488                 B37\n489                 NaN\n490                 NaN\n491                 NaN\n492                 NaN\n493                 C30\n494                 NaN\n495                 NaN\n496                 NaN\n497                 D20\n498                 NaN\n499             C22 C26\n500                 NaN\n501                 NaN\n502                 NaN\n503                 NaN\n504                 NaN\n505                 B79\n506                 C65\n507                 NaN\n508                 NaN\n509                 NaN\n510                 NaN\n511                 NaN\n512                 NaN\n513                 E25\n514                 NaN\n515                 NaN\n516                 D46\n517                 F33\n518                 NaN\n519                 NaN\n520                 NaN\n521                 B73\n522                 NaN\n523                 NaN\n524                 B18\n525                 NaN\n526                 NaN\n527                 NaN\n528                 C95\n529                 NaN\n530                 NaN\n531                 NaN\n532                 NaN\n533                 NaN\n534                 NaN\n535                 NaN\n536                 NaN\n537                 B38\n538                 NaN\n539                 NaN\n540                 B39\n541                 B22\n542                 NaN\n543                 NaN\n544                 NaN\n545                 C86\n546                 NaN\n547                 NaN\n548                 NaN\n549                 NaN\n550                 NaN\n551                 C70\n552                 NaN\n553                 NaN\n554                 NaN\n555                 NaN\n556                 NaN\n557                 A16\n558                 NaN\n559                 E67\n560                 NaN\n561                 NaN\n562                 NaN\n563                 NaN\n564                 NaN\n565                 NaN\n566                 NaN\n567                 NaN\n568                 NaN\n569                 NaN\n570                 NaN\n571                 NaN\n572                C101\n573                 E25\n574                 NaN\n575                 NaN\n576                 NaN\n577                 NaN\n578                 E44\n579                 NaN\n580                 NaN\n581                 NaN\n582                 C68\n583                 NaN\n584                 A10\n585                 NaN\n586                 E68\n587                 NaN\n588                 B41\n589                 NaN\n590                 NaN\n591                 NaN\n592                 D20\n593                 NaN\n594                 NaN\n595                 NaN\n596                 NaN\n597                 NaN\n598                 NaN\n599                 NaN\n600                 A20\n601                 NaN\n602                 NaN\n603                 NaN\n604                 NaN\n605                 NaN\n606                 NaN\n607                 NaN\n608                 NaN\n609                 NaN\n610                C125\n611                 NaN\n612                 NaN\n613                 NaN\n614                 NaN\n615                 NaN\n616                 NaN\n617                 NaN\n618                 NaN\n619                  F4\n620                 NaN\n621                 NaN\n622                 D19\n623                 NaN\n624                 NaN\n625                 NaN\n626                 D50\n627                 NaN\n628                  D9\n629                 NaN\n630                 NaN\n631                 A23\n632                 NaN\n633                 B50\n634                 NaN\n635                 NaN\n636                 NaN\n637                 NaN\n638                 NaN\n639                 NaN\n640                 NaN\n641                 NaN\n642                 B35\n643                 NaN\n644                 NaN\n645                 NaN\n646                 D33\n647                 NaN\n648                 A26\n649                 NaN\n650                 NaN\n651                 NaN\n652                 NaN\n653                 NaN\n654                 NaN\n655                 NaN\n656                 NaN\n657                 NaN\n658                 NaN\n659                 NaN\n660                 D48\n661                 NaN\n662                 NaN\n663                 E58\n664                 NaN\n665                 NaN\n666                 NaN\n667                 NaN\n668                 NaN\n669                 NaN\n670                C126\n671                 NaN\n672                 B71\n673                 NaN\n674                 NaN\n675                 NaN\n676                 NaN\n677                 NaN\n678                 NaN\n679                 NaN\n680         B51 B53 B55\n681                 NaN\n682                 D49\n683                 NaN\n684                 NaN\n685                 NaN\n686                 NaN\n687                 NaN\n688                 NaN\n689                 NaN\n690                  B5\n691                 B20\n692                 NaN\n693                 NaN\n694                 NaN\n695                 NaN\n696                 NaN\n697                 NaN\n698                 NaN\n699                 C68\n700               F G63\n701             C62 C64\n702                 E24\n703                 NaN\n704                 NaN\n705                 NaN\n706                 NaN\n707                 NaN\n708                 E24\n709                 NaN\n710                 NaN\n711                 C90\n712                C124\n713                C126\n714                 NaN\n715                 NaN\n716               F G73\n717                 C45\n718                E101\n719                 NaN\n720                 NaN\n721                 NaN\n722                 NaN\n723                 NaN\n724                 NaN\n725                  E8\n726                 NaN\n727                 NaN\n728                 NaN\n729                 NaN\n730                 NaN\n731                  B5\n732                 NaN\n733                 NaN\n734                 NaN\n735                 NaN\n736                 NaN\n737                 NaN\n738                B101\n739                 NaN\n740                 NaN\n741                 D45\n742                 C46\n743     B57 B59 B63 B66\n744                 NaN\n745                 NaN\n746                 B22\n747                 NaN\n748                 NaN\n749                 D30\n750                 NaN\n751                 NaN\n752                E121\n753                 NaN\n754                 NaN\n755                 NaN\n756                 NaN\n757                 NaN\n758                 NaN\n759                 NaN\n760                 B77\n761                 NaN\n762                 NaN\n763                 NaN\n764             B96 B98\n765                 NaN\n766                 D11\n767                 NaN\n768                 NaN\n769                 NaN\n770                 NaN\n771                 NaN\n772                 NaN\n773                 E77\n774                 NaN\n775                 NaN\n776                 NaN\n777                 F38\n778                 NaN\n779                 NaN\n780                  B3\n781                 NaN\n782                 B20\n783                  D6\n784                 NaN\n785                 NaN\n786                 NaN\n787                 NaN\n788                 NaN\n789                 NaN\n790             B82 B84\n791                 NaN\n792                 NaN\n793                 NaN\n794                 NaN\n795                 NaN\n796                 NaN\n797                 D17\n798                 NaN\n799                 NaN\n800                 NaN\n801                 NaN\n802                 NaN\n803             B96 B98\n804                 NaN\n805                 NaN\n806                 NaN\n807                 A36\n808                 NaN\n809                 NaN\n810                  E8\n811                 NaN\n812                 NaN\n813                 NaN\n814                 NaN\n815                 NaN\n816                B102\n817                 NaN\n818                 NaN\n819                 NaN\n820                 NaN\n821                 B69\n822                 NaN\n823                 NaN\n824                E121\n825                 NaN\n826                 NaN\n827                 NaN\n828                 NaN\n829                 NaN\n830                 B28\n831                 NaN\n832                 NaN\n833                 NaN\n834                 NaN\n835                 NaN\n836                 E49\n837                 NaN\n838                 NaN\n839                 NaN\n840                 C47\n841                 NaN\n842                 NaN\n843                 NaN\n844                 NaN\n845                 NaN\n846                 NaN\n847                 NaN\n848                 NaN\n849                 NaN\n850                 C92\n851                 NaN\n852                 NaN\n853                 NaN\n854                 D28\n855                 NaN\n856                 NaN\n857                 NaN\n858                 E17\n859                 NaN\n860                 NaN\n861                 NaN\n862                 NaN\n863                 D17\n864                 NaN\n865                 NaN\n866                 NaN\n867                 NaN\n868                 A24\n869                 NaN\n870                 NaN\n871                 NaN\n872                 D35\n873         B51 B53 B55\n874                 NaN\n875                 NaN\n876                 NaN\n877                 NaN\n878                 NaN\n879                 NaN\n880                 C50\n881                 NaN\n882                 NaN\n883                 NaN\n884                 NaN\n885                 NaN\n886                 NaN\n887                 NaN\n888                 B42\n889                 NaN\n890                C148\n891                 NaN\n892                 NaN\n893                 NaN\n894                 NaN\n895                 NaN\n896                 NaN\n897                 NaN\n898                 NaN\n899                 NaN\n900                 NaN\n901                 NaN\n902                 NaN\n903                 NaN\n904                 B45\n905                 NaN\n906                 E31\n907                 NaN\n908                 NaN\n909                 NaN\n910                 NaN\n911                 NaN\n912                 NaN\n913                 NaN\n914                 NaN\n915                 NaN\n916     B57 B59 B63 B66\n917                 NaN\n918                 B36\n919                 NaN\n920                 A21\n921                 NaN\n922                 NaN\n923                 NaN\n924                 NaN\n925                 NaN\n926                 C78\n927                 NaN\n928                 NaN\n929                 NaN\n930                 NaN\n931                 NaN\n932                 NaN\n933                 D34\n934                 NaN\n935                 NaN\n936                 D19\n937                 NaN\n938                  A9\n939                 NaN\n940                 D15\n941                 NaN\n942                 C31\n943                 NaN\n944                 NaN\n945         C23 C25 C27\n946                 NaN\n947                 NaN\n948                 NaN\n949               F G63\n950                 NaN\n951                 B61\n952                 NaN\n953                 NaN\n954                 NaN\n955                 NaN\n956     B57 B59 B63 B66\n957                 NaN\n958                 NaN\n959                 NaN\n960                 C53\n961         C23 C25 C27\n962                 NaN\n963                 NaN\n964                 NaN\n965                 D43\n966                C130\n967                C132\n968                 NaN\n969                C101\n970                 NaN\n971                 NaN\n972                 NaN\n973             C55 C57\n974                 NaN\n975                 NaN\n976                 NaN\n977                 NaN\n978                 NaN\n979                 NaN\n980                 NaN\n981                 NaN\n982                 NaN\n983                 NaN\n984                 B71\n985                 NaN\n986                 NaN\n987                 NaN\n988                 C46\n989                 NaN\n990                 NaN\n991                 NaN\n992                C116\n993                 NaN\n994                 NaN\n995                 NaN\n996                 NaN\n997                 NaN\n998                 NaN\n999                 NaN\n1000                NaN\n1001                  F\n1002                NaN\n1003                NaN\n1004                A29\n1005                NaN\n1006            C55 C57\n1007                NaN\n1008                NaN\n1009                 G6\n1010                 C6\n1011                NaN\n1012                NaN\n1013                NaN\n1014                C28\n1015                NaN\n1016                NaN\n1017                NaN\n1018                NaN\n1019                NaN\n1020                NaN\n1021                NaN\n1022                NaN\n1023                C51\n1024                NaN\n1025                NaN\n1026                NaN\n1027                NaN\n1028                NaN\n1029                NaN\n1030                NaN\n1031                NaN\n1032                NaN\n1033                NaN\n1034    B57 B59 B63 B66\n1035                NaN\n1036                NaN\n1037                NaN\n1038                E46\n1039                NaN\n1040                NaN\n1041                NaN\n1042                C54\n1043                NaN\n1044                NaN\n1045                NaN\n1046                NaN\n1047                NaN\n1048                C97\n1049                NaN\n1050                D22\n1051                NaN\n1052                NaN\n1053                NaN\n1054                NaN\n1055                NaN\n1056                NaN\n1057                NaN\n1058                B10\n1059                NaN\n1060                NaN\n1061                NaN\n1062                NaN\n1063                NaN\n1064                NaN\n1065                NaN\n1066                NaN\n1067                NaN\n1068                NaN\n1069               C116\n1070                 F4\n1071                E45\n1072                NaN\n1073                E52\n1074                D30\n1075                NaN\n1076            B58 B60\n1077                NaN\n1078                NaN\n1079                NaN\n1080                NaN\n1081                NaN\n1082                NaN\n1083                NaN\n1084                NaN\n1085                NaN\n1086                NaN\n1087                NaN\n1088                E34\n1089                NaN\n1090                NaN\n1091                NaN\n1092                NaN\n1093                NaN\n1094            C62 C64\n1095                NaN\n1096                NaN\n1097                NaN\n1098                NaN\n1099                NaN\n1100                A11\n1101                NaN\n1102                NaN\n1103                NaN\n1104                NaN\n1105                NaN\n1106                NaN\n1107                B11\n1108                NaN\n1109                NaN\n1110                C80\n1111                NaN\n1112                NaN\n1113                NaN\n1114                F33\n1115                NaN\n1116                NaN\n1117                NaN\n1118                NaN\n1119                NaN\n1120                NaN\n1121                NaN\n1122                NaN\n1123                NaN\n1124                NaN\n1125                NaN\n1126                C85\n1127                NaN\n1128                D37\n1129                NaN\n1130                NaN\n1131                C86\n1132                NaN\n1133                NaN\n1134                E34\n1135                NaN\n1136                NaN\n1137                D21\n1138                NaN\n1139                NaN\n1140                NaN\n1141                NaN\n1142                NaN\n1143                NaN\n1144                C89\n1145                NaN\n1146                NaN\n1147                NaN\n1148                NaN\n1149                NaN\n1150                NaN\n1151                NaN\n1152                NaN\n1153                NaN\n1154                NaN\n1155                NaN\n1156                NaN\n1157                NaN\n1158                NaN\n1159                NaN\n1160                NaN\n1161                NaN\n1162                 C6\n1163                NaN\n1164                C89\n1165                NaN\n1166                NaN\n1167                NaN\n1168                NaN\n1169                NaN\n1170                NaN\n1171                NaN\n1172                NaN\n1173                NaN\n1174                NaN\n1175                NaN\n1176                NaN\n1177                NaN\n1178                NaN\n1179                B45\n1180              F E46\n1181                NaN\n1182                NaN\n1183                NaN\n1184                NaN\n1185                A34\n1186                NaN\n1187                NaN\n1188                NaN\n1189                NaN\n1190                NaN\n1191                NaN\n1192                NaN\n1193                  D\n1194                NaN\n1195                NaN\n1196                NaN\n1197                B26\n1198            C22 C26\n1199                NaN\n1200                B69\n1201                NaN\n1202                NaN\n1203                NaN\n1204                NaN\n1205                NaN\n1206                C32\n1207                NaN\n1208                B78\n1209                NaN\n1210                NaN\n1211                NaN\n1212                NaN\n1213              F E57\n1214                 F2\n1215                NaN\n1216                NaN\n1217                NaN\n1218                 F4\n1219                NaN\n1220                NaN\n1221                NaN\n1222                NaN\n1223                A18\n1224                NaN\n1225                NaN\n1226                NaN\n1227               C106\n1228                NaN\n1229                NaN\n1230                NaN\n1231                NaN\n1232                NaN\n1233                NaN\n1234                NaN\n1235        B51 B53 B55\n1236                NaN\n1237                NaN\n1238                NaN\n1239                NaN\n1240                NaN\n1241                NaN\n1242            D10 D12\n1243                NaN\n1244                NaN\n1245                NaN\n1246                NaN\n1247                E60\n1248               C101\n1249                NaN\n1250                NaN\n1251                NaN\n1252                NaN\n1253                NaN\n1254                NaN\n1255                NaN\n1256                E50\n1257                NaN\n1258                NaN\n1259                NaN\n1260                NaN\n1261                NaN\n1262                NaN\n1263            E39 E41\n1264        B52 B54 B56\n1265                NaN\n1266                A34\n1267                NaN\n1268                NaN\n1269                NaN\n1270                C39\n1271                NaN\n1272                NaN\n1273                NaN\n1274                NaN\n1275                NaN\n1276                NaN\n1277                NaN\n1278                NaN\n1279                NaN\n1280                NaN\n1281                NaN\n1282                B24\n1283                D28\n1284                NaN\n1285                NaN\n1286                NaN\n1287                C31\n1288                NaN\n1289                B41\n1290                NaN\n1291                NaN\n1292                 C7\n1293                NaN\n1294                NaN\n1295                NaN\n1296                D40\n1297                D38\n1298                NaN\n1299                C80\n1300                NaN\n1301                NaN\n1302                NaN\n1303                C78\n1304                NaN\n1305                NaN\n1306               C105\n1307                NaN\n1308                NaN\n1309                NaN\nName: Cabin, dtype: object"
          },
          "metadata": {}
        }
      ]
    },
    {
      "metadata": {
        "trusted": true,
        "_uuid": "e9b6553da9a7ba321e1ecefe70d54950333b9f17"
      },
      "cell_type": "code",
      "source": "#Getting unique cabin\ndf.Cabin.value_counts()",
      "execution_count": 114,
      "outputs": [
        {
          "output_type": "execute_result",
          "execution_count": 114,
          "data": {
            "text/plain": "C23 C25 C27        6\nG6                 5\nB57 B59 B63 B66    5\nF2                 4\nD                  4\nF33                4\nC22 C26            4\nB96 B98            4\nF4                 4\nC78                4\nC101               3\nB58 B60            3\nB51 B53 B55        3\nE34                3\nE101               3\nA34                3\nB77                2\nC124               2\nC125               2\nC32                2\nB28                2\nD17                2\nC106               2\nB41                2\nD33                2\nD37                2\nB22                2\nB18                2\nE121               2\nD35                2\nC80                2\nB78                2\nD36                2\nC62 C64            2\nC65                2\nC85                2\nC31                2\nC46                2\nE25                2\nC123               2\nB45                2\nC89                2\nC116               2\nE24                2\nD15                2\nB20                2\nD21                2\nD20                2\nE44                2\nC52                2\nE46                2\nE31                2\nE33                2\nC86                2\nD19                2\nB69                2\nC93                2\nC6                 2\nC92                2\nE8                 2\nF G73              2\nE50                2\nD28                2\nB5                 2\nC68                2\nC2                 2\nB49                2\nD10 D12            2\nE67                2\nD26                2\nB71                2\nB35                2\nC54                2\nC55 C57            2\nC126               2\nF G63              2\nC7                 2\nD30                2\nC83                2\nC90                1\nC105               1\nA36                1\nC51                1\nC110               1\nB79                1\nE39 E41            1\nB19                1\nA20                1\nC130               1\nC30                1\nA19                1\nA21                1\nC28                1\nC49                1\nC118               1\nB52 B54 B56        1\nE10                1\nC47                1\nB86                1\nD47                1\nE60                1\nC70                1\nB11                1\nE49                1\nD50                1\nB24                1\nD48                1\nB94                1\nC97                1\nB10                1\nE58                1\nB73                1\nB39                1\nD34                1\nD22                1\nA6                 1\nE77                1\nD38                1\nA26                1\nB61                1\nA18                1\nD46                1\nC103               1\nD7                 1\nD56                1\nA7                 1\nD45                1\nC39                1\nB37                1\nD9                 1\nA23                1\nD40                1\nC50                1\nE45                1\nF                  1\nB30                1\nA16                1\nC128               1\nE38                1\nA31                1\nB42                1\nB82 B84            1\nC104               1\nB80                1\nE17                1\nE68                1\nC95                1\nA10                1\nF E46              1\nB36                1\nC148               1\nC87                1\nA5                 1\nF E57              1\nE40                1\nD11                1\nC99                1\nA9                 1\nA29                1\nC91                1\nC82                1\nA24                1\nF38                1\nT                  1\nB50                1\nB4                 1\nD43                1\nC45                1\nE36                1\nE12                1\nB26                1\nA32                1\nF E69              1\nA14                1\nB101               1\nE52                1\nD6                 1\nA11                1\nC111               1\nB38                1\nB102               1\nC132               1\nC53                1\nB3                 1\nD49                1\nE63                1\nName: Cabin, dtype: int64"
          },
          "metadata": {}
        }
      ]
    },
    {
      "metadata": {
        "trusted": true,
        "_uuid": "f6c1f3c4cdd57f7bb06f96f8db712ddfaee8530e"
      },
      "cell_type": "code",
      "source": "#We see that T is odd one out in above observation so we can asume it is mistaken value",
      "execution_count": 115,
      "outputs": []
    },
    {
      "metadata": {
        "trusted": true,
        "_uuid": "7b86a4b0f05066668b5353ac21fe2635bcacc21d"
      },
      "cell_type": "code",
      "source": "# get the value to Nan\ndf.loc[df.Cabin == 'T','Cabin']=np.NaN",
      "execution_count": 116,
      "outputs": []
    },
    {
      "metadata": {
        "trusted": true,
        "_uuid": "c6f10b9abcbb04a88f3581b18f86482104884e86"
      },
      "cell_type": "code",
      "source": "def get_deck(cabin):\n    return np.where(pd.notnull(cabin),str(cabin)[0].upper(),'Z')\n",
      "execution_count": 117,
      "outputs": []
    },
    {
      "metadata": {
        "trusted": true,
        "_uuid": "87e9c4569e709139ef1eb804994a4f25219f5ff6"
      },
      "cell_type": "code",
      "source": "df['Deck'] = df['Cabin'].map(lambda x: get_deck(x))",
      "execution_count": 118,
      "outputs": []
    },
    {
      "metadata": {
        "trusted": true,
        "_uuid": "8a3686dd086f2ee38a5ae57a2344fcbd513abd11"
      },
      "cell_type": "code",
      "source": "# check counts\ndf.Deck.value_counts()",
      "execution_count": 119,
      "outputs": [
        {
          "output_type": "execute_result",
          "execution_count": 119,
          "data": {
            "text/plain": "Z    1015\nC      94\nB      65\nD      46\nE      41\nA      22\nF      21\nG       5\nName: Deck, dtype: int64"
          },
          "metadata": {}
        }
      ]
    },
    {
      "metadata": {
        "trusted": true,
        "_uuid": "e035d833b753b9eb091ee82c23efd985765382b8"
      },
      "cell_type": "code",
      "source": "pd.crosstab(df[df.Survived != -888].Survived,df[df.Survived != -888].Deck)",
      "execution_count": 120,
      "outputs": [
        {
          "output_type": "execute_result",
          "execution_count": 120,
          "data": {
            "text/plain": "Deck      A   B   C   D   E  F  G    Z\nSurvived                              \n0         8  12  24   8   8  5  2  482\n1         7  35  35  25  24  8  2  206",
            "text/html": "<div>\n<style scoped>\n    .dataframe tbody tr th:only-of-type {\n        vertical-align: middle;\n    }\n\n    .dataframe tbody tr th {\n        vertical-align: top;\n    }\n\n    .dataframe thead th {\n        text-align: right;\n    }\n</style>\n<table border=\"1\" class=\"dataframe\">\n  <thead>\n    <tr style=\"text-align: right;\">\n      <th>Deck</th>\n      <th>A</th>\n      <th>B</th>\n      <th>C</th>\n      <th>D</th>\n      <th>E</th>\n      <th>F</th>\n      <th>G</th>\n      <th>Z</th>\n    </tr>\n    <tr>\n      <th>Survived</th>\n      <th></th>\n      <th></th>\n      <th></th>\n      <th></th>\n      <th></th>\n      <th></th>\n      <th></th>\n      <th></th>\n    </tr>\n  </thead>\n  <tbody>\n    <tr>\n      <th>0</th>\n      <td>8</td>\n      <td>12</td>\n      <td>24</td>\n      <td>8</td>\n      <td>8</td>\n      <td>5</td>\n      <td>2</td>\n      <td>482</td>\n    </tr>\n    <tr>\n      <th>1</th>\n      <td>7</td>\n      <td>35</td>\n      <td>35</td>\n      <td>25</td>\n      <td>24</td>\n      <td>8</td>\n      <td>2</td>\n      <td>206</td>\n    </tr>\n  </tbody>\n</table>\n</div>"
          },
          "metadata": {}
        }
      ]
    },
    {
      "metadata": {
        "trusted": true,
        "_uuid": "e75668e4ba9e023c3deff1a2fe3bc899b51ad3ba"
      },
      "cell_type": "code",
      "source": "df.info()",
      "execution_count": 121,
      "outputs": [
        {
          "output_type": "stream",
          "text": "<class 'pandas.core.frame.DataFrame'>\nInt64Index: 1309 entries, 1 to 1309\nData columns (total 17 columns):\nPclass        1309 non-null int64\nName          1309 non-null object\nSex           1309 non-null object\nAge           1309 non-null float64\nSibSp         1309 non-null int64\nParch         1309 non-null int64\nTicket        1309 non-null object\nFare          1309 non-null float64\nCabin         294 non-null object\nEmbarked      1309 non-null object\nSurvived      1309 non-null int64\nTitle         1309 non-null object\nFare_Bin      1309 non-null category\nAgeState      1309 non-null object\nFamilySize    1309 non-null int64\nIsMother      1309 non-null int64\nDeck          1309 non-null object\ndtypes: category(1), float64(2), int64(6), object(8)\nmemory usage: 215.3+ KB\n",
          "name": "stdout"
        }
      ]
    },
    {
      "metadata": {
        "_uuid": "48549f54dc37c21a79ca77f9cdd105a90d5ce459"
      },
      "cell_type": "markdown",
      "source": " <h1>Categorical feature<h1>\n \n "
    },
    {
      "metadata": {
        "trusted": true,
        "_uuid": "edc1f3817af9124035c7b0de469b88b93b03c0e2"
      },
      "cell_type": "code",
      "source": "#sex\ndf['IsMale'] = np.where(df.Sex == 'male',1,0)",
      "execution_count": 122,
      "outputs": []
    },
    {
      "metadata": {
        "trusted": true,
        "_uuid": "6b36f99475a2b4ada40f3bb63522cf6e59dfdc91"
      },
      "cell_type": "code",
      "source": "#columns deck,pclass,title,Agestate\ndf = pd.get_dummies(df,columns=['Deck','Pclass','Title','Fare_Bin','Embarked','AgeState'])",
      "execution_count": 123,
      "outputs": []
    },
    {
      "metadata": {
        "trusted": true,
        "_uuid": "cfc0c88c425661d0c8cfb65aa982a0a78f0fbb47"
      },
      "cell_type": "code",
      "source": "df.info()",
      "execution_count": 124,
      "outputs": [
        {
          "output_type": "stream",
          "text": "<class 'pandas.core.frame.DataFrame'>\nInt64Index: 1309 entries, 1 to 1309\nData columns (total 39 columns):\nName                  1309 non-null object\nSex                   1309 non-null object\nAge                   1309 non-null float64\nSibSp                 1309 non-null int64\nParch                 1309 non-null int64\nTicket                1309 non-null object\nFare                  1309 non-null float64\nCabin                 294 non-null object\nSurvived              1309 non-null int64\nFamilySize            1309 non-null int64\nIsMother              1309 non-null int64\nIsMale                1309 non-null int64\nDeck_A                1309 non-null uint8\nDeck_B                1309 non-null uint8\nDeck_C                1309 non-null uint8\nDeck_D                1309 non-null uint8\nDeck_E                1309 non-null uint8\nDeck_F                1309 non-null uint8\nDeck_G                1309 non-null uint8\nDeck_Z                1309 non-null uint8\nPclass_1              1309 non-null uint8\nPclass_2              1309 non-null uint8\nPclass_3              1309 non-null uint8\nTitle_Lady            1309 non-null uint8\nTitle_Master          1309 non-null uint8\nTitle_Miss            1309 non-null uint8\nTitle_Mr              1309 non-null uint8\nTitle_Mrs             1309 non-null uint8\nTitle_Officer         1309 non-null uint8\nTitle_Sir             1309 non-null uint8\nFare_Bin_very_low     1309 non-null uint8\nFare_Bin_low          1309 non-null uint8\nFare_Bin_high         1309 non-null uint8\nFare_Bin_very_high    1309 non-null uint8\nEmbarked_C            1309 non-null uint8\nEmbarked_Q            1309 non-null uint8\nEmbarked_S            1309 non-null uint8\nAgeState_Adult        1309 non-null uint8\nAgeState_Child        1309 non-null uint8\ndtypes: float64(2), int64(6), object(4), uint8(27)\nmemory usage: 207.5+ KB\n",
          "name": "stdout"
        }
      ]
    },
    {
      "metadata": {
        "_uuid": "06981c25fc62b34258a46e18c520836c3d5b4522"
      },
      "cell_type": "markdown",
      "source": "<h1>**Drop and Reorder Columns**<h1>"
    },
    {
      "metadata": {
        "trusted": true,
        "_uuid": "d29dae479aa3aaca4e2bfd978b42685995df41bd"
      },
      "cell_type": "code",
      "source": "#drop columns",
      "execution_count": 125,
      "outputs": []
    },
    {
      "metadata": {
        "trusted": true,
        "_uuid": "e2c4e2010b5706d8cff98627f0ec8fae476e7b87"
      },
      "cell_type": "code",
      "source": "df.drop(['Cabin','Name','Ticket','Parch','SibSp','Sex'],axis = 1,inplace = True)",
      "execution_count": 126,
      "outputs": []
    },
    {
      "metadata": {
        "trusted": true,
        "_uuid": "e78e9bdb21d3a656afe5c9b69738979a7dbfdf3a"
      },
      "cell_type": "code",
      "source": "#reorder columns\ncolumns = [column for column in df.columns if column != 'Survived']\ncolumns = ['Survived']+columns\ndf = df[columns]",
      "execution_count": 127,
      "outputs": []
    },
    {
      "metadata": {
        "trusted": true,
        "_uuid": "ba5c0de7bf60a710a206d6444e1049fe68bce7ca"
      },
      "cell_type": "code",
      "source": "df.info()",
      "execution_count": 128,
      "outputs": [
        {
          "output_type": "stream",
          "text": "<class 'pandas.core.frame.DataFrame'>\nInt64Index: 1309 entries, 1 to 1309\nData columns (total 33 columns):\nSurvived              1309 non-null int64\nAge                   1309 non-null float64\nFare                  1309 non-null float64\nFamilySize            1309 non-null int64\nIsMother              1309 non-null int64\nIsMale                1309 non-null int64\nDeck_A                1309 non-null uint8\nDeck_B                1309 non-null uint8\nDeck_C                1309 non-null uint8\nDeck_D                1309 non-null uint8\nDeck_E                1309 non-null uint8\nDeck_F                1309 non-null uint8\nDeck_G                1309 non-null uint8\nDeck_Z                1309 non-null uint8\nPclass_1              1309 non-null uint8\nPclass_2              1309 non-null uint8\nPclass_3              1309 non-null uint8\nTitle_Lady            1309 non-null uint8\nTitle_Master          1309 non-null uint8\nTitle_Miss            1309 non-null uint8\nTitle_Mr              1309 non-null uint8\nTitle_Mrs             1309 non-null uint8\nTitle_Officer         1309 non-null uint8\nTitle_Sir             1309 non-null uint8\nFare_Bin_very_low     1309 non-null uint8\nFare_Bin_low          1309 non-null uint8\nFare_Bin_high         1309 non-null uint8\nFare_Bin_very_high    1309 non-null uint8\nEmbarked_C            1309 non-null uint8\nEmbarked_Q            1309 non-null uint8\nEmbarked_S            1309 non-null uint8\nAgeState_Adult        1309 non-null uint8\nAgeState_Child        1309 non-null uint8\ndtypes: float64(2), int64(4), uint8(27)\nmemory usage: 146.1 KB\n",
          "name": "stdout"
        }
      ]
    },
    {
      "metadata": {
        "trusted": true,
        "_uuid": "0d9902e1c0d87b2b9eca821b7b08f8d2e68e01d7"
      },
      "cell_type": "code",
      "source": "df.to_csv('out.csv')#Saving Dataset before making predicting model\n#This would be saved as output in Version folder.",
      "execution_count": 129,
      "outputs": []
    },
    {
      "metadata": {
        "trusted": true,
        "_uuid": "823c220ff0c092b3690bd73400b4dbc65866f826"
      },
      "cell_type": "code",
      "source": "train_df = df.loc[0:891,:]",
      "execution_count": 131,
      "outputs": []
    },
    {
      "metadata": {
        "trusted": true,
        "_uuid": "7cf0757f3dbf2d000180e8a39d6be145759e8c59"
      },
      "cell_type": "code",
      "source": "train_df.info()",
      "execution_count": 132,
      "outputs": [
        {
          "output_type": "stream",
          "text": "<class 'pandas.core.frame.DataFrame'>\nInt64Index: 891 entries, 1 to 891\nData columns (total 33 columns):\nSurvived              891 non-null int64\nAge                   891 non-null float64\nFare                  891 non-null float64\nFamilySize            891 non-null int64\nIsMother              891 non-null int64\nIsMale                891 non-null int64\nDeck_A                891 non-null uint8\nDeck_B                891 non-null uint8\nDeck_C                891 non-null uint8\nDeck_D                891 non-null uint8\nDeck_E                891 non-null uint8\nDeck_F                891 non-null uint8\nDeck_G                891 non-null uint8\nDeck_Z                891 non-null uint8\nPclass_1              891 non-null uint8\nPclass_2              891 non-null uint8\nPclass_3              891 non-null uint8\nTitle_Lady            891 non-null uint8\nTitle_Master          891 non-null uint8\nTitle_Miss            891 non-null uint8\nTitle_Mr              891 non-null uint8\nTitle_Mrs             891 non-null uint8\nTitle_Officer         891 non-null uint8\nTitle_Sir             891 non-null uint8\nFare_Bin_very_low     891 non-null uint8\nFare_Bin_low          891 non-null uint8\nFare_Bin_high         891 non-null uint8\nFare_Bin_very_high    891 non-null uint8\nEmbarked_C            891 non-null uint8\nEmbarked_Q            891 non-null uint8\nEmbarked_S            891 non-null uint8\nAgeState_Adult        891 non-null uint8\nAgeState_Child        891 non-null uint8\ndtypes: float64(2), int64(4), uint8(27)\nmemory usage: 72.2 KB\n",
          "name": "stdout"
        }
      ]
    },
    {
      "metadata": {
        "trusted": true,
        "_uuid": "a33626f1467139f26576bca65e7efba33f68757a"
      },
      "cell_type": "code",
      "source": "train_df.tail()",
      "execution_count": 133,
      "outputs": [
        {
          "output_type": "execute_result",
          "execution_count": 133,
          "data": {
            "text/plain": "             Survived   Age       ...        AgeState_Adult  AgeState_Child\nPassengerId                       ...                                      \n887                 0  27.0       ...                     1               0\n888                 1  19.0       ...                     1               0\n889                 0  22.0       ...                     1               0\n890                 1  26.0       ...                     1               0\n891                 0  32.0       ...                     1               0\n\n[5 rows x 33 columns]",
            "text/html": "<div>\n<style scoped>\n    .dataframe tbody tr th:only-of-type {\n        vertical-align: middle;\n    }\n\n    .dataframe tbody tr th {\n        vertical-align: top;\n    }\n\n    .dataframe thead th {\n        text-align: right;\n    }\n</style>\n<table border=\"1\" class=\"dataframe\">\n  <thead>\n    <tr style=\"text-align: right;\">\n      <th></th>\n      <th>Survived</th>\n      <th>Age</th>\n      <th>Fare</th>\n      <th>FamilySize</th>\n      <th>IsMother</th>\n      <th>IsMale</th>\n      <th>Deck_A</th>\n      <th>Deck_B</th>\n      <th>Deck_C</th>\n      <th>Deck_D</th>\n      <th>Deck_E</th>\n      <th>Deck_F</th>\n      <th>Deck_G</th>\n      <th>Deck_Z</th>\n      <th>Pclass_1</th>\n      <th>Pclass_2</th>\n      <th>Pclass_3</th>\n      <th>Title_Lady</th>\n      <th>Title_Master</th>\n      <th>Title_Miss</th>\n      <th>Title_Mr</th>\n      <th>Title_Mrs</th>\n      <th>Title_Officer</th>\n      <th>Title_Sir</th>\n      <th>Fare_Bin_very_low</th>\n      <th>Fare_Bin_low</th>\n      <th>Fare_Bin_high</th>\n      <th>Fare_Bin_very_high</th>\n      <th>Embarked_C</th>\n      <th>Embarked_Q</th>\n      <th>Embarked_S</th>\n      <th>AgeState_Adult</th>\n      <th>AgeState_Child</th>\n    </tr>\n    <tr>\n      <th>PassengerId</th>\n      <th></th>\n      <th></th>\n      <th></th>\n      <th></th>\n      <th></th>\n      <th></th>\n      <th></th>\n      <th></th>\n      <th></th>\n      <th></th>\n      <th></th>\n      <th></th>\n      <th></th>\n      <th></th>\n      <th></th>\n      <th></th>\n      <th></th>\n      <th></th>\n      <th></th>\n      <th></th>\n      <th></th>\n      <th></th>\n      <th></th>\n      <th></th>\n      <th></th>\n      <th></th>\n      <th></th>\n      <th></th>\n      <th></th>\n      <th></th>\n      <th></th>\n      <th></th>\n      <th></th>\n    </tr>\n  </thead>\n  <tbody>\n    <tr>\n      <th>887</th>\n      <td>0</td>\n      <td>27.0</td>\n      <td>13.00</td>\n      <td>1</td>\n      <td>0</td>\n      <td>1</td>\n      <td>0</td>\n      <td>0</td>\n      <td>0</td>\n      <td>0</td>\n      <td>0</td>\n      <td>0</td>\n      <td>0</td>\n      <td>1</td>\n      <td>0</td>\n      <td>1</td>\n      <td>0</td>\n      <td>0</td>\n      <td>0</td>\n      <td>0</td>\n      <td>0</td>\n      <td>0</td>\n      <td>0</td>\n      <td>1</td>\n      <td>0</td>\n      <td>1</td>\n      <td>0</td>\n      <td>0</td>\n      <td>0</td>\n      <td>0</td>\n      <td>1</td>\n      <td>1</td>\n      <td>0</td>\n    </tr>\n    <tr>\n      <th>888</th>\n      <td>1</td>\n      <td>19.0</td>\n      <td>30.00</td>\n      <td>1</td>\n      <td>0</td>\n      <td>0</td>\n      <td>0</td>\n      <td>1</td>\n      <td>0</td>\n      <td>0</td>\n      <td>0</td>\n      <td>0</td>\n      <td>0</td>\n      <td>0</td>\n      <td>1</td>\n      <td>0</td>\n      <td>0</td>\n      <td>0</td>\n      <td>0</td>\n      <td>1</td>\n      <td>0</td>\n      <td>0</td>\n      <td>0</td>\n      <td>0</td>\n      <td>0</td>\n      <td>0</td>\n      <td>1</td>\n      <td>0</td>\n      <td>0</td>\n      <td>0</td>\n      <td>1</td>\n      <td>1</td>\n      <td>0</td>\n    </tr>\n    <tr>\n      <th>889</th>\n      <td>0</td>\n      <td>22.0</td>\n      <td>23.45</td>\n      <td>4</td>\n      <td>0</td>\n      <td>0</td>\n      <td>0</td>\n      <td>0</td>\n      <td>0</td>\n      <td>0</td>\n      <td>0</td>\n      <td>0</td>\n      <td>0</td>\n      <td>1</td>\n      <td>0</td>\n      <td>0</td>\n      <td>1</td>\n      <td>0</td>\n      <td>0</td>\n      <td>1</td>\n      <td>0</td>\n      <td>0</td>\n      <td>0</td>\n      <td>0</td>\n      <td>0</td>\n      <td>0</td>\n      <td>1</td>\n      <td>0</td>\n      <td>0</td>\n      <td>0</td>\n      <td>1</td>\n      <td>1</td>\n      <td>0</td>\n    </tr>\n    <tr>\n      <th>890</th>\n      <td>1</td>\n      <td>26.0</td>\n      <td>30.00</td>\n      <td>1</td>\n      <td>0</td>\n      <td>1</td>\n      <td>0</td>\n      <td>0</td>\n      <td>1</td>\n      <td>0</td>\n      <td>0</td>\n      <td>0</td>\n      <td>0</td>\n      <td>0</td>\n      <td>1</td>\n      <td>0</td>\n      <td>0</td>\n      <td>0</td>\n      <td>0</td>\n      <td>0</td>\n      <td>1</td>\n      <td>0</td>\n      <td>0</td>\n      <td>0</td>\n      <td>0</td>\n      <td>0</td>\n      <td>1</td>\n      <td>0</td>\n      <td>1</td>\n      <td>0</td>\n      <td>0</td>\n      <td>1</td>\n      <td>0</td>\n    </tr>\n    <tr>\n      <th>891</th>\n      <td>0</td>\n      <td>32.0</td>\n      <td>7.75</td>\n      <td>1</td>\n      <td>0</td>\n      <td>1</td>\n      <td>0</td>\n      <td>0</td>\n      <td>0</td>\n      <td>0</td>\n      <td>0</td>\n      <td>0</td>\n      <td>0</td>\n      <td>1</td>\n      <td>0</td>\n      <td>0</td>\n      <td>1</td>\n      <td>0</td>\n      <td>0</td>\n      <td>0</td>\n      <td>1</td>\n      <td>0</td>\n      <td>0</td>\n      <td>0</td>\n      <td>1</td>\n      <td>0</td>\n      <td>0</td>\n      <td>0</td>\n      <td>0</td>\n      <td>1</td>\n      <td>0</td>\n      <td>1</td>\n      <td>0</td>\n    </tr>\n  </tbody>\n</table>\n</div>"
          },
          "metadata": {}
        }
      ]
    },
    {
      "metadata": {
        "trusted": true,
        "_uuid": "6a2b535dcc8f7cd088e5767d07100dfaf872190f"
      },
      "cell_type": "code",
      "source": "test_df = df.loc[892:,:]",
      "execution_count": 134,
      "outputs": []
    },
    {
      "metadata": {
        "trusted": true,
        "_uuid": "9e25d6020dcbafa59499269633d468a3422d939b"
      },
      "cell_type": "code",
      "source": "test_df.tail()",
      "execution_count": 135,
      "outputs": [
        {
          "output_type": "execute_result",
          "execution_count": 135,
          "data": {
            "text/plain": "             Survived   Age       ...        AgeState_Adult  AgeState_Child\nPassengerId                       ...                                      \n1305             -888  29.0       ...                     1               0\n1306             -888  39.0       ...                     1               0\n1307             -888  38.5       ...                     1               0\n1308             -888  29.0       ...                     1               0\n1309             -888   4.0       ...                     0               1\n\n[5 rows x 33 columns]",
            "text/html": "<div>\n<style scoped>\n    .dataframe tbody tr th:only-of-type {\n        vertical-align: middle;\n    }\n\n    .dataframe tbody tr th {\n        vertical-align: top;\n    }\n\n    .dataframe thead th {\n        text-align: right;\n    }\n</style>\n<table border=\"1\" class=\"dataframe\">\n  <thead>\n    <tr style=\"text-align: right;\">\n      <th></th>\n      <th>Survived</th>\n      <th>Age</th>\n      <th>Fare</th>\n      <th>FamilySize</th>\n      <th>IsMother</th>\n      <th>IsMale</th>\n      <th>Deck_A</th>\n      <th>Deck_B</th>\n      <th>Deck_C</th>\n      <th>Deck_D</th>\n      <th>Deck_E</th>\n      <th>Deck_F</th>\n      <th>Deck_G</th>\n      <th>Deck_Z</th>\n      <th>Pclass_1</th>\n      <th>Pclass_2</th>\n      <th>Pclass_3</th>\n      <th>Title_Lady</th>\n      <th>Title_Master</th>\n      <th>Title_Miss</th>\n      <th>Title_Mr</th>\n      <th>Title_Mrs</th>\n      <th>Title_Officer</th>\n      <th>Title_Sir</th>\n      <th>Fare_Bin_very_low</th>\n      <th>Fare_Bin_low</th>\n      <th>Fare_Bin_high</th>\n      <th>Fare_Bin_very_high</th>\n      <th>Embarked_C</th>\n      <th>Embarked_Q</th>\n      <th>Embarked_S</th>\n      <th>AgeState_Adult</th>\n      <th>AgeState_Child</th>\n    </tr>\n    <tr>\n      <th>PassengerId</th>\n      <th></th>\n      <th></th>\n      <th></th>\n      <th></th>\n      <th></th>\n      <th></th>\n      <th></th>\n      <th></th>\n      <th></th>\n      <th></th>\n      <th></th>\n      <th></th>\n      <th></th>\n      <th></th>\n      <th></th>\n      <th></th>\n      <th></th>\n      <th></th>\n      <th></th>\n      <th></th>\n      <th></th>\n      <th></th>\n      <th></th>\n      <th></th>\n      <th></th>\n      <th></th>\n      <th></th>\n      <th></th>\n      <th></th>\n      <th></th>\n      <th></th>\n      <th></th>\n      <th></th>\n    </tr>\n  </thead>\n  <tbody>\n    <tr>\n      <th>1305</th>\n      <td>-888</td>\n      <td>29.0</td>\n      <td>8.0500</td>\n      <td>1</td>\n      <td>0</td>\n      <td>1</td>\n      <td>0</td>\n      <td>0</td>\n      <td>0</td>\n      <td>0</td>\n      <td>0</td>\n      <td>0</td>\n      <td>0</td>\n      <td>1</td>\n      <td>0</td>\n      <td>0</td>\n      <td>1</td>\n      <td>0</td>\n      <td>0</td>\n      <td>0</td>\n      <td>1</td>\n      <td>0</td>\n      <td>0</td>\n      <td>0</td>\n      <td>0</td>\n      <td>1</td>\n      <td>0</td>\n      <td>0</td>\n      <td>0</td>\n      <td>0</td>\n      <td>1</td>\n      <td>1</td>\n      <td>0</td>\n    </tr>\n    <tr>\n      <th>1306</th>\n      <td>-888</td>\n      <td>39.0</td>\n      <td>108.9000</td>\n      <td>1</td>\n      <td>0</td>\n      <td>0</td>\n      <td>0</td>\n      <td>0</td>\n      <td>1</td>\n      <td>0</td>\n      <td>0</td>\n      <td>0</td>\n      <td>0</td>\n      <td>0</td>\n      <td>1</td>\n      <td>0</td>\n      <td>0</td>\n      <td>1</td>\n      <td>0</td>\n      <td>0</td>\n      <td>0</td>\n      <td>0</td>\n      <td>0</td>\n      <td>0</td>\n      <td>0</td>\n      <td>0</td>\n      <td>0</td>\n      <td>1</td>\n      <td>1</td>\n      <td>0</td>\n      <td>0</td>\n      <td>1</td>\n      <td>0</td>\n    </tr>\n    <tr>\n      <th>1307</th>\n      <td>-888</td>\n      <td>38.5</td>\n      <td>7.2500</td>\n      <td>1</td>\n      <td>0</td>\n      <td>1</td>\n      <td>0</td>\n      <td>0</td>\n      <td>0</td>\n      <td>0</td>\n      <td>0</td>\n      <td>0</td>\n      <td>0</td>\n      <td>1</td>\n      <td>0</td>\n      <td>0</td>\n      <td>1</td>\n      <td>0</td>\n      <td>0</td>\n      <td>0</td>\n      <td>1</td>\n      <td>0</td>\n      <td>0</td>\n      <td>0</td>\n      <td>1</td>\n      <td>0</td>\n      <td>0</td>\n      <td>0</td>\n      <td>0</td>\n      <td>0</td>\n      <td>1</td>\n      <td>1</td>\n      <td>0</td>\n    </tr>\n    <tr>\n      <th>1308</th>\n      <td>-888</td>\n      <td>29.0</td>\n      <td>8.0500</td>\n      <td>1</td>\n      <td>0</td>\n      <td>1</td>\n      <td>0</td>\n      <td>0</td>\n      <td>0</td>\n      <td>0</td>\n      <td>0</td>\n      <td>0</td>\n      <td>0</td>\n      <td>1</td>\n      <td>0</td>\n      <td>0</td>\n      <td>1</td>\n      <td>0</td>\n      <td>0</td>\n      <td>0</td>\n      <td>1</td>\n      <td>0</td>\n      <td>0</td>\n      <td>0</td>\n      <td>0</td>\n      <td>1</td>\n      <td>0</td>\n      <td>0</td>\n      <td>0</td>\n      <td>0</td>\n      <td>1</td>\n      <td>1</td>\n      <td>0</td>\n    </tr>\n    <tr>\n      <th>1309</th>\n      <td>-888</td>\n      <td>4.0</td>\n      <td>22.3583</td>\n      <td>3</td>\n      <td>0</td>\n      <td>1</td>\n      <td>0</td>\n      <td>0</td>\n      <td>0</td>\n      <td>0</td>\n      <td>0</td>\n      <td>0</td>\n      <td>0</td>\n      <td>1</td>\n      <td>0</td>\n      <td>0</td>\n      <td>1</td>\n      <td>0</td>\n      <td>1</td>\n      <td>0</td>\n      <td>0</td>\n      <td>0</td>\n      <td>0</td>\n      <td>0</td>\n      <td>0</td>\n      <td>0</td>\n      <td>1</td>\n      <td>0</td>\n      <td>1</td>\n      <td>0</td>\n      <td>0</td>\n      <td>0</td>\n      <td>1</td>\n    </tr>\n  </tbody>\n</table>\n</div>"
          },
          "metadata": {}
        }
      ]
    },
    {
      "metadata": {
        "_uuid": "1e2094ce55e406f22c845c11a95f97c76a508a6a"
      },
      "cell_type": "markdown",
      "source": "<h1>Building Machine Learning Models<h1>"
    },
    {
      "metadata": {
        "_uuid": "1dcc699e069dddeaca420eef8e17c0c80bd15acc"
      },
      "cell_type": "markdown",
      "source": "Now we will train several Machine Learning models and compare their results. Note that because the dataset does not provide labels for their testing-set, we need to use the predictions on the training set to compare the algorithms with each other. "
    },
    {
      "metadata": {
        "trusted": true,
        "_uuid": "057f6f5090fec2bcae2c08a415aa285c179d0fea"
      },
      "cell_type": "code",
      "source": "X_train = train_df.drop(\"Survived\", axis=1)\nY_train = train_df[\"Survived\"]\nX_test  = test_df.drop(\"Survived\", axis=1).copy()",
      "execution_count": 136,
      "outputs": []
    },
    {
      "metadata": {
        "trusted": true,
        "_uuid": "513800b54be3124ff5e8eacf3f97b34e072d3eb0"
      },
      "cell_type": "code",
      "source": "X_train.head()",
      "execution_count": 137,
      "outputs": [
        {
          "output_type": "execute_result",
          "execution_count": 137,
          "data": {
            "text/plain": "              Age     Fare       ...        AgeState_Adult  AgeState_Child\nPassengerId                      ...                                      \n1            22.0   7.2500       ...                     1               0\n2            38.0  71.2833       ...                     1               0\n3            26.0   7.9250       ...                     1               0\n4            35.0  53.1000       ...                     1               0\n5            35.0   8.0500       ...                     1               0\n\n[5 rows x 32 columns]",
            "text/html": "<div>\n<style scoped>\n    .dataframe tbody tr th:only-of-type {\n        vertical-align: middle;\n    }\n\n    .dataframe tbody tr th {\n        vertical-align: top;\n    }\n\n    .dataframe thead th {\n        text-align: right;\n    }\n</style>\n<table border=\"1\" class=\"dataframe\">\n  <thead>\n    <tr style=\"text-align: right;\">\n      <th></th>\n      <th>Age</th>\n      <th>Fare</th>\n      <th>FamilySize</th>\n      <th>IsMother</th>\n      <th>IsMale</th>\n      <th>Deck_A</th>\n      <th>Deck_B</th>\n      <th>Deck_C</th>\n      <th>Deck_D</th>\n      <th>Deck_E</th>\n      <th>Deck_F</th>\n      <th>Deck_G</th>\n      <th>Deck_Z</th>\n      <th>Pclass_1</th>\n      <th>Pclass_2</th>\n      <th>Pclass_3</th>\n      <th>Title_Lady</th>\n      <th>Title_Master</th>\n      <th>Title_Miss</th>\n      <th>Title_Mr</th>\n      <th>Title_Mrs</th>\n      <th>Title_Officer</th>\n      <th>Title_Sir</th>\n      <th>Fare_Bin_very_low</th>\n      <th>Fare_Bin_low</th>\n      <th>Fare_Bin_high</th>\n      <th>Fare_Bin_very_high</th>\n      <th>Embarked_C</th>\n      <th>Embarked_Q</th>\n      <th>Embarked_S</th>\n      <th>AgeState_Adult</th>\n      <th>AgeState_Child</th>\n    </tr>\n    <tr>\n      <th>PassengerId</th>\n      <th></th>\n      <th></th>\n      <th></th>\n      <th></th>\n      <th></th>\n      <th></th>\n      <th></th>\n      <th></th>\n      <th></th>\n      <th></th>\n      <th></th>\n      <th></th>\n      <th></th>\n      <th></th>\n      <th></th>\n      <th></th>\n      <th></th>\n      <th></th>\n      <th></th>\n      <th></th>\n      <th></th>\n      <th></th>\n      <th></th>\n      <th></th>\n      <th></th>\n      <th></th>\n      <th></th>\n      <th></th>\n      <th></th>\n      <th></th>\n      <th></th>\n      <th></th>\n    </tr>\n  </thead>\n  <tbody>\n    <tr>\n      <th>1</th>\n      <td>22.0</td>\n      <td>7.2500</td>\n      <td>2</td>\n      <td>0</td>\n      <td>1</td>\n      <td>0</td>\n      <td>0</td>\n      <td>0</td>\n      <td>0</td>\n      <td>0</td>\n      <td>0</td>\n      <td>0</td>\n      <td>1</td>\n      <td>0</td>\n      <td>0</td>\n      <td>1</td>\n      <td>0</td>\n      <td>0</td>\n      <td>0</td>\n      <td>1</td>\n      <td>0</td>\n      <td>0</td>\n      <td>0</td>\n      <td>1</td>\n      <td>0</td>\n      <td>0</td>\n      <td>0</td>\n      <td>0</td>\n      <td>0</td>\n      <td>1</td>\n      <td>1</td>\n      <td>0</td>\n    </tr>\n    <tr>\n      <th>2</th>\n      <td>38.0</td>\n      <td>71.2833</td>\n      <td>2</td>\n      <td>0</td>\n      <td>0</td>\n      <td>0</td>\n      <td>0</td>\n      <td>1</td>\n      <td>0</td>\n      <td>0</td>\n      <td>0</td>\n      <td>0</td>\n      <td>0</td>\n      <td>1</td>\n      <td>0</td>\n      <td>0</td>\n      <td>0</td>\n      <td>0</td>\n      <td>0</td>\n      <td>0</td>\n      <td>1</td>\n      <td>0</td>\n      <td>0</td>\n      <td>0</td>\n      <td>0</td>\n      <td>0</td>\n      <td>1</td>\n      <td>1</td>\n      <td>0</td>\n      <td>0</td>\n      <td>1</td>\n      <td>0</td>\n    </tr>\n    <tr>\n      <th>3</th>\n      <td>26.0</td>\n      <td>7.9250</td>\n      <td>1</td>\n      <td>0</td>\n      <td>0</td>\n      <td>0</td>\n      <td>0</td>\n      <td>0</td>\n      <td>0</td>\n      <td>0</td>\n      <td>0</td>\n      <td>0</td>\n      <td>1</td>\n      <td>0</td>\n      <td>0</td>\n      <td>1</td>\n      <td>0</td>\n      <td>0</td>\n      <td>1</td>\n      <td>0</td>\n      <td>0</td>\n      <td>0</td>\n      <td>0</td>\n      <td>0</td>\n      <td>1</td>\n      <td>0</td>\n      <td>0</td>\n      <td>0</td>\n      <td>0</td>\n      <td>1</td>\n      <td>1</td>\n      <td>0</td>\n    </tr>\n    <tr>\n      <th>4</th>\n      <td>35.0</td>\n      <td>53.1000</td>\n      <td>2</td>\n      <td>0</td>\n      <td>0</td>\n      <td>0</td>\n      <td>0</td>\n      <td>1</td>\n      <td>0</td>\n      <td>0</td>\n      <td>0</td>\n      <td>0</td>\n      <td>0</td>\n      <td>1</td>\n      <td>0</td>\n      <td>0</td>\n      <td>0</td>\n      <td>0</td>\n      <td>0</td>\n      <td>0</td>\n      <td>1</td>\n      <td>0</td>\n      <td>0</td>\n      <td>0</td>\n      <td>0</td>\n      <td>0</td>\n      <td>1</td>\n      <td>0</td>\n      <td>0</td>\n      <td>1</td>\n      <td>1</td>\n      <td>0</td>\n    </tr>\n    <tr>\n      <th>5</th>\n      <td>35.0</td>\n      <td>8.0500</td>\n      <td>1</td>\n      <td>0</td>\n      <td>1</td>\n      <td>0</td>\n      <td>0</td>\n      <td>0</td>\n      <td>0</td>\n      <td>0</td>\n      <td>0</td>\n      <td>0</td>\n      <td>1</td>\n      <td>0</td>\n      <td>0</td>\n      <td>1</td>\n      <td>0</td>\n      <td>0</td>\n      <td>0</td>\n      <td>1</td>\n      <td>0</td>\n      <td>0</td>\n      <td>0</td>\n      <td>0</td>\n      <td>1</td>\n      <td>0</td>\n      <td>0</td>\n      <td>0</td>\n      <td>0</td>\n      <td>1</td>\n      <td>1</td>\n      <td>0</td>\n    </tr>\n  </tbody>\n</table>\n</div>"
          },
          "metadata": {}
        }
      ]
    },
    {
      "metadata": {
        "trusted": true,
        "_uuid": "14605efdfa30988b375a9e35e8d8c37dfd33cdf7"
      },
      "cell_type": "code",
      "source": "Y_train.head()",
      "execution_count": 138,
      "outputs": [
        {
          "output_type": "execute_result",
          "execution_count": 138,
          "data": {
            "text/plain": "PassengerId\n1    0\n2    1\n3    1\n4    1\n5    0\nName: Survived, dtype: int64"
          },
          "metadata": {}
        }
      ]
    },
    {
      "metadata": {
        "_uuid": "41aa679a80694a4f816f5208d6b2040364309d1c"
      },
      "cell_type": "markdown",
      "source": "Stochastic Gradient Descent (SGD):"
    },
    {
      "metadata": {
        "trusted": true,
        "_uuid": "28eea3249786c7cc15766e285efe64f3386ed294"
      },
      "cell_type": "code",
      "source": "sgd = linear_model.SGDClassifier(max_iter=5, tol=None)\nsgd.fit(X_train, Y_train)\nY_pred = sgd.predict(X_test)\n\nsgd.score(X_train, Y_train)\n\nacc_sgd = round(sgd.score(X_train, Y_train) * 100, 2);",
      "execution_count": 139,
      "outputs": [
        {
          "output_type": "stream",
          "text": "/opt/conda/lib/python3.6/site-packages/sklearn/linear_model/stochastic_gradient.py:183: FutureWarning: max_iter and tol parameters have been added in SGDClassifier in 0.19. If max_iter is set but tol is left unset, the default value for tol in 0.19 and 0.20 will be None (which is equivalent to -infinity, so it has no effect) but will change in 0.21 to 1e-3. Specify tol to silence this warning.\n  FutureWarning)\n",
          "name": "stderr"
        }
      ]
    },
    {
      "metadata": {
        "_uuid": "69602bd0ee83761cfa337ff0e359adfbf07eb0f1"
      },
      "cell_type": "markdown",
      "source": "Random Forest:"
    },
    {
      "metadata": {
        "trusted": true,
        "_uuid": "8b45469e4f4e2842fa5b14adef9cf2f493459a43"
      },
      "cell_type": "code",
      "source": "random_forest = RandomForestClassifier(n_estimators=100)\nrandom_forest.fit(X_train, Y_train)\n\nY_prediction = random_forest.predict(X_test)\n\nrandom_forest.score(X_train, Y_train)\nacc_random_forest = round(random_forest.score(X_train, Y_train) * 100, 2)",
      "execution_count": 140,
      "outputs": []
    },
    {
      "metadata": {
        "_uuid": "d69ef49bcb225c58948aecb8918cf293e19e9bcd"
      },
      "cell_type": "markdown",
      "source": "Logistic Regression"
    },
    {
      "metadata": {
        "trusted": true,
        "_uuid": "f35756064f3b02780e8175b260a98c354089fa34"
      },
      "cell_type": "code",
      "source": "logreg = LogisticRegression()\nlogreg.fit(X_train, Y_train)\n\nY_pred = logreg.predict(X_test)\n\nacc_log = round(logreg.score(X_train, Y_train) * 100, 2)",
      "execution_count": 141,
      "outputs": [
        {
          "output_type": "stream",
          "text": "/opt/conda/lib/python3.6/site-packages/sklearn/linear_model/logistic.py:433: FutureWarning: Default solver will be changed to 'lbfgs' in 0.22. Specify a solver to silence this warning.\n  FutureWarning)\n",
          "name": "stderr"
        }
      ]
    },
    {
      "metadata": {
        "_uuid": "3dedcc65ce3129c68c8c8d03951496009d235862"
      },
      "cell_type": "markdown",
      "source": "K Nearest Neighbor:"
    },
    {
      "metadata": {
        "trusted": true,
        "_uuid": "8b162da161c87f4dfa03c7b161db0c670b2e0d8a"
      },
      "cell_type": "code",
      "source": "from sklearn.neighbors import KNeighborsClassifier",
      "execution_count": 142,
      "outputs": []
    },
    {
      "metadata": {
        "trusted": true,
        "_uuid": "6888342f963a36de136898bd4f8e7a0a9e932d24"
      },
      "cell_type": "code",
      "source": "knn = KNeighborsClassifier(n_neighbors = 3)\nknn.fit(X_train, Y_train)\n\nY_pred = knn.predict(X_test)  \nacc_knn = round(knn.score(X_train, Y_train) * 100, 2)",
      "execution_count": 143,
      "outputs": []
    },
    {
      "metadata": {
        "_uuid": "520bb5a2ccb6f568d849f261b8d0cee81d8bbb14"
      },
      "cell_type": "markdown",
      "source": "Gaussian Naive Bayes:"
    },
    {
      "metadata": {
        "trusted": true,
        "_uuid": "315736acece79cd65569ff3c0b213d8ebf685128"
      },
      "cell_type": "code",
      "source": "gaussian = GaussianNB()\ngaussian.fit(X_train, Y_train)\nY_pred = gaussian.predict(X_test)\nacc_gaussian = round(gaussian.score(X_train, Y_train) * 100, 2)",
      "execution_count": 144,
      "outputs": []
    },
    {
      "metadata": {
        "_uuid": "824d31fccd230200a70e8782194fc0f0f3322f17"
      },
      "cell_type": "markdown",
      "source": "Perceptron:"
    },
    {
      "metadata": {
        "trusted": true,
        "_uuid": "34461014f7fa168aad1e7b631a163aa3f816ade8"
      },
      "cell_type": "code",
      "source": "perceptron = Perceptron(max_iter=5)\nperceptron.fit(X_train, Y_train)\n\nY_pred = perceptron.predict(X_test)\n\nacc_perceptron = round(perceptron.score(X_train, Y_train) * 100, 2)",
      "execution_count": 145,
      "outputs": [
        {
          "output_type": "stream",
          "text": "/opt/conda/lib/python3.6/site-packages/sklearn/linear_model/stochastic_gradient.py:183: FutureWarning: max_iter and tol parameters have been added in Perceptron in 0.19. If max_iter is set but tol is left unset, the default value for tol in 0.19 and 0.20 will be None (which is equivalent to -infinity, so it has no effect) but will change in 0.21 to 1e-3. Specify tol to silence this warning.\n  FutureWarning)\n",
          "name": "stderr"
        }
      ]
    },
    {
      "metadata": {
        "_uuid": "61c2cc6779bdf0e8e1e8751813c4dd6d14216ec5"
      },
      "cell_type": "markdown",
      "source": "Linear Support Vector Machine:"
    },
    {
      "metadata": {
        "trusted": true,
        "_uuid": "67287b794ab7f6a2fcbf27907d373f6bffcbc526"
      },
      "cell_type": "code",
      "source": "linear_svc = LinearSVC()\nlinear_svc.fit(X_train, Y_train)\n\nY_pred = linear_svc.predict(X_test)\n\nacc_linear_svc = round(linear_svc.score(X_train, Y_train) * 100, 2)",
      "execution_count": 146,
      "outputs": [
        {
          "output_type": "stream",
          "text": "/opt/conda/lib/python3.6/site-packages/sklearn/svm/base.py:931: ConvergenceWarning: Liblinear failed to converge, increase the number of iterations.\n  \"the number of iterations.\", ConvergenceWarning)\n",
          "name": "stderr"
        }
      ]
    },
    {
      "metadata": {
        "_uuid": "675a7df9ba987232d0237527bc3a19ff9f4b27eb"
      },
      "cell_type": "markdown",
      "source": "Decision Tree"
    },
    {
      "metadata": {
        "_uuid": "6bce721758e2159890ac28fe3fe6ab33f4c59675"
      },
      "cell_type": "markdown",
      "source": "from sklearn import tree"
    },
    {
      "metadata": {
        "trusted": true,
        "_uuid": "1fcef2cf9d207a09b28dd21161892ff918abef4d"
      },
      "cell_type": "code",
      "source": "from sklearn import tree\ndecision_tree = tree.DecisionTreeClassifier()\ndecision_tree.fit(X_train, Y_train)\nY_pred = decision_tree.predict(X_test)  \nacc_decision_tree = round(decision_tree.score(X_train, Y_train) * 100, 2)",
      "execution_count": 147,
      "outputs": []
    },
    {
      "metadata": {
        "trusted": true,
        "_uuid": "3bbbc60ae52c7c4b32b3e504e9cb1e6b373b2f3b"
      },
      "cell_type": "code",
      "source": "results = pd.DataFrame({\n    'Model': ['Support Vector Machines', 'KNN', 'Logistic Regression', \n              'Random Forest', 'Naive Bayes', 'Perceptron', \n              'Stochastic Gradient Decent', \n              'Decision Tree'],\n    'Score': [acc_linear_svc, acc_knn, acc_log, \n              acc_random_forest, acc_gaussian, acc_perceptron, \n              acc_sgd, acc_decision_tree]})\nresult_df = results.sort_values(by='Score', ascending=False)\nresult_df = result_df.set_index('Score')\nresult_df.head(9)",
      "execution_count": 148,
      "outputs": [
        {
          "output_type": "execute_result",
          "execution_count": 148,
          "data": {
            "text/plain": "                            Model\nScore                            \n98.32               Random Forest\n98.32               Decision Tree\n84.96                         KNN\n83.84         Logistic Regression\n77.10                 Naive Bayes\n70.93                  Perceptron\n69.92  Stochastic Gradient Decent\n67.23     Support Vector Machines",
            "text/html": "<div>\n<style scoped>\n    .dataframe tbody tr th:only-of-type {\n        vertical-align: middle;\n    }\n\n    .dataframe tbody tr th {\n        vertical-align: top;\n    }\n\n    .dataframe thead th {\n        text-align: right;\n    }\n</style>\n<table border=\"1\" class=\"dataframe\">\n  <thead>\n    <tr style=\"text-align: right;\">\n      <th></th>\n      <th>Model</th>\n    </tr>\n    <tr>\n      <th>Score</th>\n      <th></th>\n    </tr>\n  </thead>\n  <tbody>\n    <tr>\n      <th>98.32</th>\n      <td>Random Forest</td>\n    </tr>\n    <tr>\n      <th>98.32</th>\n      <td>Decision Tree</td>\n    </tr>\n    <tr>\n      <th>84.96</th>\n      <td>KNN</td>\n    </tr>\n    <tr>\n      <th>83.84</th>\n      <td>Logistic Regression</td>\n    </tr>\n    <tr>\n      <th>77.10</th>\n      <td>Naive Bayes</td>\n    </tr>\n    <tr>\n      <th>70.93</th>\n      <td>Perceptron</td>\n    </tr>\n    <tr>\n      <th>69.92</th>\n      <td>Stochastic Gradient Decent</td>\n    </tr>\n    <tr>\n      <th>67.23</th>\n      <td>Support Vector Machines</td>\n    </tr>\n  </tbody>\n</table>\n</div>"
          },
          "metadata": {}
        }
      ]
    },
    {
      "metadata": {
        "trusted": true,
        "_uuid": "f1f4f00bf7281afc37c5a89354c3e8b06d9aeba8"
      },
      "cell_type": "code",
      "source": "random_forest = RandomForestClassifier(n_estimators=100)\nrandom_forest.fit(X_train, Y_train)\n\nY_prediction = random_forest.predict(X_test)\n\nrandom_forest.score(X_train, Y_train)\nacc_random_forest = round(random_forest.score(X_train, Y_train) * 100, 2)",
      "execution_count": 149,
      "outputs": []
    },
    {
      "metadata": {
        "trusted": true,
        "_uuid": "fc1769e952ce0bc2d9644fd906a354776dd3a457"
      },
      "cell_type": "code",
      "source": "df_result = pd.DataFrame(Y_prediction)\n",
      "execution_count": 152,
      "outputs": []
    },
    {
      "metadata": {
        "trusted": true,
        "scrolled": false,
        "_uuid": "e16cd68d916241736ec3b4d20721c917eeaaabf4"
      },
      "cell_type": "code",
      "source": "test_df.index",
      "execution_count": 153,
      "outputs": [
        {
          "output_type": "execute_result",
          "execution_count": 153,
          "data": {
            "text/plain": "Int64Index([ 892,  893,  894,  895,  896,  897,  898,  899,  900,  901,\n            ...\n            1300, 1301, 1302, 1303, 1304, 1305, 1306, 1307, 1308, 1309],\n           dtype='int64', name='PassengerId', length=418)"
          },
          "metadata": {}
        }
      ]
    },
    {
      "metadata": {
        "trusted": true,
        "_uuid": "3803ae3d32656e2112d41bee53ac3f6d4e84702f"
      },
      "cell_type": "code",
      "source": "df_result.head()",
      "execution_count": 165,
      "outputs": [
        {
          "output_type": "execute_result",
          "execution_count": 165,
          "data": {
            "text/plain": "             Survived\nPassengerId          \n892                 0\n893                 0\n894                 0\n895                 1\n896                 1",
            "text/html": "<div>\n<style scoped>\n    .dataframe tbody tr th:only-of-type {\n        vertical-align: middle;\n    }\n\n    .dataframe tbody tr th {\n        vertical-align: top;\n    }\n\n    .dataframe thead th {\n        text-align: right;\n    }\n</style>\n<table border=\"1\" class=\"dataframe\">\n  <thead>\n    <tr style=\"text-align: right;\">\n      <th></th>\n      <th>Survived</th>\n    </tr>\n    <tr>\n      <th>PassengerId</th>\n      <th></th>\n    </tr>\n  </thead>\n  <tbody>\n    <tr>\n      <th>892</th>\n      <td>0</td>\n    </tr>\n    <tr>\n      <th>893</th>\n      <td>0</td>\n    </tr>\n    <tr>\n      <th>894</th>\n      <td>0</td>\n    </tr>\n    <tr>\n      <th>895</th>\n      <td>1</td>\n    </tr>\n    <tr>\n      <th>896</th>\n      <td>1</td>\n    </tr>\n  </tbody>\n</table>\n</div>"
          },
          "metadata": {}
        }
      ]
    },
    {
      "metadata": {
        "trusted": true,
        "_uuid": "aa1c756762e8bcbfa2bcf869622033cc65fd5706"
      },
      "cell_type": "code",
      "source": "Index=pd.DataFrame(test_df.index)",
      "execution_count": 155,
      "outputs": []
    },
    {
      "metadata": {
        "trusted": true,
        "_uuid": "c0858ffb94324b7a4bbf9687a921a1651a5d47fd"
      },
      "cell_type": "code",
      "source": "df_result['PassengerId']=Index",
      "execution_count": 156,
      "outputs": []
    },
    {
      "metadata": {
        "trusted": true,
        "scrolled": false,
        "_uuid": "2794f40f6d5ace1ea4cd170a99c2f67d61fbb82d"
      },
      "cell_type": "code",
      "source": "df_result",
      "execution_count": 157,
      "outputs": [
        {
          "output_type": "execute_result",
          "execution_count": 157,
          "data": {
            "text/plain": "     0  PassengerId\n0    0          892\n1    0          893\n2    0          894\n3    1          895\n4    1          896\n5    0          897\n6    0          898\n7    0          899\n8    1          900\n9    0          901\n10   0          902\n11   0          903\n12   1          904\n13   0          905\n14   1          906\n15   1          907\n16   0          908\n17   1          909\n18   0          910\n19   1          911\n20   0          912\n21   1          913\n22   1          914\n23   0          915\n24   1          916\n25   0          917\n26   1          918\n27   1          919\n28   1          920\n29   0          921\n30   0          922\n31   0          923\n32   1          924\n33   1          925\n34   0          926\n35   1          927\n36   0          928\n37   0          929\n38   0          930\n39   1          931\n40   0          932\n41   1          933\n42   0          934\n43   1          935\n44   1          936\n45   0          937\n46   1          938\n47   0          939\n48   1          940\n49   1          941\n50   0          942\n51   0          943\n52   1          944\n53   1          945\n54   0          946\n55   0          947\n56   0          948\n57   0          949\n58   0          950\n59   1          951\n60   0          952\n61   0          953\n62   0          954\n63   1          955\n64   1          956\n65   1          957\n66   1          958\n67   0          959\n68   0          960\n69   1          961\n70   1          962\n71   0          963\n72   1          964\n73   1          965\n74   1          966\n75   0          967\n76   0          968\n77   1          969\n78   0          970\n79   1          971\n80   1          972\n81   0          973\n82   0          974\n83   0          975\n84   0          976\n85   0          977\n86   1          978\n87   0          979\n88   1          980\n89   1          981\n90   1          982\n91   0          983\n92   1          984\n93   0          985\n94   0          986\n95   0          987\n96   1          988\n97   1          989\n98   1          990\n99   0          991\n100  1          992\n101  0          993\n102  0          994\n103  0          995\n104  1          996\n105  0          997\n106  0          998\n107  0          999\n108  0         1000\n109  0         1001\n110  0         1002\n111  1         1003\n112  1         1004\n113  0         1005\n114  1         1006\n115  0         1007\n116  0         1008\n117  1         1009\n118  0         1010\n119  1         1011\n120  1         1012\n121  0         1013\n122  1         1014\n123  0         1015\n124  0         1016\n125  0         1017\n126  0         1018\n127  1         1019\n128  1         1020\n129  0         1021\n130  0         1022\n131  1         1023\n132  0         1024\n133  0         1025\n134  0         1026\n135  0         1027\n136  0         1028\n137  0         1029\n138  0         1030\n139  0         1031\n140  0         1032\n141  1         1033\n142  1         1034\n143  0         1035\n144  1         1036\n145  0         1037\n146  0         1038\n147  0         1039\n148  1         1040\n149  0         1041\n150  1         1042\n151  0         1043\n152  0         1044\n153  0         1045\n154  0         1046\n155  0         1047\n156  1         1048\n157  1         1049\n158  1         1050\n159  1         1051\n160  1         1052\n161  1         1053\n162  1         1054\n163  0         1055\n164  0         1056\n165  0         1057\n166  0         1058\n167  0         1059\n168  1         1060\n169  0         1061\n170  0         1062\n171  0         1063\n172  0         1064\n173  0         1065\n174  0         1066\n175  1         1067\n176  1         1068\n177  0         1069\n178  1         1070\n179  1         1071\n180  0         1072\n181  0         1073\n182  1         1074\n183  0         1075\n184  1         1076\n185  0         1077\n186  1         1078\n187  0         1079\n188  0         1080\n189  0         1081\n190  0         1082\n191  0         1083\n192  1         1084\n193  0         1085\n194  1         1086\n195  0         1087\n196  1         1088\n197  0         1089\n198  0         1090\n199  0         1091\n200  1         1092\n201  1         1093\n202  1         1094\n203  1         1095\n204  0         1096\n205  0         1097\n206  0         1098\n207  0         1099\n208  1         1100\n209  0         1101\n210  0         1102\n211  0         1103\n212  0         1104\n213  0         1105\n214  0         1106\n215  0         1107\n216  1         1108\n217  0         1109\n218  1         1110\n219  0         1111\n220  1         1112\n221  0         1113\n222  1         1114\n223  1         1115\n224  1         1116\n225  0         1117\n226  0         1118\n227  1         1119\n228  0         1120\n229  0         1121\n230  0         1122\n231  1         1123\n232  0         1124\n233  0         1125\n234  1         1126\n235  0         1127\n236  0         1128\n237  1         1129\n238  1         1130\n239  1         1131\n240  1         1132\n241  1         1133\n242  0         1134\n243  0         1135\n244  1         1136\n245  1         1137\n246  1         1138\n247  0         1139\n248  1         1140\n249  0         1141\n250  1         1142\n251  0         1143\n252  0         1144\n253  0         1145\n254  0         1146\n255  0         1147\n256  0         1148\n257  0         1149\n258  1         1150\n259  0         1151\n260  0         1152\n261  0         1153\n262  1         1154\n263  1         1155\n264  0         1156\n265  0         1157\n266  0         1158\n267  0         1159\n268  0         1160\n269  0         1161\n270  0         1162\n271  0         1163\n272  1         1164\n273  1         1165\n274  0         1166\n275  1         1167\n276  0         1168\n277  0         1169\n278  0         1170\n279  0         1171\n280  0         1172\n281  1         1173\n282  1         1174\n283  0         1175\n284  1         1176\n285  0         1177\n286  0         1178\n287  1         1179\n288  0         1180\n289  0         1181\n290  0         1182\n291  0         1183\n292  0         1184\n293  1         1185\n294  0         1186\n295  0         1187\n296  1         1188\n297  0         1189\n298  0         1190\n299  0         1191\n300  0         1192\n301  0         1193\n302  0         1194\n303  0         1195\n304  1         1196\n305  1         1197\n306  0         1198\n307  1         1199\n308  1         1200\n309  0         1201\n310  0         1202\n311  1         1203\n312  0         1204\n313  0         1205\n314  1         1206\n315  1         1207\n316  0         1208\n317  0         1209\n318  0         1210\n319  0         1211\n320  0         1212\n321  0         1213\n322  0         1214\n323  1         1215\n324  1         1216\n325  0         1217\n326  1         1218\n327  0         1219\n328  0         1220\n329  0         1221\n330  1         1222\n331  1         1223\n332  0         1224\n333  1         1225\n334  0         1226\n335  0         1227\n336  1         1228\n337  0         1229\n338  0         1230\n339  1         1231\n340  0         1232\n341  0         1233\n342  0         1234\n343  1         1235\n344  1         1236\n345  0         1237\n346  0         1238\n347  1         1239\n348  0         1240\n349  1         1241\n350  1         1242\n351  0         1243\n352  0         1244\n353  0         1245\n354  1         1246\n355  1         1247\n356  1         1248\n357  0         1249\n358  0         1250\n359  1         1251\n360  0         1252\n361  1         1253\n362  1         1254\n363  1         1255\n364  1         1256\n365  0         1257\n366  0         1258\n367  0         1259\n368  1         1260\n369  1         1261\n370  0         1262\n371  1         1263\n372  0         1264\n373  1         1265\n374  1         1266\n375  1         1267\n376  0         1268\n377  0         1269\n378  0         1270\n379  1         1271\n380  0         1272\n381  0         1273\n382  1         1274\n383  0         1275\n384  1         1276\n385  1         1277\n386  0         1278\n387  0         1279\n388  0         1280\n389  0         1281\n390  0         1282\n391  1         1283\n392  1         1284\n393  0         1285\n394  0         1286\n395  1         1287\n396  0         1288\n397  1         1289\n398  0         1290\n399  0         1291\n400  1         1292\n401  0         1293\n402  1         1294\n403  0         1295\n404  0         1296\n405  0         1297\n406  0         1298\n407  0         1299\n408  1         1300\n409  1         1301\n410  1         1302\n411  1         1303\n412  0         1304\n413  0         1305\n414  1         1306\n415  0         1307\n416  0         1308\n417  1         1309",
            "text/html": "<div>\n<style scoped>\n    .dataframe tbody tr th:only-of-type {\n        vertical-align: middle;\n    }\n\n    .dataframe tbody tr th {\n        vertical-align: top;\n    }\n\n    .dataframe thead th {\n        text-align: right;\n    }\n</style>\n<table border=\"1\" class=\"dataframe\">\n  <thead>\n    <tr style=\"text-align: right;\">\n      <th></th>\n      <th>0</th>\n      <th>PassengerId</th>\n    </tr>\n  </thead>\n  <tbody>\n    <tr>\n      <th>0</th>\n      <td>0</td>\n      <td>892</td>\n    </tr>\n    <tr>\n      <th>1</th>\n      <td>0</td>\n      <td>893</td>\n    </tr>\n    <tr>\n      <th>2</th>\n      <td>0</td>\n      <td>894</td>\n    </tr>\n    <tr>\n      <th>3</th>\n      <td>1</td>\n      <td>895</td>\n    </tr>\n    <tr>\n      <th>4</th>\n      <td>1</td>\n      <td>896</td>\n    </tr>\n    <tr>\n      <th>5</th>\n      <td>0</td>\n      <td>897</td>\n    </tr>\n    <tr>\n      <th>6</th>\n      <td>0</td>\n      <td>898</td>\n    </tr>\n    <tr>\n      <th>7</th>\n      <td>0</td>\n      <td>899</td>\n    </tr>\n    <tr>\n      <th>8</th>\n      <td>1</td>\n      <td>900</td>\n    </tr>\n    <tr>\n      <th>9</th>\n      <td>0</td>\n      <td>901</td>\n    </tr>\n    <tr>\n      <th>10</th>\n      <td>0</td>\n      <td>902</td>\n    </tr>\n    <tr>\n      <th>11</th>\n      <td>0</td>\n      <td>903</td>\n    </tr>\n    <tr>\n      <th>12</th>\n      <td>1</td>\n      <td>904</td>\n    </tr>\n    <tr>\n      <th>13</th>\n      <td>0</td>\n      <td>905</td>\n    </tr>\n    <tr>\n      <th>14</th>\n      <td>1</td>\n      <td>906</td>\n    </tr>\n    <tr>\n      <th>15</th>\n      <td>1</td>\n      <td>907</td>\n    </tr>\n    <tr>\n      <th>16</th>\n      <td>0</td>\n      <td>908</td>\n    </tr>\n    <tr>\n      <th>17</th>\n      <td>1</td>\n      <td>909</td>\n    </tr>\n    <tr>\n      <th>18</th>\n      <td>0</td>\n      <td>910</td>\n    </tr>\n    <tr>\n      <th>19</th>\n      <td>1</td>\n      <td>911</td>\n    </tr>\n    <tr>\n      <th>20</th>\n      <td>0</td>\n      <td>912</td>\n    </tr>\n    <tr>\n      <th>21</th>\n      <td>1</td>\n      <td>913</td>\n    </tr>\n    <tr>\n      <th>22</th>\n      <td>1</td>\n      <td>914</td>\n    </tr>\n    <tr>\n      <th>23</th>\n      <td>0</td>\n      <td>915</td>\n    </tr>\n    <tr>\n      <th>24</th>\n      <td>1</td>\n      <td>916</td>\n    </tr>\n    <tr>\n      <th>25</th>\n      <td>0</td>\n      <td>917</td>\n    </tr>\n    <tr>\n      <th>26</th>\n      <td>1</td>\n      <td>918</td>\n    </tr>\n    <tr>\n      <th>27</th>\n      <td>1</td>\n      <td>919</td>\n    </tr>\n    <tr>\n      <th>28</th>\n      <td>1</td>\n      <td>920</td>\n    </tr>\n    <tr>\n      <th>29</th>\n      <td>0</td>\n      <td>921</td>\n    </tr>\n    <tr>\n      <th>30</th>\n      <td>0</td>\n      <td>922</td>\n    </tr>\n    <tr>\n      <th>31</th>\n      <td>0</td>\n      <td>923</td>\n    </tr>\n    <tr>\n      <th>32</th>\n      <td>1</td>\n      <td>924</td>\n    </tr>\n    <tr>\n      <th>33</th>\n      <td>1</td>\n      <td>925</td>\n    </tr>\n    <tr>\n      <th>34</th>\n      <td>0</td>\n      <td>926</td>\n    </tr>\n    <tr>\n      <th>35</th>\n      <td>1</td>\n      <td>927</td>\n    </tr>\n    <tr>\n      <th>36</th>\n      <td>0</td>\n      <td>928</td>\n    </tr>\n    <tr>\n      <th>37</th>\n      <td>0</td>\n      <td>929</td>\n    </tr>\n    <tr>\n      <th>38</th>\n      <td>0</td>\n      <td>930</td>\n    </tr>\n    <tr>\n      <th>39</th>\n      <td>1</td>\n      <td>931</td>\n    </tr>\n    <tr>\n      <th>40</th>\n      <td>0</td>\n      <td>932</td>\n    </tr>\n    <tr>\n      <th>41</th>\n      <td>1</td>\n      <td>933</td>\n    </tr>\n    <tr>\n      <th>42</th>\n      <td>0</td>\n      <td>934</td>\n    </tr>\n    <tr>\n      <th>43</th>\n      <td>1</td>\n      <td>935</td>\n    </tr>\n    <tr>\n      <th>44</th>\n      <td>1</td>\n      <td>936</td>\n    </tr>\n    <tr>\n      <th>45</th>\n      <td>0</td>\n      <td>937</td>\n    </tr>\n    <tr>\n      <th>46</th>\n      <td>1</td>\n      <td>938</td>\n    </tr>\n    <tr>\n      <th>47</th>\n      <td>0</td>\n      <td>939</td>\n    </tr>\n    <tr>\n      <th>48</th>\n      <td>1</td>\n      <td>940</td>\n    </tr>\n    <tr>\n      <th>49</th>\n      <td>1</td>\n      <td>941</td>\n    </tr>\n    <tr>\n      <th>50</th>\n      <td>0</td>\n      <td>942</td>\n    </tr>\n    <tr>\n      <th>51</th>\n      <td>0</td>\n      <td>943</td>\n    </tr>\n    <tr>\n      <th>52</th>\n      <td>1</td>\n      <td>944</td>\n    </tr>\n    <tr>\n      <th>53</th>\n      <td>1</td>\n      <td>945</td>\n    </tr>\n    <tr>\n      <th>54</th>\n      <td>0</td>\n      <td>946</td>\n    </tr>\n    <tr>\n      <th>55</th>\n      <td>0</td>\n      <td>947</td>\n    </tr>\n    <tr>\n      <th>56</th>\n      <td>0</td>\n      <td>948</td>\n    </tr>\n    <tr>\n      <th>57</th>\n      <td>0</td>\n      <td>949</td>\n    </tr>\n    <tr>\n      <th>58</th>\n      <td>0</td>\n      <td>950</td>\n    </tr>\n    <tr>\n      <th>59</th>\n      <td>1</td>\n      <td>951</td>\n    </tr>\n    <tr>\n      <th>60</th>\n      <td>0</td>\n      <td>952</td>\n    </tr>\n    <tr>\n      <th>61</th>\n      <td>0</td>\n      <td>953</td>\n    </tr>\n    <tr>\n      <th>62</th>\n      <td>0</td>\n      <td>954</td>\n    </tr>\n    <tr>\n      <th>63</th>\n      <td>1</td>\n      <td>955</td>\n    </tr>\n    <tr>\n      <th>64</th>\n      <td>1</td>\n      <td>956</td>\n    </tr>\n    <tr>\n      <th>65</th>\n      <td>1</td>\n      <td>957</td>\n    </tr>\n    <tr>\n      <th>66</th>\n      <td>1</td>\n      <td>958</td>\n    </tr>\n    <tr>\n      <th>67</th>\n      <td>0</td>\n      <td>959</td>\n    </tr>\n    <tr>\n      <th>68</th>\n      <td>0</td>\n      <td>960</td>\n    </tr>\n    <tr>\n      <th>69</th>\n      <td>1</td>\n      <td>961</td>\n    </tr>\n    <tr>\n      <th>70</th>\n      <td>1</td>\n      <td>962</td>\n    </tr>\n    <tr>\n      <th>71</th>\n      <td>0</td>\n      <td>963</td>\n    </tr>\n    <tr>\n      <th>72</th>\n      <td>1</td>\n      <td>964</td>\n    </tr>\n    <tr>\n      <th>73</th>\n      <td>1</td>\n      <td>965</td>\n    </tr>\n    <tr>\n      <th>74</th>\n      <td>1</td>\n      <td>966</td>\n    </tr>\n    <tr>\n      <th>75</th>\n      <td>0</td>\n      <td>967</td>\n    </tr>\n    <tr>\n      <th>76</th>\n      <td>0</td>\n      <td>968</td>\n    </tr>\n    <tr>\n      <th>77</th>\n      <td>1</td>\n      <td>969</td>\n    </tr>\n    <tr>\n      <th>78</th>\n      <td>0</td>\n      <td>970</td>\n    </tr>\n    <tr>\n      <th>79</th>\n      <td>1</td>\n      <td>971</td>\n    </tr>\n    <tr>\n      <th>80</th>\n      <td>1</td>\n      <td>972</td>\n    </tr>\n    <tr>\n      <th>81</th>\n      <td>0</td>\n      <td>973</td>\n    </tr>\n    <tr>\n      <th>82</th>\n      <td>0</td>\n      <td>974</td>\n    </tr>\n    <tr>\n      <th>83</th>\n      <td>0</td>\n      <td>975</td>\n    </tr>\n    <tr>\n      <th>84</th>\n      <td>0</td>\n      <td>976</td>\n    </tr>\n    <tr>\n      <th>85</th>\n      <td>0</td>\n      <td>977</td>\n    </tr>\n    <tr>\n      <th>86</th>\n      <td>1</td>\n      <td>978</td>\n    </tr>\n    <tr>\n      <th>87</th>\n      <td>0</td>\n      <td>979</td>\n    </tr>\n    <tr>\n      <th>88</th>\n      <td>1</td>\n      <td>980</td>\n    </tr>\n    <tr>\n      <th>89</th>\n      <td>1</td>\n      <td>981</td>\n    </tr>\n    <tr>\n      <th>90</th>\n      <td>1</td>\n      <td>982</td>\n    </tr>\n    <tr>\n      <th>91</th>\n      <td>0</td>\n      <td>983</td>\n    </tr>\n    <tr>\n      <th>92</th>\n      <td>1</td>\n      <td>984</td>\n    </tr>\n    <tr>\n      <th>93</th>\n      <td>0</td>\n      <td>985</td>\n    </tr>\n    <tr>\n      <th>94</th>\n      <td>0</td>\n      <td>986</td>\n    </tr>\n    <tr>\n      <th>95</th>\n      <td>0</td>\n      <td>987</td>\n    </tr>\n    <tr>\n      <th>96</th>\n      <td>1</td>\n      <td>988</td>\n    </tr>\n    <tr>\n      <th>97</th>\n      <td>1</td>\n      <td>989</td>\n    </tr>\n    <tr>\n      <th>98</th>\n      <td>1</td>\n      <td>990</td>\n    </tr>\n    <tr>\n      <th>99</th>\n      <td>0</td>\n      <td>991</td>\n    </tr>\n    <tr>\n      <th>100</th>\n      <td>1</td>\n      <td>992</td>\n    </tr>\n    <tr>\n      <th>101</th>\n      <td>0</td>\n      <td>993</td>\n    </tr>\n    <tr>\n      <th>102</th>\n      <td>0</td>\n      <td>994</td>\n    </tr>\n    <tr>\n      <th>103</th>\n      <td>0</td>\n      <td>995</td>\n    </tr>\n    <tr>\n      <th>104</th>\n      <td>1</td>\n      <td>996</td>\n    </tr>\n    <tr>\n      <th>105</th>\n      <td>0</td>\n      <td>997</td>\n    </tr>\n    <tr>\n      <th>106</th>\n      <td>0</td>\n      <td>998</td>\n    </tr>\n    <tr>\n      <th>107</th>\n      <td>0</td>\n      <td>999</td>\n    </tr>\n    <tr>\n      <th>108</th>\n      <td>0</td>\n      <td>1000</td>\n    </tr>\n    <tr>\n      <th>109</th>\n      <td>0</td>\n      <td>1001</td>\n    </tr>\n    <tr>\n      <th>110</th>\n      <td>0</td>\n      <td>1002</td>\n    </tr>\n    <tr>\n      <th>111</th>\n      <td>1</td>\n      <td>1003</td>\n    </tr>\n    <tr>\n      <th>112</th>\n      <td>1</td>\n      <td>1004</td>\n    </tr>\n    <tr>\n      <th>113</th>\n      <td>0</td>\n      <td>1005</td>\n    </tr>\n    <tr>\n      <th>114</th>\n      <td>1</td>\n      <td>1006</td>\n    </tr>\n    <tr>\n      <th>115</th>\n      <td>0</td>\n      <td>1007</td>\n    </tr>\n    <tr>\n      <th>116</th>\n      <td>0</td>\n      <td>1008</td>\n    </tr>\n    <tr>\n      <th>117</th>\n      <td>1</td>\n      <td>1009</td>\n    </tr>\n    <tr>\n      <th>118</th>\n      <td>0</td>\n      <td>1010</td>\n    </tr>\n    <tr>\n      <th>119</th>\n      <td>1</td>\n      <td>1011</td>\n    </tr>\n    <tr>\n      <th>120</th>\n      <td>1</td>\n      <td>1012</td>\n    </tr>\n    <tr>\n      <th>121</th>\n      <td>0</td>\n      <td>1013</td>\n    </tr>\n    <tr>\n      <th>122</th>\n      <td>1</td>\n      <td>1014</td>\n    </tr>\n    <tr>\n      <th>123</th>\n      <td>0</td>\n      <td>1015</td>\n    </tr>\n    <tr>\n      <th>124</th>\n      <td>0</td>\n      <td>1016</td>\n    </tr>\n    <tr>\n      <th>125</th>\n      <td>0</td>\n      <td>1017</td>\n    </tr>\n    <tr>\n      <th>126</th>\n      <td>0</td>\n      <td>1018</td>\n    </tr>\n    <tr>\n      <th>127</th>\n      <td>1</td>\n      <td>1019</td>\n    </tr>\n    <tr>\n      <th>128</th>\n      <td>1</td>\n      <td>1020</td>\n    </tr>\n    <tr>\n      <th>129</th>\n      <td>0</td>\n      <td>1021</td>\n    </tr>\n    <tr>\n      <th>130</th>\n      <td>0</td>\n      <td>1022</td>\n    </tr>\n    <tr>\n      <th>131</th>\n      <td>1</td>\n      <td>1023</td>\n    </tr>\n    <tr>\n      <th>132</th>\n      <td>0</td>\n      <td>1024</td>\n    </tr>\n    <tr>\n      <th>133</th>\n      <td>0</td>\n      <td>1025</td>\n    </tr>\n    <tr>\n      <th>134</th>\n      <td>0</td>\n      <td>1026</td>\n    </tr>\n    <tr>\n      <th>135</th>\n      <td>0</td>\n      <td>1027</td>\n    </tr>\n    <tr>\n      <th>136</th>\n      <td>0</td>\n      <td>1028</td>\n    </tr>\n    <tr>\n      <th>137</th>\n      <td>0</td>\n      <td>1029</td>\n    </tr>\n    <tr>\n      <th>138</th>\n      <td>0</td>\n      <td>1030</td>\n    </tr>\n    <tr>\n      <th>139</th>\n      <td>0</td>\n      <td>1031</td>\n    </tr>\n    <tr>\n      <th>140</th>\n      <td>0</td>\n      <td>1032</td>\n    </tr>\n    <tr>\n      <th>141</th>\n      <td>1</td>\n      <td>1033</td>\n    </tr>\n    <tr>\n      <th>142</th>\n      <td>1</td>\n      <td>1034</td>\n    </tr>\n    <tr>\n      <th>143</th>\n      <td>0</td>\n      <td>1035</td>\n    </tr>\n    <tr>\n      <th>144</th>\n      <td>1</td>\n      <td>1036</td>\n    </tr>\n    <tr>\n      <th>145</th>\n      <td>0</td>\n      <td>1037</td>\n    </tr>\n    <tr>\n      <th>146</th>\n      <td>0</td>\n      <td>1038</td>\n    </tr>\n    <tr>\n      <th>147</th>\n      <td>0</td>\n      <td>1039</td>\n    </tr>\n    <tr>\n      <th>148</th>\n      <td>1</td>\n      <td>1040</td>\n    </tr>\n    <tr>\n      <th>149</th>\n      <td>0</td>\n      <td>1041</td>\n    </tr>\n    <tr>\n      <th>150</th>\n      <td>1</td>\n      <td>1042</td>\n    </tr>\n    <tr>\n      <th>151</th>\n      <td>0</td>\n      <td>1043</td>\n    </tr>\n    <tr>\n      <th>152</th>\n      <td>0</td>\n      <td>1044</td>\n    </tr>\n    <tr>\n      <th>153</th>\n      <td>0</td>\n      <td>1045</td>\n    </tr>\n    <tr>\n      <th>154</th>\n      <td>0</td>\n      <td>1046</td>\n    </tr>\n    <tr>\n      <th>155</th>\n      <td>0</td>\n      <td>1047</td>\n    </tr>\n    <tr>\n      <th>156</th>\n      <td>1</td>\n      <td>1048</td>\n    </tr>\n    <tr>\n      <th>157</th>\n      <td>1</td>\n      <td>1049</td>\n    </tr>\n    <tr>\n      <th>158</th>\n      <td>1</td>\n      <td>1050</td>\n    </tr>\n    <tr>\n      <th>159</th>\n      <td>1</td>\n      <td>1051</td>\n    </tr>\n    <tr>\n      <th>160</th>\n      <td>1</td>\n      <td>1052</td>\n    </tr>\n    <tr>\n      <th>161</th>\n      <td>1</td>\n      <td>1053</td>\n    </tr>\n    <tr>\n      <th>162</th>\n      <td>1</td>\n      <td>1054</td>\n    </tr>\n    <tr>\n      <th>163</th>\n      <td>0</td>\n      <td>1055</td>\n    </tr>\n    <tr>\n      <th>164</th>\n      <td>0</td>\n      <td>1056</td>\n    </tr>\n    <tr>\n      <th>165</th>\n      <td>0</td>\n      <td>1057</td>\n    </tr>\n    <tr>\n      <th>166</th>\n      <td>0</td>\n      <td>1058</td>\n    </tr>\n    <tr>\n      <th>167</th>\n      <td>0</td>\n      <td>1059</td>\n    </tr>\n    <tr>\n      <th>168</th>\n      <td>1</td>\n      <td>1060</td>\n    </tr>\n    <tr>\n      <th>169</th>\n      <td>0</td>\n      <td>1061</td>\n    </tr>\n    <tr>\n      <th>170</th>\n      <td>0</td>\n      <td>1062</td>\n    </tr>\n    <tr>\n      <th>171</th>\n      <td>0</td>\n      <td>1063</td>\n    </tr>\n    <tr>\n      <th>172</th>\n      <td>0</td>\n      <td>1064</td>\n    </tr>\n    <tr>\n      <th>173</th>\n      <td>0</td>\n      <td>1065</td>\n    </tr>\n    <tr>\n      <th>174</th>\n      <td>0</td>\n      <td>1066</td>\n    </tr>\n    <tr>\n      <th>175</th>\n      <td>1</td>\n      <td>1067</td>\n    </tr>\n    <tr>\n      <th>176</th>\n      <td>1</td>\n      <td>1068</td>\n    </tr>\n    <tr>\n      <th>177</th>\n      <td>0</td>\n      <td>1069</td>\n    </tr>\n    <tr>\n      <th>178</th>\n      <td>1</td>\n      <td>1070</td>\n    </tr>\n    <tr>\n      <th>179</th>\n      <td>1</td>\n      <td>1071</td>\n    </tr>\n    <tr>\n      <th>180</th>\n      <td>0</td>\n      <td>1072</td>\n    </tr>\n    <tr>\n      <th>181</th>\n      <td>0</td>\n      <td>1073</td>\n    </tr>\n    <tr>\n      <th>182</th>\n      <td>1</td>\n      <td>1074</td>\n    </tr>\n    <tr>\n      <th>183</th>\n      <td>0</td>\n      <td>1075</td>\n    </tr>\n    <tr>\n      <th>184</th>\n      <td>1</td>\n      <td>1076</td>\n    </tr>\n    <tr>\n      <th>185</th>\n      <td>0</td>\n      <td>1077</td>\n    </tr>\n    <tr>\n      <th>186</th>\n      <td>1</td>\n      <td>1078</td>\n    </tr>\n    <tr>\n      <th>187</th>\n      <td>0</td>\n      <td>1079</td>\n    </tr>\n    <tr>\n      <th>188</th>\n      <td>0</td>\n      <td>1080</td>\n    </tr>\n    <tr>\n      <th>189</th>\n      <td>0</td>\n      <td>1081</td>\n    </tr>\n    <tr>\n      <th>190</th>\n      <td>0</td>\n      <td>1082</td>\n    </tr>\n    <tr>\n      <th>191</th>\n      <td>0</td>\n      <td>1083</td>\n    </tr>\n    <tr>\n      <th>192</th>\n      <td>1</td>\n      <td>1084</td>\n    </tr>\n    <tr>\n      <th>193</th>\n      <td>0</td>\n      <td>1085</td>\n    </tr>\n    <tr>\n      <th>194</th>\n      <td>1</td>\n      <td>1086</td>\n    </tr>\n    <tr>\n      <th>195</th>\n      <td>0</td>\n      <td>1087</td>\n    </tr>\n    <tr>\n      <th>196</th>\n      <td>1</td>\n      <td>1088</td>\n    </tr>\n    <tr>\n      <th>197</th>\n      <td>0</td>\n      <td>1089</td>\n    </tr>\n    <tr>\n      <th>198</th>\n      <td>0</td>\n      <td>1090</td>\n    </tr>\n    <tr>\n      <th>199</th>\n      <td>0</td>\n      <td>1091</td>\n    </tr>\n    <tr>\n      <th>200</th>\n      <td>1</td>\n      <td>1092</td>\n    </tr>\n    <tr>\n      <th>201</th>\n      <td>1</td>\n      <td>1093</td>\n    </tr>\n    <tr>\n      <th>202</th>\n      <td>1</td>\n      <td>1094</td>\n    </tr>\n    <tr>\n      <th>203</th>\n      <td>1</td>\n      <td>1095</td>\n    </tr>\n    <tr>\n      <th>204</th>\n      <td>0</td>\n      <td>1096</td>\n    </tr>\n    <tr>\n      <th>205</th>\n      <td>0</td>\n      <td>1097</td>\n    </tr>\n    <tr>\n      <th>206</th>\n      <td>0</td>\n      <td>1098</td>\n    </tr>\n    <tr>\n      <th>207</th>\n      <td>0</td>\n      <td>1099</td>\n    </tr>\n    <tr>\n      <th>208</th>\n      <td>1</td>\n      <td>1100</td>\n    </tr>\n    <tr>\n      <th>209</th>\n      <td>0</td>\n      <td>1101</td>\n    </tr>\n    <tr>\n      <th>210</th>\n      <td>0</td>\n      <td>1102</td>\n    </tr>\n    <tr>\n      <th>211</th>\n      <td>0</td>\n      <td>1103</td>\n    </tr>\n    <tr>\n      <th>212</th>\n      <td>0</td>\n      <td>1104</td>\n    </tr>\n    <tr>\n      <th>213</th>\n      <td>0</td>\n      <td>1105</td>\n    </tr>\n    <tr>\n      <th>214</th>\n      <td>0</td>\n      <td>1106</td>\n    </tr>\n    <tr>\n      <th>215</th>\n      <td>0</td>\n      <td>1107</td>\n    </tr>\n    <tr>\n      <th>216</th>\n      <td>1</td>\n      <td>1108</td>\n    </tr>\n    <tr>\n      <th>217</th>\n      <td>0</td>\n      <td>1109</td>\n    </tr>\n    <tr>\n      <th>218</th>\n      <td>1</td>\n      <td>1110</td>\n    </tr>\n    <tr>\n      <th>219</th>\n      <td>0</td>\n      <td>1111</td>\n    </tr>\n    <tr>\n      <th>220</th>\n      <td>1</td>\n      <td>1112</td>\n    </tr>\n    <tr>\n      <th>221</th>\n      <td>0</td>\n      <td>1113</td>\n    </tr>\n    <tr>\n      <th>222</th>\n      <td>1</td>\n      <td>1114</td>\n    </tr>\n    <tr>\n      <th>223</th>\n      <td>1</td>\n      <td>1115</td>\n    </tr>\n    <tr>\n      <th>224</th>\n      <td>1</td>\n      <td>1116</td>\n    </tr>\n    <tr>\n      <th>225</th>\n      <td>0</td>\n      <td>1117</td>\n    </tr>\n    <tr>\n      <th>226</th>\n      <td>0</td>\n      <td>1118</td>\n    </tr>\n    <tr>\n      <th>227</th>\n      <td>1</td>\n      <td>1119</td>\n    </tr>\n    <tr>\n      <th>228</th>\n      <td>0</td>\n      <td>1120</td>\n    </tr>\n    <tr>\n      <th>229</th>\n      <td>0</td>\n      <td>1121</td>\n    </tr>\n    <tr>\n      <th>230</th>\n      <td>0</td>\n      <td>1122</td>\n    </tr>\n    <tr>\n      <th>231</th>\n      <td>1</td>\n      <td>1123</td>\n    </tr>\n    <tr>\n      <th>232</th>\n      <td>0</td>\n      <td>1124</td>\n    </tr>\n    <tr>\n      <th>233</th>\n      <td>0</td>\n      <td>1125</td>\n    </tr>\n    <tr>\n      <th>234</th>\n      <td>1</td>\n      <td>1126</td>\n    </tr>\n    <tr>\n      <th>235</th>\n      <td>0</td>\n      <td>1127</td>\n    </tr>\n    <tr>\n      <th>236</th>\n      <td>0</td>\n      <td>1128</td>\n    </tr>\n    <tr>\n      <th>237</th>\n      <td>1</td>\n      <td>1129</td>\n    </tr>\n    <tr>\n      <th>238</th>\n      <td>1</td>\n      <td>1130</td>\n    </tr>\n    <tr>\n      <th>239</th>\n      <td>1</td>\n      <td>1131</td>\n    </tr>\n    <tr>\n      <th>240</th>\n      <td>1</td>\n      <td>1132</td>\n    </tr>\n    <tr>\n      <th>241</th>\n      <td>1</td>\n      <td>1133</td>\n    </tr>\n    <tr>\n      <th>242</th>\n      <td>0</td>\n      <td>1134</td>\n    </tr>\n    <tr>\n      <th>243</th>\n      <td>0</td>\n      <td>1135</td>\n    </tr>\n    <tr>\n      <th>244</th>\n      <td>1</td>\n      <td>1136</td>\n    </tr>\n    <tr>\n      <th>245</th>\n      <td>1</td>\n      <td>1137</td>\n    </tr>\n    <tr>\n      <th>246</th>\n      <td>1</td>\n      <td>1138</td>\n    </tr>\n    <tr>\n      <th>247</th>\n      <td>0</td>\n      <td>1139</td>\n    </tr>\n    <tr>\n      <th>248</th>\n      <td>1</td>\n      <td>1140</td>\n    </tr>\n    <tr>\n      <th>249</th>\n      <td>0</td>\n      <td>1141</td>\n    </tr>\n    <tr>\n      <th>250</th>\n      <td>1</td>\n      <td>1142</td>\n    </tr>\n    <tr>\n      <th>251</th>\n      <td>0</td>\n      <td>1143</td>\n    </tr>\n    <tr>\n      <th>252</th>\n      <td>0</td>\n      <td>1144</td>\n    </tr>\n    <tr>\n      <th>253</th>\n      <td>0</td>\n      <td>1145</td>\n    </tr>\n    <tr>\n      <th>254</th>\n      <td>0</td>\n      <td>1146</td>\n    </tr>\n    <tr>\n      <th>255</th>\n      <td>0</td>\n      <td>1147</td>\n    </tr>\n    <tr>\n      <th>256</th>\n      <td>0</td>\n      <td>1148</td>\n    </tr>\n    <tr>\n      <th>257</th>\n      <td>0</td>\n      <td>1149</td>\n    </tr>\n    <tr>\n      <th>258</th>\n      <td>1</td>\n      <td>1150</td>\n    </tr>\n    <tr>\n      <th>259</th>\n      <td>0</td>\n      <td>1151</td>\n    </tr>\n    <tr>\n      <th>260</th>\n      <td>0</td>\n      <td>1152</td>\n    </tr>\n    <tr>\n      <th>261</th>\n      <td>0</td>\n      <td>1153</td>\n    </tr>\n    <tr>\n      <th>262</th>\n      <td>1</td>\n      <td>1154</td>\n    </tr>\n    <tr>\n      <th>263</th>\n      <td>1</td>\n      <td>1155</td>\n    </tr>\n    <tr>\n      <th>264</th>\n      <td>0</td>\n      <td>1156</td>\n    </tr>\n    <tr>\n      <th>265</th>\n      <td>0</td>\n      <td>1157</td>\n    </tr>\n    <tr>\n      <th>266</th>\n      <td>0</td>\n      <td>1158</td>\n    </tr>\n    <tr>\n      <th>267</th>\n      <td>0</td>\n      <td>1159</td>\n    </tr>\n    <tr>\n      <th>268</th>\n      <td>0</td>\n      <td>1160</td>\n    </tr>\n    <tr>\n      <th>269</th>\n      <td>0</td>\n      <td>1161</td>\n    </tr>\n    <tr>\n      <th>270</th>\n      <td>0</td>\n      <td>1162</td>\n    </tr>\n    <tr>\n      <th>271</th>\n      <td>0</td>\n      <td>1163</td>\n    </tr>\n    <tr>\n      <th>272</th>\n      <td>1</td>\n      <td>1164</td>\n    </tr>\n    <tr>\n      <th>273</th>\n      <td>1</td>\n      <td>1165</td>\n    </tr>\n    <tr>\n      <th>274</th>\n      <td>0</td>\n      <td>1166</td>\n    </tr>\n    <tr>\n      <th>275</th>\n      <td>1</td>\n      <td>1167</td>\n    </tr>\n    <tr>\n      <th>276</th>\n      <td>0</td>\n      <td>1168</td>\n    </tr>\n    <tr>\n      <th>277</th>\n      <td>0</td>\n      <td>1169</td>\n    </tr>\n    <tr>\n      <th>278</th>\n      <td>0</td>\n      <td>1170</td>\n    </tr>\n    <tr>\n      <th>279</th>\n      <td>0</td>\n      <td>1171</td>\n    </tr>\n    <tr>\n      <th>280</th>\n      <td>0</td>\n      <td>1172</td>\n    </tr>\n    <tr>\n      <th>281</th>\n      <td>1</td>\n      <td>1173</td>\n    </tr>\n    <tr>\n      <th>282</th>\n      <td>1</td>\n      <td>1174</td>\n    </tr>\n    <tr>\n      <th>283</th>\n      <td>0</td>\n      <td>1175</td>\n    </tr>\n    <tr>\n      <th>284</th>\n      <td>1</td>\n      <td>1176</td>\n    </tr>\n    <tr>\n      <th>285</th>\n      <td>0</td>\n      <td>1177</td>\n    </tr>\n    <tr>\n      <th>286</th>\n      <td>0</td>\n      <td>1178</td>\n    </tr>\n    <tr>\n      <th>287</th>\n      <td>1</td>\n      <td>1179</td>\n    </tr>\n    <tr>\n      <th>288</th>\n      <td>0</td>\n      <td>1180</td>\n    </tr>\n    <tr>\n      <th>289</th>\n      <td>0</td>\n      <td>1181</td>\n    </tr>\n    <tr>\n      <th>290</th>\n      <td>0</td>\n      <td>1182</td>\n    </tr>\n    <tr>\n      <th>291</th>\n      <td>0</td>\n      <td>1183</td>\n    </tr>\n    <tr>\n      <th>292</th>\n      <td>0</td>\n      <td>1184</td>\n    </tr>\n    <tr>\n      <th>293</th>\n      <td>1</td>\n      <td>1185</td>\n    </tr>\n    <tr>\n      <th>294</th>\n      <td>0</td>\n      <td>1186</td>\n    </tr>\n    <tr>\n      <th>295</th>\n      <td>0</td>\n      <td>1187</td>\n    </tr>\n    <tr>\n      <th>296</th>\n      <td>1</td>\n      <td>1188</td>\n    </tr>\n    <tr>\n      <th>297</th>\n      <td>0</td>\n      <td>1189</td>\n    </tr>\n    <tr>\n      <th>298</th>\n      <td>0</td>\n      <td>1190</td>\n    </tr>\n    <tr>\n      <th>299</th>\n      <td>0</td>\n      <td>1191</td>\n    </tr>\n    <tr>\n      <th>300</th>\n      <td>0</td>\n      <td>1192</td>\n    </tr>\n    <tr>\n      <th>301</th>\n      <td>0</td>\n      <td>1193</td>\n    </tr>\n    <tr>\n      <th>302</th>\n      <td>0</td>\n      <td>1194</td>\n    </tr>\n    <tr>\n      <th>303</th>\n      <td>0</td>\n      <td>1195</td>\n    </tr>\n    <tr>\n      <th>304</th>\n      <td>1</td>\n      <td>1196</td>\n    </tr>\n    <tr>\n      <th>305</th>\n      <td>1</td>\n      <td>1197</td>\n    </tr>\n    <tr>\n      <th>306</th>\n      <td>0</td>\n      <td>1198</td>\n    </tr>\n    <tr>\n      <th>307</th>\n      <td>1</td>\n      <td>1199</td>\n    </tr>\n    <tr>\n      <th>308</th>\n      <td>1</td>\n      <td>1200</td>\n    </tr>\n    <tr>\n      <th>309</th>\n      <td>0</td>\n      <td>1201</td>\n    </tr>\n    <tr>\n      <th>310</th>\n      <td>0</td>\n      <td>1202</td>\n    </tr>\n    <tr>\n      <th>311</th>\n      <td>1</td>\n      <td>1203</td>\n    </tr>\n    <tr>\n      <th>312</th>\n      <td>0</td>\n      <td>1204</td>\n    </tr>\n    <tr>\n      <th>313</th>\n      <td>0</td>\n      <td>1205</td>\n    </tr>\n    <tr>\n      <th>314</th>\n      <td>1</td>\n      <td>1206</td>\n    </tr>\n    <tr>\n      <th>315</th>\n      <td>1</td>\n      <td>1207</td>\n    </tr>\n    <tr>\n      <th>316</th>\n      <td>0</td>\n      <td>1208</td>\n    </tr>\n    <tr>\n      <th>317</th>\n      <td>0</td>\n      <td>1209</td>\n    </tr>\n    <tr>\n      <th>318</th>\n      <td>0</td>\n      <td>1210</td>\n    </tr>\n    <tr>\n      <th>319</th>\n      <td>0</td>\n      <td>1211</td>\n    </tr>\n    <tr>\n      <th>320</th>\n      <td>0</td>\n      <td>1212</td>\n    </tr>\n    <tr>\n      <th>321</th>\n      <td>0</td>\n      <td>1213</td>\n    </tr>\n    <tr>\n      <th>322</th>\n      <td>0</td>\n      <td>1214</td>\n    </tr>\n    <tr>\n      <th>323</th>\n      <td>1</td>\n      <td>1215</td>\n    </tr>\n    <tr>\n      <th>324</th>\n      <td>1</td>\n      <td>1216</td>\n    </tr>\n    <tr>\n      <th>325</th>\n      <td>0</td>\n      <td>1217</td>\n    </tr>\n    <tr>\n      <th>326</th>\n      <td>1</td>\n      <td>1218</td>\n    </tr>\n    <tr>\n      <th>327</th>\n      <td>0</td>\n      <td>1219</td>\n    </tr>\n    <tr>\n      <th>328</th>\n      <td>0</td>\n      <td>1220</td>\n    </tr>\n    <tr>\n      <th>329</th>\n      <td>0</td>\n      <td>1221</td>\n    </tr>\n    <tr>\n      <th>330</th>\n      <td>1</td>\n      <td>1222</td>\n    </tr>\n    <tr>\n      <th>331</th>\n      <td>1</td>\n      <td>1223</td>\n    </tr>\n    <tr>\n      <th>332</th>\n      <td>0</td>\n      <td>1224</td>\n    </tr>\n    <tr>\n      <th>333</th>\n      <td>1</td>\n      <td>1225</td>\n    </tr>\n    <tr>\n      <th>334</th>\n      <td>0</td>\n      <td>1226</td>\n    </tr>\n    <tr>\n      <th>335</th>\n      <td>0</td>\n      <td>1227</td>\n    </tr>\n    <tr>\n      <th>336</th>\n      <td>1</td>\n      <td>1228</td>\n    </tr>\n    <tr>\n      <th>337</th>\n      <td>0</td>\n      <td>1229</td>\n    </tr>\n    <tr>\n      <th>338</th>\n      <td>0</td>\n      <td>1230</td>\n    </tr>\n    <tr>\n      <th>339</th>\n      <td>1</td>\n      <td>1231</td>\n    </tr>\n    <tr>\n      <th>340</th>\n      <td>0</td>\n      <td>1232</td>\n    </tr>\n    <tr>\n      <th>341</th>\n      <td>0</td>\n      <td>1233</td>\n    </tr>\n    <tr>\n      <th>342</th>\n      <td>0</td>\n      <td>1234</td>\n    </tr>\n    <tr>\n      <th>343</th>\n      <td>1</td>\n      <td>1235</td>\n    </tr>\n    <tr>\n      <th>344</th>\n      <td>1</td>\n      <td>1236</td>\n    </tr>\n    <tr>\n      <th>345</th>\n      <td>0</td>\n      <td>1237</td>\n    </tr>\n    <tr>\n      <th>346</th>\n      <td>0</td>\n      <td>1238</td>\n    </tr>\n    <tr>\n      <th>347</th>\n      <td>1</td>\n      <td>1239</td>\n    </tr>\n    <tr>\n      <th>348</th>\n      <td>0</td>\n      <td>1240</td>\n    </tr>\n    <tr>\n      <th>349</th>\n      <td>1</td>\n      <td>1241</td>\n    </tr>\n    <tr>\n      <th>350</th>\n      <td>1</td>\n      <td>1242</td>\n    </tr>\n    <tr>\n      <th>351</th>\n      <td>0</td>\n      <td>1243</td>\n    </tr>\n    <tr>\n      <th>352</th>\n      <td>0</td>\n      <td>1244</td>\n    </tr>\n    <tr>\n      <th>353</th>\n      <td>0</td>\n      <td>1245</td>\n    </tr>\n    <tr>\n      <th>354</th>\n      <td>1</td>\n      <td>1246</td>\n    </tr>\n    <tr>\n      <th>355</th>\n      <td>1</td>\n      <td>1247</td>\n    </tr>\n    <tr>\n      <th>356</th>\n      <td>1</td>\n      <td>1248</td>\n    </tr>\n    <tr>\n      <th>357</th>\n      <td>0</td>\n      <td>1249</td>\n    </tr>\n    <tr>\n      <th>358</th>\n      <td>0</td>\n      <td>1250</td>\n    </tr>\n    <tr>\n      <th>359</th>\n      <td>1</td>\n      <td>1251</td>\n    </tr>\n    <tr>\n      <th>360</th>\n      <td>0</td>\n      <td>1252</td>\n    </tr>\n    <tr>\n      <th>361</th>\n      <td>1</td>\n      <td>1253</td>\n    </tr>\n    <tr>\n      <th>362</th>\n      <td>1</td>\n      <td>1254</td>\n    </tr>\n    <tr>\n      <th>363</th>\n      <td>1</td>\n      <td>1255</td>\n    </tr>\n    <tr>\n      <th>364</th>\n      <td>1</td>\n      <td>1256</td>\n    </tr>\n    <tr>\n      <th>365</th>\n      <td>0</td>\n      <td>1257</td>\n    </tr>\n    <tr>\n      <th>366</th>\n      <td>0</td>\n      <td>1258</td>\n    </tr>\n    <tr>\n      <th>367</th>\n      <td>0</td>\n      <td>1259</td>\n    </tr>\n    <tr>\n      <th>368</th>\n      <td>1</td>\n      <td>1260</td>\n    </tr>\n    <tr>\n      <th>369</th>\n      <td>1</td>\n      <td>1261</td>\n    </tr>\n    <tr>\n      <th>370</th>\n      <td>0</td>\n      <td>1262</td>\n    </tr>\n    <tr>\n      <th>371</th>\n      <td>1</td>\n      <td>1263</td>\n    </tr>\n    <tr>\n      <th>372</th>\n      <td>0</td>\n      <td>1264</td>\n    </tr>\n    <tr>\n      <th>373</th>\n      <td>1</td>\n      <td>1265</td>\n    </tr>\n    <tr>\n      <th>374</th>\n      <td>1</td>\n      <td>1266</td>\n    </tr>\n    <tr>\n      <th>375</th>\n      <td>1</td>\n      <td>1267</td>\n    </tr>\n    <tr>\n      <th>376</th>\n      <td>0</td>\n      <td>1268</td>\n    </tr>\n    <tr>\n      <th>377</th>\n      <td>0</td>\n      <td>1269</td>\n    </tr>\n    <tr>\n      <th>378</th>\n      <td>0</td>\n      <td>1270</td>\n    </tr>\n    <tr>\n      <th>379</th>\n      <td>1</td>\n      <td>1271</td>\n    </tr>\n    <tr>\n      <th>380</th>\n      <td>0</td>\n      <td>1272</td>\n    </tr>\n    <tr>\n      <th>381</th>\n      <td>0</td>\n      <td>1273</td>\n    </tr>\n    <tr>\n      <th>382</th>\n      <td>1</td>\n      <td>1274</td>\n    </tr>\n    <tr>\n      <th>383</th>\n      <td>0</td>\n      <td>1275</td>\n    </tr>\n    <tr>\n      <th>384</th>\n      <td>1</td>\n      <td>1276</td>\n    </tr>\n    <tr>\n      <th>385</th>\n      <td>1</td>\n      <td>1277</td>\n    </tr>\n    <tr>\n      <th>386</th>\n      <td>0</td>\n      <td>1278</td>\n    </tr>\n    <tr>\n      <th>387</th>\n      <td>0</td>\n      <td>1279</td>\n    </tr>\n    <tr>\n      <th>388</th>\n      <td>0</td>\n      <td>1280</td>\n    </tr>\n    <tr>\n      <th>389</th>\n      <td>0</td>\n      <td>1281</td>\n    </tr>\n    <tr>\n      <th>390</th>\n      <td>0</td>\n      <td>1282</td>\n    </tr>\n    <tr>\n      <th>391</th>\n      <td>1</td>\n      <td>1283</td>\n    </tr>\n    <tr>\n      <th>392</th>\n      <td>1</td>\n      <td>1284</td>\n    </tr>\n    <tr>\n      <th>393</th>\n      <td>0</td>\n      <td>1285</td>\n    </tr>\n    <tr>\n      <th>394</th>\n      <td>0</td>\n      <td>1286</td>\n    </tr>\n    <tr>\n      <th>395</th>\n      <td>1</td>\n      <td>1287</td>\n    </tr>\n    <tr>\n      <th>396</th>\n      <td>0</td>\n      <td>1288</td>\n    </tr>\n    <tr>\n      <th>397</th>\n      <td>1</td>\n      <td>1289</td>\n    </tr>\n    <tr>\n      <th>398</th>\n      <td>0</td>\n      <td>1290</td>\n    </tr>\n    <tr>\n      <th>399</th>\n      <td>0</td>\n      <td>1291</td>\n    </tr>\n    <tr>\n      <th>400</th>\n      <td>1</td>\n      <td>1292</td>\n    </tr>\n    <tr>\n      <th>401</th>\n      <td>0</td>\n      <td>1293</td>\n    </tr>\n    <tr>\n      <th>402</th>\n      <td>1</td>\n      <td>1294</td>\n    </tr>\n    <tr>\n      <th>403</th>\n      <td>0</td>\n      <td>1295</td>\n    </tr>\n    <tr>\n      <th>404</th>\n      <td>0</td>\n      <td>1296</td>\n    </tr>\n    <tr>\n      <th>405</th>\n      <td>0</td>\n      <td>1297</td>\n    </tr>\n    <tr>\n      <th>406</th>\n      <td>0</td>\n      <td>1298</td>\n    </tr>\n    <tr>\n      <th>407</th>\n      <td>0</td>\n      <td>1299</td>\n    </tr>\n    <tr>\n      <th>408</th>\n      <td>1</td>\n      <td>1300</td>\n    </tr>\n    <tr>\n      <th>409</th>\n      <td>1</td>\n      <td>1301</td>\n    </tr>\n    <tr>\n      <th>410</th>\n      <td>1</td>\n      <td>1302</td>\n    </tr>\n    <tr>\n      <th>411</th>\n      <td>1</td>\n      <td>1303</td>\n    </tr>\n    <tr>\n      <th>412</th>\n      <td>0</td>\n      <td>1304</td>\n    </tr>\n    <tr>\n      <th>413</th>\n      <td>0</td>\n      <td>1305</td>\n    </tr>\n    <tr>\n      <th>414</th>\n      <td>1</td>\n      <td>1306</td>\n    </tr>\n    <tr>\n      <th>415</th>\n      <td>0</td>\n      <td>1307</td>\n    </tr>\n    <tr>\n      <th>416</th>\n      <td>0</td>\n      <td>1308</td>\n    </tr>\n    <tr>\n      <th>417</th>\n      <td>1</td>\n      <td>1309</td>\n    </tr>\n  </tbody>\n</table>\n</div>"
          },
          "metadata": {}
        }
      ]
    },
    {
      "metadata": {
        "trusted": true,
        "_uuid": "c59b16fb7d2da3534e8a7ee82bea28a9c60539b4"
      },
      "cell_type": "code",
      "source": "columns = [column for column in df_result.columns if column != 'PassengerId']\ncolumns = ['PassengerId']+columns\ndf_result = df_result[columns]\n",
      "execution_count": 159,
      "outputs": []
    },
    {
      "metadata": {
        "trusted": true,
        "_uuid": "79f41da2838d90cd2004232f8ca45963267afa01"
      },
      "cell_type": "code",
      "source": "df_result.to_csv('out1.csv')",
      "execution_count": 160,
      "outputs": []
    },
    {
      "metadata": {
        "trusted": true,
        "_uuid": "4b1ff256b418a083af7245ee301507dc1f1677f6"
      },
      "cell_type": "code",
      "source": "df_result = df_result.set_index('PassengerId')",
      "execution_count": 161,
      "outputs": []
    },
    {
      "metadata": {
        "trusted": true,
        "_uuid": "4882c05b80420a330518b43d753457fa96836210"
      },
      "cell_type": "code",
      "source": "df_result.columns = ['Survived']",
      "execution_count": 162,
      "outputs": []
    },
    {
      "metadata": {
        "trusted": true,
        "_uuid": "239e6b03fa983a7cf0df6b2616f67a71d57503f8"
      },
      "cell_type": "code",
      "source": "df_result",
      "execution_count": 163,
      "outputs": [
        {
          "output_type": "execute_result",
          "execution_count": 163,
          "data": {
            "text/plain": "             Survived\nPassengerId          \n892                 0\n893                 0\n894                 0\n895                 1\n896                 1\n897                 0\n898                 0\n899                 0\n900                 1\n901                 0\n902                 0\n903                 0\n904                 1\n905                 0\n906                 1\n907                 1\n908                 0\n909                 1\n910                 0\n911                 1\n912                 0\n913                 1\n914                 1\n915                 0\n916                 1\n917                 0\n918                 1\n919                 1\n920                 1\n921                 0\n922                 0\n923                 0\n924                 1\n925                 1\n926                 0\n927                 1\n928                 0\n929                 0\n930                 0\n931                 1\n932                 0\n933                 1\n934                 0\n935                 1\n936                 1\n937                 0\n938                 1\n939                 0\n940                 1\n941                 1\n942                 0\n943                 0\n944                 1\n945                 1\n946                 0\n947                 0\n948                 0\n949                 0\n950                 0\n951                 1\n952                 0\n953                 0\n954                 0\n955                 1\n956                 1\n957                 1\n958                 1\n959                 0\n960                 0\n961                 1\n962                 1\n963                 0\n964                 1\n965                 1\n966                 1\n967                 0\n968                 0\n969                 1\n970                 0\n971                 1\n972                 1\n973                 0\n974                 0\n975                 0\n976                 0\n977                 0\n978                 1\n979                 0\n980                 1\n981                 1\n982                 1\n983                 0\n984                 1\n985                 0\n986                 0\n987                 0\n988                 1\n989                 1\n990                 1\n991                 0\n992                 1\n993                 0\n994                 0\n995                 0\n996                 1\n997                 0\n998                 0\n999                 0\n1000                0\n1001                0\n1002                0\n1003                1\n1004                1\n1005                0\n1006                1\n1007                0\n1008                0\n1009                1\n1010                0\n1011                1\n1012                1\n1013                0\n1014                1\n1015                0\n1016                0\n1017                0\n1018                0\n1019                1\n1020                1\n1021                0\n1022                0\n1023                1\n1024                0\n1025                0\n1026                0\n1027                0\n1028                0\n1029                0\n1030                0\n1031                0\n1032                0\n1033                1\n1034                1\n1035                0\n1036                1\n1037                0\n1038                0\n1039                0\n1040                1\n1041                0\n1042                1\n1043                0\n1044                0\n1045                0\n1046                0\n1047                0\n1048                1\n1049                1\n1050                1\n1051                1\n1052                1\n1053                1\n1054                1\n1055                0\n1056                0\n1057                0\n1058                0\n1059                0\n1060                1\n1061                0\n1062                0\n1063                0\n1064                0\n1065                0\n1066                0\n1067                1\n1068                1\n1069                0\n1070                1\n1071                1\n1072                0\n1073                0\n1074                1\n1075                0\n1076                1\n1077                0\n1078                1\n1079                0\n1080                0\n1081                0\n1082                0\n1083                0\n1084                1\n1085                0\n1086                1\n1087                0\n1088                1\n1089                0\n1090                0\n1091                0\n1092                1\n1093                1\n1094                1\n1095                1\n1096                0\n1097                0\n1098                0\n1099                0\n1100                1\n1101                0\n1102                0\n1103                0\n1104                0\n1105                0\n1106                0\n1107                0\n1108                1\n1109                0\n1110                1\n1111                0\n1112                1\n1113                0\n1114                1\n1115                1\n1116                1\n1117                0\n1118                0\n1119                1\n1120                0\n1121                0\n1122                0\n1123                1\n1124                0\n1125                0\n1126                1\n1127                0\n1128                0\n1129                1\n1130                1\n1131                1\n1132                1\n1133                1\n1134                0\n1135                0\n1136                1\n1137                1\n1138                1\n1139                0\n1140                1\n1141                0\n1142                1\n1143                0\n1144                0\n1145                0\n1146                0\n1147                0\n1148                0\n1149                0\n1150                1\n1151                0\n1152                0\n1153                0\n1154                1\n1155                1\n1156                0\n1157                0\n1158                0\n1159                0\n1160                0\n1161                0\n1162                0\n1163                0\n1164                1\n1165                1\n1166                0\n1167                1\n1168                0\n1169                0\n1170                0\n1171                0\n1172                0\n1173                1\n1174                1\n1175                0\n1176                1\n1177                0\n1178                0\n1179                1\n1180                0\n1181                0\n1182                0\n1183                0\n1184                0\n1185                1\n1186                0\n1187                0\n1188                1\n1189                0\n1190                0\n1191                0\n1192                0\n1193                0\n1194                0\n1195                0\n1196                1\n1197                1\n1198                0\n1199                1\n1200                1\n1201                0\n1202                0\n1203                1\n1204                0\n1205                0\n1206                1\n1207                1\n1208                0\n1209                0\n1210                0\n1211                0\n1212                0\n1213                0\n1214                0\n1215                1\n1216                1\n1217                0\n1218                1\n1219                0\n1220                0\n1221                0\n1222                1\n1223                1\n1224                0\n1225                1\n1226                0\n1227                0\n1228                1\n1229                0\n1230                0\n1231                1\n1232                0\n1233                0\n1234                0\n1235                1\n1236                1\n1237                0\n1238                0\n1239                1\n1240                0\n1241                1\n1242                1\n1243                0\n1244                0\n1245                0\n1246                1\n1247                1\n1248                1\n1249                0\n1250                0\n1251                1\n1252                0\n1253                1\n1254                1\n1255                1\n1256                1\n1257                0\n1258                0\n1259                0\n1260                1\n1261                1\n1262                0\n1263                1\n1264                0\n1265                1\n1266                1\n1267                1\n1268                0\n1269                0\n1270                0\n1271                1\n1272                0\n1273                0\n1274                1\n1275                0\n1276                1\n1277                1\n1278                0\n1279                0\n1280                0\n1281                0\n1282                0\n1283                1\n1284                1\n1285                0\n1286                0\n1287                1\n1288                0\n1289                1\n1290                0\n1291                0\n1292                1\n1293                0\n1294                1\n1295                0\n1296                0\n1297                0\n1298                0\n1299                0\n1300                1\n1301                1\n1302                1\n1303                1\n1304                0\n1305                0\n1306                1\n1307                0\n1308                0\n1309                1",
            "text/html": "<div>\n<style scoped>\n    .dataframe tbody tr th:only-of-type {\n        vertical-align: middle;\n    }\n\n    .dataframe tbody tr th {\n        vertical-align: top;\n    }\n\n    .dataframe thead th {\n        text-align: right;\n    }\n</style>\n<table border=\"1\" class=\"dataframe\">\n  <thead>\n    <tr style=\"text-align: right;\">\n      <th></th>\n      <th>Survived</th>\n    </tr>\n    <tr>\n      <th>PassengerId</th>\n      <th></th>\n    </tr>\n  </thead>\n  <tbody>\n    <tr>\n      <th>892</th>\n      <td>0</td>\n    </tr>\n    <tr>\n      <th>893</th>\n      <td>0</td>\n    </tr>\n    <tr>\n      <th>894</th>\n      <td>0</td>\n    </tr>\n    <tr>\n      <th>895</th>\n      <td>1</td>\n    </tr>\n    <tr>\n      <th>896</th>\n      <td>1</td>\n    </tr>\n    <tr>\n      <th>897</th>\n      <td>0</td>\n    </tr>\n    <tr>\n      <th>898</th>\n      <td>0</td>\n    </tr>\n    <tr>\n      <th>899</th>\n      <td>0</td>\n    </tr>\n    <tr>\n      <th>900</th>\n      <td>1</td>\n    </tr>\n    <tr>\n      <th>901</th>\n      <td>0</td>\n    </tr>\n    <tr>\n      <th>902</th>\n      <td>0</td>\n    </tr>\n    <tr>\n      <th>903</th>\n      <td>0</td>\n    </tr>\n    <tr>\n      <th>904</th>\n      <td>1</td>\n    </tr>\n    <tr>\n      <th>905</th>\n      <td>0</td>\n    </tr>\n    <tr>\n      <th>906</th>\n      <td>1</td>\n    </tr>\n    <tr>\n      <th>907</th>\n      <td>1</td>\n    </tr>\n    <tr>\n      <th>908</th>\n      <td>0</td>\n    </tr>\n    <tr>\n      <th>909</th>\n      <td>1</td>\n    </tr>\n    <tr>\n      <th>910</th>\n      <td>0</td>\n    </tr>\n    <tr>\n      <th>911</th>\n      <td>1</td>\n    </tr>\n    <tr>\n      <th>912</th>\n      <td>0</td>\n    </tr>\n    <tr>\n      <th>913</th>\n      <td>1</td>\n    </tr>\n    <tr>\n      <th>914</th>\n      <td>1</td>\n    </tr>\n    <tr>\n      <th>915</th>\n      <td>0</td>\n    </tr>\n    <tr>\n      <th>916</th>\n      <td>1</td>\n    </tr>\n    <tr>\n      <th>917</th>\n      <td>0</td>\n    </tr>\n    <tr>\n      <th>918</th>\n      <td>1</td>\n    </tr>\n    <tr>\n      <th>919</th>\n      <td>1</td>\n    </tr>\n    <tr>\n      <th>920</th>\n      <td>1</td>\n    </tr>\n    <tr>\n      <th>921</th>\n      <td>0</td>\n    </tr>\n    <tr>\n      <th>922</th>\n      <td>0</td>\n    </tr>\n    <tr>\n      <th>923</th>\n      <td>0</td>\n    </tr>\n    <tr>\n      <th>924</th>\n      <td>1</td>\n    </tr>\n    <tr>\n      <th>925</th>\n      <td>1</td>\n    </tr>\n    <tr>\n      <th>926</th>\n      <td>0</td>\n    </tr>\n    <tr>\n      <th>927</th>\n      <td>1</td>\n    </tr>\n    <tr>\n      <th>928</th>\n      <td>0</td>\n    </tr>\n    <tr>\n      <th>929</th>\n      <td>0</td>\n    </tr>\n    <tr>\n      <th>930</th>\n      <td>0</td>\n    </tr>\n    <tr>\n      <th>931</th>\n      <td>1</td>\n    </tr>\n    <tr>\n      <th>932</th>\n      <td>0</td>\n    </tr>\n    <tr>\n      <th>933</th>\n      <td>1</td>\n    </tr>\n    <tr>\n      <th>934</th>\n      <td>0</td>\n    </tr>\n    <tr>\n      <th>935</th>\n      <td>1</td>\n    </tr>\n    <tr>\n      <th>936</th>\n      <td>1</td>\n    </tr>\n    <tr>\n      <th>937</th>\n      <td>0</td>\n    </tr>\n    <tr>\n      <th>938</th>\n      <td>1</td>\n    </tr>\n    <tr>\n      <th>939</th>\n      <td>0</td>\n    </tr>\n    <tr>\n      <th>940</th>\n      <td>1</td>\n    </tr>\n    <tr>\n      <th>941</th>\n      <td>1</td>\n    </tr>\n    <tr>\n      <th>942</th>\n      <td>0</td>\n    </tr>\n    <tr>\n      <th>943</th>\n      <td>0</td>\n    </tr>\n    <tr>\n      <th>944</th>\n      <td>1</td>\n    </tr>\n    <tr>\n      <th>945</th>\n      <td>1</td>\n    </tr>\n    <tr>\n      <th>946</th>\n      <td>0</td>\n    </tr>\n    <tr>\n      <th>947</th>\n      <td>0</td>\n    </tr>\n    <tr>\n      <th>948</th>\n      <td>0</td>\n    </tr>\n    <tr>\n      <th>949</th>\n      <td>0</td>\n    </tr>\n    <tr>\n      <th>950</th>\n      <td>0</td>\n    </tr>\n    <tr>\n      <th>951</th>\n      <td>1</td>\n    </tr>\n    <tr>\n      <th>952</th>\n      <td>0</td>\n    </tr>\n    <tr>\n      <th>953</th>\n      <td>0</td>\n    </tr>\n    <tr>\n      <th>954</th>\n      <td>0</td>\n    </tr>\n    <tr>\n      <th>955</th>\n      <td>1</td>\n    </tr>\n    <tr>\n      <th>956</th>\n      <td>1</td>\n    </tr>\n    <tr>\n      <th>957</th>\n      <td>1</td>\n    </tr>\n    <tr>\n      <th>958</th>\n      <td>1</td>\n    </tr>\n    <tr>\n      <th>959</th>\n      <td>0</td>\n    </tr>\n    <tr>\n      <th>960</th>\n      <td>0</td>\n    </tr>\n    <tr>\n      <th>961</th>\n      <td>1</td>\n    </tr>\n    <tr>\n      <th>962</th>\n      <td>1</td>\n    </tr>\n    <tr>\n      <th>963</th>\n      <td>0</td>\n    </tr>\n    <tr>\n      <th>964</th>\n      <td>1</td>\n    </tr>\n    <tr>\n      <th>965</th>\n      <td>1</td>\n    </tr>\n    <tr>\n      <th>966</th>\n      <td>1</td>\n    </tr>\n    <tr>\n      <th>967</th>\n      <td>0</td>\n    </tr>\n    <tr>\n      <th>968</th>\n      <td>0</td>\n    </tr>\n    <tr>\n      <th>969</th>\n      <td>1</td>\n    </tr>\n    <tr>\n      <th>970</th>\n      <td>0</td>\n    </tr>\n    <tr>\n      <th>971</th>\n      <td>1</td>\n    </tr>\n    <tr>\n      <th>972</th>\n      <td>1</td>\n    </tr>\n    <tr>\n      <th>973</th>\n      <td>0</td>\n    </tr>\n    <tr>\n      <th>974</th>\n      <td>0</td>\n    </tr>\n    <tr>\n      <th>975</th>\n      <td>0</td>\n    </tr>\n    <tr>\n      <th>976</th>\n      <td>0</td>\n    </tr>\n    <tr>\n      <th>977</th>\n      <td>0</td>\n    </tr>\n    <tr>\n      <th>978</th>\n      <td>1</td>\n    </tr>\n    <tr>\n      <th>979</th>\n      <td>0</td>\n    </tr>\n    <tr>\n      <th>980</th>\n      <td>1</td>\n    </tr>\n    <tr>\n      <th>981</th>\n      <td>1</td>\n    </tr>\n    <tr>\n      <th>982</th>\n      <td>1</td>\n    </tr>\n    <tr>\n      <th>983</th>\n      <td>0</td>\n    </tr>\n    <tr>\n      <th>984</th>\n      <td>1</td>\n    </tr>\n    <tr>\n      <th>985</th>\n      <td>0</td>\n    </tr>\n    <tr>\n      <th>986</th>\n      <td>0</td>\n    </tr>\n    <tr>\n      <th>987</th>\n      <td>0</td>\n    </tr>\n    <tr>\n      <th>988</th>\n      <td>1</td>\n    </tr>\n    <tr>\n      <th>989</th>\n      <td>1</td>\n    </tr>\n    <tr>\n      <th>990</th>\n      <td>1</td>\n    </tr>\n    <tr>\n      <th>991</th>\n      <td>0</td>\n    </tr>\n    <tr>\n      <th>992</th>\n      <td>1</td>\n    </tr>\n    <tr>\n      <th>993</th>\n      <td>0</td>\n    </tr>\n    <tr>\n      <th>994</th>\n      <td>0</td>\n    </tr>\n    <tr>\n      <th>995</th>\n      <td>0</td>\n    </tr>\n    <tr>\n      <th>996</th>\n      <td>1</td>\n    </tr>\n    <tr>\n      <th>997</th>\n      <td>0</td>\n    </tr>\n    <tr>\n      <th>998</th>\n      <td>0</td>\n    </tr>\n    <tr>\n      <th>999</th>\n      <td>0</td>\n    </tr>\n    <tr>\n      <th>1000</th>\n      <td>0</td>\n    </tr>\n    <tr>\n      <th>1001</th>\n      <td>0</td>\n    </tr>\n    <tr>\n      <th>1002</th>\n      <td>0</td>\n    </tr>\n    <tr>\n      <th>1003</th>\n      <td>1</td>\n    </tr>\n    <tr>\n      <th>1004</th>\n      <td>1</td>\n    </tr>\n    <tr>\n      <th>1005</th>\n      <td>0</td>\n    </tr>\n    <tr>\n      <th>1006</th>\n      <td>1</td>\n    </tr>\n    <tr>\n      <th>1007</th>\n      <td>0</td>\n    </tr>\n    <tr>\n      <th>1008</th>\n      <td>0</td>\n    </tr>\n    <tr>\n      <th>1009</th>\n      <td>1</td>\n    </tr>\n    <tr>\n      <th>1010</th>\n      <td>0</td>\n    </tr>\n    <tr>\n      <th>1011</th>\n      <td>1</td>\n    </tr>\n    <tr>\n      <th>1012</th>\n      <td>1</td>\n    </tr>\n    <tr>\n      <th>1013</th>\n      <td>0</td>\n    </tr>\n    <tr>\n      <th>1014</th>\n      <td>1</td>\n    </tr>\n    <tr>\n      <th>1015</th>\n      <td>0</td>\n    </tr>\n    <tr>\n      <th>1016</th>\n      <td>0</td>\n    </tr>\n    <tr>\n      <th>1017</th>\n      <td>0</td>\n    </tr>\n    <tr>\n      <th>1018</th>\n      <td>0</td>\n    </tr>\n    <tr>\n      <th>1019</th>\n      <td>1</td>\n    </tr>\n    <tr>\n      <th>1020</th>\n      <td>1</td>\n    </tr>\n    <tr>\n      <th>1021</th>\n      <td>0</td>\n    </tr>\n    <tr>\n      <th>1022</th>\n      <td>0</td>\n    </tr>\n    <tr>\n      <th>1023</th>\n      <td>1</td>\n    </tr>\n    <tr>\n      <th>1024</th>\n      <td>0</td>\n    </tr>\n    <tr>\n      <th>1025</th>\n      <td>0</td>\n    </tr>\n    <tr>\n      <th>1026</th>\n      <td>0</td>\n    </tr>\n    <tr>\n      <th>1027</th>\n      <td>0</td>\n    </tr>\n    <tr>\n      <th>1028</th>\n      <td>0</td>\n    </tr>\n    <tr>\n      <th>1029</th>\n      <td>0</td>\n    </tr>\n    <tr>\n      <th>1030</th>\n      <td>0</td>\n    </tr>\n    <tr>\n      <th>1031</th>\n      <td>0</td>\n    </tr>\n    <tr>\n      <th>1032</th>\n      <td>0</td>\n    </tr>\n    <tr>\n      <th>1033</th>\n      <td>1</td>\n    </tr>\n    <tr>\n      <th>1034</th>\n      <td>1</td>\n    </tr>\n    <tr>\n      <th>1035</th>\n      <td>0</td>\n    </tr>\n    <tr>\n      <th>1036</th>\n      <td>1</td>\n    </tr>\n    <tr>\n      <th>1037</th>\n      <td>0</td>\n    </tr>\n    <tr>\n      <th>1038</th>\n      <td>0</td>\n    </tr>\n    <tr>\n      <th>1039</th>\n      <td>0</td>\n    </tr>\n    <tr>\n      <th>1040</th>\n      <td>1</td>\n    </tr>\n    <tr>\n      <th>1041</th>\n      <td>0</td>\n    </tr>\n    <tr>\n      <th>1042</th>\n      <td>1</td>\n    </tr>\n    <tr>\n      <th>1043</th>\n      <td>0</td>\n    </tr>\n    <tr>\n      <th>1044</th>\n      <td>0</td>\n    </tr>\n    <tr>\n      <th>1045</th>\n      <td>0</td>\n    </tr>\n    <tr>\n      <th>1046</th>\n      <td>0</td>\n    </tr>\n    <tr>\n      <th>1047</th>\n      <td>0</td>\n    </tr>\n    <tr>\n      <th>1048</th>\n      <td>1</td>\n    </tr>\n    <tr>\n      <th>1049</th>\n      <td>1</td>\n    </tr>\n    <tr>\n      <th>1050</th>\n      <td>1</td>\n    </tr>\n    <tr>\n      <th>1051</th>\n      <td>1</td>\n    </tr>\n    <tr>\n      <th>1052</th>\n      <td>1</td>\n    </tr>\n    <tr>\n      <th>1053</th>\n      <td>1</td>\n    </tr>\n    <tr>\n      <th>1054</th>\n      <td>1</td>\n    </tr>\n    <tr>\n      <th>1055</th>\n      <td>0</td>\n    </tr>\n    <tr>\n      <th>1056</th>\n      <td>0</td>\n    </tr>\n    <tr>\n      <th>1057</th>\n      <td>0</td>\n    </tr>\n    <tr>\n      <th>1058</th>\n      <td>0</td>\n    </tr>\n    <tr>\n      <th>1059</th>\n      <td>0</td>\n    </tr>\n    <tr>\n      <th>1060</th>\n      <td>1</td>\n    </tr>\n    <tr>\n      <th>1061</th>\n      <td>0</td>\n    </tr>\n    <tr>\n      <th>1062</th>\n      <td>0</td>\n    </tr>\n    <tr>\n      <th>1063</th>\n      <td>0</td>\n    </tr>\n    <tr>\n      <th>1064</th>\n      <td>0</td>\n    </tr>\n    <tr>\n      <th>1065</th>\n      <td>0</td>\n    </tr>\n    <tr>\n      <th>1066</th>\n      <td>0</td>\n    </tr>\n    <tr>\n      <th>1067</th>\n      <td>1</td>\n    </tr>\n    <tr>\n      <th>1068</th>\n      <td>1</td>\n    </tr>\n    <tr>\n      <th>1069</th>\n      <td>0</td>\n    </tr>\n    <tr>\n      <th>1070</th>\n      <td>1</td>\n    </tr>\n    <tr>\n      <th>1071</th>\n      <td>1</td>\n    </tr>\n    <tr>\n      <th>1072</th>\n      <td>0</td>\n    </tr>\n    <tr>\n      <th>1073</th>\n      <td>0</td>\n    </tr>\n    <tr>\n      <th>1074</th>\n      <td>1</td>\n    </tr>\n    <tr>\n      <th>1075</th>\n      <td>0</td>\n    </tr>\n    <tr>\n      <th>1076</th>\n      <td>1</td>\n    </tr>\n    <tr>\n      <th>1077</th>\n      <td>0</td>\n    </tr>\n    <tr>\n      <th>1078</th>\n      <td>1</td>\n    </tr>\n    <tr>\n      <th>1079</th>\n      <td>0</td>\n    </tr>\n    <tr>\n      <th>1080</th>\n      <td>0</td>\n    </tr>\n    <tr>\n      <th>1081</th>\n      <td>0</td>\n    </tr>\n    <tr>\n      <th>1082</th>\n      <td>0</td>\n    </tr>\n    <tr>\n      <th>1083</th>\n      <td>0</td>\n    </tr>\n    <tr>\n      <th>1084</th>\n      <td>1</td>\n    </tr>\n    <tr>\n      <th>1085</th>\n      <td>0</td>\n    </tr>\n    <tr>\n      <th>1086</th>\n      <td>1</td>\n    </tr>\n    <tr>\n      <th>1087</th>\n      <td>0</td>\n    </tr>\n    <tr>\n      <th>1088</th>\n      <td>1</td>\n    </tr>\n    <tr>\n      <th>1089</th>\n      <td>0</td>\n    </tr>\n    <tr>\n      <th>1090</th>\n      <td>0</td>\n    </tr>\n    <tr>\n      <th>1091</th>\n      <td>0</td>\n    </tr>\n    <tr>\n      <th>1092</th>\n      <td>1</td>\n    </tr>\n    <tr>\n      <th>1093</th>\n      <td>1</td>\n    </tr>\n    <tr>\n      <th>1094</th>\n      <td>1</td>\n    </tr>\n    <tr>\n      <th>1095</th>\n      <td>1</td>\n    </tr>\n    <tr>\n      <th>1096</th>\n      <td>0</td>\n    </tr>\n    <tr>\n      <th>1097</th>\n      <td>0</td>\n    </tr>\n    <tr>\n      <th>1098</th>\n      <td>0</td>\n    </tr>\n    <tr>\n      <th>1099</th>\n      <td>0</td>\n    </tr>\n    <tr>\n      <th>1100</th>\n      <td>1</td>\n    </tr>\n    <tr>\n      <th>1101</th>\n      <td>0</td>\n    </tr>\n    <tr>\n      <th>1102</th>\n      <td>0</td>\n    </tr>\n    <tr>\n      <th>1103</th>\n      <td>0</td>\n    </tr>\n    <tr>\n      <th>1104</th>\n      <td>0</td>\n    </tr>\n    <tr>\n      <th>1105</th>\n      <td>0</td>\n    </tr>\n    <tr>\n      <th>1106</th>\n      <td>0</td>\n    </tr>\n    <tr>\n      <th>1107</th>\n      <td>0</td>\n    </tr>\n    <tr>\n      <th>1108</th>\n      <td>1</td>\n    </tr>\n    <tr>\n      <th>1109</th>\n      <td>0</td>\n    </tr>\n    <tr>\n      <th>1110</th>\n      <td>1</td>\n    </tr>\n    <tr>\n      <th>1111</th>\n      <td>0</td>\n    </tr>\n    <tr>\n      <th>1112</th>\n      <td>1</td>\n    </tr>\n    <tr>\n      <th>1113</th>\n      <td>0</td>\n    </tr>\n    <tr>\n      <th>1114</th>\n      <td>1</td>\n    </tr>\n    <tr>\n      <th>1115</th>\n      <td>1</td>\n    </tr>\n    <tr>\n      <th>1116</th>\n      <td>1</td>\n    </tr>\n    <tr>\n      <th>1117</th>\n      <td>0</td>\n    </tr>\n    <tr>\n      <th>1118</th>\n      <td>0</td>\n    </tr>\n    <tr>\n      <th>1119</th>\n      <td>1</td>\n    </tr>\n    <tr>\n      <th>1120</th>\n      <td>0</td>\n    </tr>\n    <tr>\n      <th>1121</th>\n      <td>0</td>\n    </tr>\n    <tr>\n      <th>1122</th>\n      <td>0</td>\n    </tr>\n    <tr>\n      <th>1123</th>\n      <td>1</td>\n    </tr>\n    <tr>\n      <th>1124</th>\n      <td>0</td>\n    </tr>\n    <tr>\n      <th>1125</th>\n      <td>0</td>\n    </tr>\n    <tr>\n      <th>1126</th>\n      <td>1</td>\n    </tr>\n    <tr>\n      <th>1127</th>\n      <td>0</td>\n    </tr>\n    <tr>\n      <th>1128</th>\n      <td>0</td>\n    </tr>\n    <tr>\n      <th>1129</th>\n      <td>1</td>\n    </tr>\n    <tr>\n      <th>1130</th>\n      <td>1</td>\n    </tr>\n    <tr>\n      <th>1131</th>\n      <td>1</td>\n    </tr>\n    <tr>\n      <th>1132</th>\n      <td>1</td>\n    </tr>\n    <tr>\n      <th>1133</th>\n      <td>1</td>\n    </tr>\n    <tr>\n      <th>1134</th>\n      <td>0</td>\n    </tr>\n    <tr>\n      <th>1135</th>\n      <td>0</td>\n    </tr>\n    <tr>\n      <th>1136</th>\n      <td>1</td>\n    </tr>\n    <tr>\n      <th>1137</th>\n      <td>1</td>\n    </tr>\n    <tr>\n      <th>1138</th>\n      <td>1</td>\n    </tr>\n    <tr>\n      <th>1139</th>\n      <td>0</td>\n    </tr>\n    <tr>\n      <th>1140</th>\n      <td>1</td>\n    </tr>\n    <tr>\n      <th>1141</th>\n      <td>0</td>\n    </tr>\n    <tr>\n      <th>1142</th>\n      <td>1</td>\n    </tr>\n    <tr>\n      <th>1143</th>\n      <td>0</td>\n    </tr>\n    <tr>\n      <th>1144</th>\n      <td>0</td>\n    </tr>\n    <tr>\n      <th>1145</th>\n      <td>0</td>\n    </tr>\n    <tr>\n      <th>1146</th>\n      <td>0</td>\n    </tr>\n    <tr>\n      <th>1147</th>\n      <td>0</td>\n    </tr>\n    <tr>\n      <th>1148</th>\n      <td>0</td>\n    </tr>\n    <tr>\n      <th>1149</th>\n      <td>0</td>\n    </tr>\n    <tr>\n      <th>1150</th>\n      <td>1</td>\n    </tr>\n    <tr>\n      <th>1151</th>\n      <td>0</td>\n    </tr>\n    <tr>\n      <th>1152</th>\n      <td>0</td>\n    </tr>\n    <tr>\n      <th>1153</th>\n      <td>0</td>\n    </tr>\n    <tr>\n      <th>1154</th>\n      <td>1</td>\n    </tr>\n    <tr>\n      <th>1155</th>\n      <td>1</td>\n    </tr>\n    <tr>\n      <th>1156</th>\n      <td>0</td>\n    </tr>\n    <tr>\n      <th>1157</th>\n      <td>0</td>\n    </tr>\n    <tr>\n      <th>1158</th>\n      <td>0</td>\n    </tr>\n    <tr>\n      <th>1159</th>\n      <td>0</td>\n    </tr>\n    <tr>\n      <th>1160</th>\n      <td>0</td>\n    </tr>\n    <tr>\n      <th>1161</th>\n      <td>0</td>\n    </tr>\n    <tr>\n      <th>1162</th>\n      <td>0</td>\n    </tr>\n    <tr>\n      <th>1163</th>\n      <td>0</td>\n    </tr>\n    <tr>\n      <th>1164</th>\n      <td>1</td>\n    </tr>\n    <tr>\n      <th>1165</th>\n      <td>1</td>\n    </tr>\n    <tr>\n      <th>1166</th>\n      <td>0</td>\n    </tr>\n    <tr>\n      <th>1167</th>\n      <td>1</td>\n    </tr>\n    <tr>\n      <th>1168</th>\n      <td>0</td>\n    </tr>\n    <tr>\n      <th>1169</th>\n      <td>0</td>\n    </tr>\n    <tr>\n      <th>1170</th>\n      <td>0</td>\n    </tr>\n    <tr>\n      <th>1171</th>\n      <td>0</td>\n    </tr>\n    <tr>\n      <th>1172</th>\n      <td>0</td>\n    </tr>\n    <tr>\n      <th>1173</th>\n      <td>1</td>\n    </tr>\n    <tr>\n      <th>1174</th>\n      <td>1</td>\n    </tr>\n    <tr>\n      <th>1175</th>\n      <td>0</td>\n    </tr>\n    <tr>\n      <th>1176</th>\n      <td>1</td>\n    </tr>\n    <tr>\n      <th>1177</th>\n      <td>0</td>\n    </tr>\n    <tr>\n      <th>1178</th>\n      <td>0</td>\n    </tr>\n    <tr>\n      <th>1179</th>\n      <td>1</td>\n    </tr>\n    <tr>\n      <th>1180</th>\n      <td>0</td>\n    </tr>\n    <tr>\n      <th>1181</th>\n      <td>0</td>\n    </tr>\n    <tr>\n      <th>1182</th>\n      <td>0</td>\n    </tr>\n    <tr>\n      <th>1183</th>\n      <td>0</td>\n    </tr>\n    <tr>\n      <th>1184</th>\n      <td>0</td>\n    </tr>\n    <tr>\n      <th>1185</th>\n      <td>1</td>\n    </tr>\n    <tr>\n      <th>1186</th>\n      <td>0</td>\n    </tr>\n    <tr>\n      <th>1187</th>\n      <td>0</td>\n    </tr>\n    <tr>\n      <th>1188</th>\n      <td>1</td>\n    </tr>\n    <tr>\n      <th>1189</th>\n      <td>0</td>\n    </tr>\n    <tr>\n      <th>1190</th>\n      <td>0</td>\n    </tr>\n    <tr>\n      <th>1191</th>\n      <td>0</td>\n    </tr>\n    <tr>\n      <th>1192</th>\n      <td>0</td>\n    </tr>\n    <tr>\n      <th>1193</th>\n      <td>0</td>\n    </tr>\n    <tr>\n      <th>1194</th>\n      <td>0</td>\n    </tr>\n    <tr>\n      <th>1195</th>\n      <td>0</td>\n    </tr>\n    <tr>\n      <th>1196</th>\n      <td>1</td>\n    </tr>\n    <tr>\n      <th>1197</th>\n      <td>1</td>\n    </tr>\n    <tr>\n      <th>1198</th>\n      <td>0</td>\n    </tr>\n    <tr>\n      <th>1199</th>\n      <td>1</td>\n    </tr>\n    <tr>\n      <th>1200</th>\n      <td>1</td>\n    </tr>\n    <tr>\n      <th>1201</th>\n      <td>0</td>\n    </tr>\n    <tr>\n      <th>1202</th>\n      <td>0</td>\n    </tr>\n    <tr>\n      <th>1203</th>\n      <td>1</td>\n    </tr>\n    <tr>\n      <th>1204</th>\n      <td>0</td>\n    </tr>\n    <tr>\n      <th>1205</th>\n      <td>0</td>\n    </tr>\n    <tr>\n      <th>1206</th>\n      <td>1</td>\n    </tr>\n    <tr>\n      <th>1207</th>\n      <td>1</td>\n    </tr>\n    <tr>\n      <th>1208</th>\n      <td>0</td>\n    </tr>\n    <tr>\n      <th>1209</th>\n      <td>0</td>\n    </tr>\n    <tr>\n      <th>1210</th>\n      <td>0</td>\n    </tr>\n    <tr>\n      <th>1211</th>\n      <td>0</td>\n    </tr>\n    <tr>\n      <th>1212</th>\n      <td>0</td>\n    </tr>\n    <tr>\n      <th>1213</th>\n      <td>0</td>\n    </tr>\n    <tr>\n      <th>1214</th>\n      <td>0</td>\n    </tr>\n    <tr>\n      <th>1215</th>\n      <td>1</td>\n    </tr>\n    <tr>\n      <th>1216</th>\n      <td>1</td>\n    </tr>\n    <tr>\n      <th>1217</th>\n      <td>0</td>\n    </tr>\n    <tr>\n      <th>1218</th>\n      <td>1</td>\n    </tr>\n    <tr>\n      <th>1219</th>\n      <td>0</td>\n    </tr>\n    <tr>\n      <th>1220</th>\n      <td>0</td>\n    </tr>\n    <tr>\n      <th>1221</th>\n      <td>0</td>\n    </tr>\n    <tr>\n      <th>1222</th>\n      <td>1</td>\n    </tr>\n    <tr>\n      <th>1223</th>\n      <td>1</td>\n    </tr>\n    <tr>\n      <th>1224</th>\n      <td>0</td>\n    </tr>\n    <tr>\n      <th>1225</th>\n      <td>1</td>\n    </tr>\n    <tr>\n      <th>1226</th>\n      <td>0</td>\n    </tr>\n    <tr>\n      <th>1227</th>\n      <td>0</td>\n    </tr>\n    <tr>\n      <th>1228</th>\n      <td>1</td>\n    </tr>\n    <tr>\n      <th>1229</th>\n      <td>0</td>\n    </tr>\n    <tr>\n      <th>1230</th>\n      <td>0</td>\n    </tr>\n    <tr>\n      <th>1231</th>\n      <td>1</td>\n    </tr>\n    <tr>\n      <th>1232</th>\n      <td>0</td>\n    </tr>\n    <tr>\n      <th>1233</th>\n      <td>0</td>\n    </tr>\n    <tr>\n      <th>1234</th>\n      <td>0</td>\n    </tr>\n    <tr>\n      <th>1235</th>\n      <td>1</td>\n    </tr>\n    <tr>\n      <th>1236</th>\n      <td>1</td>\n    </tr>\n    <tr>\n      <th>1237</th>\n      <td>0</td>\n    </tr>\n    <tr>\n      <th>1238</th>\n      <td>0</td>\n    </tr>\n    <tr>\n      <th>1239</th>\n      <td>1</td>\n    </tr>\n    <tr>\n      <th>1240</th>\n      <td>0</td>\n    </tr>\n    <tr>\n      <th>1241</th>\n      <td>1</td>\n    </tr>\n    <tr>\n      <th>1242</th>\n      <td>1</td>\n    </tr>\n    <tr>\n      <th>1243</th>\n      <td>0</td>\n    </tr>\n    <tr>\n      <th>1244</th>\n      <td>0</td>\n    </tr>\n    <tr>\n      <th>1245</th>\n      <td>0</td>\n    </tr>\n    <tr>\n      <th>1246</th>\n      <td>1</td>\n    </tr>\n    <tr>\n      <th>1247</th>\n      <td>1</td>\n    </tr>\n    <tr>\n      <th>1248</th>\n      <td>1</td>\n    </tr>\n    <tr>\n      <th>1249</th>\n      <td>0</td>\n    </tr>\n    <tr>\n      <th>1250</th>\n      <td>0</td>\n    </tr>\n    <tr>\n      <th>1251</th>\n      <td>1</td>\n    </tr>\n    <tr>\n      <th>1252</th>\n      <td>0</td>\n    </tr>\n    <tr>\n      <th>1253</th>\n      <td>1</td>\n    </tr>\n    <tr>\n      <th>1254</th>\n      <td>1</td>\n    </tr>\n    <tr>\n      <th>1255</th>\n      <td>1</td>\n    </tr>\n    <tr>\n      <th>1256</th>\n      <td>1</td>\n    </tr>\n    <tr>\n      <th>1257</th>\n      <td>0</td>\n    </tr>\n    <tr>\n      <th>1258</th>\n      <td>0</td>\n    </tr>\n    <tr>\n      <th>1259</th>\n      <td>0</td>\n    </tr>\n    <tr>\n      <th>1260</th>\n      <td>1</td>\n    </tr>\n    <tr>\n      <th>1261</th>\n      <td>1</td>\n    </tr>\n    <tr>\n      <th>1262</th>\n      <td>0</td>\n    </tr>\n    <tr>\n      <th>1263</th>\n      <td>1</td>\n    </tr>\n    <tr>\n      <th>1264</th>\n      <td>0</td>\n    </tr>\n    <tr>\n      <th>1265</th>\n      <td>1</td>\n    </tr>\n    <tr>\n      <th>1266</th>\n      <td>1</td>\n    </tr>\n    <tr>\n      <th>1267</th>\n      <td>1</td>\n    </tr>\n    <tr>\n      <th>1268</th>\n      <td>0</td>\n    </tr>\n    <tr>\n      <th>1269</th>\n      <td>0</td>\n    </tr>\n    <tr>\n      <th>1270</th>\n      <td>0</td>\n    </tr>\n    <tr>\n      <th>1271</th>\n      <td>1</td>\n    </tr>\n    <tr>\n      <th>1272</th>\n      <td>0</td>\n    </tr>\n    <tr>\n      <th>1273</th>\n      <td>0</td>\n    </tr>\n    <tr>\n      <th>1274</th>\n      <td>1</td>\n    </tr>\n    <tr>\n      <th>1275</th>\n      <td>0</td>\n    </tr>\n    <tr>\n      <th>1276</th>\n      <td>1</td>\n    </tr>\n    <tr>\n      <th>1277</th>\n      <td>1</td>\n    </tr>\n    <tr>\n      <th>1278</th>\n      <td>0</td>\n    </tr>\n    <tr>\n      <th>1279</th>\n      <td>0</td>\n    </tr>\n    <tr>\n      <th>1280</th>\n      <td>0</td>\n    </tr>\n    <tr>\n      <th>1281</th>\n      <td>0</td>\n    </tr>\n    <tr>\n      <th>1282</th>\n      <td>0</td>\n    </tr>\n    <tr>\n      <th>1283</th>\n      <td>1</td>\n    </tr>\n    <tr>\n      <th>1284</th>\n      <td>1</td>\n    </tr>\n    <tr>\n      <th>1285</th>\n      <td>0</td>\n    </tr>\n    <tr>\n      <th>1286</th>\n      <td>0</td>\n    </tr>\n    <tr>\n      <th>1287</th>\n      <td>1</td>\n    </tr>\n    <tr>\n      <th>1288</th>\n      <td>0</td>\n    </tr>\n    <tr>\n      <th>1289</th>\n      <td>1</td>\n    </tr>\n    <tr>\n      <th>1290</th>\n      <td>0</td>\n    </tr>\n    <tr>\n      <th>1291</th>\n      <td>0</td>\n    </tr>\n    <tr>\n      <th>1292</th>\n      <td>1</td>\n    </tr>\n    <tr>\n      <th>1293</th>\n      <td>0</td>\n    </tr>\n    <tr>\n      <th>1294</th>\n      <td>1</td>\n    </tr>\n    <tr>\n      <th>1295</th>\n      <td>0</td>\n    </tr>\n    <tr>\n      <th>1296</th>\n      <td>0</td>\n    </tr>\n    <tr>\n      <th>1297</th>\n      <td>0</td>\n    </tr>\n    <tr>\n      <th>1298</th>\n      <td>0</td>\n    </tr>\n    <tr>\n      <th>1299</th>\n      <td>0</td>\n    </tr>\n    <tr>\n      <th>1300</th>\n      <td>1</td>\n    </tr>\n    <tr>\n      <th>1301</th>\n      <td>1</td>\n    </tr>\n    <tr>\n      <th>1302</th>\n      <td>1</td>\n    </tr>\n    <tr>\n      <th>1303</th>\n      <td>1</td>\n    </tr>\n    <tr>\n      <th>1304</th>\n      <td>0</td>\n    </tr>\n    <tr>\n      <th>1305</th>\n      <td>0</td>\n    </tr>\n    <tr>\n      <th>1306</th>\n      <td>1</td>\n    </tr>\n    <tr>\n      <th>1307</th>\n      <td>0</td>\n    </tr>\n    <tr>\n      <th>1308</th>\n      <td>0</td>\n    </tr>\n    <tr>\n      <th>1309</th>\n      <td>1</td>\n    </tr>\n  </tbody>\n</table>\n</div>"
          },
          "metadata": {}
        }
      ]
    },
    {
      "metadata": {
        "trusted": true,
        "_uuid": "ee8862ebab6cd71b4d3128e9868e9bc2f173f8f9"
      },
      "cell_type": "code",
      "source": "df_result.to_csv('out3.csv')\n",
      "execution_count": 164,
      "outputs": []
    }
  ],
  "metadata": {
    "kernelspec": {
      "display_name": "Python 3",
      "language": "python",
      "name": "python3"
    },
    "language_info": {
      "name": "python",
      "version": "3.6.6",
      "mimetype": "text/x-python",
      "codemirror_mode": {
        "name": "ipython",
        "version": 3
      },
      "pygments_lexer": "ipython3",
      "nbconvert_exporter": "python",
      "file_extension": ".py"
    }
  },
  "nbformat": 4,
  "nbformat_minor": 1
}
