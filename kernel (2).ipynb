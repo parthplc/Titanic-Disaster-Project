{
  "cells": [
    {
      "metadata": {
        "_uuid": "eeadfdc4a37f900304cf0891c4eec5e50c3d3b0b"
      },
      "cell_type": "markdown",
      "source": "<h1>Hello! This is my first kernel in Data Science using python.I have followed a tutorial with link below \nto make this Whole Kernel.I hope thet you like this kernel"
    },
    {
      "metadata": {
        "_uuid": "92e7cb09cca50b9d6a8bd650b5e383833972c547"
      },
      "cell_type": "markdown",
      "source": "**So we would start analysing by importing all important libraries .**"
    },
    {
      "metadata": {
        "_uuid": "8f2839f25d086af736a60e9eeb907d3b93b6e0e5",
        "_cell_guid": "b1076dfc-b9ad-4769-8c92-a6c4dae69d19",
        "trusted": true
      },
      "cell_type": "code",
      "source": "# This Python 3 environment comes with many helpful analytics libraries installed\n# It is defined by the kaggle/python docker image: https://github.com/kaggle/docker-python\n# For example, here's several helpful packages to load in \n\nimport numpy as np # linear algebra\nimport pandas as pd # data processing, CSV file I/O (e.g. pd.read_csv)\n\n# Input data files are available in the \"../input/\" directory.\n# For example, running this (by clicking run or pressing Shift+Enter) will list the files in the input directory\n\nimport os\nprint(os.listdir(\"../input\"))\n\n# Any results you write to the current directory are saved as output.",
      "execution_count": null,
      "outputs": []
    },
    {
      "metadata": {
        "trusted": true,
        "_uuid": "c43fb20935a46a5c6e85c3ac07f21ddeefec1824"
      },
      "cell_type": "code",
      "source": "#Importing python libraries\nfrom sklearn.metrics import make_scorer, accuracy_score\nfrom sklearn.model_selection import train_test_split\nfrom sklearn.ensemble import RandomForestClassifier\nfrom sklearn.linear_model import LogisticRegression\nfrom sklearn.metrics import classification_report\nfrom sklearn.model_selection import GridSearchCV\nfrom sklearn.metrics import confusion_matrix\nfrom sklearn.metrics import accuracy_score\nfrom sklearn import preprocessing\nimport matplotlib.pylab as pylab\nimport matplotlib.pyplot as plt\nfrom pandas import get_dummies\nimport matplotlib as mpl\nimport xgboost as xgb\nimport seaborn as sns\nimport pandas as pd\nimport numpy as np\nimport matplotlib\nimport warnings\nimport sklearn\nimport scipy\nimport numpy\nimport json\nimport sys\nimport csv\nfrom sklearn.linear_model import SGDClassifier\nfrom sklearn.linear_model import Perceptron\nimport os\nfrom sklearn.naive_bayes import GaussianNB\nfrom sklearn.svm import SVC, LinearSVC\nfrom sklearn import linear_model",
      "execution_count": null,
      "outputs": []
    },
    {
      "metadata": {
        "trusted": true,
        "_uuid": "d1e24246a2cabda8c7a353477b84600361e43097"
      },
      "cell_type": "code",
      "source": "pd.set_option('display.max_rows',2000)#So that we can see the whole dataset at one go",
      "execution_count": null,
      "outputs": []
    },
    {
      "metadata": {
        "_uuid": "ee4b06bd9c15f29f55e13440035e5e6e450fd256"
      },
      "cell_type": "markdown",
      "source": "We are making dataframe test and train to analyse the given dataset."
    },
    {
      "metadata": {
        "_cell_guid": "79c7e3d0-c299-4dcb-8224-4455121ee9b0",
        "_uuid": "d629ff2d2480ee46fbb7e2d37f6b5fab8052498a",
        "trusted": true
      },
      "cell_type": "code",
      "source": "# import train and test to play with it\ntrain_df = pd.read_csv('../input/train.csv')\ntest_df = pd.read_csv('../input/test.csv')",
      "execution_count": null,
      "outputs": []
    },
    {
      "metadata": {
        "trusted": true,
        "_uuid": "9ed64289d72df675c67c3d5c9e546cb3a7fbe85a",
        "scrolled": true
      },
      "cell_type": "code",
      "source": "#get the type\ntype(train_df)",
      "execution_count": null,
      "outputs": []
    },
    {
      "metadata": {
        "_uuid": "c0c22599ddd6ecf94f85d7a270f17358f1dcd01a"
      },
      "cell_type": "markdown",
      "source": "**Basic Structure**"
    },
    {
      "metadata": {
        "_uuid": "3e3e12279ad455a990392df311bacf445bf6bcf8"
      },
      "cell_type": "markdown",
      "source": "Going through the complete dataset to get the jist of it."
    },
    {
      "metadata": {
        "trusted": true,
        "_uuid": "f3b66859261cd5833c6ea68ecb8aadb7a8a2aa84"
      },
      "cell_type": "code",
      "source": "\ntest_df.info()",
      "execution_count": null,
      "outputs": []
    },
    {
      "metadata": {
        "trusted": true,
        "_uuid": "5a4da2cbba27d886c9c5d47c0ace2253daafb871"
      },
      "cell_type": "code",
      "source": "train_df.info()",
      "execution_count": null,
      "outputs": []
    },
    {
      "metadata": {
        "trusted": true,
        "_uuid": "4fac305da5818e51d786bb57a98deed1d5d29745"
      },
      "cell_type": "code",
      "source": "test_df['Survived'] = -888 #Adding Survived with a default value",
      "execution_count": null,
      "outputs": []
    },
    {
      "metadata": {
        "trusted": true,
        "_uuid": "142dc10c899e3f03b07892dd08ebc91d563b7fea"
      },
      "cell_type": "code",
      "source": "test_df.info()",
      "execution_count": null,
      "outputs": []
    },
    {
      "metadata": {
        "trusted": true,
        "_uuid": "bb93cc2b43ccd518d71bebaf5ed119ee8481a42d"
      },
      "cell_type": "code",
      "source": "#test_df.head()\ntrain_df.head()",
      "execution_count": null,
      "outputs": []
    },
    {
      "metadata": {
        "trusted": true,
        "_uuid": "1417ce8793fcb993e2c67d3e74112f19ab0e9b6d"
      },
      "cell_type": "code",
      "source": "train_df = train_df[['PassengerId','Pclass','Name','Sex','Age','SibSp','Parch','Ticket','Fare','Cabin','Embarked','Survived']]",
      "execution_count": null,
      "outputs": []
    },
    {
      "metadata": {
        "trusted": true,
        "_uuid": "78b526701c1d7cfedec80c3958c323758ebb6e27"
      },
      "cell_type": "code",
      "source": "\n#Concatinating two data frames(train and test)\ndf = pd.concat((train_df,test_df),axis = 0)\n\ndf = df.reset_index()\n",
      "execution_count": null,
      "outputs": []
    },
    {
      "metadata": {
        "trusted": true,
        "_uuid": "11d880238e5280cfbf42a9d81709e120c55103b3"
      },
      "cell_type": "code",
      "source": "df.info()",
      "execution_count": null,
      "outputs": []
    },
    {
      "metadata": {
        "trusted": true,
        "scrolled": false,
        "_uuid": "2de6a74eea18511b19758daf8c74155361882d9e"
      },
      "cell_type": "code",
      "source": "df = df.drop(['index'],axis=1)\n\ndf.head()\n",
      "execution_count": null,
      "outputs": []
    },
    {
      "metadata": {
        "trusted": true,
        "_uuid": "f8571d01e4d5fa67c59966fc1c5f3759d8af5e9c"
      },
      "cell_type": "code",
      "source": "df = df.set_index('PassengerId')\ndf.tail()",
      "execution_count": null,
      "outputs": []
    },
    {
      "metadata": {
        "_uuid": "aa1f27e6d2cb6ec6712092803a58c54b5e3789d4"
      },
      "cell_type": "markdown",
      "source": "# <h1>Various pandas functions on data set<h1>"
    },
    {
      "metadata": {
        "trusted": true,
        "_uuid": "a38ecc72baa402c2ebde127fe68b1940ca3a26dc"
      },
      "cell_type": "code",
      "source": "df.Name.head()",
      "execution_count": null,
      "outputs": []
    },
    {
      "metadata": {
        "trusted": true,
        "_uuid": "ef7688954437d8a6dac4e95130e49eb297db2f8a"
      },
      "cell_type": "code",
      "source": "df.loc[5:10]",
      "execution_count": null,
      "outputs": []
    },
    {
      "metadata": {
        "trusted": true,
        "_uuid": "60b2b809c4243121ddfbb1d519999dbe59ed8ded"
      },
      "cell_type": "code",
      "source": "#indexing : use iloc based indexing",
      "execution_count": null,
      "outputs": []
    },
    {
      "metadata": {
        "trusted": true,
        "_uuid": "22654da719046df823c515fde8ca0dd50f8e2a78"
      },
      "cell_type": "code",
      "source": "df.iloc[5:10,3:8]",
      "execution_count": null,
      "outputs": []
    },
    {
      "metadata": {
        "trusted": true,
        "_uuid": "1fbb3382857cce624d7d2359c3cc7052a12e33a5"
      },
      "cell_type": "code",
      "source": "#filter rows based on the condition\nmale_passengers = df.loc[df.Sex =='male',:]\nprint('Number of male passengers : {0}'.format(len(male_passengers)))\n",
      "execution_count": null,
      "outputs": []
    },
    {
      "metadata": {
        "trusted": true,
        "_uuid": "0d5796a0c8ad635ce4ddaa4506798e55d6767876"
      },
      "cell_type": "code",
      "source": "#use & or | operators to build complex logic",
      "execution_count": null,
      "outputs": []
    },
    {
      "metadata": {
        "trusted": true,
        "_uuid": "0e8d89e2d2711203d4bb1b0a622d37d710157290"
      },
      "cell_type": "code",
      "source": "male_passengers_first_class = df.loc[((df.Sex =='male') &(df.Pclass == 1)),:]",
      "execution_count": null,
      "outputs": []
    },
    {
      "metadata": {
        "trusted": true,
        "_uuid": "fe9e722cdb22d2f0990aefce36affd301e7e8d6d"
      },
      "cell_type": "code",
      "source": "print('Number of passengers in first class:{0}'.format(len(male_passengers_first_class)))",
      "execution_count": null,
      "outputs": []
    },
    {
      "metadata": {
        "_uuid": "d177c6a09ec1e95d554f0015b1f8f9bfeed58c31"
      },
      "cell_type": "markdown",
      "source": "So far we have use numpy and pandas to analyse the whole data and going through it.\nNow we will Start exploring the whole Dataset."
    },
    {
      "metadata": {
        "_uuid": "071a1c0624d7ccfde5a18936fb5371e5d3f59abe"
      },
      "cell_type": "markdown",
      "source": "\n<h1>Summaty Statistics<h1>"
    },
    {
      "metadata": {
        "trusted": true,
        "_uuid": "a5d54b061c53954c8c6d8b3fbd17c56b274b666b"
      },
      "cell_type": "markdown",
      "source": "\n<h2>Centrality Measure<h2>"
    },
    {
      "metadata": {
        "_uuid": "671bbb714940cf0b3c93464be13c13dd0d159596"
      },
      "cell_type": "markdown",
      "source": "Various technique such as Mean and Median are used as Centrality measures\nMean may me good option often but it is quite affected by extreme value.In such cases we can use median for analysis."
    },
    {
      "metadata": {
        "_uuid": "429ad8287caf5175633180e73ed298fa118a12a4"
      },
      "cell_type": "markdown",
      "source": "<h2>Spread/Dispersion measure<h2>"
    },
    {
      "metadata": {
        "trusted": true,
        "_uuid": "054cdcd5db60e8869ca3514b5ea91ec1ee53c47a"
      },
      "cell_type": "markdown",
      "source": "we use range we can see how things are packed.But it is affected by extreme values.\nSo percentiles are used.These are specially used as quartiles\n"
    },
    {
      "metadata": {
        "trusted": true,
        "_uuid": "18735a061576ba60279ac848cd4670b141fe7284"
      },
      "cell_type": "code",
      "source": "# use .describe() to get statistics for all numeric columns\ndf.describe()",
      "execution_count": null,
      "outputs": []
    },
    {
      "metadata": {
        "trusted": true,
        "_uuid": "ca72d7bd2952015fc59af68fa0dbb4c6fe8df255"
      },
      "cell_type": "code",
      "source": "df.isnull().sum()",
      "execution_count": null,
      "outputs": []
    },
    {
      "metadata": {
        "trusted": true,
        "_uuid": "feb6c329989b03f0d9ed96b826d6840b5cf467ec"
      },
      "cell_type": "code",
      "source": "#Numerical feature\n#centrality measures",
      "execution_count": null,
      "outputs": []
    },
    {
      "metadata": {
        "trusted": true,
        "_uuid": "fc48c462cd21e35dd7e150ae8967d8d56e11ece6"
      },
      "cell_type": "code",
      "source": "print('Mean Fare : {0}'.format(df.Fare.mean()))\nprint('Median Fare : {0}'.format(df.Fare.median()))\n",
      "execution_count": null,
      "outputs": []
    },
    {
      "metadata": {
        "trusted": true,
        "_uuid": "b0b2ee57416eeca7c0b0398e2450ad3c83a27886"
      },
      "cell_type": "code",
      "source": "#dispersion measure\nprint('Max fare  : {0}'.format(df.Fare.max()))#max\nprint('Min fare  : {0}'.format(df.Fare.min()))#max\nprint('Fare range  : {0}'.format(df.Fare.max() - df.Fare.min()))#range\nprint('25 percentile  : {0}'.format(df.Fare.quantile(.25)))#25 percentile\nprint('50 percentile  : {0}'.format(df.Fare.quantile(.50)))#50 percentile\nprint('75 percentile  : {0}'.format(df.Fare.quantile(.75)))#75 percentile\nprint('Variance fare: {0}'.format(df.Fare.var()))#variance\nprint('Standard deviation  : {0}'.format(df.Fare.std()))#standard deviation\n\n\n",
      "execution_count": null,
      "outputs": []
    },
    {
      "metadata": {
        "trusted": true,
        "_uuid": "2d80b2a4332e7eff1a5e9a327d027936bd1f4a0e"
      },
      "cell_type": "code",
      "source": "# box-whiskers plot\ndf.Fare.plot(kind='box')",
      "execution_count": null,
      "outputs": []
    },
    {
      "metadata": {
        "_uuid": "003a1c840c7f0215b33d6e88652863e8e62709f4"
      },
      "cell_type": "markdown",
      "source": "<h1>Categorical features<h1>\n<p>Also known as features with non integer values.(Boolean,Someone's Name or Gender)<p>"
    },
    {
      "metadata": {
        "trusted": true,
        "_uuid": "def1d9f1ecf6ec29a84016188154e010045df807"
      },
      "cell_type": "code",
      "source": "#use describe to get statistics for all columns including non-numeric ones\ndf.describe(include='all')",
      "execution_count": null,
      "outputs": []
    },
    {
      "metadata": {
        "trusted": true,
        "_uuid": "4d60c97fe1ce2495785ff8f998a2c69a2652e79d"
      },
      "cell_type": "code",
      "source": "\ndf.Sex.value_counts()",
      "execution_count": null,
      "outputs": []
    },
    {
      "metadata": {
        "trusted": true,
        "_uuid": "f4b8eee5fb0d1626227f8ecc3c85d0b57849777a"
      },
      "cell_type": "code",
      "source": "df.Sex.value_counts(normalize = True)",
      "execution_count": null,
      "outputs": []
    },
    {
      "metadata": {
        "trusted": true,
        "_uuid": "172a14bf5a296485ca417d675b55eaba496160ac"
      },
      "cell_type": "code",
      "source": "df[df.Survived != -888].Survived.value_counts()",
      "execution_count": null,
      "outputs": []
    },
    {
      "metadata": {
        "trusted": true,
        "_uuid": "b1436e14cc476cd5c720c65757bf4517992d7995"
      },
      "cell_type": "code",
      "source": "df.Pclass.value_counts()",
      "execution_count": null,
      "outputs": []
    },
    {
      "metadata": {
        "trusted": true,
        "_uuid": "4007027ee5e8e85126a271f0e8a12a70d4d37c58"
      },
      "cell_type": "code",
      "source": "#Visualize Sex count,Survived and Class wise survival\ndf.Sex.value_counts().plot(kind='bar');",
      "execution_count": null,
      "outputs": []
    },
    {
      "metadata": {
        "trusted": true,
        "_uuid": "f78244e7b5031a4c3b90ed4470f1a2e5781fb056"
      },
      "cell_type": "code",
      "source": "df[df.Survived != -888].Survived.value_counts().plot(kind='bar');",
      "execution_count": null,
      "outputs": []
    },
    {
      "metadata": {
        "trusted": true,
        "_uuid": "26d35002a780d35a5151ccecb6ccd5d1aacd501a"
      },
      "cell_type": "code",
      "source": "df.Pclass.value_counts().plot(kind='bar');",
      "execution_count": null,
      "outputs": []
    },
    {
      "metadata": {
        "trusted": true,
        "_uuid": "c13132e4ab43e864a53da2c51d540af94868061c"
      },
      "cell_type": "code",
      "source": "\n\ndf.Pclass.value_counts().plot(kind='bar',rot = 0,title = \"Pclass count on Titanic\");",
      "execution_count": null,
      "outputs": []
    },
    {
      "metadata": {
        "_uuid": "a68af0bbe46d9140b792d16e0071c4754cd91d87"
      },
      "cell_type": "markdown",
      "source": "<h2>Distributions of univariate feature at a time<h1>"
    },
    {
      "metadata": {
        "trusted": true,
        "_uuid": "c5bcd0bb5e511e0c126a658eb306dbd8e3a8f50a"
      },
      "cell_type": "code",
      "source": "#for univariate distributions we use Histogram and KDE\n#KDE stands for Kerenl Density Estimation",
      "execution_count": null,
      "outputs": []
    },
    {
      "metadata": {
        "trusted": true,
        "_uuid": "ff57eeaf82a539802724eb10031318b6f30852ff"
      },
      "cell_type": "code",
      "source": "df.Age.plot(kind ='hist',title = 'histogram for Age' );",
      "execution_count": null,
      "outputs": []
    },
    {
      "metadata": {
        "trusted": true,
        "_uuid": "dd8fc7c51cb454a426c8c09027f391fd3b77e6bf"
      },
      "cell_type": "code",
      "source": "df.Age.plot(kind ='kde',title = 'histogram for Age' );",
      "execution_count": null,
      "outputs": []
    },
    {
      "metadata": {
        "trusted": true,
        "_uuid": "6062c0a9aef7aa66adc39db848397aab29006adb"
      },
      "cell_type": "code",
      "source": "df.Fare.plot(kind ='hist',title = 'histogram for Age' );",
      "execution_count": null,
      "outputs": []
    },
    {
      "metadata": {
        "_uuid": "6f7bd0284065ac20501d9b43d179947dda45c746"
      },
      "cell_type": "markdown",
      "source": "<h2>Bivariate Distribution<h2>"
    },
    {
      "metadata": {
        "trusted": true,
        "_uuid": "4d249af19aa148b1e0125051e128a5f2d8842d5d"
      },
      "cell_type": "code",
      "source": "#We use bivariate distribution for Scatter plot",
      "execution_count": null,
      "outputs": []
    },
    {
      "metadata": {
        "trusted": true,
        "_uuid": "246b01ae06a62a057f47c3a43e0fdd805bb244ee"
      },
      "cell_type": "code",
      "source": "df.plot.scatter(x='Age',y='Fare',title='Scatter Plot:Age vs Fare');",
      "execution_count": null,
      "outputs": []
    },
    {
      "metadata": {
        "trusted": true,
        "_uuid": "8ac68676bde42fce3ca23caaa604b4ddadcd0603"
      },
      "cell_type": "code",
      "source": "df.plot.scatter(x='Age',y='Fare',title='Scatter Plot:Age vs Fare',alpha = 0.5);",
      "execution_count": null,
      "outputs": []
    },
    {
      "metadata": {
        "trusted": true,
        "scrolled": true,
        "_uuid": "deb001a353dbdc90dbd6121cfae880e6411a9c60"
      },
      "cell_type": "code",
      "source": "df.plot.scatter(x='Pclass',y='Fare',title='Scatter Plot:Pclass vs Fare');",
      "execution_count": null,
      "outputs": []
    },
    {
      "metadata": {
        "_uuid": "fe7e9dffe4ff376a1a1faa05039e53c88b372029"
      },
      "cell_type": "markdown",
      "source": "<h2>Grouping<h2>"
    },
    {
      "metadata": {
        "trusted": true,
        "_uuid": "cbc4b5862973aa2df573a7d19e60aaba2a113923"
      },
      "cell_type": "code",
      "source": "df.groupby('Sex').Age.median()",
      "execution_count": null,
      "outputs": []
    },
    {
      "metadata": {
        "trusted": true,
        "_uuid": "542bd03eb6cbb5017f6c764a64daf129db398ead"
      },
      "cell_type": "code",
      "source": "#group by\ndf.groupby('Pclass').Fare.median()",
      "execution_count": null,
      "outputs": []
    },
    {
      "metadata": {
        "trusted": true,
        "_uuid": "68b9a16ae719cc18707b0f1618f2c1f347e28f5c"
      },
      "cell_type": "code",
      "source": "\n\n\ndf.groupby('Pclass').Age.median()",
      "execution_count": null,
      "outputs": []
    },
    {
      "metadata": {
        "trusted": true,
        "_uuid": "1c6fe5554c3f3a5828104597406eb3ee98ed0125"
      },
      "cell_type": "code",
      "source": "df.groupby(['Pclass'])['Fare','Age'].median()",
      "execution_count": null,
      "outputs": []
    },
    {
      "metadata": {
        "trusted": true,
        "_uuid": "f9253da42087ad7c40337c50887d7f064c4991b1"
      },
      "cell_type": "code",
      "source": "\n\n\ndf.groupby(['Pclass']).agg({'Fare':'mean','Age':'median'})",
      "execution_count": null,
      "outputs": []
    },
    {
      "metadata": {
        "trusted": true,
        "_uuid": "cf6a641a53feec2d5b0c979335920278c6f3fe3f"
      },
      "cell_type": "code",
      "source": "# more complicated aggregation\naggregations ={\n    'Fare': {#work on fare column\n        'mean_Fare':'mean',\n        'median_Fare':'median',\n        'Max_Fare':max,\n        'Min_Fare' :np.min\n    },\n    'Age': {\n        'mean_Age':'mean',\n        'median_Age':'median',\n        'Max_Age':max,\n        'Min_Age' :np.min\n    }\n}",
      "execution_count": null,
      "outputs": []
    },
    {
      "metadata": {
        "trusted": true,
        "_uuid": "9834e2cc094ed550cfcf818d382246dd3e856358"
      },
      "cell_type": "code",
      "source": "df.groupby(['Pclass']).agg(aggregations)",
      "execution_count": null,
      "outputs": []
    },
    {
      "metadata": {
        "trusted": true,
        "_uuid": "3ec470b3ff2dfdac68ea1ae969948116ff1b0da7"
      },
      "cell_type": "code",
      "source": "df.groupby(['Pclass','Embarked']).Fare.median()",
      "execution_count": null,
      "outputs": []
    },
    {
      "metadata": {
        "_uuid": "c6a376c38d4343604c21453d71844b664c96385d"
      },
      "cell_type": "markdown",
      "source": "<h2>Crosstab<h2>"
    },
    {
      "metadata": {
        "trusted": true,
        "_uuid": "987cffe8e68d73e3d62728f27335cfe3bb67a60b"
      },
      "cell_type": "code",
      "source": "pd.crosstab(df.Sex,df.Pclass)",
      "execution_count": null,
      "outputs": []
    },
    {
      "metadata": {
        "trusted": true,
        "_uuid": "6fa4d6b092bf506a1b0889e8eb364a503e4e8f5d"
      },
      "cell_type": "code",
      "source": "pd.crosstab(df.Sex,df.Pclass).plot(kind='bar');",
      "execution_count": null,
      "outputs": []
    },
    {
      "metadata": {
        "_uuid": "02caeabbbef744d542511826777d6523f85884ac"
      },
      "cell_type": "markdown",
      "source": "<h2>Pivot Table<h2>"
    },
    {
      "metadata": {
        "trusted": true,
        "_uuid": "48159dc67ed97f5d35e83845f8945e5aab6840de"
      },
      "cell_type": "code",
      "source": "#pivot table\ndf.pivot_table(index='Sex',columns = 'Pclass',values = 'Age',aggfunc='mean')",
      "execution_count": null,
      "outputs": []
    },
    {
      "metadata": {
        "_uuid": "c3280e854315724c02468bbae5de535e33511c7d"
      },
      "cell_type": "markdown",
      "source": "\n\n\nSimilar results can be found by group by table"
    },
    {
      "metadata": {
        "trusted": true,
        "_uuid": "d9ea440d3686a92401caffb13dc1e630d742cae4"
      },
      "cell_type": "code",
      "source": "df.groupby(['Sex','Pclass']).Age.mean().unstack()",
      "execution_count": null,
      "outputs": []
    },
    {
      "metadata": {
        "trusted": true,
        "_uuid": "13b84b557032de635e5b25502109463c02d19128"
      },
      "cell_type": "markdown",
      "source": "<h1>**Data Munging**<h1>"
    },
    {
      "metadata": {
        "_uuid": "5b48b4646b33a4359786a2a0f53f2cd7455c7a0d"
      },
      "cell_type": "markdown",
      "source": "**Step 1:Missing value addressing**"
    },
    {
      "metadata": {
        "_uuid": "ab37bece4d4851d1a1e1c86ba29c6cc1ee715577"
      },
      "cell_type": "markdown",
      "source": "Feature : Embarked"
    },
    {
      "metadata": {
        "trusted": true,
        "_uuid": "d74ea7cc45a78b0b17f5443cf407f557cf97db38"
      },
      "cell_type": "code",
      "source": "df.isnull().sum()",
      "execution_count": null,
      "outputs": []
    },
    {
      "metadata": {
        "trusted": true,
        "_uuid": "28abe60de389c1258bcaa628240859a418626153"
      },
      "cell_type": "code",
      "source": "train_df.isnull().sum()",
      "execution_count": null,
      "outputs": []
    },
    {
      "metadata": {
        "trusted": true,
        "_uuid": "60601c758e8fe3f132667f04ced80611e2fc0979"
      },
      "cell_type": "code",
      "source": "df.info()",
      "execution_count": null,
      "outputs": []
    },
    {
      "metadata": {
        "trusted": true,
        "_uuid": "363cf1db44c312eb4d7a9f85cc1633d45646fb85"
      },
      "cell_type": "code",
      "source": "df[df.Embarked.isnull()]",
      "execution_count": null,
      "outputs": []
    },
    {
      "metadata": {
        "trusted": true,
        "_uuid": "61e75d3a3c8cff026c265b0288a555568095dc07"
      },
      "cell_type": "code",
      "source": "#how many people embarked at a particular points\ndf.Embarked.value_counts()",
      "execution_count": null,
      "outputs": []
    },
    {
      "metadata": {
        "trusted": true,
        "_uuid": "5a3b25924c9a5cf0f31a1db416b41ba387fbbd7f"
      },
      "cell_type": "code",
      "source": "#which embarked point has highest survival count\npd.crosstab(df[df.Survived != -888].Survived,df[df.Survived != -888].Embarked)",
      "execution_count": null,
      "outputs": []
    },
    {
      "metadata": {
        "trusted": true,
        "_uuid": "5077744a3847e13e046889031bca4da156e9bded"
      },
      "cell_type": "code",
      "source": "# impute missing value with 'S'\n#df.loc[df.Embarked.isnull(),'Embarked'] = S\n#df.Embarked.fillna('S',inplace = True)",
      "execution_count": null,
      "outputs": []
    },
    {
      "metadata": {
        "trusted": true,
        "_uuid": "fe789c303d0bf8689d58ffa3d50f611882e390b8"
      },
      "cell_type": "code",
      "source": "df.groupby(['Pclass','Embarked']).Fare.median() ",
      "execution_count": null,
      "outputs": []
    },
    {
      "metadata": {
        "_uuid": "5c9cfdf1d7380717265b30317f2bc761e8355d03"
      },
      "cell_type": "markdown",
      "source": "From above we get to know that the passenger who are in class 1 and paid fare of 80 has  more chances to be Embarked from C."
    },
    {
      "metadata": {
        "trusted": true,
        "_uuid": "49e8a09da335a740791817b26b53ce303a4d8d2e"
      },
      "cell_type": "code",
      "source": "\ndf.Embarked.fillna('C',inplace = True)",
      "execution_count": null,
      "outputs": []
    },
    {
      "metadata": {
        "trusted": true,
        "_uuid": "7ad22a8ad21e77a8469f73374447bd93e69a6646"
      },
      "cell_type": "code",
      "source": "df.Embarked.isnull().sum()",
      "execution_count": null,
      "outputs": []
    },
    {
      "metadata": {
        "trusted": true,
        "_uuid": "e9b89da77777a22abff9f8b3ded9e6862f68e118"
      },
      "cell_type": "code",
      "source": "df.info()",
      "execution_count": null,
      "outputs": []
    },
    {
      "metadata": {
        "_uuid": "c5a10bdfd0b38dee08aba7e0ec39116242d72803"
      },
      "cell_type": "markdown",
      "source": "Feature : Fare"
    },
    {
      "metadata": {
        "trusted": true,
        "_uuid": "337eddb89926ebf7612ae2f67d9a23bfea00193d"
      },
      "cell_type": "code",
      "source": "df[df.Fare.isnull()]",
      "execution_count": null,
      "outputs": []
    },
    {
      "metadata": {
        "trusted": true,
        "_uuid": "d10660b92ac5b57fa760b44ad94d4572fa113b82"
      },
      "cell_type": "code",
      "source": "median_fare = df.loc[(df.Pclass == 3) & (df.Embarked=='S'),'Fare'].median()\nprint (median_fare)",
      "execution_count": null,
      "outputs": []
    },
    {
      "metadata": {
        "trusted": true,
        "_uuid": "1b079c8ecce17a4eb48c6987d2d91ab2e7261e20"
      },
      "cell_type": "code",
      "source": "df.Fare.fillna(median_fare,inplace=True)",
      "execution_count": null,
      "outputs": []
    },
    {
      "metadata": {
        "trusted": true,
        "_uuid": "77d89be68a7e0dabf250ec5a1b57365d8c82561e"
      },
      "cell_type": "code",
      "source": "df.info()",
      "execution_count": null,
      "outputs": []
    },
    {
      "metadata": {
        "_uuid": "5808360210df0e8d3ea61adceefbfe6c01606d4d"
      },
      "cell_type": "markdown",
      "source": "Feature : Age"
    },
    {
      "metadata": {
        "trusted": true,
        "_uuid": "25aeb5dacb3220a6ab0bf664639f654b4166ea25"
      },
      "cell_type": "code",
      "source": "df.Age.isnull().sum()",
      "execution_count": null,
      "outputs": []
    },
    {
      "metadata": {
        "_uuid": "74bc2fc797bb055a871a2ca42cf994cfd5209a04"
      },
      "cell_type": "markdown",
      "source": "<h1>We have three options to fill missing age value<h1>\n<h2> option 1 : replace all missing value with the mean value<h2>"
    },
    {
      "metadata": {
        "trusted": true,
        "_uuid": "e06c605b6dc7e43b197a3c7319c5ad031553cc64"
      },
      "cell_type": "code",
      "source": "df.Age.plot(kind='hist',bins=20);",
      "execution_count": null,
      "outputs": []
    },
    {
      "metadata": {
        "trusted": true,
        "_uuid": "ff3d186cc12a113289f056ff5bf35397b5ee52cd"
      },
      "cell_type": "code",
      "source": "df.Age.mean()",
      "execution_count": null,
      "outputs": []
    },
    {
      "metadata": {
        "_uuid": "57fff0613ea4895ac2d8231833ad5cdeacaa6f16"
      },
      "cell_type": "markdown",
      "source": "Due to several 70's and 80's the mean is quite affected"
    },
    {
      "metadata": {
        "_uuid": "3f33632435d0c8e763b33f7e92a5c7892e420570"
      },
      "cell_type": "markdown",
      "source": "<h2>option 2: Replace by median<h2>"
    },
    {
      "metadata": {
        "trusted": true,
        "_uuid": "72a0f9c21e0355bdde8f40103e2b8c2b2c99e720"
      },
      "cell_type": "code",
      "source": "df.groupby('Sex').Age.median()",
      "execution_count": null,
      "outputs": []
    },
    {
      "metadata": {
        "trusted": true,
        "_uuid": "f364096f4fd1921b95a067282d62c8d1afc7e142"
      },
      "cell_type": "code",
      "source": "df[df.Age.notnull()].boxplot('Age','Sex');",
      "execution_count": null,
      "outputs": []
    },
    {
      "metadata": {
        "_uuid": "6c3256e8c48c8f4a254688cac08c4769b2b411a2"
      },
      "cell_type": "markdown",
      "source": "<h2>option 3 : replace with median age of Pclass<h2>"
    },
    {
      "metadata": {
        "trusted": true,
        "_uuid": "6351ec3d6e4c22ab5136b6cc60733f33b39cfc82"
      },
      "cell_type": "code",
      "source": "df[df.Age.notnull()].boxplot('Age','Pclass');",
      "execution_count": null,
      "outputs": []
    },
    {
      "metadata": {
        "_uuid": "51bc14f146166d91fef5644b37cca1fa32882f5e"
      },
      "cell_type": "markdown",
      "source": "<h2>option 4 : replace with median age of title<h2>"
    },
    {
      "metadata": {
        "_uuid": "806613b4f9ec49b409ac962617661bc71b14df1a"
      },
      "cell_type": "markdown",
      "source": "We all know that the' Mr' is used for old veteran and 'master' is used for young man.Similar goes with females.So we will extract titles to predict the values of the age of the passenger of titanic. "
    },
    {
      "metadata": {
        "trusted": true,
        "_uuid": "a8b92f31fca8f4716a752e9291bfc5ecc821e4e7"
      },
      "cell_type": "code",
      "source": "df.Name.head()",
      "execution_count": null,
      "outputs": []
    },
    {
      "metadata": {
        "trusted": true,
        "_uuid": "6e95b4dafa6c659dae9a965e0c5009e40af6ca97"
      },
      "cell_type": "code",
      "source": "def GetTitle(name):\n    first_name_with_title = name.split(',')[1]\n    title = first_name_with_title.split('.')[0]\n    title = title.strip().lower()\n    return title",
      "execution_count": null,
      "outputs": []
    },
    {
      "metadata": {
        "trusted": true,
        "_uuid": "adaecccd4f257a942f2d53eb59f5d3264bfb257c"
      },
      "cell_type": "code",
      "source": "#use map function to apply the function on each Name value row i\ndf.Name.map(lambda x : GetTitle(x))",
      "execution_count": null,
      "outputs": []
    },
    {
      "metadata": {
        "trusted": true,
        "_uuid": "1da834a0838a192c19961b670402d0ee6201c899"
      },
      "cell_type": "code",
      "source": "df.Name.map(lambda x : GetTitle(x)).unique()",
      "execution_count": null,
      "outputs": []
    },
    {
      "metadata": {
        "trusted": true,
        "_uuid": "65d69b443d51eb17cc5dfa2411432d7e9a439bdf"
      },
      "cell_type": "code",
      "source": "def GetTitle(name):\n    title_group = {'mr' : 'Mr', \n               'mrs' : 'Mrs', \n               'miss' : 'Miss', \n               'master' : 'Master',\n               'don' : 'Sir',\n               'rev' : 'Sir',\n               'dr' : 'Officer',\n               'mme' : 'Mrs',\n               'ms' : 'Mrs',\n               'major' : 'Officer',\n               'lady' : 'Lady',\n               'sir' : 'Sir',\n               'mlle' : 'Miss',\n               'col' : 'Officer',\n               'capt' : 'Officer',\n               'the countess' : 'Lady',\n               'jonkheer' : 'Sir',\n               'dona' : 'Lady'\n                 }\n    first_name_with_title = name.split(',')[1]\n    title = first_name_with_title.split('.')[0]\n    title = title.strip().lower()\n    return title_group[title]",
      "execution_count": null,
      "outputs": []
    },
    {
      "metadata": {
        "trusted": true,
        "_uuid": "f7d25be998545580e5e44fc3307db09a3637967d"
      },
      "cell_type": "code",
      "source": "df['Title'] = df.Name.map(lambda x : GetTitle(x))",
      "execution_count": null,
      "outputs": []
    },
    {
      "metadata": {
        "trusted": true,
        "_uuid": "35a5180ea7b4bb8b7aaa44bd52d9b5a8fc9b2e62"
      },
      "cell_type": "code",
      "source": "df.head()",
      "execution_count": null,
      "outputs": []
    },
    {
      "metadata": {
        "trusted": true,
        "_uuid": "cf4edc7d0be1aeef36d47c022fb7dd0dd8850d2e"
      },
      "cell_type": "code",
      "source": "df[df.Age.notnull()].boxplot('Age','Title');",
      "execution_count": null,
      "outputs": []
    },
    {
      "metadata": {
        "trusted": true,
        "_uuid": "d3aac6fad12bef1a0ad537eceb7b2f84cbfea11f"
      },
      "cell_type": "code",
      "source": "#replace missing values\ntitle_age_median = df.groupby('Title').Age.transform('median')",
      "execution_count": null,
      "outputs": []
    },
    {
      "metadata": {
        "trusted": true,
        "_uuid": "b5545b0f9f5700d2bd5747c70a555221beca1055"
      },
      "cell_type": "code",
      "source": "df.Age.fillna(title_age_median,inplace = True)",
      "execution_count": null,
      "outputs": []
    },
    {
      "metadata": {
        "trusted": true,
        "_uuid": "64b1e7b4c6195d23a17f6e26d1bf49008fa4a6ab"
      },
      "cell_type": "code",
      "source": "df.info()",
      "execution_count": null,
      "outputs": []
    },
    {
      "metadata": {
        "_uuid": "7ff7298872656ef74e0af8423dbbfd57d6745c2b"
      },
      "cell_type": "markdown",
      "source": "<h1>Outliers<h1>"
    },
    {
      "metadata": {
        "_uuid": "48a16df853a2ba4137675357441dfb1c7396f4bd"
      },
      "cell_type": "markdown",
      "source": "Techniques to compensate for outliers\n1. 1.Removal\n1. 2.Transformation\n1. 3.Binning\n1. 4.Imputation"
    },
    {
      "metadata": {
        "trusted": true,
        "_uuid": "3ba49f5fe48882564f8ca6ab0b49ea57596221d5"
      },
      "cell_type": "code",
      "source": "# use histograms to get to understand the distribution\ndf.Age.plot(kind = 'hist' , bins = 20);",
      "execution_count": null,
      "outputs": []
    },
    {
      "metadata": {
        "trusted": true,
        "_uuid": "c7ac0741475addaf9a752cb295f2f4be43dd329e"
      },
      "cell_type": "code",
      "source": "df.loc[df.Age > 70]",
      "execution_count": null,
      "outputs": []
    },
    {
      "metadata": {
        "trusted": true,
        "_uuid": "20543892868da86b01f11ec942189d2b86bf1ae4"
      },
      "cell_type": "code",
      "source": "# hsitograms for fare\ndf.Fare.plot(kind='hist',bins = 20, title = 'Histograms for Fare')",
      "execution_count": null,
      "outputs": []
    },
    {
      "metadata": {
        "trusted": true,
        "_uuid": "94292f75853f817324b52005f0137a69c40e28e7"
      },
      "cell_type": "code",
      "source": "df.Fare.plot(kind='box');",
      "execution_count": null,
      "outputs": []
    },
    {
      "metadata": {
        "trusted": true,
        "_uuid": "63fee0b2e0070cb470e3f16a6d415a72f1479183"
      },
      "cell_type": "code",
      "source": "# look for the outliers\ndf.loc[df.Fare == df.Fare.max()]",
      "execution_count": null,
      "outputs": []
    },
    {
      "metadata": {
        "trusted": true,
        "_uuid": "bd061b134a8dd43f29bfcbdd8e7a846fca080225"
      },
      "cell_type": "code",
      "source": "#try to use transformation to reduce the skewness",
      "execution_count": null,
      "outputs": []
    },
    {
      "metadata": {
        "trusted": true,
        "_uuid": "061d273c2dce68941de2b1c492d359d175f06cad"
      },
      "cell_type": "code",
      "source": "LogFare = np.log(df.Fare +1)#adding 1 to accomalate ",
      "execution_count": null,
      "outputs": []
    },
    {
      "metadata": {
        "trusted": true,
        "_uuid": "0341704ec0f9493d6017452516048ce6ea7c5977"
      },
      "cell_type": "code",
      "source": "LogFare.plot(kind='hist',bins = 20);",
      "execution_count": null,
      "outputs": []
    },
    {
      "metadata": {
        "trusted": true,
        "_uuid": "da91fd339574150ca6b371f44d0f1634e067e586"
      },
      "cell_type": "code",
      "source": "#binning",
      "execution_count": null,
      "outputs": []
    },
    {
      "metadata": {
        "trusted": true,
        "_uuid": "e2b8087afaa4a0808c649428c264c541723ea4f8"
      },
      "cell_type": "code",
      "source": "pd.qcut(df.Fare,4)",
      "execution_count": null,
      "outputs": []
    },
    {
      "metadata": {
        "trusted": true,
        "_uuid": "8c18e8cdc9696ca514f1a4ef08e98cd4192642f4"
      },
      "cell_type": "code",
      "source": "pd.qcut(df.Fare,4,labels=['very_low','low','high','very_high'])",
      "execution_count": null,
      "outputs": []
    },
    {
      "metadata": {
        "trusted": true,
        "_uuid": "0739c62587f6722edc5e044c8c546c3140caf6f8"
      },
      "cell_type": "code",
      "source": "pd.qcut(df.Fare,4,labels = ['very_low','low','high','very_high']).value_counts().plot(kind='bar',rot = 0);",
      "execution_count": null,
      "outputs": []
    },
    {
      "metadata": {
        "trusted": true,
        "_uuid": "dc7108e5b6705d26c4e654514c7233db0aadb0cd"
      },
      "cell_type": "code",
      "source": "# create fare bin feature\ndf['Fare_Bin']=pd.qcut(df.Fare,4,labels=['very_low','low','high','very_high'])",
      "execution_count": null,
      "outputs": []
    },
    {
      "metadata": {
        "_uuid": "3b76fe0e8140c68d2ca69ada138edbf52b2f2aa3"
      },
      "cell_type": "markdown",
      "source": "<h1>**Feature Engineering** <h1>"
    },
    {
      "metadata": {
        "_uuid": "f451cfbd662e265fc0e0f889b26eca91d7a8822a"
      },
      "cell_type": "markdown",
      "source": "**Feature : Age State(Adult or Child) **"
    },
    {
      "metadata": {
        "trusted": true,
        "_uuid": "b0e240391bccfcd10ac08c30e8edbec5629435ad"
      },
      "cell_type": "code",
      "source": "#Age State based on Age\ndf['AgeState'] = np.where(df['Age']>=18,'Adult','Child')",
      "execution_count": null,
      "outputs": []
    },
    {
      "metadata": {
        "trusted": true,
        "_uuid": "aaad788eb26554135b95e28fc95a724905d25319"
      },
      "cell_type": "code",
      "source": "#AgeState Counts\ndf['AgeState'].value_counts()",
      "execution_count": null,
      "outputs": []
    },
    {
      "metadata": {
        "trusted": true,
        "_uuid": "2fad8d041a38cbbe9f7a09415180ae6c95def1ba"
      },
      "cell_type": "code",
      "source": "pd.crosstab(df[df.Survived != -888].Survived , df[df.Survived != -888].AgeState)",
      "execution_count": null,
      "outputs": []
    },
    {
      "metadata": {
        "_uuid": "c72f49111865510684b520626f25c92f37291fc7"
      },
      "cell_type": "markdown",
      "source": "**Feature : FamilySize**"
    },
    {
      "metadata": {
        "trusted": true,
        "_uuid": "286c509e24ccba5dafdf0881b79e3e92e934159e"
      },
      "cell_type": "code",
      "source": "df['FamilySize'] = df.Parch + df.SibSp + 1 # i for Self",
      "execution_count": null,
      "outputs": []
    },
    {
      "metadata": {
        "trusted": true,
        "_uuid": "6323c6b91a678e2038408c71acd9570e48ab089b"
      },
      "cell_type": "code",
      "source": "#explore the family feature\ndf['FamilySize'].plot(kind = 'hist',color = 'c');",
      "execution_count": null,
      "outputs": []
    },
    {
      "metadata": {
        "trusted": true,
        "_uuid": "fe39cde781837ee033ea9d11df8e74ea9f31df4f"
      },
      "cell_type": "code",
      "source": "#further exploring familoy size with mjax family size\ndf.loc[df.FamilySize == df.FamilySize.max(),['Name','Survived','FamilySize','Ticket']]",
      "execution_count": null,
      "outputs": []
    },
    {
      "metadata": {
        "trusted": true,
        "_uuid": "1072c867aa4216043b8187d87594e1b9ef52239c"
      },
      "cell_type": "code",
      "source": "pd.crosstab(df[df.Survived != -888].Survived , df[df.Survived != -888].FamilySize)",
      "execution_count": null,
      "outputs": []
    },
    {
      "metadata": {
        "_uuid": "e8cc8046ccf8d51c40c60e7f3140c64c3e841773"
      },
      "cell_type": "markdown",
      "source": "**Feature :isMother**"
    },
    {
      "metadata": {
        "trusted": true,
        "_uuid": "eac2a7f3707c71a49e58dc38c9de4244d1daacc6"
      },
      "cell_type": "code",
      "source": "# a lady aged 18 or more who has Parch >0 and is married \ndf['IsMother'] = np.where(((df.Sex == 'female') & (df.Parch > 0) & (df.Age>18) & (df.Title != 'Miss')),1,0)",
      "execution_count": null,
      "outputs": []
    },
    {
      "metadata": {
        "trusted": true,
        "_uuid": "7df4774c9181b09d55f912741a64f01f5a33c938"
      },
      "cell_type": "code",
      "source": "#Crosstab with mother\npd.crosstab(df[df['Survived'] != -888].Survived,df[df['Survived'] != -888].IsMother )",
      "execution_count": null,
      "outputs": []
    },
    {
      "metadata": {
        "_uuid": "b9bdbe7cebde5cae87d42748c40d93db091fcaa5"
      },
      "cell_type": "markdown",
      "source": "**Feature:Deck**"
    },
    {
      "metadata": {
        "trusted": true,
        "_uuid": "490b64b11e5a7e85d3dda9776c4433e1ae7c11ed"
      },
      "cell_type": "code",
      "source": "#explore Cabin values\ndf.Cabin",
      "execution_count": null,
      "outputs": []
    },
    {
      "metadata": {
        "trusted": true,
        "_uuid": "e9b6553da9a7ba321e1ecefe70d54950333b9f17"
      },
      "cell_type": "code",
      "source": "#Getting unique cabin\ndf.Cabin.value_counts()",
      "execution_count": null,
      "outputs": []
    },
    {
      "metadata": {
        "trusted": true,
        "_uuid": "f6c1f3c4cdd57f7bb06f96f8db712ddfaee8530e"
      },
      "cell_type": "code",
      "source": "#We see that T is odd one out in above observation so we can asume it is mistaken value",
      "execution_count": null,
      "outputs": []
    },
    {
      "metadata": {
        "trusted": true,
        "_uuid": "7b86a4b0f05066668b5353ac21fe2635bcacc21d"
      },
      "cell_type": "code",
      "source": "# get the value to Nan\ndf.loc[df.Cabin == 'T','Cabin']=np.NaN",
      "execution_count": null,
      "outputs": []
    },
    {
      "metadata": {
        "trusted": true,
        "_uuid": "c6f10b9abcbb04a88f3581b18f86482104884e86"
      },
      "cell_type": "code",
      "source": "def get_deck(cabin):\n    return np.where(pd.notnull(cabin),str(cabin)[0].upper(),'Z')\n",
      "execution_count": null,
      "outputs": []
    },
    {
      "metadata": {
        "trusted": true,
        "_uuid": "87e9c4569e709139ef1eb804994a4f25219f5ff6"
      },
      "cell_type": "code",
      "source": "df['Deck'] = df['Cabin'].map(lambda x: get_deck(x))",
      "execution_count": null,
      "outputs": []
    },
    {
      "metadata": {
        "trusted": true,
        "_uuid": "8a3686dd086f2ee38a5ae57a2344fcbd513abd11"
      },
      "cell_type": "code",
      "source": "# check counts\ndf.Deck.value_counts()",
      "execution_count": null,
      "outputs": []
    },
    {
      "metadata": {
        "trusted": true,
        "_uuid": "e035d833b753b9eb091ee82c23efd985765382b8"
      },
      "cell_type": "code",
      "source": "pd.crosstab(df[df.Survived != -888].Survived,df[df.Survived != -888].Deck)",
      "execution_count": null,
      "outputs": []
    },
    {
      "metadata": {
        "trusted": true,
        "_uuid": "e75668e4ba9e023c3deff1a2fe3bc899b51ad3ba"
      },
      "cell_type": "code",
      "source": "df.info()",
      "execution_count": null,
      "outputs": []
    },
    {
      "metadata": {
        "_uuid": "48549f54dc37c21a79ca77f9cdd105a90d5ce459"
      },
      "cell_type": "markdown",
      "source": " <h1>Categorical feature<h1>\n \n "
    },
    {
      "metadata": {
        "trusted": true,
        "_uuid": "edc1f3817af9124035c7b0de469b88b93b03c0e2"
      },
      "cell_type": "code",
      "source": "#sex\ndf['IsMale'] = np.where(df.Sex == 'male',1,0)",
      "execution_count": null,
      "outputs": []
    },
    {
      "metadata": {
        "trusted": true,
        "_uuid": "6b36f99475a2b4ada40f3bb63522cf6e59dfdc91"
      },
      "cell_type": "code",
      "source": "#columns deck,pclass,title,Agestate\ndf = pd.get_dummies(df,columns=['Deck','Pclass','Title','Fare_Bin','Embarked','AgeState'])",
      "execution_count": null,
      "outputs": []
    },
    {
      "metadata": {
        "trusted": true,
        "_uuid": "cfc0c88c425661d0c8cfb65aa982a0a78f0fbb47"
      },
      "cell_type": "code",
      "source": "df.info()",
      "execution_count": null,
      "outputs": []
    },
    {
      "metadata": {
        "_uuid": "06981c25fc62b34258a46e18c520836c3d5b4522"
      },
      "cell_type": "markdown",
      "source": "<h1>**Drop and Reorder Columns**<h1>"
    },
    {
      "metadata": {
        "trusted": true,
        "_uuid": "d29dae479aa3aaca4e2bfd978b42685995df41bd"
      },
      "cell_type": "code",
      "source": "#drop columns",
      "execution_count": null,
      "outputs": []
    },
    {
      "metadata": {
        "trusted": true,
        "_uuid": "e2c4e2010b5706d8cff98627f0ec8fae476e7b87"
      },
      "cell_type": "code",
      "source": "df.drop(['Cabin','Name','Ticket','Parch','SibSp','Sex'],axis = 1,inplace = True)",
      "execution_count": null,
      "outputs": []
    },
    {
      "metadata": {
        "trusted": true,
        "_uuid": "e78e9bdb21d3a656afe5c9b69738979a7dbfdf3a"
      },
      "cell_type": "code",
      "source": "#reorder columns\ncolumns = [column for column in df.columns if column != 'Survived']\ncolumns = ['Survived']+columns\ndf = df[columns]",
      "execution_count": null,
      "outputs": []
    },
    {
      "metadata": {
        "trusted": true,
        "_uuid": "ba5c0de7bf60a710a206d6444e1049fe68bce7ca"
      },
      "cell_type": "code",
      "source": "df.info()",
      "execution_count": null,
      "outputs": []
    },
    {
      "metadata": {
        "trusted": true,
        "_uuid": "0d9902e1c0d87b2b9eca821b7b08f8d2e68e01d7"
      },
      "cell_type": "code",
      "source": "df.to_csv('out.csv')#Saving Dataset before making predicting model\n#This would be saved as output in Version folder.",
      "execution_count": null,
      "outputs": []
    },
    {
      "metadata": {
        "trusted": true,
        "_uuid": "e786119cf1f489afcf56ca1fd2956677d1b730f0",
        "scrolled": false
      },
      "cell_type": "code",
      "source": "df",
      "execution_count": null,
      "outputs": []
    },
    {
      "metadata": {
        "trusted": true,
        "_uuid": "823c220ff0c092b3690bd73400b4dbc65866f826"
      },
      "cell_type": "code",
      "source": "train_df = df.loc[0:891,:]",
      "execution_count": null,
      "outputs": []
    },
    {
      "metadata": {
        "trusted": true,
        "_uuid": "7cf0757f3dbf2d000180e8a39d6be145759e8c59"
      },
      "cell_type": "code",
      "source": "train_df.info()",
      "execution_count": null,
      "outputs": []
    },
    {
      "metadata": {
        "trusted": true,
        "_uuid": "a33626f1467139f26576bca65e7efba33f68757a"
      },
      "cell_type": "code",
      "source": "train_df.tail()",
      "execution_count": null,
      "outputs": []
    },
    {
      "metadata": {
        "trusted": true,
        "_uuid": "6a2b535dcc8f7cd088e5767d07100dfaf872190f"
      },
      "cell_type": "code",
      "source": "test_df = df.loc[892:,:]",
      "execution_count": null,
      "outputs": []
    },
    {
      "metadata": {
        "trusted": true,
        "_uuid": "9e25d6020dcbafa59499269633d468a3422d939b"
      },
      "cell_type": "code",
      "source": "test_df.tail()",
      "execution_count": null,
      "outputs": []
    },
    {
      "metadata": {
        "_uuid": "1e2094ce55e406f22c845c11a95f97c76a508a6a"
      },
      "cell_type": "markdown",
      "source": "<h1>Building Machine Learning Models<h1>"
    },
    {
      "metadata": {
        "_uuid": "1dcc699e069dddeaca420eef8e17c0c80bd15acc"
      },
      "cell_type": "markdown",
      "source": "Now we will train several Machine Learning models and compare their results. Note that because the dataset does not provide labels for their testing-set, we need to use the predictions on the training set to compare the algorithms with each other. "
    },
    {
      "metadata": {
        "trusted": true,
        "_uuid": "057f6f5090fec2bcae2c08a415aa285c179d0fea"
      },
      "cell_type": "code",
      "source": "X_train = train_df.drop(\"Survived\", axis=1)\nY_train = train_df[\"Survived\"]\nX_test  = test_df.drop(\"Survived\", axis=1).copy()",
      "execution_count": null,
      "outputs": []
    },
    {
      "metadata": {
        "trusted": true,
        "_uuid": "513800b54be3124ff5e8eacf3f97b34e072d3eb0"
      },
      "cell_type": "code",
      "source": "X_train.head()",
      "execution_count": null,
      "outputs": []
    },
    {
      "metadata": {
        "trusted": true,
        "_uuid": "14605efdfa30988b375a9e35e8d8c37dfd33cdf7"
      },
      "cell_type": "code",
      "source": "Y_train.head()",
      "execution_count": null,
      "outputs": []
    },
    {
      "metadata": {
        "_uuid": "41aa679a80694a4f816f5208d6b2040364309d1c"
      },
      "cell_type": "markdown",
      "source": "Stochastic Gradient Descent (SGD):"
    },
    {
      "metadata": {
        "trusted": true,
        "_uuid": "28eea3249786c7cc15766e285efe64f3386ed294"
      },
      "cell_type": "code",
      "source": "sgd = linear_model.SGDClassifier(max_iter=5, tol=None)\nsgd.fit(X_train, Y_train)\nY_pred = sgd.predict(X_test)\n\nsgd.score(X_train, Y_train)\n\nacc_sgd = round(sgd.score(X_train, Y_train) * 100, 2);",
      "execution_count": null,
      "outputs": []
    },
    {
      "metadata": {
        "_uuid": "69602bd0ee83761cfa337ff0e359adfbf07eb0f1"
      },
      "cell_type": "markdown",
      "source": "Random Forest:"
    },
    {
      "metadata": {
        "trusted": true,
        "_uuid": "8b45469e4f4e2842fa5b14adef9cf2f493459a43"
      },
      "cell_type": "code",
      "source": "random_forest = RandomForestClassifier(n_estimators=100)\nrandom_forest.fit(X_train, Y_train)\n\nY_prediction = random_forest.predict(X_test)\n\nrandom_forest.score(X_train, Y_train)\nacc_random_forest = round(random_forest.score(X_train, Y_train) * 100, 2)",
      "execution_count": null,
      "outputs": []
    },
    {
      "metadata": {
        "_uuid": "d69ef49bcb225c58948aecb8918cf293e19e9bcd"
      },
      "cell_type": "markdown",
      "source": "Logistic Regression"
    },
    {
      "metadata": {
        "trusted": true,
        "_uuid": "f35756064f3b02780e8175b260a98c354089fa34"
      },
      "cell_type": "code",
      "source": "logreg = LogisticRegression()\nlogreg.fit(X_train, Y_train)\n\nY_pred = logreg.predict(X_test)\n\nacc_log = round(logreg.score(X_train, Y_train) * 100, 2)",
      "execution_count": null,
      "outputs": []
    },
    {
      "metadata": {
        "_uuid": "3dedcc65ce3129c68c8c8d03951496009d235862"
      },
      "cell_type": "markdown",
      "source": "K Nearest Neighbor:"
    },
    {
      "metadata": {
        "trusted": true,
        "_uuid": "8b162da161c87f4dfa03c7b161db0c670b2e0d8a"
      },
      "cell_type": "code",
      "source": "from sklearn.neighbors import KNeighborsClassifier",
      "execution_count": null,
      "outputs": []
    },
    {
      "metadata": {
        "trusted": true,
        "_uuid": "6888342f963a36de136898bd4f8e7a0a9e932d24"
      },
      "cell_type": "code",
      "source": "knn = KNeighborsClassifier(n_neighbors = 3)\nknn.fit(X_train, Y_train)\n\nY_pred = knn.predict(X_test)  \nacc_knn = round(knn.score(X_train, Y_train) * 100, 2)",
      "execution_count": null,
      "outputs": []
    },
    {
      "metadata": {
        "_uuid": "520bb5a2ccb6f568d849f261b8d0cee81d8bbb14"
      },
      "cell_type": "markdown",
      "source": "Gaussian Naive Bayes:"
    },
    {
      "metadata": {
        "trusted": true,
        "_uuid": "315736acece79cd65569ff3c0b213d8ebf685128"
      },
      "cell_type": "code",
      "source": "gaussian = GaussianNB()\ngaussian.fit(X_train, Y_train)\nY_pred = gaussian.predict(X_test)\nacc_gaussian = round(gaussian.score(X_train, Y_train) * 100, 2)",
      "execution_count": null,
      "outputs": []
    },
    {
      "metadata": {
        "_uuid": "824d31fccd230200a70e8782194fc0f0f3322f17"
      },
      "cell_type": "markdown",
      "source": "Perceptron:"
    },
    {
      "metadata": {
        "trusted": true,
        "_uuid": "34461014f7fa168aad1e7b631a163aa3f816ade8"
      },
      "cell_type": "code",
      "source": "perceptron = Perceptron(max_iter=5)\nperceptron.fit(X_train, Y_train)\n\nY_pred = perceptron.predict(X_test)\n\nacc_perceptron = round(perceptron.score(X_train, Y_train) * 100, 2)",
      "execution_count": null,
      "outputs": []
    },
    {
      "metadata": {
        "_uuid": "61c2cc6779bdf0e8e1e8751813c4dd6d14216ec5"
      },
      "cell_type": "markdown",
      "source": "Linear Support Vector Machine:"
    },
    {
      "metadata": {
        "trusted": true,
        "_uuid": "67287b794ab7f6a2fcbf27907d373f6bffcbc526"
      },
      "cell_type": "code",
      "source": "linear_svc = LinearSVC()\nlinear_svc.fit(X_train, Y_train)\n\nY_pred = linear_svc.predict(X_test)\n\nacc_linear_svc = round(linear_svc.score(X_train, Y_train) * 100, 2)",
      "execution_count": null,
      "outputs": []
    },
    {
      "metadata": {
        "_uuid": "675a7df9ba987232d0237527bc3a19ff9f4b27eb"
      },
      "cell_type": "markdown",
      "source": "Decision Tree"
    },
    {
      "metadata": {
        "_uuid": "6bce721758e2159890ac28fe3fe6ab33f4c59675"
      },
      "cell_type": "markdown",
      "source": "from sklearn import tree"
    },
    {
      "metadata": {
        "trusted": true,
        "_uuid": "1fcef2cf9d207a09b28dd21161892ff918abef4d"
      },
      "cell_type": "code",
      "source": "from sklearn import tree\ndecision_tree = tree.DecisionTreeClassifier()\ndecision_tree.fit(X_train, Y_train)\nY_pred = decision_tree.predict(X_test)  \nacc_decision_tree = round(decision_tree.score(X_train, Y_train) * 100, 2)",
      "execution_count": null,
      "outputs": []
    },
    {
      "metadata": {
        "trusted": true,
        "_uuid": "3bbbc60ae52c7c4b32b3e504e9cb1e6b373b2f3b"
      },
      "cell_type": "code",
      "source": "results = pd.DataFrame({\n    'Model': ['Support Vector Machines', 'KNN', 'Logistic Regression', \n              'Random Forest', 'Naive Bayes', 'Perceptron', \n              'Stochastic Gradient Decent', \n              'Decision Tree'],\n    'Score': [acc_linear_svc, acc_knn, acc_log, \n              acc_random_forest, acc_gaussian, acc_perceptron, \n              acc_sgd, acc_decision_tree]})\nresult_df = results.sort_values(by='Score', ascending=False)\nresult_df = result_df.set_index('Score')\nresult_df.head(9)",
      "execution_count": null,
      "outputs": []
    },
    {
      "metadata": {
        "trusted": true,
        "_uuid": "f1f4f00bf7281afc37c5a89354c3e8b06d9aeba8"
      },
      "cell_type": "code",
      "source": "random_forest = RandomForestClassifier(n_estimators=100)\nrandom_forest.fit(X_train, Y_train)\n\nY_prediction = random_forest.predict(X_test)\n\nrandom_forest.score(X_train, Y_train)\nacc_random_forest = round(random_forest.score(X_train, Y_train) * 100, 2)",
      "execution_count": null,
      "outputs": []
    },
    {
      "metadata": {
        "trusted": true,
        "_uuid": "fc1769e952ce0bc2d9644fd906a354776dd3a457"
      },
      "cell_type": "code",
      "source": "df_result = pd.DataFrame(Y_prediction)\ndf_result1 = ",
      "execution_count": null,
      "outputs": []
    },
    {
      "metadata": {
        "trusted": true,
        "scrolled": false,
        "_uuid": "e16cd68d916241736ec3b4d20721c917eeaaabf4"
      },
      "cell_type": "code",
      "source": "test_df.index",
      "execution_count": null,
      "outputs": []
    },
    {
      "metadata": {
        "trusted": true,
        "_uuid": "3803ae3d32656e2112d41bee53ac3f6d4e84702f"
      },
      "cell_type": "code",
      "source": "df_result",
      "execution_count": null,
      "outputs": []
    },
    {
      "metadata": {
        "trusted": true,
        "_uuid": "aa1c756762e8bcbfa2bcf869622033cc65fd5706"
      },
      "cell_type": "code",
      "source": "Index=pd.DataFrame(test_df.index)",
      "execution_count": null,
      "outputs": []
    },
    {
      "metadata": {
        "trusted": true,
        "_uuid": "c0858ffb94324b7a4bbf9687a921a1651a5d47fd"
      },
      "cell_type": "code",
      "source": "df_result['PassengerId']=Index",
      "execution_count": null,
      "outputs": []
    },
    {
      "metadata": {
        "trusted": true,
        "scrolled": false,
        "_uuid": "2794f40f6d5ace1ea4cd170a99c2f67d61fbb82d"
      },
      "cell_type": "code",
      "source": "df_result",
      "execution_count": null,
      "outputs": []
    },
    {
      "metadata": {
        "trusted": true,
        "_uuid": "c59b16fb7d2da3534e8a7ee82bea28a9c60539b4"
      },
      "cell_type": "code",
      "source": "columns = [column for column in df_result.columns if column != 'PassengerId']\ncolumns = ['PassengerId']+columns\ndf_result = df_result[columns]\n",
      "execution_count": null,
      "outputs": []
    },
    {
      "metadata": {
        "trusted": true,
        "_uuid": "79f41da2838d90cd2004232f8ca45963267afa01"
      },
      "cell_type": "code",
      "source": "df_result.to_csv('out1.csv')",
      "execution_count": null,
      "outputs": []
    },
    {
      "metadata": {
        "trusted": true,
        "_uuid": "4b1ff256b418a083af7245ee301507dc1f1677f6"
      },
      "cell_type": "code",
      "source": "df_result = df_result.set_index('PassengerId')",
      "execution_count": null,
      "outputs": []
    },
    {
      "metadata": {
        "trusted": true,
        "_uuid": "4882c05b80420a330518b43d753457fa96836210"
      },
      "cell_type": "code",
      "source": "df_result.columns = ['Survived']",
      "execution_count": null,
      "outputs": []
    },
    {
      "metadata": {
        "trusted": true,
        "_uuid": "239e6b03fa983a7cf0df6b2616f67a71d57503f8"
      },
      "cell_type": "code",
      "source": "df_result",
      "execution_count": null,
      "outputs": []
    },
    {
      "metadata": {
        "trusted": true,
        "_uuid": "ee8862ebab6cd71b4d3128e9868e9bc2f173f8f9"
      },
      "cell_type": "code",
      "source": "df_result.to_csv('out3.csv')\n",
      "execution_count": null,
      "outputs": []
    },
    {
      "metadata": {
        "trusted": true,
        "_uuid": "df9ffcc9bd9e95b220054cd02199d797ce6d7be0"
      },
      "cell_type": "code",
      "source": "",
      "execution_count": null,
      "outputs": []
    }
  ],
  "metadata": {
    "kernelspec": {
      "display_name": "Python 3",
      "language": "python",
      "name": "python3"
    },
    "language_info": {
      "name": "python",
      "version": "3.6.6",
      "mimetype": "text/x-python",
      "codemirror_mode": {
        "name": "ipython",
        "version": 3
      },
      "pygments_lexer": "ipython3",
      "nbconvert_exporter": "python",
      "file_extension": ".py"
    }
  },
  "nbformat": 4,
  "nbformat_minor": 1
}